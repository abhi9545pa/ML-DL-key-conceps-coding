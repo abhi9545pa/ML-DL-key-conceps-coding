{
 "cells": [
  {
   "cell_type": "markdown",
   "metadata": {
    "id": "Dnubs-Nnb3cw"
   },
   "source": [
    "# Assignment 6: Apply NB"
   ]
  },
  {
   "cell_type": "markdown",
   "metadata": {
    "id": "RW0zYHb5m_wI"
   },
   "source": [
    "<ol>\n",
    "    <li>Minimum data points need to be considered for people having 4GB RAM is <strong>50k</strong> and for 8GB RAM is <strong>100k</strong></li>\n",
    "    <li>When you are using ramdomsearchcv or gridsearchcv you need not split the data into X_train,X_cv,X_test. As the above methods use kfold. The model will learn better if train data is more so splitting to X_train,X_test will suffice.</li>\n",
    "    <li>If you are writing for loops to tune your model then you need split the data into X_train,X_cv,X_test.</li>\n",
    "    <li>While splitting the data explore stratify parameter. </li>\n",
    "    <li><strong>Apply Multinomial NB on these feature sets</strong></li>\n",
    "        <ul>\n",
    "            <li>Features that need to be considered</li> \n",
    "                <dl>\n",
    "                  <dt>essay</dt>\n",
    "                    <dd>while encoding essay, try to experiment with the max_features and n_grams parameter of vectorizers and see if it increases AUC score.</dd>\n",
    "                  <dt>categorical features</dt>\n",
    "                  <dd> - teacher_prefix</dd>\n",
    "                  <dd> - project_grade_category</dd>\n",
    "                  <dd> - school_state</dd>\n",
    "                  <dd> - clean_categories</dd>\n",
    "                  <dd> - clean_subcategories</dd>\n",
    "                  <dt>numerical features</dt>\n",
    "                  <dd> - price</dd>\n",
    "                  <dd> - teacher_number_of_previously_posted_projects</dd>\n",
    "                  <dd>while encoding the numerical features check <a href='https://imgur.com/ldZA1zg'>this</a> and <a href='https://ac-classroom-production.s3.amazonaws.com/public/COMMENT/Annotation_2020-05-21_225912_0lyZzN8.jpg'>this</a></dd>\n",
    "                </dl>    \n",
    "            <li><font color='red'>Set 1</font>: categorical, numerical features + preprocessed_eassay (BOW)</li>\n",
    "            <li><font color='red'>Set 2</font>: categorical, numerical features + preprocessed_eassay (TFIDF)</li>\n",
    "        </ul>\n",
    "    <li><strong>The hyper paramter tuning(find best alpha:smoothing parameter)</strong>\n",
    "        <ul>\n",
    "    <li>Consider alpha values in range: 10^-5 to 10^2 like [0.00001,0.0005, 0.0001,0.005,0.001,0.05,0.01,0.1,0.5,1,5,10,50,100]</li>\n",
    "    <li>Explore class_prior = [0.5, 0.5] parameter which can be present in MultinomialNB function(go through <a href='https://scikit-learn.org/stable/modules/generated/sklearn.naive_bayes.MultinomialNB.html'>this</a> ) then check how results might change.\n",
    "    <li>Find the best hyper parameter which will give the maximum <a href='https://www.appliedaicourse.com/course/applied-ai-course-online/lessons/receiver-operating-characteristic-curve-roc-curve-and-auc-1/'>AUC</a> value</li>\n",
    "    <li>For hyper parameter tuning using k-fold cross validation(use GridsearchCV or RandomsearchCV)/simple cross validation data (write for loop to iterate over hyper parameter values)</li>\n",
    "    <li>You need to plot the performance of model both on train data and cross validation data for each hyper parameter, like shown in the figure\n",
    "    <img src='https://i.imgur.com/hUv6aEy.jpg' width=300px><dd>-while plotting take log(alpha) on your X-axis so that it will be more readable</dd></li>\n",
    "    <li>Once after you found the best hyper parameter, you need to train your model with it, and find the AUC on test data and plot the ROC curve on both train and test.\n",
    "    <img src='https://imgur.com/q2P65L5.jpg' width=300px></li>\n",
    "    <li>Along with plotting ROC curve, you need to print the <a href='https://www.appliedaicourse.com/course/applied-ai-course-online/lessons/confusion-matrix-tpr-fpr-fnr-tnr-1/'>confusion matrix</a> with predicted and original labels of test data points\n",
    "        <img src='https://i.imgur.com/IdN5Ctv.png' width=300px><dd>-plot the confusion matrix in heatmaps, while plotting the confusion matrix go through the <a href='https://stackoverflow.com/questions/61748441/how-to-fix-the-values-displayed-in-a-confusion-matrix-in-exponential-form-to-nor'>link </a>\n",
    "</dd></li>\n",
    "        </ul>\n",
    "<li>find the top 20 features from either from feature <font color='red'>Set 1</font> or feature <font color='red'>Set 2</font> using values of `feature_log_prob_ ` parameter of `MultinomialNB` \n",
    "(https://scikit-learn.org/stable/modules/generated/sklearn.naive_bayes.MultinomialNB.html) and print <strong>BOTH</strong> positive as well as negative corresponding feature names. <dd> - go through the <a href='https://imgur.com/mWvE7gj'>link </a> </dd>\n",
    "    </li>\n",
    "    <li>You need to summarize the results at the end of the notebook, summarize it in the table format\n",
    "        <img src='http://i.imgur.com/YVpIGGE.jpg' width=400px>\n",
    "    </li>\n",
    "</ol>"
   ]
  },
  {
   "cell_type": "markdown",
   "metadata": {
    "id": "inzYCIaib3c3"
   },
   "source": [
    "<h1>2. Naive Bayes </h1>"
   ]
  },
  {
   "cell_type": "markdown",
   "metadata": {
    "id": "FYqCIxzFb3c5"
   },
   "source": [
    "## 1.1 Loading Data"
   ]
  },
  {
   "cell_type": "code",
   "execution_count": 29,
   "metadata": {
    "collapsed": true,
    "id": "dA1jknyqb3c_"
   },
   "outputs": [
    {
     "data": {
      "text/html": [
       "<div>\n",
       "<style scoped>\n",
       "    .dataframe tbody tr th:only-of-type {\n",
       "        vertical-align: middle;\n",
       "    }\n",
       "\n",
       "    .dataframe tbody tr th {\n",
       "        vertical-align: top;\n",
       "    }\n",
       "\n",
       "    .dataframe thead th {\n",
       "        text-align: right;\n",
       "    }\n",
       "</style>\n",
       "<table border=\"1\" class=\"dataframe\">\n",
       "  <thead>\n",
       "    <tr style=\"text-align: right;\">\n",
       "      <th></th>\n",
       "      <th>school_state</th>\n",
       "      <th>teacher_prefix</th>\n",
       "      <th>project_grade_category</th>\n",
       "      <th>teacher_number_of_previously_posted_projects</th>\n",
       "      <th>project_is_approved</th>\n",
       "      <th>clean_categories</th>\n",
       "      <th>clean_subcategories</th>\n",
       "      <th>essay</th>\n",
       "      <th>price</th>\n",
       "    </tr>\n",
       "  </thead>\n",
       "  <tbody>\n",
       "    <tr>\n",
       "      <th>0</th>\n",
       "      <td>ca</td>\n",
       "      <td>mrs</td>\n",
       "      <td>grades_prek_2</td>\n",
       "      <td>53</td>\n",
       "      <td>1</td>\n",
       "      <td>math_science</td>\n",
       "      <td>appliedsciences health_lifescience</td>\n",
       "      <td>i fortunate enough use fairy tale stem kits cl...</td>\n",
       "      <td>725.05</td>\n",
       "    </tr>\n",
       "    <tr>\n",
       "      <th>1</th>\n",
       "      <td>ut</td>\n",
       "      <td>ms</td>\n",
       "      <td>grades_3_5</td>\n",
       "      <td>4</td>\n",
       "      <td>1</td>\n",
       "      <td>specialneeds</td>\n",
       "      <td>specialneeds</td>\n",
       "      <td>imagine 8 9 years old you third grade classroo...</td>\n",
       "      <td>213.03</td>\n",
       "    </tr>\n",
       "    <tr>\n",
       "      <th>2</th>\n",
       "      <td>ca</td>\n",
       "      <td>mrs</td>\n",
       "      <td>grades_prek_2</td>\n",
       "      <td>10</td>\n",
       "      <td>1</td>\n",
       "      <td>literacy_language</td>\n",
       "      <td>literacy</td>\n",
       "      <td>having class 24 students comes diverse learner...</td>\n",
       "      <td>329.00</td>\n",
       "    </tr>\n",
       "  </tbody>\n",
       "</table>\n",
       "</div>"
      ],
      "text/plain": [
       "  school_state teacher_prefix project_grade_category  \\\n",
       "0           ca            mrs          grades_prek_2   \n",
       "1           ut             ms             grades_3_5   \n",
       "2           ca            mrs          grades_prek_2   \n",
       "\n",
       "   teacher_number_of_previously_posted_projects  project_is_approved  \\\n",
       "0                                            53                    1   \n",
       "1                                             4                    1   \n",
       "2                                            10                    1   \n",
       "\n",
       "    clean_categories                 clean_subcategories  \\\n",
       "0       math_science  appliedsciences health_lifescience   \n",
       "1       specialneeds                        specialneeds   \n",
       "2  literacy_language                            literacy   \n",
       "\n",
       "                                               essay   price  \n",
       "0  i fortunate enough use fairy tale stem kits cl...  725.05  \n",
       "1  imagine 8 9 years old you third grade classroo...  213.03  \n",
       "2  having class 24 students comes diverse learner...  329.00  "
      ]
     },
     "execution_count": 29,
     "metadata": {},
     "output_type": "execute_result"
    }
   ],
   "source": [
    "#make sure you are loading atleast 50k datapoints\n",
    "#you can work with features of preprocessed_data.csv for the assignment.\n",
    "# If you want to add more features, you can add. (This is purely optional, not mandatory)\n",
    "from sklearn.model_selection import train_test_split\n",
    "from sklearn.feature_extraction.text import CountVectorizer\n",
    "from sklearn.feature_extraction.text import TfidfVectorizer\n",
    "from sklearn.preprocessing import Normalizer\n",
    "from scipy.sparse import hstack\n",
    "from sklearn.naive_bayes import MultinomialNB\n",
    "from sklearn.model_selection import RandomizedSearchCV\n",
    "import pandas as pd\n",
    "import matplotlib.pyplot as plt\n",
    "from sklearn import metrics \n",
    "import seaborn as sns\n",
    "import numpy as np\n",
    "\n",
    "data = pd.read_csv('preprocessed_data.csv')\n",
    "data.head(3)"
   ]
  },
  {
   "cell_type": "markdown",
   "metadata": {
    "id": "WtVV13Fyb3dH"
   },
   "source": [
    "<h2>1.2 Splitting data into Train and cross validation(or test): Stratified Sampling</h2>"
   ]
  },
  {
   "cell_type": "code",
   "execution_count": 33,
   "metadata": {},
   "outputs": [],
   "source": [
    "# write your code in following steps for task 1\n",
    "# 1. Split your data.\n",
    "# 2. Perform Bag of Words Vectorization of text data.\n",
    "# 3. Perform tfidf vectorization of text data.\n",
    "# 4. perform one-hot encoding of categorical features.  \n",
    "# 5. perform normalization of numerical features \n",
    "# 6. For set 1 stack up all the features using hstack()\n",
    "# 7. For set 2 stack up all the features using hstack()\n",
    "# 8. Perform hyperparameter tuning and represent the training and cross-validation AUC scores for different 'alpha' values, using a 2D line plot.\n",
    "# 9. Find the best hyperparameter 'alpha' and fit the model. Plot ROC-AUC curve(by obtaining the probabilities using 'predict proba' method)\n",
    "# 10. Plot confusion matrix based on the best threshold value\n",
    "# 11. Either for the model in set 1 or in set 2, print the top 20 features(you have to print the names, not the indexes) associated with the positive and negative classes each.\n",
    "# 12. Summarize your observations and compare both the models(ie., from set 1 and set 2) in terms of optimal hyperparameter value, train AUC and test AUC scores. \n",
    "# 13. You can use Prettytable or any other tabular format for comparison.\n",
    "# please write all the code with proper documentation, and proper titles for each subsection\n",
    "# go through documentations and blogs before you start coding\n",
    "# first figure out what to do, and then think about how to do.\n",
    "# reading and understanding error messages will be very much helpfull in debugging your code\n",
    "# when you plot any graph make sure you use \n",
    "    # a. Title, that describes your plot, this will be very helpful to the reader\n",
    "    # b. Legends if needed\n",
    "    # c. X-axis label\n",
    "    # d. Y-axis label\n",
    "    "
   ]
  },
  {
   "cell_type": "code",
   "execution_count": 30,
   "metadata": {
    "id": "i-PyprDNb3dI"
   },
   "outputs": [],
   "source": [
    "# Split the dataset \n",
    "# 1) If you want to apply simple cross-validation, split the dataset into 3 parts (ie., train, CV and test sets)\n",
    "# 2) If you want to apply K-fold CV (or) GridSearch Cross Validation (or) Randomized Search Cross Validation, just split the dataset into 2 parts (ie., train and test sets)\n",
    "y = data['project_is_approved'].values\n",
    "X = data.drop(['project_is_approved'], axis=1)\n",
    "X_train, X_test, y_train, y_test = train_test_split(X, y, test_size=0.3, stratify=y)\n"
   ]
  },
  {
   "cell_type": "markdown",
   "metadata": {
    "id": "EnZwVNULb3dO"
   },
   "source": [
    "<h2>1.3 Make Data Model Ready: encoding essay, and project_title</h2>"
   ]
  },
  {
   "cell_type": "code",
   "execution_count": 33,
   "metadata": {
    "scrolled": true
   },
   "outputs": [
    {
     "name": "stdout",
     "output_type": "stream",
     "text": [
      "Wall time: 7.75 s\n",
      "Wall time: 7.38 s\n",
      "Wall time: 3.16 s\n"
     ]
    }
   ],
   "source": [
    "# Apply Bag of Words (BOW) vectorization on 'Preprocessed_Essay' \n",
    "vectorizer = CountVectorizer(min_df=10)\n",
    "%time vectorizer.fit(X_train['essay'].values)   # fit function should be only on train data\n",
    "%time X_train_essay_bow = vectorizer.transform(X_train['essay'].values)\n",
    "%time X_test_essay_bow = vectorizer.transform(X_test['essay'].values)\n",
    "\n",
    "# Apply Bag of Words (BOW) vectorization on 'Preprocessed_Title' (Optional)"
   ]
  },
  {
   "cell_type": "code",
   "execution_count": 34,
   "metadata": {},
   "outputs": [
    {
     "data": {
      "text/plain": [
       "14440"
      ]
     },
     "execution_count": 34,
     "metadata": {},
     "output_type": "execute_result"
    }
   ],
   "source": [
    "words=vectorizer.get_feature_names()\n",
    "len(words)"
   ]
  },
  {
   "cell_type": "code",
   "execution_count": 35,
   "metadata": {},
   "outputs": [
    {
     "name": "stdout",
     "output_type": "stream",
     "text": [
      "Wall time: 7.57 s\n",
      "Wall time: 7.78 s\n",
      "Wall time: 3.29 s\n",
      "Shape of matrix after tfidf vector  (76473, 14440) (32775, 14440)\n"
     ]
    }
   ],
   "source": [
    "# Apply TF-IDF vectorization on 'Preprocessed_Essay' \n",
    "vectorizer_0 = TfidfVectorizer(min_df=10)\n",
    "%time vectorizer_0.fit(X_train['essay'].values)\n",
    "%time text_tfidf_tr = vectorizer_0.transform(X_train['essay'].values)\n",
    "%time text_tfidf_te = vectorizer_0.transform(X_test['essay'].values)\n",
    "print(\"Shape of matrix after tfidf vector \",text_tfidf_tr.shape,text_tfidf_te.shape) \n",
    "\n",
    "\n",
    "# Apply TF-IDF vectorization on 'Preprocessed_Title' (Optional)\n"
   ]
  },
  {
   "cell_type": "markdown",
   "metadata": {
    "id": "bGy86kgHb3dX"
   },
   "source": [
    "<h2>1.4 Make Data Model Ready: encoding numerical, categorical features</h2>"
   ]
  },
  {
   "cell_type": "code",
   "execution_count": 36,
   "metadata": {
    "id": "EfXkofX1b3da"
   },
   "outputs": [
    {
     "name": "stdout",
     "output_type": "stream",
     "text": [
      "Wall time: 203 ms\n",
      "Wall time: 85.8 ms\n",
      "Wall time: 192 ms\n",
      "Wall time: 97.7 ms\n",
      "Wall time: 214 ms\n",
      "Wall time: 95.7 ms\n",
      "Wall time: 243 ms\n",
      "Wall time: 103 ms\n",
      "Wall time: 244 ms\n",
      "Wall time: 115 ms\n",
      "Wall time: 1.05 ms\n",
      "Wall time: 974 µs\n",
      "Wall time: 0 ns\n",
      "Wall time: 1e+03 µs\n",
      "Wall time: 1.01 ms\n"
     ]
    }
   ],
   "source": [
    "# Apply One-Hot Encoding on the categorical features either using OneHotEncoder() (or) CountVectorizer(binary=True)\n",
    "vectorizer_1 = CountVectorizer()\n",
    "vectorizer_1.fit(X_train['school_state'].values)\n",
    "%time X_train_state = vectorizer_1.transform(X_train['school_state'].values)\n",
    "%time X_test_state = vectorizer_1.transform(X_test['school_state'].values)\n",
    "w1=vectorizer_1.get_feature_names()\n",
    "\n",
    "vectorizer_1.fit(X_train['teacher_prefix'].values)\n",
    "%time X_train_teacher = vectorizer_1.transform(X_train['teacher_prefix'].values)\n",
    "%time X_test_teacher = vectorizer_1.transform(X_test['teacher_prefix'].values)\n",
    "w2=vectorizer_1.get_feature_names()\n",
    "\n",
    "vectorizer_1.fit(X_train['project_grade_category'].values)\n",
    "%time X_train_grade = vectorizer_1.transform(X_train['project_grade_category'].values)\n",
    "%time X_test_grade = vectorizer_1.transform(X_test['project_grade_category'].values)\n",
    "w3=vectorizer_1.get_feature_names()\n",
    "\n",
    "vectorizer_1.fit(X_train['clean_categories'].values)\n",
    "%time X_train_categories = vectorizer_1.transform(X_train['clean_categories'].values)\n",
    "%time X_test_categories = vectorizer_1.transform(X_test['clean_categories'].values)\n",
    "w4=vectorizer_1.get_feature_names()\n",
    "\n",
    "vectorizer_1.fit(X_train['clean_subcategories'].values)\n",
    "%time X_train_subcate = vectorizer_1.transform(X_train['clean_subcategories'].values)\n",
    "%time X_test_subcate = vectorizer_1.transform(X_test['clean_subcategories'].values)\n",
    "w5=vectorizer_1.get_feature_names()\n",
    "\n",
    "# Apply Normalization on the numerical features using Normalizer().\n",
    "\n",
    "normalizer = Normalizer()\n",
    "%time normalizer.fit(X_train['price'].values.reshape(-1,1))\n",
    "%time X_train_price_norm = normalizer.transform(X_train['price'].values.reshape(-1,1))\n",
    "%time X_test_price_norm = normalizer.transform(X_test['price'].values.reshape(-1,1))\n",
    "\n",
    "normalizer.fit(X_train['teacher_number_of_previously_posted_projects'].values.reshape(-1,1))\n",
    "%time X_train_num_norm = normalizer.transform(X_train['teacher_number_of_previously_posted_projects'].values.reshape(-1,1))\n",
    "%time X_test_num_norm = normalizer.transform(X_test['teacher_number_of_previously_posted_projects'].values.reshape(-1,1))\n"
   ]
  },
  {
   "cell_type": "code",
   "execution_count": 37,
   "metadata": {},
   "outputs": [
    {
     "name": "stdout",
     "output_type": "stream",
     "text": [
      "['ak', 'al', 'ar', 'az', 'ca', 'co', 'ct', 'dc', 'de', 'fl', 'ga', 'hi', 'ia', 'id', 'il', 'in', 'ks', 'ky', 'la', 'ma', 'md', 'me', 'mi', 'mn', 'mo', 'ms', 'mt', 'nc', 'nd', 'ne', 'nh', 'nj', 'nm', 'nv', 'ny', 'oh', 'ok', 'or', 'pa', 'ri', 'sc', 'sd', 'tn', 'tx', 'ut', 'va', 'vt', 'wa', 'wi', 'wv', 'wy'] ['dr', 'mr', 'mrs', 'ms', 'teacher'] ['grades_3_5', 'grades_6_8', 'grades_9_12', 'grades_prek_2'] ['appliedlearning', 'care_hunger', 'health_sports', 'history_civics', 'literacy_language', 'math_science', 'music_arts', 'specialneeds', 'warmth'] ['appliedsciences', 'care_hunger', 'charactereducation', 'civics_government', 'college_careerprep', 'communityservice', 'earlydevelopment', 'economics', 'environmentalscience', 'esl', 'extracurricular', 'financialliteracy', 'foreignlanguages', 'gym_fitness', 'health_lifescience', 'health_wellness', 'history_geography', 'literacy', 'literature_writing', 'mathematics', 'music', 'nutritioneducation', 'other', 'parentinvolvement', 'performingarts', 'socialsciences', 'specialneeds', 'teamsports', 'visualarts', 'warmth']\n",
      "51 5 4 9 30\n"
     ]
    }
   ],
   "source": [
    "print(w1,w2,w3,w4,w5)\n",
    "print(len(w1),len(w2),len(w3),len(w4),len(w5))"
   ]
  },
  {
   "cell_type": "markdown",
   "metadata": {
    "id": "yYHPYadYb3dh"
   },
   "source": [
    "<h2>1.5 Appling NB on different kind of featurization as mentioned in the instructions</h2>\n",
    "\n",
    "<br>Apply NB on different kind of featurization as mentioned in the instructions\n",
    "<br> For Every model that you work on make sure you do the step 2 and step 3 of instrucations"
   ]
  },
  {
   "cell_type": "markdown",
   "metadata": {
    "id": "DNwqilFxb3di"
   },
   "source": [
    "#### Set 1"
   ]
  },
  {
   "cell_type": "code",
   "execution_count": 38,
   "metadata": {
    "collapsed": true
   },
   "outputs": [
    {
     "data": {
      "image/png": "[encoded data removed]",
      "text/plain": [
       "<Figure size 432x288 with 1 Axes>"
      ]
     },
     "metadata": {
      "needs_background": "light"
     },
     "output_type": "display_data"
    },
    {
     "data": {
      "text/html": [
       "<div>\n",
       "<style scoped>\n",
       "    .dataframe tbody tr th:only-of-type {\n",
       "        vertical-align: middle;\n",
       "    }\n",
       "\n",
       "    .dataframe tbody tr th {\n",
       "        vertical-align: top;\n",
       "    }\n",
       "\n",
       "    .dataframe thead th {\n",
       "        text-align: right;\n",
       "    }\n",
       "</style>\n",
       "<table border=\"1\" class=\"dataframe\">\n",
       "  <thead>\n",
       "    <tr style=\"text-align: right;\">\n",
       "      <th></th>\n",
       "      <th>mean_fit_time</th>\n",
       "      <th>std_fit_time</th>\n",
       "      <th>mean_score_time</th>\n",
       "      <th>std_score_time</th>\n",
       "      <th>param_alpha</th>\n",
       "      <th>params</th>\n",
       "      <th>split0_test_score</th>\n",
       "      <th>split1_test_score</th>\n",
       "      <th>split2_test_score</th>\n",
       "      <th>mean_test_score</th>\n",
       "      <th>std_test_score</th>\n",
       "      <th>rank_test_score</th>\n",
       "      <th>split0_train_score</th>\n",
       "      <th>split1_train_score</th>\n",
       "      <th>split2_train_score</th>\n",
       "      <th>mean_train_score</th>\n",
       "      <th>std_train_score</th>\n",
       "    </tr>\n",
       "  </thead>\n",
       "  <tbody>\n",
       "    <tr>\n",
       "      <th>6</th>\n",
       "      <td>0.229719</td>\n",
       "      <td>0.010312</td>\n",
       "      <td>0.038564</td>\n",
       "      <td>0.000939</td>\n",
       "      <td>0.00001</td>\n",
       "      <td>{'alpha': 1e-05}</td>\n",
       "      <td>0.671976</td>\n",
       "      <td>0.671423</td>\n",
       "      <td>0.669019</td>\n",
       "      <td>0.670806</td>\n",
       "      <td>0.001284</td>\n",
       "      <td>7</td>\n",
       "      <td>0.833040</td>\n",
       "      <td>0.834236</td>\n",
       "      <td>0.834652</td>\n",
       "      <td>0.833976</td>\n",
       "      <td>0.000683</td>\n",
       "    </tr>\n",
       "    <tr>\n",
       "      <th>9</th>\n",
       "      <td>0.204450</td>\n",
       "      <td>0.006666</td>\n",
       "      <td>0.035571</td>\n",
       "      <td>0.001696</td>\n",
       "      <td>0.0001</td>\n",
       "      <td>{'alpha': 0.0001}</td>\n",
       "      <td>0.679216</td>\n",
       "      <td>0.678316</td>\n",
       "      <td>0.676103</td>\n",
       "      <td>0.677878</td>\n",
       "      <td>0.001308</td>\n",
       "      <td>5</td>\n",
       "      <td>0.831070</td>\n",
       "      <td>0.832283</td>\n",
       "      <td>0.832868</td>\n",
       "      <td>0.832074</td>\n",
       "      <td>0.000749</td>\n",
       "    </tr>\n",
       "    <tr>\n",
       "      <th>8</th>\n",
       "      <td>0.218749</td>\n",
       "      <td>0.007909</td>\n",
       "      <td>0.035572</td>\n",
       "      <td>0.002050</td>\n",
       "      <td>0.0005</td>\n",
       "      <td>{'alpha': 0.0005}</td>\n",
       "      <td>0.685156</td>\n",
       "      <td>0.683807</td>\n",
       "      <td>0.681883</td>\n",
       "      <td>0.683615</td>\n",
       "      <td>0.001343</td>\n",
       "      <td>4</td>\n",
       "      <td>0.828848</td>\n",
       "      <td>0.830072</td>\n",
       "      <td>0.830841</td>\n",
       "      <td>0.829920</td>\n",
       "      <td>0.000821</td>\n",
       "    </tr>\n",
       "    <tr>\n",
       "      <th>7</th>\n",
       "      <td>0.198469</td>\n",
       "      <td>0.013455</td>\n",
       "      <td>0.039561</td>\n",
       "      <td>0.000470</td>\n",
       "      <td>0.005</td>\n",
       "      <td>{'alpha': 0.005}</td>\n",
       "      <td>0.694407</td>\n",
       "      <td>0.691946</td>\n",
       "      <td>0.690747</td>\n",
       "      <td>0.692367</td>\n",
       "      <td>0.001523</td>\n",
       "      <td>3</td>\n",
       "      <td>0.823736</td>\n",
       "      <td>0.824981</td>\n",
       "      <td>0.826142</td>\n",
       "      <td>0.824953</td>\n",
       "      <td>0.000982</td>\n",
       "    </tr>\n",
       "    <tr>\n",
       "      <th>0</th>\n",
       "      <td>0.209104</td>\n",
       "      <td>0.003391</td>\n",
       "      <td>0.042553</td>\n",
       "      <td>0.000939</td>\n",
       "      <td>0.01</td>\n",
       "      <td>{'alpha': 0.01}</td>\n",
       "      <td>0.697180</td>\n",
       "      <td>0.694319</td>\n",
       "      <td>0.693394</td>\n",
       "      <td>0.694964</td>\n",
       "      <td>0.001612</td>\n",
       "      <td>2</td>\n",
       "      <td>0.821561</td>\n",
       "      <td>0.822805</td>\n",
       "      <td>0.824127</td>\n",
       "      <td>0.822831</td>\n",
       "      <td>0.001048</td>\n",
       "    </tr>\n",
       "    <tr>\n",
       "      <th>5</th>\n",
       "      <td>0.205119</td>\n",
       "      <td>0.022007</td>\n",
       "      <td>0.043550</td>\n",
       "      <td>0.002619</td>\n",
       "      <td>0.1</td>\n",
       "      <td>{'alpha': 0.1}</td>\n",
       "      <td>0.704973</td>\n",
       "      <td>0.701102</td>\n",
       "      <td>0.701013</td>\n",
       "      <td>0.702363</td>\n",
       "      <td>0.001846</td>\n",
       "      <td>1</td>\n",
       "      <td>0.810791</td>\n",
       "      <td>0.811984</td>\n",
       "      <td>0.813992</td>\n",
       "      <td>0.812256</td>\n",
       "      <td>0.001321</td>\n",
       "    </tr>\n",
       "    <tr>\n",
       "      <th>1</th>\n",
       "      <td>0.202457</td>\n",
       "      <td>0.009068</td>\n",
       "      <td>0.040891</td>\n",
       "      <td>0.001629</td>\n",
       "      <td>5</td>\n",
       "      <td>{'alpha': 5}</td>\n",
       "      <td>0.676946</td>\n",
       "      <td>0.675382</td>\n",
       "      <td>0.679683</td>\n",
       "      <td>0.677337</td>\n",
       "      <td>0.001777</td>\n",
       "      <td>6</td>\n",
       "      <td>0.736188</td>\n",
       "      <td>0.736301</td>\n",
       "      <td>0.737771</td>\n",
       "      <td>0.736753</td>\n",
       "      <td>0.000721</td>\n",
       "    </tr>\n",
       "    <tr>\n",
       "      <th>3</th>\n",
       "      <td>0.217750</td>\n",
       "      <td>0.011115</td>\n",
       "      <td>0.045213</td>\n",
       "      <td>0.002488</td>\n",
       "      <td>10</td>\n",
       "      <td>{'alpha': 10}</td>\n",
       "      <td>0.656173</td>\n",
       "      <td>0.656030</td>\n",
       "      <td>0.661070</td>\n",
       "      <td>0.657757</td>\n",
       "      <td>0.002343</td>\n",
       "      <td>8</td>\n",
       "      <td>0.703346</td>\n",
       "      <td>0.703450</td>\n",
       "      <td>0.703614</td>\n",
       "      <td>0.703470</td>\n",
       "      <td>0.000111</td>\n",
       "    </tr>\n",
       "    <tr>\n",
       "      <th>4</th>\n",
       "      <td>0.198801</td>\n",
       "      <td>0.007908</td>\n",
       "      <td>0.042220</td>\n",
       "      <td>0.001880</td>\n",
       "      <td>50</td>\n",
       "      <td>{'alpha': 50}</td>\n",
       "      <td>0.569673</td>\n",
       "      <td>0.569187</td>\n",
       "      <td>0.567526</td>\n",
       "      <td>0.568795</td>\n",
       "      <td>0.000919</td>\n",
       "      <td>9</td>\n",
       "      <td>0.583724</td>\n",
       "      <td>0.583186</td>\n",
       "      <td>0.584786</td>\n",
       "      <td>0.583899</td>\n",
       "      <td>0.000665</td>\n",
       "    </tr>\n",
       "    <tr>\n",
       "      <th>2</th>\n",
       "      <td>0.185170</td>\n",
       "      <td>0.016455</td>\n",
       "      <td>0.040559</td>\n",
       "      <td>0.002489</td>\n",
       "      <td>100</td>\n",
       "      <td>{'alpha': 100}</td>\n",
       "      <td>0.506066</td>\n",
       "      <td>0.504893</td>\n",
       "      <td>0.503549</td>\n",
       "      <td>0.504836</td>\n",
       "      <td>0.001028</td>\n",
       "      <td>10</td>\n",
       "      <td>0.506372</td>\n",
       "      <td>0.506157</td>\n",
       "      <td>0.507245</td>\n",
       "      <td>0.506591</td>\n",
       "      <td>0.000471</td>\n",
       "    </tr>\n",
       "  </tbody>\n",
       "</table>\n",
       "</div>"
      ],
      "text/plain": [
       "   mean_fit_time  std_fit_time  mean_score_time  std_score_time param_alpha  \\\n",
       "6       0.229719      0.010312         0.038564        0.000939     0.00001   \n",
       "9       0.204450      0.006666         0.035571        0.001696      0.0001   \n",
       "8       0.218749      0.007909         0.035572        0.002050      0.0005   \n",
       "7       0.198469      0.013455         0.039561        0.000470       0.005   \n",
       "0       0.209104      0.003391         0.042553        0.000939        0.01   \n",
       "5       0.205119      0.022007         0.043550        0.002619         0.1   \n",
       "1       0.202457      0.009068         0.040891        0.001629           5   \n",
       "3       0.217750      0.011115         0.045213        0.002488          10   \n",
       "4       0.198801      0.007908         0.042220        0.001880          50   \n",
       "2       0.185170      0.016455         0.040559        0.002489         100   \n",
       "\n",
       "              params  split0_test_score  split1_test_score  split2_test_score  \\\n",
       "6   {'alpha': 1e-05}           0.671976           0.671423           0.669019   \n",
       "9  {'alpha': 0.0001}           0.679216           0.678316           0.676103   \n",
       "8  {'alpha': 0.0005}           0.685156           0.683807           0.681883   \n",
       "7   {'alpha': 0.005}           0.694407           0.691946           0.690747   \n",
       "0    {'alpha': 0.01}           0.697180           0.694319           0.693394   \n",
       "5     {'alpha': 0.1}           0.704973           0.701102           0.701013   \n",
       "1       {'alpha': 5}           0.676946           0.675382           0.679683   \n",
       "3      {'alpha': 10}           0.656173           0.656030           0.661070   \n",
       "4      {'alpha': 50}           0.569673           0.569187           0.567526   \n",
       "2     {'alpha': 100}           0.506066           0.504893           0.503549   \n",
       "\n",
       "   mean_test_score  std_test_score  rank_test_score  split0_train_score  \\\n",
       "6         0.670806        0.001284                7            0.833040   \n",
       "9         0.677878        0.001308                5            0.831070   \n",
       "8         0.683615        0.001343                4            0.828848   \n",
       "7         0.692367        0.001523                3            0.823736   \n",
       "0         0.694964        0.001612                2            0.821561   \n",
       "5         0.702363        0.001846                1            0.810791   \n",
       "1         0.677337        0.001777                6            0.736188   \n",
       "3         0.657757        0.002343                8            0.703346   \n",
       "4         0.568795        0.000919                9            0.583724   \n",
       "2         0.504836        0.001028               10            0.506372   \n",
       "\n",
       "   split1_train_score  split2_train_score  mean_train_score  std_train_score  \n",
       "6            0.834236            0.834652          0.833976         0.000683  \n",
       "9            0.832283            0.832868          0.832074         0.000749  \n",
       "8            0.830072            0.830841          0.829920         0.000821  \n",
       "7            0.824981            0.826142          0.824953         0.000982  \n",
       "0            0.822805            0.824127          0.822831         0.001048  \n",
       "5            0.811984            0.813992          0.812256         0.001321  \n",
       "1            0.736301            0.737771          0.736753         0.000721  \n",
       "3            0.703450            0.703614          0.703470         0.000111  \n",
       "4            0.583186            0.584786          0.583899         0.000665  \n",
       "2            0.506157            0.507245          0.506591         0.000471  "
      ]
     },
     "execution_count": 38,
     "metadata": {},
     "output_type": "execute_result"
    }
   ],
   "source": [
    "X_tr = hstack((X_train_essay_bow,X_train_state,X_train_teacher,X_train_grade,X_train_categories,X_train_subcate,X_train_price_norm,X_train_num_norm)).tocsr()\n",
    "X_te = hstack((X_test_essay_bow,X_test_state,X_test_teacher,X_test_grade,X_test_categories,X_test_subcate,X_test_price_norm,X_test_num_norm)).tocsr()\n",
    "\n",
    "# Perform Hyperparameter Tuning.\n",
    "# Plot the training and the CV AUC scores, for different values of 'alpha', using a 2D line plot\n",
    "\n",
    "nb = MultinomialNB(class_prior=[0.5,0.5])\n",
    "parameters = {'alpha':[ 0.00001,0.0005, 0.0001,0.005,0.001,0.05,0.01,0.1,0.5,1,5,10,50,100]}\n",
    "clf = RandomizedSearchCV(nb, parameters, cv=3, scoring='roc_auc', n_jobs=-1, return_train_score=True)\n",
    "clf.fit(X_tr, y_train)\n",
    "\n",
    "results = pd.DataFrame.from_dict(clf.cv_results_)\n",
    "results = results.sort_values(['param_alpha'])\n",
    "\n",
    "train_auc= results['mean_train_score']\n",
    "train_auc_std= results['std_train_score']\n",
    "cv_auc = results['mean_test_score'] \n",
    "cv_auc_std= results['std_test_score']\n",
    "alpha =  results['param_alpha']\n",
    "\n",
    "plt.plot(alpha, train_auc, label='Train AUC')\n",
    "plt.plot(alpha, cv_auc, label='CV AUC')\n",
    "\n",
    "plt.scatter(alpha, train_auc, label='Train AUC points')\n",
    "plt.scatter(alpha, cv_auc, label='CV AUC points')\n",
    "\n",
    "\n",
    "plt.legend()\n",
    "plt.xlabel(\"alpha: hyperparameter\")\n",
    "plt.ylabel(\"AUC\")\n",
    "plt.title(\"Hyper parameter Vs AUC plot\")\n",
    "plt.grid()\n",
    "plt.show()\n",
    "\n",
    "results\n"
   ]
  },
  {
   "cell_type": "code",
   "execution_count": 27,
   "metadata": {
    "scrolled": true
   },
   "outputs": [
    {
     "name": "stdout",
     "output_type": "stream",
     "text": [
      "(32775, 272269) (76473, 272269) (32775, 10444) (76473, 14564)\n"
     ]
    }
   ],
   "source": [
    "# Obtain the optimal value for 'alpha' and using the obtained optimal 'alpha' value, fit a multinomial naive bayes model, on the train data,\n",
    "# Note: If you have split the datase into 3 parts (ie., train, cv and test sets) in the beginning, then the training datafor this final model would be (train set + cv set)\n",
    "# Make class label and probability predictions on the train and test data.\n",
    "#print(X_te.shape,X_tr.shape,tfidf_te.shape,tfidf_tr.shape)\n"
   ]
  },
  {
   "cell_type": "code",
   "execution_count": 41,
   "metadata": {},
   "outputs": [
    {
     "name": "stdout",
     "output_type": "stream",
     "text": [
      "test=  0.6610658735131849\n",
      "train=  0.7098294035679643\n"
     ]
    },
    {
     "data": {
      "image/png": "[encoded data removed]",
      "text/plain": [
       "<Figure size 432x288 with 1 Axes>"
      ]
     },
     "metadata": {
      "needs_background": "light"
     },
     "output_type": "display_data"
    },
    {
     "name": "stdout",
     "output_type": "stream",
     "text": [
      "[2 1 0] [2 1 0]\n"
     ]
    }
   ],
   "source": [
    "# Plot the ROC-AUC curves using the probability predictions made on train and test data.\n",
    "#https://stackoverflow.com/questions/25009284/how-to-plot-roc-curve-in-python\n",
    "\n",
    "nb=MultinomialNB(alpha=0.5, class_prior=[0.5, 0.5], fit_prior=True)\n",
    "nb.fit(X_tr, y_train)\n",
    "y_pred_class_test = nb.predict(X_te)\n",
    "print(\"test= \",metrics.roc_auc_score(y_test, y_pred_class_test))\n",
    "fpr, tpr, threshold = metrics.roc_curve(y_test, y_pred_class_test)\n",
    "roc_auc_test = metrics.auc(fpr, tpr)\n",
    "\n",
    "y_pred_class_train = nb.predict(X_tr)\n",
    "print(\"train= \",metrics.roc_auc_score(y_train, y_pred_class_train))\n",
    "fpr_1, tpr_1, threshold_1 = metrics.roc_curve(y_train, y_pred_class_train)\n",
    "roc_auc_train = metrics.auc(fpr_1, tpr_1)\n",
    "\n",
    "plt.title('Receiver Operating Characteristic')\n",
    "plt.plot(fpr, tpr, 'b', label = 'AUC test = %0.2f' % roc_auc_test)\n",
    "plt.plot(fpr_1, tpr_1, 'y', label = 'AUC train = %0.2f' % roc_auc_train)\n",
    "plt.legend(loc = 'lower right')\n",
    "plt.plot([0, 1], [0, 1],'r--')\n",
    "plt.xlim([0, 1])\n",
    "plt.ylim([0, 1])\n",
    "plt.ylabel('True Positive Rate (TPR)')\n",
    "plt.xlabel('False Positive Rate (FPR)')\n",
    "plt.show()\n",
    "\n",
    "print(threshold,threshold_1)\n"
   ]
  },
  {
   "cell_type": "code",
   "execution_count": 42,
   "metadata": {},
   "outputs": [
    {
     "name": "stdout",
     "output_type": "stream",
     "text": [
      "[[ 3135  1828]\n",
      " [ 8609 19203]]\n"
     ]
    },
    {
     "data": {
      "image/png": "[encoded data removed]",
      "text/plain": [
       "<Figure size 432x288 with 2 Axes>"
      ]
     },
     "metadata": {
      "needs_background": "light"
     },
     "output_type": "display_data"
    }
   ],
   "source": [
    "# Pick the best threshold among the probability estimates, such that it has to yield maximum value for TPR*(1-FPR)\n",
    "# Plot the confusion matrices(each for train and test data) afer encoding the predicted class labels, on the basis of the best threshod probability estimate.\n",
    "#https://stackoverflow.com/questions/61748441/how-to-fix-the-values-displayed-in-a-confusion-matrix-in-exponential-form-to-nor\n",
    "\n",
    "cm0 = metrics.confusion_matrix(y_test, y_pred_class_test)\n",
    "cm1 = metrics.confusion_matrix(y_train, y_pred_class_train)\n",
    "\n",
    "ax= plt.subplot();\n",
    "sns.heatmap(cm0, annot=True,cmap='Blues',ax=ax);\n",
    "# labels, title and ticks\n",
    "ax.set_xlabel('Predicted values');ax.set_ylabel('Actual values'); \n",
    "ax.set_ylim(2.0, 0)\n",
    "ax.set_title('Confusion Matrix of test data');\n",
    "ax.xaxis.set_ticklabels(['0','1']); \n",
    "ax.yaxis.set_ticklabels(['0','1']);\n",
    "print(cm0)\n"
   ]
  },
  {
   "cell_type": "code",
   "execution_count": 43,
   "metadata": {},
   "outputs": [
    {
     "name": "stdout",
     "output_type": "stream",
     "text": [
      "[[ 8289  3290]\n",
      " [19222 45672]]\n"
     ]
    },
    {
     "data": {
      "image/png": "[encoded data removed]",
      "text/plain": [
       "<Figure size 432x288 with 2 Axes>"
      ]
     },
     "metadata": {
      "needs_background": "light"
     },
     "output_type": "display_data"
    }
   ],
   "source": [
    "ax= plt.subplot();\n",
    "sns.heatmap(cm1, annot=True,cmap='Oranges',ax=ax);\n",
    "# labels, title and ticks\n",
    "ax.set_xlabel('Predicted values');ax.set_ylabel('actual values'); \n",
    "ax.set_ylim(2.0, 0)\n",
    "ax.set_title('Confusion Matrix of train data');\n",
    "ax.xaxis.set_ticklabels(['0','1']); \n",
    "ax.yaxis.set_ticklabels(['0','1']);\n",
    "print(cm1)"
   ]
  },
  {
   "cell_type": "markdown",
   "metadata": {},
   "source": [
    "#### Set 2"
   ]
  },
  {
   "cell_type": "code",
   "execution_count": 44,
   "metadata": {},
   "outputs": [
    {
     "data": {
      "image/png": "[encoded data removed]",
      "text/plain": [
       "<Figure size 432x288 with 1 Axes>"
      ]
     },
     "metadata": {
      "needs_background": "light"
     },
     "output_type": "display_data"
    },
    {
     "data": {
      "text/html": [
       "<div>\n",
       "<style scoped>\n",
       "    .dataframe tbody tr th:only-of-type {\n",
       "        vertical-align: middle;\n",
       "    }\n",
       "\n",
       "    .dataframe tbody tr th {\n",
       "        vertical-align: top;\n",
       "    }\n",
       "\n",
       "    .dataframe thead th {\n",
       "        text-align: right;\n",
       "    }\n",
       "</style>\n",
       "<table border=\"1\" class=\"dataframe\">\n",
       "  <thead>\n",
       "    <tr style=\"text-align: right;\">\n",
       "      <th></th>\n",
       "      <th>mean_fit_time</th>\n",
       "      <th>std_fit_time</th>\n",
       "      <th>mean_score_time</th>\n",
       "      <th>std_score_time</th>\n",
       "      <th>param_alpha</th>\n",
       "      <th>params</th>\n",
       "      <th>split0_test_score</th>\n",
       "      <th>split1_test_score</th>\n",
       "      <th>split2_test_score</th>\n",
       "      <th>mean_test_score</th>\n",
       "      <th>std_test_score</th>\n",
       "      <th>rank_test_score</th>\n",
       "      <th>split0_train_score</th>\n",
       "      <th>split1_train_score</th>\n",
       "      <th>split2_train_score</th>\n",
       "      <th>mean_train_score</th>\n",
       "      <th>std_train_score</th>\n",
       "    </tr>\n",
       "  </thead>\n",
       "  <tbody>\n",
       "    <tr>\n",
       "      <th>7</th>\n",
       "      <td>0.211100</td>\n",
       "      <td>0.004976</td>\n",
       "      <td>0.038897</td>\n",
       "      <td>8.143934e-04</td>\n",
       "      <td>0.00001</td>\n",
       "      <td>{'alpha': 1e-05}</td>\n",
       "      <td>0.641758</td>\n",
       "      <td>0.648195</td>\n",
       "      <td>0.648237</td>\n",
       "      <td>0.646063</td>\n",
       "      <td>0.003044</td>\n",
       "      <td>8</td>\n",
       "      <td>0.822594</td>\n",
       "      <td>0.826018</td>\n",
       "      <td>0.827684</td>\n",
       "      <td>0.825432</td>\n",
       "      <td>0.002119</td>\n",
       "    </tr>\n",
       "    <tr>\n",
       "      <th>6</th>\n",
       "      <td>0.215420</td>\n",
       "      <td>0.002154</td>\n",
       "      <td>0.038898</td>\n",
       "      <td>4.899036e-07</td>\n",
       "      <td>0.0001</td>\n",
       "      <td>{'alpha': 0.0001}</td>\n",
       "      <td>0.648613</td>\n",
       "      <td>0.654837</td>\n",
       "      <td>0.654501</td>\n",
       "      <td>0.652651</td>\n",
       "      <td>0.002858</td>\n",
       "      <td>6</td>\n",
       "      <td>0.819965</td>\n",
       "      <td>0.823474</td>\n",
       "      <td>0.825499</td>\n",
       "      <td>0.822979</td>\n",
       "      <td>0.002286</td>\n",
       "    </tr>\n",
       "    <tr>\n",
       "      <th>4</th>\n",
       "      <td>0.268613</td>\n",
       "      <td>0.015708</td>\n",
       "      <td>0.041887</td>\n",
       "      <td>2.431402e-06</td>\n",
       "      <td>0.0005</td>\n",
       "      <td>{'alpha': 0.0005}</td>\n",
       "      <td>0.654719</td>\n",
       "      <td>0.660811</td>\n",
       "      <td>0.660382</td>\n",
       "      <td>0.658637</td>\n",
       "      <td>0.002776</td>\n",
       "      <td>5</td>\n",
       "      <td>0.816720</td>\n",
       "      <td>0.820287</td>\n",
       "      <td>0.822681</td>\n",
       "      <td>0.819896</td>\n",
       "      <td>0.002450</td>\n",
       "    </tr>\n",
       "    <tr>\n",
       "      <th>3</th>\n",
       "      <td>0.281915</td>\n",
       "      <td>0.021179</td>\n",
       "      <td>0.047533</td>\n",
       "      <td>4.095996e-03</td>\n",
       "      <td>0.001</td>\n",
       "      <td>{'alpha': 0.001}</td>\n",
       "      <td>0.657599</td>\n",
       "      <td>0.663635</td>\n",
       "      <td>0.663294</td>\n",
       "      <td>0.661509</td>\n",
       "      <td>0.002768</td>\n",
       "      <td>4</td>\n",
       "      <td>0.814765</td>\n",
       "      <td>0.818359</td>\n",
       "      <td>0.820949</td>\n",
       "      <td>0.818025</td>\n",
       "      <td>0.002536</td>\n",
       "    </tr>\n",
       "    <tr>\n",
       "      <th>9</th>\n",
       "      <td>0.208440</td>\n",
       "      <td>0.008617</td>\n",
       "      <td>0.036570</td>\n",
       "      <td>4.019307e-03</td>\n",
       "      <td>0.005</td>\n",
       "      <td>{'alpha': 0.005}</td>\n",
       "      <td>0.664337</td>\n",
       "      <td>0.670219</td>\n",
       "      <td>0.670625</td>\n",
       "      <td>0.668394</td>\n",
       "      <td>0.002873</td>\n",
       "      <td>3</td>\n",
       "      <td>0.808240</td>\n",
       "      <td>0.811855</td>\n",
       "      <td>0.815010</td>\n",
       "      <td>0.811702</td>\n",
       "      <td>0.002766</td>\n",
       "    </tr>\n",
       "    <tr>\n",
       "      <th>8</th>\n",
       "      <td>0.222072</td>\n",
       "      <td>0.002352</td>\n",
       "      <td>0.037234</td>\n",
       "      <td>1.695280e-03</td>\n",
       "      <td>0.01</td>\n",
       "      <td>{'alpha': 0.01}</td>\n",
       "      <td>0.666925</td>\n",
       "      <td>0.672811</td>\n",
       "      <td>0.673682</td>\n",
       "      <td>0.671139</td>\n",
       "      <td>0.003001</td>\n",
       "      <td>2</td>\n",
       "      <td>0.804169</td>\n",
       "      <td>0.807747</td>\n",
       "      <td>0.811200</td>\n",
       "      <td>0.807705</td>\n",
       "      <td>0.002870</td>\n",
       "    </tr>\n",
       "    <tr>\n",
       "      <th>0</th>\n",
       "      <td>0.195476</td>\n",
       "      <td>0.010648</td>\n",
       "      <td>0.042886</td>\n",
       "      <td>8.144907e-04</td>\n",
       "      <td>0.05</td>\n",
       "      <td>{'alpha': 0.05}</td>\n",
       "      <td>0.669683</td>\n",
       "      <td>0.675946</td>\n",
       "      <td>0.678604</td>\n",
       "      <td>0.674744</td>\n",
       "      <td>0.003740</td>\n",
       "      <td>1</td>\n",
       "      <td>0.788913</td>\n",
       "      <td>0.792102</td>\n",
       "      <td>0.796266</td>\n",
       "      <td>0.792427</td>\n",
       "      <td>0.003011</td>\n",
       "    </tr>\n",
       "    <tr>\n",
       "      <th>5</th>\n",
       "      <td>0.224066</td>\n",
       "      <td>0.011867</td>\n",
       "      <td>0.041223</td>\n",
       "      <td>3.290368e-03</td>\n",
       "      <td>0.5</td>\n",
       "      <td>{'alpha': 0.5}</td>\n",
       "      <td>0.643273</td>\n",
       "      <td>0.651581</td>\n",
       "      <td>0.657362</td>\n",
       "      <td>0.650739</td>\n",
       "      <td>0.005783</td>\n",
       "      <td>7</td>\n",
       "      <td>0.725179</td>\n",
       "      <td>0.724488</td>\n",
       "      <td>0.728080</td>\n",
       "      <td>0.725916</td>\n",
       "      <td>0.001556</td>\n",
       "    </tr>\n",
       "    <tr>\n",
       "      <th>1</th>\n",
       "      <td>0.192816</td>\n",
       "      <td>0.003673</td>\n",
       "      <td>0.042553</td>\n",
       "      <td>1.244049e-03</td>\n",
       "      <td>5</td>\n",
       "      <td>{'alpha': 5}</td>\n",
       "      <td>0.569709</td>\n",
       "      <td>0.581327</td>\n",
       "      <td>0.584682</td>\n",
       "      <td>0.578573</td>\n",
       "      <td>0.006415</td>\n",
       "      <td>9</td>\n",
       "      <td>0.606841</td>\n",
       "      <td>0.600539</td>\n",
       "      <td>0.600261</td>\n",
       "      <td>0.602547</td>\n",
       "      <td>0.003038</td>\n",
       "    </tr>\n",
       "    <tr>\n",
       "      <th>2</th>\n",
       "      <td>0.213761</td>\n",
       "      <td>0.037866</td>\n",
       "      <td>0.043884</td>\n",
       "      <td>3.551109e-03</td>\n",
       "      <td>10</td>\n",
       "      <td>{'alpha': 10}</td>\n",
       "      <td>0.553714</td>\n",
       "      <td>0.566980</td>\n",
       "      <td>0.568400</td>\n",
       "      <td>0.563031</td>\n",
       "      <td>0.006614</td>\n",
       "      <td>10</td>\n",
       "      <td>0.583148</td>\n",
       "      <td>0.575587</td>\n",
       "      <td>0.575396</td>\n",
       "      <td>0.578044</td>\n",
       "      <td>0.003610</td>\n",
       "    </tr>\n",
       "  </tbody>\n",
       "</table>\n",
       "</div>"
      ],
      "text/plain": [
       "   mean_fit_time  std_fit_time  mean_score_time  std_score_time param_alpha  \\\n",
       "7       0.211100      0.004976         0.038897    8.143934e-04     0.00001   \n",
       "6       0.215420      0.002154         0.038898    4.899036e-07      0.0001   \n",
       "4       0.268613      0.015708         0.041887    2.431402e-06      0.0005   \n",
       "3       0.281915      0.021179         0.047533    4.095996e-03       0.001   \n",
       "9       0.208440      0.008617         0.036570    4.019307e-03       0.005   \n",
       "8       0.222072      0.002352         0.037234    1.695280e-03        0.01   \n",
       "0       0.195476      0.010648         0.042886    8.144907e-04        0.05   \n",
       "5       0.224066      0.011867         0.041223    3.290368e-03         0.5   \n",
       "1       0.192816      0.003673         0.042553    1.244049e-03           5   \n",
       "2       0.213761      0.037866         0.043884    3.551109e-03          10   \n",
       "\n",
       "              params  split0_test_score  split1_test_score  split2_test_score  \\\n",
       "7   {'alpha': 1e-05}           0.641758           0.648195           0.648237   \n",
       "6  {'alpha': 0.0001}           0.648613           0.654837           0.654501   \n",
       "4  {'alpha': 0.0005}           0.654719           0.660811           0.660382   \n",
       "3   {'alpha': 0.001}           0.657599           0.663635           0.663294   \n",
       "9   {'alpha': 0.005}           0.664337           0.670219           0.670625   \n",
       "8    {'alpha': 0.01}           0.666925           0.672811           0.673682   \n",
       "0    {'alpha': 0.05}           0.669683           0.675946           0.678604   \n",
       "5     {'alpha': 0.5}           0.643273           0.651581           0.657362   \n",
       "1       {'alpha': 5}           0.569709           0.581327           0.584682   \n",
       "2      {'alpha': 10}           0.553714           0.566980           0.568400   \n",
       "\n",
       "   mean_test_score  std_test_score  rank_test_score  split0_train_score  \\\n",
       "7         0.646063        0.003044                8            0.822594   \n",
       "6         0.652651        0.002858                6            0.819965   \n",
       "4         0.658637        0.002776                5            0.816720   \n",
       "3         0.661509        0.002768                4            0.814765   \n",
       "9         0.668394        0.002873                3            0.808240   \n",
       "8         0.671139        0.003001                2            0.804169   \n",
       "0         0.674744        0.003740                1            0.788913   \n",
       "5         0.650739        0.005783                7            0.725179   \n",
       "1         0.578573        0.006415                9            0.606841   \n",
       "2         0.563031        0.006614               10            0.583148   \n",
       "\n",
       "   split1_train_score  split2_train_score  mean_train_score  std_train_score  \n",
       "7            0.826018            0.827684          0.825432         0.002119  \n",
       "6            0.823474            0.825499          0.822979         0.002286  \n",
       "4            0.820287            0.822681          0.819896         0.002450  \n",
       "3            0.818359            0.820949          0.818025         0.002536  \n",
       "9            0.811855            0.815010          0.811702         0.002766  \n",
       "8            0.807747            0.811200          0.807705         0.002870  \n",
       "0            0.792102            0.796266          0.792427         0.003011  \n",
       "5            0.724488            0.728080          0.725916         0.001556  \n",
       "1            0.600539            0.600261          0.602547         0.003038  \n",
       "2            0.575587            0.575396          0.578044         0.003610  "
      ]
     },
     "execution_count": 44,
     "metadata": {},
     "output_type": "execute_result"
    }
   ],
   "source": [
    "tfidf_tr = hstack((text_tfidf_tr,X_train_state,X_train_teacher,X_train_grade,X_train_categories,X_train_subcate,X_train_price_norm,X_train_num_norm)).tocsr()\n",
    "tfidf_te = hstack((text_tfidf_te,X_test_state,X_test_teacher,X_test_grade,X_test_categories,X_test_subcate,X_test_price_norm,X_test_num_norm)).tocsr()\n",
    "\n",
    "# Perform Hyperparameter Tuning.\n",
    "# Plot the training and the CV AUC scores, for different values of 'alpha', using a 2D line plot\n",
    "\n",
    "nb = MultinomialNB(class_prior=[0.5,0.5])\n",
    "parameters = {'alpha':[ 0.00001,0.0005, 0.0001,0.005,0.001,0.05,0.01,0.1,0.5,1,5,10]}\n",
    "clf = RandomizedSearchCV(nb, parameters, cv=3, scoring='roc_auc', n_jobs=-1, return_train_score=True)\n",
    "clf.fit(tfidf_tr, y_train)\n",
    "\n",
    "results = pd.DataFrame.from_dict(clf.cv_results_)\n",
    "results = results.sort_values(['param_alpha'])\n",
    "\n",
    "train_auc= results['mean_train_score']\n",
    "train_auc_std= results['std_train_score']\n",
    "cv_auc = results['mean_test_score'] \n",
    "cv_auc_std= results['std_test_score']\n",
    "alpha =  results['param_alpha']\n",
    "\n",
    "plt.plot(alpha, train_auc, label='Train AUC')\n",
    "plt.plot(alpha, cv_auc, label='CV AUC')\n",
    "\n",
    "plt.scatter(alpha, train_auc, label='Train AUC points')\n",
    "plt.scatter(alpha, cv_auc, label='CV AUC points')\n",
    "\n",
    "\n",
    "plt.legend()\n",
    "plt.xlabel(\"alpha: hyperparameter\")\n",
    "plt.ylabel(\"AUC\")\n",
    "plt.title(\"Hyper parameter Vs AUC plot\")\n",
    "plt.grid()\n",
    "plt.show()\n",
    "\n",
    "results"
   ]
  },
  {
   "cell_type": "code",
   "execution_count": 45,
   "metadata": {
    "scrolled": true
   },
   "outputs": [
    {
     "name": "stdout",
     "output_type": "stream",
     "text": [
      "14541 14541\n",
      "test=  0.6367788251788968\n",
      "train=  0.6966581930857327\n"
     ]
    },
    {
     "data": {
      "image/png": "[encoded data removed]",
      "text/plain": [
       "<Figure size 432x288 with 1 Axes>"
      ]
     },
     "metadata": {
      "needs_background": "light"
     },
     "output_type": "display_data"
    },
    {
     "name": "stdout",
     "output_type": "stream",
     "text": [
      "[2 1 0] [2 1 0]\n"
     ]
    }
   ],
   "source": [
    "# Obtain the optimal value for 'alpha' and using the obtained optimal 'alpha' value, fit a multinomial naive bayes model, on the train data,\n",
    "# Note: If you have split the datase into 3 parts (ie., train, cv and test sets) in the beginning, then the training datafor this final model would be (train set + cv set)\n",
    "# Make class label and probability predictions on the train and test data.\n",
    "print(tfidf_te.shape[1],tfidf_tr.shape[1])\n",
    "nb=MultinomialNB(alpha=0.05, class_prior=[0.5, 0.5], fit_prior=True)\n",
    "nb.fit(tfidf_tr, y_train)\n",
    "y_pred_class_test = nb.predict(tfidf_te)\n",
    "print(\"test= \",metrics.roc_auc_score(y_test, y_pred_class_test))\n",
    "fpr, tpr, th_tfidf = metrics.roc_curve(y_test, y_pred_class_test)\n",
    "roc_auc_test = metrics.auc(fpr, tpr)\n",
    "\n",
    "y_pred_class_train = nb.predict(tfidf_tr)\n",
    "print(\"train= \",metrics.roc_auc_score(y_train, y_pred_class_train))\n",
    "fpr_1, tpr_1, th_tfidf_1 = metrics.roc_curve(y_train, y_pred_class_train)\n",
    "roc_auc_train = metrics.auc(fpr_1, tpr_1)\n",
    "\n",
    "plt.title('Receiver Operating Characteristic')\n",
    "plt.plot(fpr, tpr, 'b', label = 'AUC test = %0.2f' % roc_auc_test)\n",
    "plt.plot(fpr_1, tpr_1, 'y', label = 'AUC train= %0.2f' % roc_auc_train)\n",
    "plt.legend(loc = 'lower right')\n",
    "plt.plot([0, 1], [0, 1],'r--')\n",
    "plt.xlim([0, 1])\n",
    "plt.ylim([0, 1])\n",
    "plt.ylabel('True Positive Rate (TPR)')\n",
    "plt.xlabel('False Positive Rate (FPR)')\n",
    "plt.show()\n",
    "\n",
    "print(th_tfidf,th_tfidf_1)"
   ]
  },
  {
   "cell_type": "code",
   "execution_count": null,
   "metadata": {},
   "outputs": [],
   "source": [
    "# Plot the ROC-AUC curves using the probability predictions made on train and test data.\n"
   ]
  },
  {
   "cell_type": "code",
   "execution_count": 46,
   "metadata": {},
   "outputs": [
    {
     "name": "stdout",
     "output_type": "stream",
     "text": [
      "[[ 2943  2020]\n",
      " [ 8884 18928]]\n"
     ]
    },
    {
     "data": {
      "image/png": "[encoded data removed]",
      "text/plain": [
       "<Figure size 432x288 with 2 Axes>"
      ]
     },
     "metadata": {
      "needs_background": "light"
     },
     "output_type": "display_data"
    }
   ],
   "source": [
    "# Pick the best threshold among the probability estimates, such that it has to yield maximum value for TPR*(1-FPR)\n",
    "# Plot the confusion matrices(each for train and test data) afer encoding the predicted class labels, on the basis of the best threshod probability estimate.\n",
    "cm0 = metrics.confusion_matrix(y_test, y_pred_class_test)\n",
    "cm1 = metrics.confusion_matrix(y_train, y_pred_class_train)\n",
    "\n",
    "ax= plt.subplot();\n",
    "sns.heatmap(cm0, annot=True,cmap='Blues',ax=ax);\n",
    "# labels, title and ticks\n",
    "ax.set_xlabel('Predicted values');ax.set_ylabel('Actual values'); \n",
    "ax.set_ylim(2.0, 0)\n",
    "ax.set_title('Confusion Matrix of test data');\n",
    "ax.xaxis.set_ticklabels(['0','1']); \n",
    "ax.yaxis.set_ticklabels(['0','1']);\n",
    "print(cm0)"
   ]
  },
  {
   "cell_type": "code",
   "execution_count": 47,
   "metadata": {},
   "outputs": [
    {
     "name": "stdout",
     "output_type": "stream",
     "text": [
      "[[ 8050  3529]\n",
      " [19592 45302]]\n"
     ]
    },
    {
     "data": {
      "image/png": "[encoded data removed]",
      "text/plain": [
       "<Figure size 432x288 with 2 Axes>"
      ]
     },
     "metadata": {
      "needs_background": "light"
     },
     "output_type": "display_data"
    }
   ],
   "source": [
    "ax= plt.subplot();\n",
    "sns.heatmap(cm1, annot=True,cmap='Oranges',ax=ax);\n",
    "# labels, title and ticks\n",
    "ax.set_xlabel('Predicted values');ax.set_ylabel('Actual values'); \n",
    "ax.set_ylim(2.0, 0)\n",
    "ax.set_title('Confusion Matrix of train data');\n",
    "ax.xaxis.set_ticklabels(['0','1']); \n",
    "ax.yaxis.set_ticklabels(['0','1']);\n",
    "print(cm1)"
   ]
  },
  {
   "cell_type": "code",
   "execution_count": 50,
   "metadata": {},
   "outputs": [
    {
     "name": "stdout",
     "output_type": "stream",
     "text": [
      "[[14539], [14539], [14493], [14503], [14498], [14502], [14493], [14494], [14520], [14521], [14520], [14494], [14500, 14525], [14497], [14444], [12443], [14493], [14497], [14492], [14490]]\n",
      "This are the top 20 features:-  ['price', 'mrs', 'history_civics', 'grades_9_12', 'health_sports', 'mrs', 'ms', 'financialliteracy', 'foreignlanguages', 'financialliteracy', 'ms', 'appliedlearning', 'history_geography', 'grades_6_8', 'ca', 'students', 'mrs', 'grades_6_8', 'mr', 'wy']\n"
     ]
    }
   ],
   "source": [
    "# Either from set 1 (or) set 2, print the names of the top 20 features associated with the positive and negative classes each. (You have to print the names of the features, but not the indexes)\n",
    "k=nb.feature_log_prob_\n",
    "a=k[0,:]\n",
    "b=k[1,:]\n",
    "ind=[]\n",
    "for i in range(20):                    #picking top feature\n",
    "    index=np.where(a==np.max(a))\n",
    "    a = np.delete(a, index)\n",
    "    ind.append(index[0].tolist())      #removing other info(datatype)\n",
    "\n",
    "list_w=words+w1+w2+w3+w4+w5            #adding all the features into 1 list in proper order\n",
    "list_w.append(\"price\")\n",
    "list_w.append(\"teacher_number_of_previously_posted_projects\")\n",
    "a=k[0,:]\n",
    "imp_f=[]\n",
    "print(ind)\n",
    "for i in ind:  \n",
    "    if len(i)>0:\n",
    "        for j in i:\n",
    "               imp_f.append(list_w[j])\n",
    "    #imp_f.append(list_w[i[0]])\n",
    "    \n",
    "print(\"This are the top 20 features:- \",imp_f[1:])"
   ]
  },
  {
   "cell_type": "markdown",
   "metadata": {
    "id": "lS9hIHdib3dp"
   },
   "source": [
    "<h1>3. Summary</h1>\n",
    "\n",
    "<br> as mentioned in the step 5 of instructions"
   ]
  },
  {
   "cell_type": "code",
   "execution_count": 51,
   "metadata": {},
   "outputs": [
    {
     "name": "stdout",
     "output_type": "stream",
     "text": [
      "+------------+-------------+-----------------+--------+\n",
      "| Vectorizer |    Model    | Hyper parameter |  AUC   |\n",
      "+------------+-------------+-----------------+--------+\n",
      "|    BOW     | naive Bayes |       0.05      | 0.661  |\n",
      "|   TFIDF    | naive Bayes |       0.5       | 0.6367 |\n",
      "+------------+-------------+-----------------+--------+\n"
     ]
    }
   ],
   "source": [
    "# Summarize your assignment work here in a few points, and also compare the final models (from set 1 and set 2), in terms of optimal hyperparameter value 'alpha', training AUC and test AUC scores.\n",
    "# You can either use a pretty table or any other tabular structure.\n",
    "# Reference Link for Pretty table:  https://pypi.org/project/prettytable/\n",
    "from prettytable import PrettyTable\n",
    "x = PrettyTable()\n",
    "x.field_names = [\"Vectorizer\", \"Model\", \"Hyper parameter\",\"AUC\"]\n",
    "x.add_row([\"BOW\", \"naive Bayes\", 0.05, 0.6610])\n",
    "x.add_row([\"TFIDF\", \"naive Bayes\", 0.5, 0.6367])\n",
    "print(x)"
   ]
  },
  {
   "cell_type": "code",
   "execution_count": null,
   "metadata": {},
   "outputs": [],
   "source": []
  }
 ],
 "metadata": {
  "colab": {
   "collapsed_sections": [],
   "name": "6_Assignment_NB_Instructions.ipynb",
   "provenance": []
  },
  "kernelspec": {
   "display_name": "Python 3",
   "language": "python",
   "name": "python3"
  },
  "language_info": {
   "codemirror_mode": {
    "name": "ipython",
    "version": 3
   },
   "file_extension": ".py",
   "mimetype": "text/x-python",
   "name": "python",
   "nbconvert_exporter": "python",
   "pygments_lexer": "ipython3",
   "version": "3.8.8"
  }
 },
 "nbformat": 4,
 "nbformat_minor": 1
}
