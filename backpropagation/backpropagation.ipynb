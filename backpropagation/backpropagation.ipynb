{
 "cells": [
  {
   "cell_type": "code",
   "execution_count": 76,
   "id": "af05acff",
   "metadata": {},
   "outputs": [
    {
     "name": "stdout",
     "output_type": "stream",
     "text": [
      "(506, 6)\n",
      "(506, 5) (506,)\n"
     ]
    }
   ],
   "source": [
    "import pickle\n",
    "import numpy as np\n",
    "from tqdm import tqdm\n",
    "import matplotlib.pyplot as plt\n",
    "from sklearn.metrics import mean_squared_error\n",
    "\n",
    "with open('data.pkl', 'rb') as f:\n",
    "    data = pickle.load(f)\n",
    "print(data.shape)\n",
    "X = data[:, :5]\n",
    "y = data[:, -1]\n",
    "print(X.shape, y.shape)"
   ]
  },
  {
   "cell_type": "code",
   "execution_count": 4,
   "id": "01cfa590",
   "metadata": {},
   "outputs": [],
   "source": [
    "def sigmoid(z):\n",
    "    '''In this function, we will compute the sigmoid(z)'''\n",
    "    # we can use this function in forward and backward propagation\n",
    "    # write the code to compute the sigmoid value of z and return that value \n",
    "    s=1/(1+(np.exp(-z)))\n",
    "    return s"
   ]
  },
  {
   "cell_type": "code",
   "execution_count": 5,
   "id": "ce6d77cb",
   "metadata": {},
   "outputs": [
    {
     "data": {
      "text/plain": [
       "True"
      ]
     },
     "execution_count": 5,
     "metadata": {},
     "output_type": "execute_result"
    }
   ],
   "source": [
    "def grader_sigmoid(z):\n",
    "  #if you have written the code correctly then the grader function will output true\n",
    "  val=sigmoid(z)\n",
    "  assert(val==0.8807970779778823)\n",
    "  return True\n",
    "grader_sigmoid(2)"
   ]
  },
  {
   "cell_type": "markdown",
   "id": "0a49820e",
   "metadata": {},
   "source": [
    "# <font color='red'>Task 1.1 </font>"
   ]
  },
  {
   "cell_type": "markdown",
   "id": "2bbcaa69",
   "metadata": {},
   "source": [
    "## <font color='blue'>Backward propagation</font>"
   ]
  },
  {
   "cell_type": "code",
   "execution_count": 6,
   "id": "4c3eb074",
   "metadata": {},
   "outputs": [],
   "source": [
    "def forward_propagation(x, y, w):\n",
    "        '''In this function, we will compute the forward propagation '''\n",
    "        \n",
    "        val_1= (w[0]*x[0]+w[1]*x[1]) * (w[0]*x[0]+w[1]*x[1]) + w[5]\n",
    "        part_1 = np.exp(val_1)\n",
    "        \n",
    "        part_2 = np.tanh(part_1 + w[6])\n",
    "        \n",
    "        temp = np.sin(x[2]*w[2])\n",
    "        temp1 = (w[3]*x[3] + w[4]*x[4])\n",
    "        part_3 = sigmoid((temp * temp1) + w[7])\n",
    "        \n",
    "        y_= (w[8] * part_3) + part_2\n",
    "        \n",
    "        L=np.power((y_ - y),2)\n",
    "        \n",
    "        dl=2*(y_ - y)\n",
    "        \n",
    "        forward_dict={}\n",
    "        forward_dict['exp']= part_1\n",
    "        forward_dict['sigmoid'] = part_3\n",
    "        forward_dict['tanh'] = part_2\n",
    "        forward_dict['loss'] = L\n",
    "        forward_dict['dy_pred'] = dl\n",
    "        \n",
    "        return forward_dict"
   ]
  },
  {
   "cell_type": "code",
   "execution_count": 7,
   "id": "f735d53b",
   "metadata": {},
   "outputs": [
    {
     "name": "stdout",
     "output_type": "stream",
     "text": [
      "True -1.9285278284819143\n",
      "True\n",
      "True\n",
      "True\n",
      "True\n"
     ]
    },
    {
     "data": {
      "text/plain": [
       "True"
      ]
     },
     "execution_count": 7,
     "metadata": {},
     "output_type": "execute_result"
    }
   ],
   "source": [
    "def grader_forwardprop(data):\n",
    "    dl = (data['dy_pred']==-1.9285278284819143)\n",
    "    print(dl,data['dy_pred'])\n",
    "    loss=(data['loss']==0.9298048963072919)\n",
    "    print(loss)\n",
    "    part1=(data['exp']==1.1272967040973583)\n",
    "    print(part1)\n",
    "    part2=(data['tanh']==0.8417934192562146)\n",
    "    print(part2)\n",
    "    part3=(data['sigmoid']==0.5279179387419721)\n",
    "    print(part3)\n",
    "    assert(dl and loss and part1 and part2 and part3)\n",
    "    return True\n",
    "w=np.ones(9)*0.1\n",
    "d1=forward_propagation(X[0],y[0],w)\n",
    "grader_forwardprop(d1)"
   ]
  },
  {
   "cell_type": "markdown",
   "id": "899f1fbc",
   "metadata": {},
   "source": [
    "# <font color='red'>Task 1.2 </font>"
   ]
  },
  {
   "cell_type": "markdown",
   "id": "8b2c1249",
   "metadata": {},
   "source": [
    " ## <font color='blue'>Gradient clipping</font>"
   ]
  },
  {
   "cell_type": "code",
   "execution_count": 8,
   "id": "8ba73813",
   "metadata": {},
   "outputs": [],
   "source": [
    "def backward_propagation(x,y,w,forward_dict):\n",
    "    d=forward_dict\n",
    "    '''In this function, we will compute the backward propagation '''\n",
    "    # forward_dict: the outputs of the forward_propagation() function\n",
    "    # write code to compute the gradients of each weight [w1,w2,w3,...,w9]\n",
    "    # Hint: you can use dict type to store the required variables \n",
    "    dw1 = d['dy_pred']*(1-np.power(d['tanh'],2))*d['exp'] * 2*((x[1]*w[1])+(x[0]*w[0]))*x[0]     # in dw1 compute derivative of L w.r.to w1\n",
    "    dw2 = d['dy_pred']*(1-np.power(d['tanh'],2))*d['exp'] * 2*((x[1]*w[1])+(x[0]*w[0]))*x[1]     # in dw2 compute derivative of L w.r.to w2\n",
    "    dw3 = d['dy_pred']*d['sigmoid']*(1-d['sigmoid'])*w[8] * (w[4]*x[4]+w[3]*x[3])*np.cos(x[2]*w[2])*x[2]      # in dw3 compute derivative of L w.r.to w3\n",
    "    dw4 = d['dy_pred']*d['sigmoid']*(1-d['sigmoid'])*w[8] * (np.sin(w[2]*x[2])*x[3])  # in dw4 compute derivative of L w.r.to w4\n",
    "    dw5 = d['dy_pred']*d['sigmoid']*(1-d['sigmoid'])*w[8] * (np.sin(w[2]*x[2])*x[4])  # in dw5 compute derivative of L w.r.to w5\n",
    "    dw6 = d['dy_pred']*(1-np.power(d['tanh'],2))*d['exp']                             # in dw6 compute derivative of L w.r.to w6\n",
    "    dw7 = d['dy_pred']*(1-np.power(d['tanh'],2))                                      # in dw7 compute derivative of L w.r.to w7\n",
    "    dw8 = d['dy_pred']*d['sigmoid']*(1-d['sigmoid'])*w[8]                             # in dw8 compute derivative of L w.r.to w8\n",
    "    dw9 = d['dy_pred']*d['sigmoid']                                                   # in dw9 compute derivative of L w.r.to w9\n",
    "    \n",
    "    \n",
    "    backward_dict={}\n",
    "    backward_dict['dw1']=dw1\n",
    "    backward_dict['dw2']=dw2\n",
    "    backward_dict['dw3']=dw3\n",
    "    backward_dict['dw4']=dw4\n",
    "    backward_dict['dw5']=dw5\n",
    "    backward_dict['dw6']=dw6\n",
    "    backward_dict['dw7']=dw7\n",
    "    backward_dict['dw8']=dw8\n",
    "    backward_dict['dw9']=dw9\n",
    "    \n",
    "    #store the variables dw1,dw2 etc. in a dict as backward_dict['dw1']= dw1,backward_dict['dw2']= dw2...\n",
    "    \n",
    "    \n",
    "    return backward_dict"
   ]
  },
  {
   "cell_type": "code",
   "execution_count": 9,
   "id": "3aea5839",
   "metadata": {},
   "outputs": [
    {
     "name": "stdout",
     "output_type": "stream",
     "text": [
      "True -0.22973323498702\n",
      "True -0.02140761471775293\n",
      "True -0.00562540558026632\n",
      "True -0.004657941222712424\n",
      "True -0.0010077228498574248\n",
      "True -0.6334751873437471\n",
      "True -0.561941842854033\n",
      "True -0.04806288407316517\n",
      "True -1.0181044360187037\n"
     ]
    },
    {
     "data": {
      "text/plain": [
       "True"
      ]
     },
     "execution_count": 9,
     "metadata": {},
     "output_type": "execute_result"
    }
   ],
   "source": [
    "def grader_backprop(data):\n",
    "    dw1=(np.round(data['dw1'],6)==-0.229733)\n",
    "    print(dw1,data['dw1'])\n",
    "    dw2=(np.round(data['dw2'],6)==-0.021408)\n",
    "    print(dw2,data['dw2'])\n",
    "    dw3=(np.round(data['dw3'],6)==-0.005625)\n",
    "    print(dw3,data['dw3'])\n",
    "    dw4=(np.round(data['dw4'],6)==-0.004658)\n",
    "    print(dw4,data['dw4'])\n",
    "    dw5=(np.round(data['dw5'],6)==-0.001008)\n",
    "    print(dw5,data['dw5'])\n",
    "    dw6=(np.round(data['dw6'],6)==-0.633475)\n",
    "    print(dw6,data['dw6'])\n",
    "    dw7=(np.round(data['dw7'],6)==-0.561942)\n",
    "    print(dw7,data['dw7'])\n",
    "    dw8=(np.round(data['dw8'],6)==-0.048063)\n",
    "    print(dw8,data['dw8'])\n",
    "    dw9=(np.round(data['dw9'],6)==-1.018104)\n",
    "    print(dw9,data['dw9'])\n",
    "    assert(dw1 and dw2 and dw3 and dw4 and dw5 and dw6 and dw7 and dw8 and dw9)\n",
    "    return True \n",
    "w=np.ones(9)*0.1\n",
    "#print(w,X[0],y[0])\n",
    "forward_dict=forward_propagation(X[0],y[0],w)\n",
    "backward_dict=backward_propagation(X[0],y[0],w,forward_dict)\n",
    "grader_backprop(backward_dict)"
   ]
  },
  {
   "cell_type": "markdown",
   "id": "02f16db9",
   "metadata": {},
   "source": [
    "# <font color='red'>Task 1.3 </font>"
   ]
  },
  {
   "cell_type": "markdown",
   "id": "a7f27c04",
   "metadata": {},
   "source": [
    "## <font color='red'> Implementing Gradient checking </font> <br>"
   ]
  },
  {
   "cell_type": "code",
   "execution_count": 16,
   "id": "7ed33024",
   "metadata": {},
   "outputs": [],
   "source": [
    "w=np.ones(9)*0.1"
   ]
  },
  {
   "cell_type": "code",
   "execution_count": 18,
   "id": "138e5f13",
   "metadata": {},
   "outputs": [
    {
     "data": {
      "text/plain": [
       "array([5.80331065e-10, 4.44245958e-07, 5.84661166e-08, 4.41923914e-07,\n",
       "       7.55104149e-07, 2.44617120e-08, 1.55706680e-07, 4.91602262e-08,\n",
       "       1.13187430e-08])"
      ]
     },
     "execution_count": 18,
     "metadata": {},
     "output_type": "execute_result"
    }
   ],
   "source": [
    "def gradient_checking(x,y,w,eps):\n",
    "    w1=w.copy()\n",
    "    forward_dict=forward_propagation(x,y,w)\n",
    "    backward_dict=backward_propagation(x,y,w,forward_dict)\n",
    "    true_grad_list=list(backward_dict.values())\n",
    "    \n",
    "    approx_gradients=[]\n",
    "    gradient_check_value=[]\n",
    "    for i in range(len(w)):\n",
    "        w[i]=w1[i]+eps\n",
    "        L=forward_propagation(x,y,w)\n",
    "        loss1=L['loss']\n",
    "        \n",
    "        w[i]=w1[i]-eps\n",
    "        L=forward_propagation(x,y,w)\n",
    "        loss2=L['loss']\n",
    "        \n",
    "        temp=(loss1-loss2)/(2*eps)\n",
    "        #print(temp)\n",
    "        #print(np.linalg.norm(temp-true_grad_list[i]))\n",
    "        #print(np.linalg.norm(temp+true_grad_list[i]))\n",
    "        #print(true_grad_list[i])\n",
    " \n",
    "        temp_1=np.linalg.norm(true_grad_list[i]-temp)\n",
    "        temp_2=np.linalg.norm(true_grad_list[i])+np.linalg.norm(temp)\n",
    "        diff=temp_1/temp_2\n",
    "        \n",
    "        gradient_check_value.append(float(diff))\n",
    "  \n",
    "\n",
    "    return np.array(gradient_check_value)\n",
    "    \n",
    "    \n",
    "gradient_checking(X[0],y[0],w,1e-7)"
   ]
  },
  {
   "cell_type": "code",
   "execution_count": 19,
   "id": "6da7e620",
   "metadata": {},
   "outputs": [
    {
     "name": "stdout",
     "output_type": "stream",
     "text": [
      "[1.73921918e-08 1.28741906e-05 2.55164399e-04 1.05871856e-05\n",
      " 1.95446016e-04 1.16536595e-10 9.63625495e-08 1.06774471e-07\n",
      " 1.43339489e-08]\n"
     ]
    },
    {
     "data": {
      "text/plain": [
       "True"
      ]
     },
     "execution_count": 19,
     "metadata": {},
     "output_type": "execute_result"
    }
   ],
   "source": [
    "def grader_grad_check(value):\n",
    "    print(value)\n",
    "    assert(np.all(value <= (10**-3)))\n",
    "    return True \n",
    "\n",
    "w=[ 0.00271756,  0.01260512,  0.00167639, -0.00207756,  0.00720768,\n",
    "   0.00114524,  0.00684168,  0.02242521,  0.01296444]\n",
    "\n",
    "eps=10**-7\n",
    "value= gradient_checking(X[0],y[0],w,eps)\n",
    "grader_grad_check(value)"
   ]
  },
  {
   "cell_type": "markdown",
   "id": "c2d04a6c",
   "metadata": {},
   "source": [
    "# <font color='red'> Task 2 : Optimizers </font>"
   ]
  },
  {
   "cell_type": "markdown",
   "id": "9b0117f4",
   "metadata": {},
   "source": [
    "### <font color='blue'>2.1 Algorithm with Vanilla update of weights</font>"
   ]
  },
  {
   "cell_type": "code",
   "execution_count": 57,
   "id": "2b67c585",
   "metadata": {},
   "outputs": [],
   "source": [
    "epoch=100\n",
    "rate=.001\n",
    "mu, sigma = 0, 0.01 \n",
    "w = np.random.normal(mu, sigma, 9) "
   ]
  },
  {
   "cell_type": "code",
   "execution_count": 60,
   "id": "f2ddf9c8",
   "metadata": {},
   "outputs": [
    {
     "name": "stderr",
     "output_type": "stream",
     "text": [
      "100%|████████████████████████████████████████████████████████████████████████████████| 100/100 [00:02<00:00, 45.01it/s]"
     ]
    },
    {
     "name": "stdout",
     "output_type": "stream",
     "text": [
      "loss in each epoch\n",
      "[11.913097160676717, 8.668846763910661, 6.822014217081387, 5.6051733655386915, 4.806760421784106, 4.294798677843243, 3.972374749335032, 3.7715198497709674, 3.647144324443328, 3.570369814210726, 3.523052810140151, 3.4939084733777444, 3.475954873961866, 3.464884428743048, 3.4580435176349447, 3.4537986470631195, 3.4511445279785136, 3.4494623486728178, 3.4483708953524665, 3.4476349299290705, 3.4471088269043983, 3.446701904121958, 3.44635709366979, 3.446037812685753, 3.445719872641714, 3.4453864832671046, 3.4450251561134664, 3.444625773205779, 3.4441793693256377, 3.443677350561668, 3.4431109788763257, 3.4424710184260467, 3.4417474801342753, 3.4409294263378905, 3.440004813232719, 3.438960359047683, 3.4377814326761515, 3.4364519623048704, 3.434954367282667, 3.433269519594828, 3.4313767441601235, 3.429253869890757, 3.4268773460631583, 3.4242224409288937, 3.42126354140998, 3.417974573788768, 3.4143295649847603, 3.410303361624135, 3.405872518849428, 3.4010163618438254, 3.3957182096199063, 3.389966732346241, 3.3837573906027756, 3.3770938787270417, 3.369989467446825, 3.362468117425065, 3.3545652206569727, 3.346327826996701, 3.3378142339233188, 3.3290928619735416, 3.320240404709891, 3.3113393237152327, 3.3024748435943696, 3.29373167372803, 3.2851907274405723, 3.2769261149746325, 3.2690026519869013, 3.261474057000745, 3.2543819233079616, 3.2477554602228427, 3.2416119208670495, 3.2359575792851074, 3.2307890926217615, 3.226095082363385, 3.221857786290738, 3.2180546622094988, 3.214659858473949, 3.211645499145856, 3.2089827597308167, 3.2066427311186074, 3.2045970844029013, 3.2028185583829125, 3.2012812959287955, 3.1999610563060332, 3.1988353291756884, 3.1978833732779957, 3.1970861994849336, 3.1964265144663626, 3.1958886379635674, 3.1954584037712825, 3.195123052065373, 3.194871118685647, 3.194692325360766, 3.1945774735962846, 3.194518343981446, 3.194507601950909, 3.1945387105136196, 3.19460585009, 3.1947038453436116, 3.194828098726371]\n"
     ]
    },
    {
     "name": "stderr",
     "output_type": "stream",
     "text": [
      "\n"
     ]
    }
   ],
   "source": [
    "loss=[]\n",
    "for i in tqdm(range(epoch)):\n",
    "    y_=[]\n",
    "    for j in range(len(X)):\n",
    "        d1=forward_propagation(X[j],y[j],w)\n",
    "        d2=backward_propagation(X[j],y[j],w,d1)\n",
    "        y_.append(d1['dy_pred'])\n",
    "        \n",
    "        for k in range(len(w)):\n",
    "            w[k]=w[k]-rate*d2[\"dw\"+str(k+1)]\n",
    "        \n",
    "        \n",
    "    temp=mean_squared_error(y,y_)\n",
    "        \n",
    "    loss.append(temp)\n",
    "        \n",
    "\n",
    "print(\"loss in each epoch\")        \n",
    "print(loss)\n",
    "x1=loss            "
   ]
  },
  {
   "cell_type": "markdown",
   "id": "f31e6461",
   "metadata": {},
   "source": [
    "graph of epoch vs loss of vanilla update\n"
   ]
  },
  {
   "cell_type": "code",
   "execution_count": 83,
   "id": "394db710",
   "metadata": {},
   "outputs": [
    {
     "data": {
      "image/png": "[encoded data removed]",
      "text/plain": [
       "<Figure size 432x288 with 1 Axes>"
      ]
     },
     "metadata": {
      "needs_background": "light"
     },
     "output_type": "display_data"
    }
   ],
   "source": [
    "# importing the required module\n",
    "import matplotlib.pyplot as plt\n",
    "\n",
    "# x axis values\n",
    "x = np.arange(100)\n",
    "# corresponding y axis values\n",
    "y = x1\n",
    "  \n",
    "plt.xlabel('epochs')\n",
    "plt.ylabel('loss')\n",
    "# plotting the points \n",
    "plt.plot(x, y)\n",
    "plt.title('vanilla update')\n",
    "plt.show()"
   ]
  },
  {
   "cell_type": "markdown",
   "id": "30c1f59f",
   "metadata": {},
   "source": [
    "### <font color='blue'>2.2 Algorithm with Momentum update of weights</font>"
   ]
  },
  {
   "cell_type": "code",
   "execution_count": 71,
   "id": "bee52081",
   "metadata": {},
   "outputs": [],
   "source": [
    "epoch=100\n",
    "rate=.001\n",
    "m=np.zeros(9)\n",
    "b=.9\n",
    "mu, sigma = 0, 0.01 \n",
    "w = np.random.normal(mu, sigma, 9) "
   ]
  },
  {
   "cell_type": "code",
   "execution_count": 72,
   "id": "22406594",
   "metadata": {
    "collapsed": true
   },
   "outputs": [
    {
     "name": "stderr",
     "output_type": "stream",
     "text": [
      "100%|████████████████████████████████████████████████████████████████████████████████| 100/100 [00:02<00:00, 39.29it/s]"
     ]
    },
    {
     "name": "stdout",
     "output_type": "stream",
     "text": [
      "loss in each epoch\n",
      "[11.995807016498198, 8.69782013721598, 6.844529884016981, 5.6215884221287915, 4.817444591999517, 4.3012934826368525, 3.976292508940195, 3.774044239552315, 3.649005895963141, 3.5719712070910554, 3.5245945581866978, 3.4954780870541535, 3.477581523362545, 3.466569788230848, 3.4597780297877616, 3.4555695009023513, 3.4529391890936587, 3.4512698338105268, 3.4501819836889003, 3.449441929007824, 3.4489051955760335, 3.448481868190702, 3.4481153059525056, 3.447769069435636, 3.4474188813510542, 3.4470476711299614, 3.446642507817187, 3.4461926881662293, 3.445688530532766, 3.4451205992375336, 3.4444791909562187, 3.44375398043615, 3.4429337634196497, 3.4420062598819765, 3.440957956598267, 3.4397739783468992, 3.438437984019534, 3.43693208894701, 3.4352368187203086, 3.433331103193206, 3.43119232246333, 3.4287964195298652, 3.4261180969511558, 3.4231311169586105, 3.419808725750509, 3.4161242225496875, 3.4120516917603774, 3.407566911364931, 3.402648441671143, 3.3972788848576787, 3.391446286999482, 3.38514563056795, 3.3783803380080575, 3.3711636785165813, 3.363519944813903, 3.3554852502281505, 3.347107795300064, 3.3384474733262994, 3.329574729297003, 3.320568655578365, 3.311514393560135, 3.3025000005751486, 3.293613019121223, 3.284937034293108, 3.2765485136847556, 3.268514188762938, 3.2608891646334848, 3.253715851023971, 3.24702370968418, 3.240829729348754, 3.235139480596501, 3.229948573880739, 3.2252443425882573, 3.22100759263818, 3.2172142924589364, 3.2138371142000746, 3.2108467725629173, 3.208213137781385, 3.2059061222941194, 3.203896356373464, 3.2021556772788036, 3.2006574607177813, 3.199376823957429, 3.198290728115453, 3.197378004017808, 3.196619322294749, 3.195997124620243, 3.19549552949172, 3.1951002228629504, 3.1947983413435592, 3.194578353560273, 3.1944299435965604, 3.194343899130124, 3.1943120059087073, 3.19432694948318, 3.1943822245980176, 3.19447205227711, 3.194591304399263, 3.1947354354019666, 3.1949004206600873]\n"
     ]
    },
    {
     "name": "stderr",
     "output_type": "stream",
     "text": [
      "\n"
     ]
    }
   ],
   "source": [
    "loss=[]\n",
    "for i in tqdm(range(epoch)):\n",
    "    y_=[]\n",
    "    for j in range(len(X)):\n",
    "        d1=forward_propagation(X[j],y[j],w)\n",
    "        d2=backward_propagation(X[j],y[j],w,d1)\n",
    "        y_.append(d1['dy_pred'])\n",
    "        \n",
    "        for k in range(len(w)):\n",
    "            m[k]=b*m[k]+(1-b)*d2[\"dw\"+str(k+1)]\n",
    "            w[k]=w[k]-rate*m[k]\n",
    "\n",
    "    temp=mean_squared_error(y,y_)\n",
    "        \n",
    "    loss.append(temp)\n",
    "    \n",
    "print(\"loss in each epoch\")  \n",
    "print(loss)\n",
    "x2=loss"
   ]
  },
  {
   "cell_type": "markdown",
   "id": "6bf51c54",
   "metadata": {},
   "source": [
    "graph of epoch vs loss of momentum update"
   ]
  },
  {
   "cell_type": "code",
   "execution_count": 84,
   "id": "28c17b84",
   "metadata": {},
   "outputs": [
    {
     "data": {
      "image/png": "[encoded data removed]",
      "text/plain": [
       "<Figure size 432x288 with 1 Axes>"
      ]
     },
     "metadata": {
      "needs_background": "light"
     },
     "output_type": "display_data"
    }
   ],
   "source": [
    "# importing the required module\n",
    "import matplotlib.pyplot as plt\n",
    "\n",
    "# x axis values\n",
    "x = np.arange(100)\n",
    "# corresponding y axis values\n",
    "y = x2\n",
    "  \n",
    "plt.xlabel('epochs')\n",
    "plt.ylabel('loss')\n",
    "# plotting the points \n",
    "plt.plot(x, y)\n",
    "plt.title('momentum update')\n",
    "plt.show()"
   ]
  },
  {
   "cell_type": "markdown",
   "id": "e0802911",
   "metadata": {},
   "source": [
    "### <font color='blue'>2.3 Algorithm with Adam update of weights</font>"
   ]
  },
  {
   "cell_type": "code",
   "execution_count": 77,
   "id": "af9655f2",
   "metadata": {},
   "outputs": [],
   "source": [
    "epoch=100\n",
    "rate=.001\n",
    "m=np.zeros(9)\n",
    "b1=.9\n",
    "b2=0.999\n",
    "v=np.zeros(9)\n",
    "z=1e-8\n",
    "mu, sigma = 0, 0.01 \n",
    "w = np.random.normal(mu, sigma, 9) "
   ]
  },
  {
   "cell_type": "code",
   "execution_count": 78,
   "id": "f6a9f3e3",
   "metadata": {},
   "outputs": [
    {
     "name": "stderr",
     "output_type": "stream",
     "text": [
      "100%|████████████████████████████████████████████████████████████████████████████████| 100/100 [00:05<00:00, 19.63it/s]"
     ]
    },
    {
     "name": "stdout",
     "output_type": "stream",
     "text": [
      "loss in each epoch\n",
      "[10.746224386037596, 7.723895321428921, 6.131030366353513, 5.027418728195767, 4.264382214122441, 3.7597583841475073, 3.453726128398432, 3.291823754129469, 3.221164449464829, 3.1973633818903235, 3.1920288613494217, 3.1921448238220598, 3.193492875429781, 3.194949326752782, 3.1961470310259315, 3.1969914645093627, 3.197549312669766, 3.197930386151326, 3.198211962352964, 3.198430896362008, 3.198603023174109, 3.1987379156055713, 3.1988437941600107, 3.19892710943811, 3.1989915777131275, 3.199038912957896, 3.1990704649297146, 3.199088358760244, 3.19909583350861, 3.19909692306684, 3.199095622491747, 3.1990949070218013, 3.1990960505640915, 3.1990985774866902, 3.199101026657231, 3.1991023807096113, 3.19910321576037, 3.19910505081804, 3.199108660012865, 3.1991136403490703, 3.1991186373131195, 3.1991227504911204, 3.1991271380150614, 3.199132070883476, 3.199135476870036, 3.1991359013998397, 3.199134053466453, 3.1991321596365054, 3.19913095944656, 3.1991324471997618, 3.1991432994654136, 3.1991474176384154, 3.1991396088674127, 3.199136232209136, 3.199140380276963, 3.1991435712818532, 3.1991406164873823, 3.199138789382026, 3.1991407992306637, 3.1991420377685587, 3.1991405705002176, 3.199139919340938, 3.199141044853731, 3.199141400341779, 3.199140546831168, 3.1991403932064175, 3.199141068484786, 3.1991410907371485, 3.1991405558259784, 3.199140606260383, 3.1991410404360097, 3.1991409267089947, 3.199140573385415, 3.199140723828923, 3.199141012712122, 3.1991408253752738, 3.199140595051835, 3.1991408111190434, 3.1991409884738826, 3.1991407485379497, 3.199140628342088, 3.199140893422411, 3.199140956503897, 3.199140681702191, 3.1991406871443626, 3.1991409749362716, 3.1991409004718148, 3.1991406281243293, 3.1991407870699162, 3.199141040887793, 3.1991408058109334, 3.1991406104764817, 3.1991409355019242, 3.199141056433901, 3.199140673028469, 3.1991406709939354, 3.1991411129014886, 3.1991409738006533, 3.199140538535136, 3.1991408569368995]\n"
     ]
    },
    {
     "name": "stderr",
     "output_type": "stream",
     "text": [
      "\n"
     ]
    }
   ],
   "source": [
    "loss=[]\n",
    "for i in tqdm(range(epoch)):\n",
    "    y_=[]\n",
    "    for j in range(len(X)):\n",
    "        d1=forward_propagation(X[j],y[j],w)\n",
    "        d2=backward_propagation(X[j],y[j],w,d1)\n",
    "        y_.append(d1['dy_pred'])\n",
    "        \n",
    "        for k in range(len(w)):\n",
    "            m[k]=b1*m[k]+(1-b1)*d2[\"dw\"+str(k+1)]\n",
    "            v[k]=b2*v[k]+(1-b2)*np.power(d2[\"dw\"+str(k+1)],2)\n",
    "            mt=m[k]/(1-b1)\n",
    "            vt=v[k]/(1-b2)\n",
    "            w[k]=w[k]-(rate/(np.sqrt(vt)+z))*mt\n",
    "\n",
    "\n",
    "            \n",
    "\n",
    "    temp=mean_squared_error(y,y_)\n",
    "        \n",
    "    loss.append(temp)\n",
    "\n",
    "print(\"loss in each epoch\")\n",
    "print(loss)\n",
    "x3=loss"
   ]
  },
  {
   "cell_type": "markdown",
   "id": "68a5f193",
   "metadata": {},
   "source": [
    "graph of epochs vs loss in adam update"
   ]
  },
  {
   "cell_type": "code",
   "execution_count": 85,
   "id": "db40b393",
   "metadata": {},
   "outputs": [
    {
     "data": {
      "image/png": "[encoded data removed]",
      "text/plain": [
       "<Figure size 432x288 with 1 Axes>"
      ]
     },
     "metadata": {
      "needs_background": "light"
     },
     "output_type": "display_data"
    }
   ],
   "source": [
    "# importing the required module\n",
    "import matplotlib.pyplot as plt\n",
    "\n",
    "# x axis values\n",
    "x = np.arange(100)\n",
    "# corresponding y axis values\n",
    "y = x3\n",
    "  \n",
    "plt.xlabel('epochs')\n",
    "plt.ylabel('loss')\n",
    "# plotting the points \n",
    "plt.plot(x, y)\n",
    "plt.title('adam update')\n",
    "plt.show()"
   ]
  },
  {
   "cell_type": "code",
   "execution_count": 87,
   "id": "92fb3f7d",
   "metadata": {},
   "outputs": [
    {
     "data": {
      "image/png": "[encoded data removed]",
      "text/plain": [
       "<Figure size 432x288 with 1 Axes>"
      ]
     },
     "metadata": {
      "needs_background": "light"
     },
     "output_type": "display_data"
    }
   ],
   "source": [
    "import matplotlib.pyplot as plt\n",
    "\n",
    "# x axis values\n",
    "x = np.arange(100)\n",
    "# corresponding y axis values\n",
    "y_3 = x3\n",
    "y_2 = x2\n",
    "y_1 = x1\n",
    "  \n",
    "plt.xlabel('epochs')\n",
    "plt.ylabel('loss')\n",
    "# plotting the points \n",
    "plt.plot(x, y_3,label = \"adam update\")\n",
    "plt.plot(x, y_2,label = \"momentum update\")\n",
    "plt.plot(x, y_1,label = \"vanilla update\")\n",
    "\n",
    "plt.legend()\n",
    "plt.title('all the updates')\n",
    "\n",
    "plt.show()"
   ]
  },
  {
   "cell_type": "code",
   "execution_count": null,
   "id": "50e8baa8",
   "metadata": {},
   "outputs": [],
   "source": []
  }
 ],
 "metadata": {
  "kernelspec": {
   "display_name": "Python 3 (ipykernel)",
   "language": "python",
   "name": "python3"
  },
  "language_info": {
   "codemirror_mode": {
    "name": "ipython",
    "version": 3
   },
   "file_extension": ".py",
   "mimetype": "text/x-python",
   "name": "python",
   "nbconvert_exporter": "python",
   "pygments_lexer": "ipython3",
   "version": "3.8.13"
  }
 },
 "nbformat": 4,
 "nbformat_minor": 5
}
