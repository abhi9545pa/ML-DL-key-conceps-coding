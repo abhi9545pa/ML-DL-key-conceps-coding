{
 "cells": [
  {
   "cell_type": "code",
   "execution_count": 1,
   "id": "c6490915",
   "metadata": {},
   "outputs": [
    {
     "name": "stderr",
     "output_type": "stream",
     "text": [
      "[nltk_data] Downloading package vader_lexicon to\n",
      "[nltk_data]     C:\\Users\\abhis\\AppData\\Roaming\\nltk_data...\n",
      "[nltk_data]   Package vader_lexicon is already up-to-date!\n"
     ]
    }
   ],
   "source": [
    "%matplotlib inline\n",
    "import warnings\n",
    "warnings.filterwarnings(\"ignore\")\n",
    "\n",
    "import pandas as pd\n",
    "import numpy as np\n",
    "import math as m\n",
    "import matplotlib.pyplot as plt\n",
    "import seaborn as sns\n",
    "import nltk\n",
    "import re\n",
    "\n",
    "from sklearn.feature_extraction.text import TfidfVectorizer\n",
    "from sklearn.feature_extraction.text import CountVectorizer\n",
    "from sklearn.preprocessing import Normalizer\n",
    "from sklearn.metrics import confusion_matrix\n",
    "from sklearn.model_selection import train_test_split\n",
    "from sklearn import metrics\n",
    "from sklearn.metrics import roc_curve, auc\n",
    "from tqdm import tqdm\n",
    "import nltk\n",
    "\n",
    "nltk.download('vader_lexicon')\n",
    "from nltk.sentiment.vader import SentimentIntensityAnalyzer\n",
    "sid = SentimentIntensityAnalyzer()\n",
    "import pickle"
   ]
  },
  {
   "cell_type": "markdown",
   "id": "89375f24",
   "metadata": {},
   "source": [
    "# 1. Loading Data set\n"
   ]
  },
  {
   "cell_type": "code",
   "execution_count": 2,
   "id": "d38efe7d",
   "metadata": {
    "collapsed": true
   },
   "outputs": [
    {
     "data": {
      "text/html": [
       "<div>\n",
       "<style scoped>\n",
       "    .dataframe tbody tr th:only-of-type {\n",
       "        vertical-align: middle;\n",
       "    }\n",
       "\n",
       "    .dataframe tbody tr th {\n",
       "        vertical-align: top;\n",
       "    }\n",
       "\n",
       "    .dataframe thead th {\n",
       "        text-align: right;\n",
       "    }\n",
       "</style>\n",
       "<table border=\"1\" class=\"dataframe\">\n",
       "  <thead>\n",
       "    <tr style=\"text-align: right;\">\n",
       "      <th></th>\n",
       "      <th>school_state</th>\n",
       "      <th>teacher_prefix</th>\n",
       "      <th>project_grade_category</th>\n",
       "      <th>teacher_number_of_previously_posted_projects</th>\n",
       "      <th>project_is_approved</th>\n",
       "      <th>clean_categories</th>\n",
       "      <th>clean_subcategories</th>\n",
       "      <th>essay</th>\n",
       "      <th>price</th>\n",
       "    </tr>\n",
       "  </thead>\n",
       "  <tbody>\n",
       "    <tr>\n",
       "      <th>0</th>\n",
       "      <td>ca</td>\n",
       "      <td>mrs</td>\n",
       "      <td>grades_prek_2</td>\n",
       "      <td>53</td>\n",
       "      <td>1</td>\n",
       "      <td>math_science</td>\n",
       "      <td>appliedsciences health_lifescience</td>\n",
       "      <td>i fortunate enough use fairy tale stem kits cl...</td>\n",
       "      <td>725.05</td>\n",
       "    </tr>\n",
       "    <tr>\n",
       "      <th>1</th>\n",
       "      <td>ut</td>\n",
       "      <td>ms</td>\n",
       "      <td>grades_3_5</td>\n",
       "      <td>4</td>\n",
       "      <td>1</td>\n",
       "      <td>specialneeds</td>\n",
       "      <td>specialneeds</td>\n",
       "      <td>imagine 8 9 years old you third grade classroo...</td>\n",
       "      <td>213.03</td>\n",
       "    </tr>\n",
       "    <tr>\n",
       "      <th>2</th>\n",
       "      <td>ca</td>\n",
       "      <td>mrs</td>\n",
       "      <td>grades_prek_2</td>\n",
       "      <td>10</td>\n",
       "      <td>1</td>\n",
       "      <td>literacy_language</td>\n",
       "      <td>literacy</td>\n",
       "      <td>having class 24 students comes diverse learner...</td>\n",
       "      <td>329.00</td>\n",
       "    </tr>\n",
       "  </tbody>\n",
       "</table>\n",
       "</div>"
      ],
      "text/plain": [
       "  school_state teacher_prefix project_grade_category  \\\n",
       "0           ca            mrs          grades_prek_2   \n",
       "1           ut             ms             grades_3_5   \n",
       "2           ca            mrs          grades_prek_2   \n",
       "\n",
       "   teacher_number_of_previously_posted_projects  project_is_approved  \\\n",
       "0                                            53                    1   \n",
       "1                                             4                    1   \n",
       "2                                            10                    1   \n",
       "\n",
       "    clean_categories                 clean_subcategories  \\\n",
       "0       math_science  appliedsciences health_lifescience   \n",
       "1       specialneeds                        specialneeds   \n",
       "2  literacy_language                            literacy   \n",
       "\n",
       "                                               essay   price  \n",
       "0  i fortunate enough use fairy tale stem kits cl...  725.05  \n",
       "1  imagine 8 9 years old you third grade classroo...  213.03  \n",
       "2  having class 24 students comes diverse learner...  329.00  "
      ]
     },
     "execution_count": 2,
     "metadata": {},
     "output_type": "execute_result"
    }
   ],
   "source": [
    "data  = pd.read_csv('preprocessed_data.csv',nrows=35000)\n",
    "data.head(3)"
   ]
  },
  {
   "cell_type": "code",
   "execution_count": 4,
   "id": "78c64a3f",
   "metadata": {},
   "outputs": [
    {
     "data": {
      "text/plain": [
       "((23450, 8),\n",
       " 'train-x',\n",
       " (23450,),\n",
       " 'train-y',\n",
       " (11550, 8),\n",
       " 'test-x',\n",
       " (11550,),\n",
       " 'test-y')"
      ]
     },
     "execution_count": 4,
     "metadata": {},
     "output_type": "execute_result"
    }
   ],
   "source": [
    "X=data.drop(['project_is_approved'],axis=1)\n",
    "Y=data['project_is_approved'].values\n",
    "\n",
    "X_train,X_test,Y_train,Y_test=train_test_split(X,Y,test_size=0.33,stratify=Y,random_state=42)\n",
    "\n",
    "X_train.shape,'train-x',Y_train.shape,'train-y',X_test.shape,'test-x',Y_test.shape,'test-y'"
   ]
  },
  {
   "cell_type": "markdown",
   "id": "eed3f872",
   "metadata": {},
   "source": [
    "# 2. Categorical data set handling"
   ]
  },
  {
   "cell_type": "markdown",
   "id": "7943cc1d",
   "metadata": {},
   "source": [
    "### 2.1 Response coding"
   ]
  },
  {
   "cell_type": "code",
   "execution_count": 5,
   "id": "7db3b14f",
   "metadata": {
    "collapsed": true
   },
   "outputs": [
    {
     "name": "stderr",
     "output_type": "stream",
     "text": [
      "100%|████████████████████████████████████████████████████████████████████████████████████| 4/4 [00:00<00:00, 58.16it/s]\n",
      " 39%|███████████████████████████████▊                                                 | 20/51 [00:00<00:00, 194.61it/s]"
     ]
    },
    {
     "name": "stdout",
     "output_type": "stream",
     "text": [
      "+------------------------+--------------------+---------------------+\n",
      "| project_grade_category |      class 1       |       class 0       |\n",
      "+------------------------+--------------------+---------------------+\n",
      "|       grades_3_5       | 0.8530190344132106 | 0.14698096558678936 |\n",
      "|       grades_6_8       | 0.8352322524101665 | 0.16476774758983348 |\n",
      "|      grades_9_12       | 0.8461538461538461 | 0.15384615384615385 |\n",
      "|     grades_prek_2      | 0.8453110865413609 | 0.15468891345863905 |\n",
      "+------------------------+--------------------+---------------------+\n"
     ]
    },
    {
     "name": "stderr",
     "output_type": "stream",
     "text": [
      "100%|█████████████████████████████████████████████████████████████████████████████████| 51/51 [00:00<00:00, 193.66it/s]\n",
      "100%|███████████████████████████████████████████████████████████████████████████████████| 5/5 [00:00<00:00, 172.59it/s]\n",
      " 49%|███████████████████████████████████████▌                                         | 21/43 [00:00<00:00, 200.45it/s]"
     ]
    },
    {
     "name": "stdout",
     "output_type": "stream",
     "text": [
      "+--------------+--------------------+----------------------+\n",
      "| school_state |      class 1       |       class 0        |\n",
      "+--------------+--------------------+----------------------+\n",
      "|      in      | 0.8613861386138614 | 0.13861386138613863  |\n",
      "|      ny      | 0.8614130434782609 | 0.13858695652173914  |\n",
      "|      sc      | 0.8513824884792627 | 0.14861751152073732  |\n",
      "|      tn      | 0.8489702517162472 | 0.15102974828375287  |\n",
      "|      nc      | 0.8397129186602871 | 0.16028708133971292  |\n",
      "|      ca      | 0.8696081659532433 | 0.13039183404675667  |\n",
      "|      la      | 0.800531914893617  | 0.19946808510638298  |\n",
      "|      ma      | 0.833648393194707  |  0.166351606805293   |\n",
      "|      tx      | 0.8045454545454546 | 0.19545454545454546  |\n",
      "|      co      | 0.8207171314741036 | 0.17928286852589642  |\n",
      "|      mi      | 0.8421828908554573 | 0.15781710914454278  |\n",
      "|      ut      | 0.849624060150376  | 0.15037593984962405  |\n",
      "|      mo      | 0.8690095846645367 | 0.13099041533546327  |\n",
      "|      fl      |  0.84363894811656  | 0.15636105188343993  |\n",
      "|      wi      | 0.8296089385474861 | 0.17039106145251395  |\n",
      "|      al      | 0.8481012658227848 |  0.1518987341772152  |\n",
      "|      ms      | 0.8120300751879699 | 0.18796992481203006  |\n",
      "|      az      | 0.8459958932238193 |  0.1540041067761807  |\n",
      "|      ok      | 0.8212180746561886 |  0.1787819253438114  |\n",
      "|      il      | 0.8480749219562955 | 0.15192507804370448  |\n",
      "|      ar      | 0.8646288209606987 | 0.13537117903930132  |\n",
      "|      ga      | 0.8329545454545455 | 0.16704545454545455  |\n",
      "|      md      | 0.8099173553719008 | 0.19008264462809918  |\n",
      "|      ct      | 0.8461538461538461 | 0.15384615384615385  |\n",
      "|      va      |      0.84375       |       0.15625        |\n",
      "|      nv      | 0.8403908794788274 | 0.15960912052117263  |\n",
      "|      oh      | 0.864321608040201  |  0.135678391959799   |\n",
      "|      or      | 0.8847926267281107 |  0.1152073732718894  |\n",
      "|      wa      | 0.8694817658349329 | 0.13051823416506717  |\n",
      "|      ia      | 0.8475609756097561 |  0.1524390243902439  |\n",
      "|      nj      |       0.835        |        0.165         |\n",
      "|      id      | 0.9313725490196079 | 0.06862745098039216  |\n",
      "|      ne      | 0.835820895522388  | 0.16417910447761194  |\n",
      "|      de      | 0.8878504672897196 | 0.11214953271028037  |\n",
      "|      ky      | 0.8593155893536122 | 0.14068441064638784  |\n",
      "|      dc      |      0.84375       |       0.15625        |\n",
      "|      pa      | 0.851528384279476  | 0.14847161572052403  |\n",
      "|      wv      | 0.8098591549295775 | 0.19014084507042253  |\n",
      "|      hi      | 0.8780487804878049 | 0.12195121951219512  |\n",
      "|      sd      | 0.8405797101449275 | 0.15942028985507245  |\n",
      "|      vt      | 0.782608695652174  | 0.21739130434782608  |\n",
      "|      mn      | 0.8306451612903226 |  0.1693548387096774  |\n",
      "|      mt      |        0.84        |         0.16         |\n",
      "|      ks      | 0.8652482269503546 |  0.1347517730496454  |\n",
      "|      me      | 0.8584905660377359 | 0.14150943396226415  |\n",
      "|      ri      | 0.8771929824561403 | 0.12280701754385964  |\n",
      "|      nd      | 0.9411764705882353 | 0.058823529411764705 |\n",
      "|      nm      | 0.8503937007874016 | 0.14960629921259844  |\n",
      "|      ak      | 0.8809523809523809 | 0.11904761904761904  |\n",
      "|      nh      | 0.9016393442622951 | 0.09836065573770492  |\n",
      "|      wy      |        0.75        |         0.25         |\n",
      "+--------------+--------------------+----------------------+\n",
      "+----------------+--------------------+---------------------+\n",
      "| teacher_prefix |      class 1       |       class 0       |\n",
      "+----------------+--------------------+---------------------+\n",
      "|       ms       | 0.8404434803567125 | 0.15955651964328754 |\n",
      "|      mrs       | 0.8525732383214568 | 0.14742676167854316 |\n",
      "|       mr       | 0.8542589857213195 | 0.14574101427868044 |\n",
      "|    teacher     | 0.7622950819672131 | 0.23770491803278687 |\n",
      "|       dr       | 0.6666666666666666 |  0.3333333333333333 |\n",
      "+----------------+--------------------+---------------------+\n"
     ]
    },
    {
     "name": "stderr",
     "output_type": "stream",
     "text": [
      "100%|█████████████████████████████████████████████████████████████████████████████████| 43/43 [00:00<00:00, 199.61it/s]\n",
      "  7%|█████▌                                                                          | 22/318 [00:00<00:01, 214.16it/s]"
     ]
    },
    {
     "name": "stdout",
     "output_type": "stream",
     "text": [
      "+-----------------------------------+--------------------+----------------------+\n",
      "|          clean_categories         |      class 1       |       class 0        |\n",
      "+-----------------------------------+--------------------+----------------------+\n",
      "|           health_sports           | 0.8555090655509066 | 0.14449093444909344  |\n",
      "|            math_science           | 0.817046518888542  |  0.182953481111458   |\n",
      "|             music_arts            | 0.8656084656084656 |  0.1343915343915344  |\n",
      "|         literacy_language         | 0.8590004063388866 | 0.14099959366111336  |\n",
      "|   math_science literacy_language  | 0.8620689655172413 | 0.13793103448275862  |\n",
      "|    math_science history_civics    |       0.875        |        0.125         |\n",
      "|   literacy_language math_science  | 0.8617807778849245 | 0.13821922211507554  |\n",
      "|    appliedlearning specialneeds   | 0.8051948051948052 | 0.19480519480519481  |\n",
      "|    appliedlearning math_science   | 0.8010204081632653 |  0.1989795918367347  |\n",
      "|           history_civics          | 0.8376811594202899 | 0.16231884057971013  |\n",
      "|          appliedlearning          | 0.8058124174372523 | 0.19418758256274768  |\n",
      "|    literacy_language music_arts   | 0.8345498783454988 |  0.1654501216545012  |\n",
      "|   appliedlearning health_sports   | 0.8655913978494624 | 0.13440860215053763  |\n",
      "| appliedlearning literacy_language | 0.884990253411306  | 0.11500974658869395  |\n",
      "|            specialneeds           | 0.8181818181818182 | 0.18181818181818182  |\n",
      "|    math_science appliedlearning   | 0.8177339901477833 | 0.18226600985221675  |\n",
      "|  literacy_language history_civics | 0.8409090909090909 |  0.1590909090909091  |\n",
      "|     appliedlearning music_arts    | 0.8273381294964028 | 0.17266187050359713  |\n",
      "|  history_civics literacy_language | 0.8552631578947368 | 0.14473684210526316  |\n",
      "|   literacy_language specialneeds  | 0.8617571059431525 | 0.13824289405684753  |\n",
      "|      math_science music_arts      |       0.792        |        0.208         |\n",
      "|     math_science health_sports    | 0.7931034482758621 | 0.20689655172413793  |\n",
      "|     math_science specialneeds     | 0.8371428571428572 | 0.16285714285714287  |\n",
      "| literacy_language appliedlearning | 0.8581560283687943 | 0.14184397163120568  |\n",
      "|     health_sports specialneeds    | 0.8882521489971347 | 0.11174785100286533  |\n",
      "|  health_sports literacy_language  | 0.8554216867469879 | 0.14457831325301204  |\n",
      "|     history_civics music_arts     | 0.8983050847457628 |  0.1016949152542373  |\n",
      "|   appliedlearning history_civics  | 0.8181818181818182 | 0.18181818181818182  |\n",
      "|     health_sports math_science    | 0.7530864197530864 | 0.24691358024691357  |\n",
      "|    history_civics math_science    | 0.7777777777777778 |  0.2222222222222222  |\n",
      "|      health_sports music_arts     |        0.8         |         0.2          |\n",
      "|      music_arts specialneeds      | 0.9565217391304348 | 0.043478260869565216 |\n",
      "|   health_sports appliedlearning   | 0.8297872340425532 |  0.1702127659574468  |\n",
      "|   history_civics appliedlearning  | 0.8333333333333334 | 0.16666666666666666  |\n",
      "|    history_civics specialneeds    | 0.7058823529411765 | 0.29411764705882354  |\n",
      "|      specialneeds music_arts      | 0.864406779661017  | 0.13559322033898305  |\n",
      "|    health_sports history_civics   |        0.75        |         0.25         |\n",
      "|  literacy_language health_sports  | 0.7058823529411765 | 0.29411764705882354  |\n",
      "|     specialneeds health_sports    |       0.875        |        0.125         |\n",
      "|     music_arts history_civics     |        0.8         |         0.2          |\n",
      "|      music_arts health_sports     | 0.5555555555555556 |  0.4444444444444444  |\n",
      "|     music_arts appliedlearning    | 0.6666666666666666 |  0.3333333333333333  |\n",
      "|    history_civics health_sports   |        1.0         |         0.0          |\n",
      "+-----------------------------------+--------------------+----------------------+\n"
     ]
    },
    {
     "name": "stderr",
     "output_type": "stream",
     "text": [
      "100%|███████████████████████████████████████████████████████████████████████████████| 318/318 [00:01<00:00, 199.16it/s]"
     ]
    },
    {
     "name": "stdout",
     "output_type": "stream",
     "text": [
      "+-----------------------------------------+--------------------+----------------------+\n",
      "|           clean_subcategories           |      class 1       |       class 0        |\n",
      "+-----------------------------------------+--------------------+----------------------+\n",
      "|             health_wellness             | 0.8756944444444444 | 0.12430555555555556  |\n",
      "| environmentalscience health_lifescience |        0.79        |         0.21         |\n",
      "|                visualarts               | 0.8449197860962567 | 0.15508021390374332  |\n",
      "|               esl literacy              | 0.8509615384615384 | 0.14903846153846154  |\n",
      "|                 literacy                | 0.8862433862433863 | 0.11375661375661375  |\n",
      "|        performingarts visualarts        | 0.7391304347826086 |  0.2608695652173913  |\n",
      "|            literature_writing           | 0.8474923234390993 | 0.15250767656090072  |\n",
      "|  health_lifescience literature_writing  | 0.8775510204081632 | 0.12244897959183673  |\n",
      "|   health_lifescience history_geography  | 0.7647058823529411 | 0.23529411764705882  |\n",
      "|               mathematics               | 0.814638783269962  | 0.18536121673003803  |\n",
      "|      literature_writing mathematics     | 0.8639097744360902 | 0.13609022556390976  |\n",
      "|      earlydevelopment specialneeds      | 0.8222222222222222 | 0.17777777777777778  |\n",
      "|       earlydevelopment mathematics      |        0.85        |         0.15         |\n",
      "|            history_geography            | 0.8080808080808081 |  0.1919191919191919  |\n",
      "|               gym_fitness               | 0.867816091954023  | 0.13218390804597702  |\n",
      "| environmentalscience literature_writing |        0.8         |         0.2          |\n",
      "|           literacy mathematics          | 0.8614035087719298 | 0.13859649122807016  |\n",
      "|   charactereducation earlydevelopment   | 0.8292682926829268 | 0.17073170731707318  |\n",
      "|       gym_fitness health_wellness       | 0.8672055427251733 | 0.13279445727482678  |\n",
      "|   appliedsciences environmentalscience  | 0.7647058823529411 | 0.23529411764705882  |\n",
      "|      literature_writing visualarts      | 0.8141025641025641 |  0.1858974358974359  |\n",
      "|            nutritioneducation           | 0.7884615384615384 | 0.21153846153846154  |\n",
      "|     earlydevelopment health_wellness    |       0.875        |        0.125         |\n",
      "|             appliedsciences             | 0.8222222222222222 | 0.17777777777777778  |\n",
      "|                   esl                   | 0.7746478873239436 | 0.22535211267605634  |\n",
      "|       literacy literature_writing       | 0.8455538221528861 |  0.1544461778471139  |\n",
      "|           literacy visualarts           | 0.8345323741007195 | 0.16546762589928057  |\n",
      "|                  music                  | 0.8641114982578397 | 0.13588850174216027  |\n",
      "|       charactereducation literacy       |        0.9         |         0.1          |\n",
      "|               specialneeds              | 0.8181818181818182 | 0.18181818181818182  |\n",
      "|    appliedsciences college_careerprep   | 0.7887323943661971 |  0.2112676056338028  |\n",
      "|          esl literature_writing         | 0.7861635220125787 |  0.2138364779874214  |\n",
      "|        earlydevelopment literacy        | 0.8922155688622755 | 0.10778443113772455  |\n",
      "|          earlydevelopment other         | 0.7714285714285715 | 0.22857142857142856  |\n",
      "|   environmentalscience socialsciences   |        0.95        |         0.05         |\n",
      "|         appliedsciences literacy        | 0.8455284552845529 | 0.15447154471544716  |\n",
      "|         literacy socialsciences         | 0.8620689655172413 | 0.13793103448275862  |\n",
      "|          appliedsciences other          | 0.8260869565217391 | 0.17391304347826086  |\n",
      "|     history_geography socialsciences    | 0.9027777777777778 | 0.09722222222222222  |\n",
      "|     earlydevelopment performingarts     |        1.0         |         0.0          |\n",
      "|    health_wellness nutritioneducation   | 0.8352601156069365 | 0.16473988439306358  |\n",
      "|       appliedsciences mathematics       | 0.8236173393124065 | 0.17638266068759342  |\n",
      "|   civics_government literature_writing  | 0.8571428571428571 | 0.14285714285714285  |\n",
      "|     literature_writing specialneeds     | 0.825925925925926  | 0.17407407407407408  |\n",
      "|             music visualarts            | 0.8888888888888888 |  0.1111111111111111  |\n",
      "|          mathematics visualarts         | 0.7402597402597403 |  0.2597402597402597  |\n",
      "|     environmentalscience gym_fitness    |        1.0         |         0.0          |\n",
      "|          gym_fitness teamsports         | 0.7246376811594203 |  0.2753623188405797  |\n",
      "|          literacy specialneeds          | 0.8763326226012793 | 0.12366737739872068  |\n",
      "|        health_wellness teamsports       | 0.8181818181818182 | 0.18181818181818182  |\n",
      "|           environmentalscience          | 0.8523489932885906 |  0.1476510067114094  |\n",
      "|         mathematics specialneeds        | 0.8127853881278538 |  0.1872146118721461  |\n",
      "|  environmentalscience history_geography | 0.9166666666666666 | 0.08333333333333333  |\n",
      "|           esl earlydevelopment          | 0.9047619047619048 | 0.09523809523809523  |\n",
      "|   history_geography literature_writing  | 0.8145161290322581 | 0.18548387096774194  |\n",
      "|       health_wellness specialneeds      | 0.8775510204081632 | 0.12244897959183673  |\n",
      "|      college_careerprep mathematics     | 0.7708333333333334 | 0.22916666666666666  |\n",
      "|                teamsports               | 0.8252427184466019 | 0.17475728155339806  |\n",
      "|              socialsciences             | 0.8222222222222222 | 0.17777777777777778  |\n",
      "|                  other                  | 0.7967914438502673 | 0.20320855614973263  |\n",
      "|      health_lifescience mathematics     |        0.83        |         0.17         |\n",
      "|    health_wellness literature_writing   | 0.9120879120879121 | 0.08791208791208792  |\n",
      "|    literature_writing socialsciences    | 0.8636363636363636 | 0.13636363636363635  |\n",
      "|            health_lifescience           | 0.8958333333333334 | 0.10416666666666667  |\n",
      "|    health_lifescience health_wellness   | 0.7804878048780488 | 0.21951219512195122  |\n",
      "|             earlydevelopment            | 0.7906976744186046 | 0.20930232558139536  |\n",
      "|            charactereducation           | 0.8157894736842105 | 0.18421052631578946  |\n",
      "|      college_careerprep visualarts      |        0.92        |         0.08         |\n",
      "|          esl health_lifescience         | 0.8888888888888888 |  0.1111111111111111  |\n",
      "|       appliedsciences specialneeds      | 0.9295774647887324 | 0.07042253521126761  |\n",
      "|  charactereducation literature_writing  |        0.8         |         0.2          |\n",
      "|   civics_government history_geography   | 0.7777777777777778 |  0.2222222222222222  |\n",
      "|        foreignlanguages literacy        | 0.8333333333333334 | 0.16666666666666666  |\n",
      "|      foreignlanguages specialneeds      |        1.0         |         0.0          |\n",
      "|     environmentalscience mathematics    | 0.7702702702702703 | 0.22972972972972974  |\n",
      "|           appliedsciences esl           | 0.9285714285714286 | 0.07142857142857142  |\n",
      "|        mathematics socialsciences       | 0.8823529411764706 | 0.11764705882352941  |\n",
      "|             esl mathematics             | 0.8775510204081632 | 0.12244897959183673  |\n",
      "|       civics_government visualarts      |        1.0         |         0.0          |\n",
      "|    college_careerprep socialsciences    | 0.7142857142857143 |  0.2857142857142857  |\n",
      "|         esl environmentalscience        |        0.75        |         0.25         |\n",
      "|       health_wellness mathematics       |        0.75        |         0.25         |\n",
      "|     health_lifescience specialneeds     | 0.7777777777777778 |  0.2222222222222222  |\n",
      "|           music performingarts          | 0.9144385026737968 |  0.0855614973262032  |\n",
      "|  communityservice environmentalscience  |        1.0         |         0.0          |\n",
      "|   earlydevelopment literature_writing   | 0.8222222222222222 | 0.17777777777777778  |\n",
      "|            other specialneeds           | 0.8484848484848485 | 0.15151515151515152  |\n",
      "|       health_lifescience literacy       | 0.9487179487179487 | 0.05128205128205128  |\n",
      "|      history_geography mathematics      | 0.8333333333333334 | 0.16666666666666666  |\n",
      "|       college_careerprep literacy       | 0.9272727272727272 | 0.07272727272727272  |\n",
      "|        health_wellness visualarts       | 0.8181818181818182 | 0.18181818181818182  |\n",
      "|          appliedsciences music          | 0.7777777777777778 |  0.2222222222222222  |\n",
      "|     appliedsciences health_wellness     |        1.0         |         0.0          |\n",
      "|       performingarts specialneeds       |        1.0         |         0.0          |\n",
      "|    appliedsciences health_lifescience   | 0.8257575757575758 | 0.17424242424242425  |\n",
      "|          charactereducation esl         |        0.4         |         0.6          |\n",
      "|     charactereducation specialneeds     |        0.75        |         0.25         |\n",
      "|         health_wellness literacy        | 0.831081081081081  | 0.16891891891891891  |\n",
      "|      financialliteracy mathematics      |       0.625        |        0.375         |\n",
      "|      health_lifescience visualarts      |       0.8125       |        0.1875        |\n",
      "|          health_wellness other          | 0.813953488372093  | 0.18604651162790697  |\n",
      "|  civics_government environmentalscience | 0.6666666666666666 |  0.3333333333333333  |\n",
      "|   literature_writing parentinvolvement  | 0.8333333333333334 | 0.16666666666666666  |\n",
      "|      communityservice specialneeds      |        0.8         |         0.2          |\n",
      "|             economics other             |        1.0         |         0.0          |\n",
      "|     college_careerprep specialneeds     | 0.6666666666666666 |  0.3333333333333333  |\n",
      "|      environmentalscience literacy      | 0.8482142857142857 | 0.15178571428571427  |\n",
      "|        history_geography literacy       | 0.8653846153846154 |  0.1346153846153846  |\n",
      "|     civics_government socialsciences    | 0.8421052631578947 | 0.15789473684210525  |\n",
      "|      history_geography specialneeds     | 0.7619047619047619 | 0.23809523809523808  |\n",
      "|    college_careerprep health_wellness   |        0.8         |         0.2          |\n",
      "|    literature_writing performingarts    |       0.875        |        0.125         |\n",
      "|        civics_government literacy       | 0.918918918918919  | 0.08108108108108109  |\n",
      "|    charactereducation health_wellness   | 0.8108108108108109 |  0.1891891891891892  |\n",
      "|    appliedsciences literature_writing   | 0.8470588235294118 | 0.15294117647058825  |\n",
      "|   environmentalscience health_wellness  | 0.8235294117647058 | 0.17647058823529413  |\n",
      "|      appliedsciences socialsciences     |        1.0         |         0.0          |\n",
      "| environmentalscience nutritioneducation | 0.6470588235294118 | 0.35294117647058826  |\n",
      "|  college_careerprep literature_writing  | 0.9672131147540983 | 0.03278688524590164  |\n",
      "|             extracurricular             |        0.75        |         0.25         |\n",
      "|    appliedsciences parentinvolvement    |        0.75        |         0.25         |\n",
      "|             esl specialneeds            | 0.9354838709677419 | 0.06451612903225806  |\n",
      "|         specialneeds visualarts         | 0.864406779661017  | 0.13559322033898305  |\n",
      "|            parentinvolvement            |        1.0         |         0.0          |\n",
      "|        appliedsciences visualarts       | 0.7931034482758621 | 0.20689655172413793  |\n",
      "|            college_careerprep           | 0.873015873015873  | 0.12698412698412698  |\n",
      "|       history_geography visualarts      | 0.9210526315789473 | 0.07894736842105263  |\n",
      "|        gym_fitness performingarts       | 0.6666666666666666 |  0.3333333333333333  |\n",
      "| charactereducation environmentalscience |        0.75        |         0.25         |\n",
      "|              literacy other             | 0.8958333333333334 | 0.10416666666666667  |\n",
      "|         literacy performingarts         | 0.8235294117647058 | 0.17647058823529413  |\n",
      "|        extracurricular visualarts       | 0.9166666666666666 | 0.08333333333333333  |\n",
      "|   communityservice health_lifescience   | 0.6666666666666666 |  0.3333333333333333  |\n",
      "|  charactereducation college_careerprep  | 0.7435897435897436 |  0.2564102564102564  |\n",
      "|   college_careerprep earlydevelopment   | 0.8333333333333334 | 0.16666666666666666  |\n",
      "|   charactereducation history_geography  |        0.5         |         0.5          |\n",
      "|            mathematics other            | 0.7619047619047619 | 0.23809523809523808  |\n",
      "|        environmentalscience other       |        1.0         |         0.0          |\n",
      "|         college_careerprep other        | 0.7058823529411765 | 0.29411764705882354  |\n",
      "|       extracurricular specialneeds      |        1.0         |         0.0          |\n",
      "|     environmentalscience visualarts     | 0.7692307692307693 | 0.23076923076923078  |\n",
      "|              performingarts             | 0.8923076923076924 |  0.1076923076923077  |\n",
      "|       communityservice visualarts       |       0.875        |        0.125         |\n",
      "|   charactereducation communityservice   | 0.9090909090909091 | 0.09090909090909091  |\n",
      "|     appliedsciences earlydevelopment    | 0.8333333333333334 | 0.16666666666666666  |\n",
      "|         gym_fitness specialneeds        | 0.9583333333333334 | 0.041666666666666664 |\n",
      "|   communityservice literature_writing   |        0.75        |         0.25         |\n",
      "|            civics_government            |        0.9         |         0.1          |\n",
      "|     appliedsciences extracurricular     |        1.0         |         0.0          |\n",
      "|         literature_writing other        | 0.7435897435897436 |  0.2564102564102564  |\n",
      "|       earlydevelopment visualarts       | 0.6842105263157895 |  0.3157894736842105  |\n",
      "|          health_wellness music          |        0.75        |         0.25         |\n",
      "|     earlydevelopment extracurricular    |        0.8         |         0.2          |\n",
      "|             communityservice            | 0.7777777777777778 |  0.2222222222222222  |\n",
      "|       civics_government economics       |        0.8         |         0.2          |\n",
      "|        socialsciences visualarts        |        0.7         |         0.3          |\n",
      "|      health_wellness performingarts     |        1.0         |         0.0          |\n",
      "|         history_geography other         |        0.75        |         0.25         |\n",
      "|         gym_fitness mathematics         | 0.7272727272727273 |  0.2727272727272727  |\n",
      "|    extracurricular literature_writing   |        1.0         |         0.0          |\n",
      "|            mathematics music            |        1.0         |         0.0          |\n",
      "|          esl history_geography          | 0.6666666666666666 |  0.3333333333333333  |\n",
      "|    appliedsciences civics_government    | 0.6666666666666666 |  0.3333333333333333  |\n",
      "|            gym_fitness music            | 0.6666666666666666 |  0.3333333333333333  |\n",
      "|            music specialneeds           |        0.95        |         0.05         |\n",
      "|    appliedsciences charactereducation   | 0.8571428571428571 | 0.14285714285714285  |\n",
      "|         charactereducation other        |       0.875        |        0.125         |\n",
      "|       extracurricular mathematics       |       0.875        |        0.125         |\n",
      "|    appliedsciences history_geography    | 0.7894736842105263 | 0.21052631578947367  |\n",
      "|              esl visualarts             | 0.8571428571428571 | 0.14285714285714285  |\n",
      "|      gym_fitness nutritioneducation     | 0.8636363636363636 | 0.13636363636363635  |\n",
      "|    appliedsciences nutritioneducation   |        1.0         |         0.0          |\n",
      "|        extracurricular teamsports       |        1.0         |         0.0          |\n",
      "|      health_wellness socialsciences     |        1.0         |         0.0          |\n",
      "|     communityservice health_wellness    | 0.6666666666666666 |  0.3333333333333333  |\n",
      "|             foreignlanguages            | 0.819672131147541  | 0.18032786885245902  |\n",
      "|         extracurricular literacy        | 0.8888888888888888 |  0.1111111111111111  |\n",
      "|      financialliteracy specialneeds     |        0.0         |         1.0          |\n",
      "|     foreignlanguages health_wellness    |        0.5         |         0.5          |\n",
      "|      charactereducation mathematics     | 0.782608695652174  | 0.21739130434782608  |\n",
      "|   earlydevelopment health_lifescience   | 0.3333333333333333 |  0.6666666666666666  |\n",
      "|     appliedsciences communityservice    |        1.0         |         0.0          |\n",
      "|   foreignlanguages literature_writing   | 0.9285714285714286 | 0.07142857142857142  |\n",
      "|      charactereducation teamsports      |        0.8         |         0.2          |\n",
      "|      charactereducation visualarts      | 0.8235294117647058 | 0.17647058823529413  |\n",
      "|        literacy parentinvolvement       |        1.0         |         0.0          |\n",
      "|      nutritioneducation visualarts      |        1.0         |         0.0          |\n",
      "|  earlydevelopment environmentalscience  |        0.7         |         0.3          |\n",
      "|           gym_fitness literacy          | 0.7142857142857143 |  0.2857142857142857  |\n",
      "|          teamsports visualarts          |        1.0         |         0.0          |\n",
      "|         literature_writing music        | 0.8888888888888888 |  0.1111111111111111  |\n",
      "|  charactereducation health_lifescience  |        1.0         |         0.0          |\n",
      "|    charactereducation socialsciences    |        1.0         |         0.0          |\n",
      "|     earlydevelopment socialsciences     |        1.0         |         0.0          |\n",
      "|   college_careerprep communityservice   |       0.875        |        0.125         |\n",
      "|   charactereducation financialliteracy  |        1.0         |         0.0          |\n",
      "|      gym_fitness literature_writing     | 0.6666666666666666 |  0.3333333333333333  |\n",
      "|          earlydevelopment music         |       0.875        |        0.125         |\n",
      "|     nutritioneducation specialneeds     | 0.8571428571428571 | 0.14285714285714285  |\n",
      "|         other parentinvolvement         |        1.0         |         0.0          |\n",
      "|    environmentalscience specialneeds    | 0.8484848484848485 | 0.15151515151515152  |\n",
      "|           esl foreignlanguages          |        1.0         |         0.0          |\n",
      "|  environmentalscience foreignlanguages  |        1.0         |         0.0          |\n",
      "|       parentinvolvement visualarts      |        1.0         |         0.0          |\n",
      "| college_careerprep environmentalscience | 0.8571428571428571 | 0.14285714285714285  |\n",
      "|       foreignlanguages mathematics      |        0.4         |         0.6          |\n",
      "|              literacy music             | 0.9318181818181818 | 0.06818181818181818  |\n",
      "|    health_lifescience socialsciences    | 0.8421052631578947 | 0.15789473684210525  |\n",
      "|  college_careerprep nutritioneducation  |        1.0         |         0.0          |\n",
      "|     extracurricular health_wellness     |        1.0         |         0.0          |\n",
      "|      civics_government mathematics      |        0.0         |         1.0          |\n",
      "|   environmentalscience extracurricular  | 0.3333333333333333 |  0.6666666666666666  |\n",
      "|  health_lifescience nutritioneducation  | 0.8571428571428571 | 0.14285714285714285  |\n",
      "|       earlydevelopment teamsports       |        1.0         |         0.0          |\n",
      "|    communityservice earlydevelopment    |        1.0         |         0.0          |\n",
      "|         specialneeds teamsports         |       0.875        |        0.125         |\n",
      "|     history_geography performingarts    |        1.0         |         0.0          |\n",
      "|          extracurricular music          |        1.0         |         0.0          |\n",
      "|  environmentalscience parentinvolvement |        1.0         |         0.0          |\n",
      "|   college_careerprep foreignlanguages   |        1.0         |         0.0          |\n",
      "|         charactereducation music        |        1.0         |         0.0          |\n",
      "|   charactereducation parentinvolvement  | 0.8333333333333334 | 0.16666666666666666  |\n",
      "|            esl performingarts           |        0.5         |         0.5          |\n",
      "|           esl health_wellness           | 0.8333333333333334 | 0.16666666666666666  |\n",
      "|                esl other                |        0.8         |         0.2          |\n",
      "|            esl socialsciences           | 0.5714285714285714 | 0.42857142857142855  |\n",
      "|   environmentalscience performingarts   |        1.0         |         0.0          |\n",
      "|    charactereducation extracurricular   | 0.7272727272727273 |  0.2727272727272727  |\n",
      "|            financialliteracy            |        0.75        |         0.25         |\n",
      "|    college_careerprep extracurricular   |        0.75        |         0.25         |\n",
      "|    charactereducation performingarts    | 0.6666666666666666 |  0.3333333333333333  |\n",
      "|        mathematics performingarts       |        1.0         |         0.0          |\n",
      "|       economics financialliteracy       |        1.0         |         0.0          |\n",
      "|    college_careerprep performingarts    | 0.6666666666666666 |  0.3333333333333333  |\n",
      "|        communityservice literacy        | 0.6666666666666666 |  0.3333333333333333  |\n",
      "|      performingarts socialsciences      |        1.0         |         0.0          |\n",
      "|     communityservice performingarts     |        1.0         |         0.0          |\n",
      "|             music teamsports            |        0.5         |         0.5          |\n",
      "|   college_careerprep financialliteracy  | 0.6666666666666666 |  0.3333333333333333  |\n",
      "|   civics_government health_lifescience  |        0.75        |         0.25         |\n",
      "|       earlydevelopment gym_fitness      | 0.8461538461538461 | 0.15384615384615385  |\n",
      "|           music socialsciences          | 0.6666666666666666 |  0.3333333333333333  |\n",
      "|            gym_fitness other            |        1.0         |         0.0          |\n",
      "|       economics literature_writing      |        1.0         |         0.0          |\n",
      "|   college_careerprep history_geography  |        1.0         |         0.0          |\n",
      "|        performingarts teamsports        |        0.6         |         0.4          |\n",
      "|   earlydevelopment nutritioneducation   |        1.0         |         0.0          |\n",
      "|      mathematics parentinvolvement      |        0.75        |         0.25         |\n",
      "|    health_wellness history_geography    | 0.5714285714285714 | 0.42857142857142855  |\n",
      "|    extracurricular health_lifescience   |        0.5         |         0.5          |\n",
      "|      extracurricular socialsciences     |        1.0         |         0.0          |\n",
      "|       economics history_geography       |        1.0         |         0.0          |\n",
      "|       communityservice mathematics      | 0.6666666666666666 |  0.3333333333333333  |\n",
      "|   college_careerprep parentinvolvement  |        1.0         |         0.0          |\n",
      "|        appliedsciences teamsports       |        1.0         |         0.0          |\n",
      "|          communityservice other         |        0.5         |         0.5          |\n",
      "|        financialliteracy literacy       |        1.0         |         0.0          |\n",
      "|      nutritioneducation teamsports      |        0.6         |         0.4          |\n",
      "|          gym_fitness visualarts         | 0.6666666666666666 |  0.3333333333333333  |\n",
      "|             other visualarts            | 0.6666666666666666 |  0.3333333333333333  |\n",
      "|         health_lifescience other        |        0.0         |         1.0          |\n",
      "|     communityservice socialsciences     |        0.0         |         1.0          |\n",
      "|         history_geography music         |        1.0         |         0.0          |\n",
      "|  college_careerprep health_lifescience  |        0.75        |         0.25         |\n",
      "|           literacy teamsports           |        0.8         |         0.2          |\n",
      "|       college_careerprep economics      |        1.0         |         0.0          |\n",
      "|          economics mathematics          |        1.0         |         0.0          |\n",
      "|          civics_government esl          |        1.0         |         0.0          |\n",
      "|          college_careerprep esl         |        1.0         |         0.0          |\n",
      "|            economics literacy           |        1.0         |         0.0          |\n",
      "|               music other               | 0.6666666666666666 |  0.3333333333333333  |\n",
      "|       socialsciences specialneeds       |        0.75        |         0.25         |\n",
      "|          extracurricular other          | 0.6666666666666666 |  0.3333333333333333  |\n",
      "|      parentinvolvement specialneeds     | 0.3333333333333333 |  0.6666666666666666  |\n",
      "|      gym_fitness health_lifescience     |        1.0         |         0.0          |\n",
      "|      civics_government specialneeds     |        1.0         |         0.0          |\n",
      "|   communityservice nutritioneducation   |        1.0         |         0.0          |\n",
      "|          esl financialliteracy          |        0.0         |         1.0          |\n",
      "|          mathematics teamsports         |        1.0         |         0.0          |\n",
      "|    civics_government health_wellness    |        1.0         |         0.0          |\n",
      "|   civics_government financialliteracy   |        1.0         |         0.0          |\n",
      "|    earlydevelopment parentinvolvement   |        1.0         |         0.0          |\n",
      "|      extracurricular performingarts     |        1.0         |         0.0          |\n",
      "|           communityservice esl          |        1.0         |         0.0          |\n",
      "|                economics                |        0.75        |         0.25         |\n",
      "|      literature_writing teamsports      |        0.0         |         1.0          |\n",
      "|     foreignlanguages performingarts     |        0.0         |         1.0          |\n",
      "|          foreignlanguages other         |        1.0         |         0.0          |\n",
      "|    earlydevelopment history_geography   |        1.0         |         0.0          |\n",
      "|        appliedsciences economics        |        1.0         |         0.0          |\n",
      "|         health_lifescience music        |        1.0         |         0.0          |\n",
      "|      mathematics nutritioneducation     |        0.5         |         0.5          |\n",
      "|    communityservice financialliteracy   |        1.0         |         0.0          |\n",
      "|    communityservice history_geography   | 0.6666666666666666 |  0.3333333333333333  |\n",
      "|      college_careerprep teamsports      |        1.0         |         0.0          |\n",
      "|    financialliteracy health_wellness    |        1.0         |         0.0          |\n",
      "|       appliedsciences gym_fitness       |        0.5         |         0.5          |\n",
      "|    nutritioneducation socialsciences    |        1.0         |         0.0          |\n",
      "|         nutritioneducation other        |        1.0         |         0.0          |\n",
      "|     parentinvolvement socialsciences    |        1.0         |         0.0          |\n",
      "|    civics_government communityservice   |        1.0         |         0.0          |\n",
      "|    foreignlanguages history_geography   |        0.0         |         1.0          |\n",
      "|       extracurricular gym_fitness       |        1.0         |         0.0          |\n",
      "|    communityservice parentinvolvement   |        1.0         |         0.0          |\n",
      "|          esl nutritioneducation         |        1.0         |         0.0          |\n",
      "|       economics health_lifescience      |        1.0         |         0.0          |\n",
      "|        environmentalscience music       |        1.0         |         0.0          |\n",
      "|       foreignlanguages visualarts       |        0.5         |         0.5          |\n",
      "|   charactereducation civics_government  |        1.0         |         0.0          |\n",
      "|    extracurricular nutritioneducation   |        1.0         |         0.0          |\n",
      "|       literacy nutritioneducation       |        0.5         |         0.5          |\n",
      "|                esl music                |        1.0         |         0.0          |\n",
      "|      college_careerprep gym_fitness     |        1.0         |         0.0          |\n",
      "|    extracurricular history_geography    |        1.0         |         0.0          |\n",
      "|      health_lifescience teamsports      |        1.0         |         0.0          |\n",
      "|         economics socialsciences        |        1.0         |         0.0          |\n",
      "|     foreignlanguages socialsciences     |        1.0         |         0.0          |\n",
      "|         college_careerprep music        |        1.0         |         0.0          |\n",
      "+-----------------------------------------+--------------------+----------------------+\n"
     ]
    },
    {
     "name": "stderr",
     "output_type": "stream",
     "text": [
      "\n"
     ]
    }
   ],
   "source": [
    "# https://stackoverflow.com/questions/66122577/response-coding-for-categorical-data\n",
    "def response_coding(xtrain, ytrain, feature):   \n",
    "    \n",
    "    from prettytable import PrettyTable\n",
    "    dictionary = dict()\n",
    "    x = PrettyTable()\n",
    "    x = PrettyTable([feature, 'class 1', 'class 0'])\n",
    "\n",
    "    unique_cat_labels = xtrain[feature].unique()\n",
    "\n",
    "    for i in tqdm(range(len(unique_cat_labels))):\n",
    "        total_count = xtrain.loc[:,feature][(xtrain[feature] == unique_cat_labels[i])].count()\n",
    "        p_0 = xtrain.loc[:, feature][((xtrain[feature] == unique_cat_labels[i]) & (ytrain==0))].count()\n",
    "        p_1 = xtrain.loc[:, feature][((xtrain[feature] == unique_cat_labels[i]) & (ytrain==1))].count()\n",
    "\n",
    "        dictionary[unique_cat_labels[i]] = [p_1/total_count, p_0/total_count]\n",
    "\n",
    "        row = []\n",
    "        row.append(unique_cat_labels[i])\n",
    "        row.append(p_1/total_count)\n",
    "        row.append(p_0/total_count)\n",
    "        x.add_row(row)\n",
    "    #print()\n",
    "    print(x)#[![enter image description here][1]][1]\n",
    "    return dictionary\n",
    "\n",
    "grade=response_coding(X_train,Y_train,'project_grade_category')\n",
    "school_state=response_coding(X_train,Y_train,'school_state')\n",
    "teacher_pre=response_coding(X_train,Y_train,'teacher_prefix')\n",
    "cate=response_coding(X_train,Y_train,'clean_categories')\n",
    "subcate=response_coding(X_train,Y_train,'clean_subcategories')"
   ]
  },
  {
   "cell_type": "markdown",
   "id": "fabea7e7",
   "metadata": {},
   "source": [
    "### 2.2 Coding for replacment of the words to values"
   ]
  },
  {
   "cell_type": "code",
   "execution_count": 6,
   "id": "af2d2700",
   "metadata": {
    "collapsed": true
   },
   "outputs": [
    {
     "name": "stderr",
     "output_type": "stream",
     "text": [
      "100%|████████████████████████████████████████████████████████████████████████████████████| 4/4 [00:00<00:00, 18.15it/s]\n",
      "100%|██████████████████████████████████████████████████████████████████████████████████| 51/51 [00:05<00:00,  9.61it/s]\n",
      "100%|████████████████████████████████████████████████████████████████████████████████████| 5/5 [00:00<00:00,  8.86it/s]\n",
      "100%|██████████████████████████████████████████████████████████████████████████████████| 43/43 [00:06<00:00,  7.16it/s]\n",
      "100%|████████████████████████████████████████████████████████████████████████████████| 318/318 [00:51<00:00,  6.17it/s]\n",
      "100%|████████████████████████████████████████████████████████████████████████████████████| 4/4 [00:00<00:00, 29.06it/s]\n",
      "100%|██████████████████████████████████████████████████████████████████████████████████| 51/51 [00:03<00:00, 15.25it/s]\n",
      "100%|████████████████████████████████████████████████████████████████████████████████████| 5/5 [00:00<00:00, 20.98it/s]\n",
      " 12%|█████████▋                                                                         | 5/43 [00:00<00:01, 35.08it/s]"
     ]
    },
    {
     "name": "stdout",
     "output_type": "stream",
     "text": [
      "This element is not present in train data set= dr\n"
     ]
    },
    {
     "name": "stderr",
     "output_type": "stream",
     "text": [
      "100%|██████████████████████████████████████████████████████████████████████████████████| 43/43 [00:02<00:00, 15.19it/s]\n",
      "  3%|██▎                                                                               | 9/318 [00:00<00:03, 77.79it/s]"
     ]
    },
    {
     "name": "stdout",
     "output_type": "stream",
     "text": [
      "This element is not present in train data set= music_arts appliedlearning\n",
      "This element is not present in train data set= history_civics health_sports\n"
     ]
    },
    {
     "name": "stderr",
     "output_type": "stream",
     "text": [
      "100%|████████████████████████████████████████████████████████████████████████████████| 318/318 [00:23<00:00, 13.67it/s]\n"
     ]
    },
    {
     "name": "stdout",
     "output_type": "stream",
     "text": [
      "This element is not present in train data set= environmentalscience gym_fitness\n",
      "This element is not present in train data set= performingarts specialneeds\n",
      "This element is not present in train data set= economics other\n",
      "This element is not present in train data set= appliedsciences parentinvolvement\n",
      "This element is not present in train data set= environmentalscience other\n",
      "This element is not present in train data set= history_geography other\n",
      "This element is not present in train data set= gym_fitness music\n",
      "This element is not present in train data set= nutritioneducation visualarts\n",
      "This element is not present in train data set= charactereducation financialliteracy\n",
      "This element is not present in train data set= environmentalscience foreignlanguages\n",
      "This element is not present in train data set= college_careerprep nutritioneducation\n",
      "This element is not present in train data set= earlydevelopment teamsports\n",
      "This element is not present in train data set= history_geography performingarts\n",
      "This element is not present in train data set= environmentalscience parentinvolvement\n",
      "This element is not present in train data set= environmentalscience performingarts\n",
      "This element is not present in train data set= charactereducation performingarts\n",
      "This element is not present in train data set= communityservice literacy\n",
      "This element is not present in train data set= communityservice performingarts\n",
      "This element is not present in train data set= music socialsciences\n",
      "This element is not present in train data set= economics literature_writing\n",
      "This element is not present in train data set= earlydevelopment nutritioneducation\n",
      "This element is not present in train data set= extracurricular health_lifescience\n",
      "This element is not present in train data set= extracurricular socialsciences\n",
      "This element is not present in train data set= appliedsciences teamsports\n",
      "This element is not present in train data set= communityservice socialsciences\n",
      "This element is not present in train data set= college_careerprep economics\n",
      "This element is not present in train data set= civics_government esl\n",
      "This element is not present in train data set= economics literacy\n",
      "This element is not present in train data set= music other\n",
      "This element is not present in train data set= civics_government specialneeds\n",
      "This element is not present in train data set= communityservice nutritioneducation\n",
      "This element is not present in train data set= esl financialliteracy\n",
      "This element is not present in train data set= civics_government health_wellness\n",
      "This element is not present in train data set= civics_government financialliteracy\n",
      "This element is not present in train data set= communityservice esl\n",
      "This element is not present in train data set= foreignlanguages performingarts\n",
      "This element is not present in train data set= foreignlanguages other\n",
      "This element is not present in train data set= earlydevelopment history_geography\n",
      "This element is not present in train data set= appliedsciences economics\n",
      "This element is not present in train data set= health_lifescience music\n",
      "This element is not present in train data set= communityservice financialliteracy\n",
      "This element is not present in train data set= college_careerprep teamsports\n",
      "This element is not present in train data set= financialliteracy health_wellness\n",
      "This element is not present in train data set= nutritioneducation socialsciences\n",
      "This element is not present in train data set= extracurricular gym_fitness\n",
      "This element is not present in train data set= esl nutritioneducation\n",
      "This element is not present in train data set= economics health_lifescience\n",
      "This element is not present in train data set= environmentalscience music\n",
      "This element is not present in train data set= extracurricular nutritioneducation\n",
      "This element is not present in train data set= college_careerprep gym_fitness\n",
      "This element is not present in train data set= extracurricular history_geography\n"
     ]
    }
   ],
   "source": [
    "def replace(data_frame,feature,dic):\n",
    "    #creating two feature 0 & 1\n",
    "    df=data_frame.copy()\n",
    "    u=list(df[feature].unique())# for test data set unique category\n",
    "    df[feature+'_0']=df[feature]\n",
    "    df=df.rename(columns={feature:feature+'_1'})\n",
    "    col=np.array(df.columns)\n",
    "    ind_col=np.where(col == feature+'_1')[0][0]\n",
    "    cols=list(df.columns)\n",
    "    df=df[cols[0:ind_col]+[cols[-1]]+cols[ind_col:len(cols)-1]]\n",
    "    \n",
    "    # Using the dict for replacing the values\n",
    "    for i in tqdm(dic):\n",
    "        temp=dic[i]\n",
    "        df[feature+'_0']=df[feature+'_0'].replace(i,temp[1])\n",
    "        df[feature+'_1']=df[feature+'_1'].replace(i,temp[0])\n",
    "     \n",
    "    # Test data set new category\n",
    "    keys=list(dic.keys())\n",
    "    for i in keys:\n",
    "        try:\n",
    "            u.remove(i)\n",
    "        except:\n",
    "            print(\"This element is not present in train data set=\",i)\n",
    "            for i in u:\n",
    "                df[feature+'_0']=df[feature+'_0'].replace(i,0.5)\n",
    "                df[feature+'_1']=df[feature+'_1'].replace(i,0.5)\n",
    "    \n",
    "    return df\n",
    "\n",
    "\n",
    "# Train data set\n",
    "d=X_train.drop(['teacher_number_of_previously_posted_projects','essay','price'],axis=1)\n",
    "df=replace(d,'project_grade_category',grade)\n",
    "df1=replace(df,'school_state',school_state)\n",
    "df2=replace(df1,'teacher_prefix',teacher_pre)\n",
    "df3=replace(df2,'clean_categories',cate)\n",
    "X_cat_train=replace(df3,'clean_subcategories',subcate)\n",
    "\n",
    "# Test data set\n",
    "d=X_test.drop(['teacher_number_of_previously_posted_projects','essay','price'],axis=1)\n",
    "df=replace(d,'project_grade_category',grade)\n",
    "df1=replace(df,'school_state',school_state)\n",
    "df2=replace(df1,'teacher_prefix',teacher_pre)\n",
    "df3=replace(df2,'clean_categories',cate)\n",
    "X_cat_test=replace(df3,'clean_subcategories',subcate)\n",
    "\n",
    "\n",
    "#replace(X_test,'clean_categories',cate)"
   ]
  },
  {
   "cell_type": "markdown",
   "id": "022751c9",
   "metadata": {},
   "source": [
    "### 2.3 Words vectorization"
   ]
  },
  {
   "cell_type": "code",
   "execution_count": 7,
   "id": "34078c59",
   "metadata": {},
   "outputs": [],
   "source": [
    "train_essays = X_train['essay'].values\n",
    "test_essays = X_test['essay'].values"
   ]
  },
  {
   "cell_type": "code",
   "execution_count": 8,
   "id": "2edda206",
   "metadata": {},
   "outputs": [
    {
     "name": "stdout",
     "output_type": "stream",
     "text": [
      "Shape of matrix after one hot encodig train and test (23450, 8943) (11550, 8943)\n"
     ]
    }
   ],
   "source": [
    "from sklearn.feature_extraction.text import TfidfVectorizer\n",
    "vectorizer_tfidf = TfidfVectorizer(min_df=10)     #taking words which has been appeared in at least 10 doc (min_df=10)\n",
    "vectorizer_tfidf=vectorizer_tfidf.fit(train_essays)\n",
    "train_text_tfidf = vectorizer_tfidf.transform(train_essays)\n",
    "test_text_tfidf = vectorizer_tfidf.transform(test_essays)\n",
    "words_dict = vectorizer_tfidf.vocabulary_\n",
    "print(\"Shape of matrix after one hot encodig train and test\",train_text_tfidf.shape,test_text_tfidf.shape)"
   ]
  },
  {
   "cell_type": "markdown",
   "id": "17abe642",
   "metadata": {},
   "source": [
    "#### 2.3.1 W2V"
   ]
  },
  {
   "cell_type": "code",
   "execution_count": 9,
   "id": "2d7f5414",
   "metadata": {},
   "outputs": [],
   "source": [
    "with open('glove_vectors', 'rb') as f:\n",
    "    model = pickle.load(f)\n",
    "    glove_words =  set(model.keys())"
   ]
  },
  {
   "cell_type": "code",
   "execution_count": 11,
   "id": "c1e89450",
   "metadata": {},
   "outputs": [
    {
     "name": "stderr",
     "output_type": "stream",
     "text": [
      "100%|██████████████████████████████████████████████████████████████████████████| 23450/23450 [00:06<00:00, 3653.19it/s]\n",
      "100%|██████████████████████████████████████████████████████████████████████████| 11550/11550 [00:03<00:00, 3739.16it/s]\n"
     ]
    },
    {
     "data": {
      "text/plain": [
       "((23450, 300), (11550, 300))"
      ]
     },
     "execution_count": 11,
     "metadata": {},
     "output_type": "execute_result"
    }
   ],
   "source": [
    "# average Word2Vec\n",
    "# compute average word2vec for each review.\n",
    "\n",
    "def avg_w2v_vectors(data):\n",
    "    avg_w2v_vectors = []; # the avg-w2v for each sentence/review is stored in this list\n",
    "    for sentence in tqdm(data): # for each review/sentence\n",
    "        vector = np.zeros(300) # as word vectors are of zero length\n",
    "        cnt_words =0; # num of words with a valid vector in the sentence/review\n",
    "        for word in sentence.split(): # for each word in a review/sentence\n",
    "            if word in glove_words:\n",
    "                vector += model[word]\n",
    "                cnt_words += 1\n",
    "        if cnt_words != 0:\n",
    "            vector /= cnt_words\n",
    "        avg_w2v_vectors.append(vector)\n",
    "    return avg_w2v_vectors\n",
    "\n",
    "train_w2v=np.array(avg_w2v_vectors(train_essays))\n",
    "test_w2v=np.array(avg_w2v_vectors(test_essays))\n",
    "\n",
    "train_w2v.shape,test_w2v.shape"
   ]
  },
  {
   "cell_type": "markdown",
   "id": "21beaf27",
   "metadata": {},
   "source": [
    "#### 2.3.2 Sentiment"
   ]
  },
  {
   "cell_type": "code",
   "execution_count": 12,
   "id": "1aee76c7",
   "metadata": {},
   "outputs": [
    {
     "name": "stderr",
     "output_type": "stream",
     "text": [
      "100%|███████████████████████████████████████████████████████████████████████████| 23450/23450 [00:49<00:00, 474.69it/s]\n",
      "100%|███████████████████████████████████████████████████████████████████████████| 11550/11550 [00:25<00:00, 452.34it/s]\n"
     ]
    }
   ],
   "source": [
    "sid = SentimentIntensityAnalyzer()\n",
    "\n",
    "def analyzer(data):\n",
    "    neg=[]\n",
    "    neu=[]\n",
    "    pos=[]\n",
    "    compound=[]\n",
    "    for i in tqdm(data):\n",
    "        s=sid.polarity_scores(i)\n",
    "        neg.append(s['neg'])\n",
    "        neu.append(s['neu'])\n",
    "        pos.append(s['pos'])\n",
    "        compound.append(s['compound'])\n",
    "    \n",
    "    return neg,neu,pos,compound \n",
    "    \n",
    "neg,neu,pos,compound=analyzer(train_essays)\n",
    "neg_test,neu_test,pos_test,compound_test=analyzer(test_essays) "
   ]
  },
  {
   "cell_type": "code",
   "execution_count": 13,
   "id": "7b4c09a9",
   "metadata": {},
   "outputs": [],
   "source": [
    "neg=np.reshape(neg,(-1,1))\n",
    "neu=np.reshape(neu,(-1,1))\n",
    "pos=np.reshape(pos,(-1,1))\n",
    "compound=np.reshape(compound,(-1,1))\n",
    "\n",
    "\n",
    "neg_test=np.reshape(neg_test,(-1,1))\n",
    "neu_test=np.reshape(neu_test,(-1,1))\n",
    "pos_test=np.reshape(pos_test,(-1,1))\n",
    "compound_test=np.reshape(compound_test,(-1,1))"
   ]
  },
  {
   "cell_type": "markdown",
   "id": "8d3e5732",
   "metadata": {},
   "source": [
    "### 2.4 Numerical features"
   ]
  },
  {
   "cell_type": "code",
   "execution_count": 14,
   "id": "74d89ea7",
   "metadata": {},
   "outputs": [],
   "source": [
    "normalizer = Normalizer()\n",
    "normalizer.fit(X_train['price'].values.reshape(-1,1))\n",
    "X_train_price_norm = normalizer.transform(X_train['price'].values.reshape(-1,1))\n",
    "X_test_price_norm = normalizer.transform(X_test['price'].values.reshape(-1,1))\n",
    "\n",
    "normalizer.fit(X_train['teacher_number_of_previously_posted_projects'].values.reshape(-1,1))\n",
    "X_train_num_norm = normalizer.transform(X_train['teacher_number_of_previously_posted_projects'].values.reshape(-1,1))\n",
    "X_test_num_norm = normalizer.transform(X_test['teacher_number_of_previously_posted_projects'].values.reshape(-1,1))"
   ]
  },
  {
   "cell_type": "markdown",
   "id": "077b9219",
   "metadata": {},
   "source": [
    "# 3. Data set 1"
   ]
  },
  {
   "cell_type": "code",
   "execution_count": 15,
   "id": "d0a6a011",
   "metadata": {},
   "outputs": [
    {
     "name": "stdout",
     "output_type": "stream",
     "text": [
      "(23450, 8959) shape of training data set\n",
      "(11550, 8959) shape of testing data set\n"
     ]
    }
   ],
   "source": [
    "from scipy.sparse import hstack\n",
    "X_tr = hstack((train_text_tfidf ,  X_cat_train , X_train_price_norm , X_train_num_norm , neg , neu , pos , compound)).tocsr()\n",
    "X_te = hstack((test_text_tfidf , X_cat_test , X_test_price_norm , X_test_num_norm , neg_test , neu_test , pos_test , compound_test)).tocsr()\n",
    "\n",
    "print(X_tr.get_shape(),\"shape of training data set\")\n",
    "print(X_te.get_shape(),\"shape of testing data set\")\n",
    "\n"
   ]
  },
  {
   "cell_type": "markdown",
   "id": "84099f8d",
   "metadata": {},
   "source": [
    "### 3.1 Finding the best hyperparameters"
   ]
  },
  {
   "cell_type": "code",
   "execution_count": 16,
   "id": "562599e6",
   "metadata": {},
   "outputs": [
    {
     "name": "stdout",
     "output_type": "stream",
     "text": [
      "Wall time: 3min 51s\n"
     ]
    },
    {
     "data": {
      "text/plain": [
       "GridSearchCV(cv=5, estimator=GradientBoostingClassifier(random_state=0),\n",
       "             n_jobs=-1,\n",
       "             param_grid={'max_depth': [1, 2, 3, 4],\n",
       "                         'n_estimators': [5, 10, 15, 20]},\n",
       "             return_train_score=True, scoring='roc_auc')"
      ]
     },
     "execution_count": 16,
     "metadata": {},
     "output_type": "execute_result"
    }
   ],
   "source": [
    "from sklearn.ensemble import GradientBoostingClassifier\n",
    "from sklearn.model_selection import GridSearchCV\n",
    "# https://stackoverflow.com/questions/37689942/grid-search-finding-parameters-for-auc\n",
    "\n",
    "DB = GradientBoostingClassifier(random_state=0)\n",
    "\n",
    "parameters={'max_depth':[1, 2, 3, 4],\n",
    "            \"n_estimators\":[5,10,15,20] }\n",
    "\n",
    "clf = GridSearchCV(DB, parameters, cv=5, scoring='roc_auc', n_jobs=-1, return_train_score=True)\n",
    "\n",
    "%time clf.fit(X_tr,Y_train)"
   ]
  },
  {
   "cell_type": "code",
   "execution_count": 17,
   "id": "50857aaf",
   "metadata": {},
   "outputs": [
    {
     "name": "stdout",
     "output_type": "stream",
     "text": [
      "{'max_depth': 4, 'n_estimators': 20}\n",
      "0.6693683391153492\n"
     ]
    },
    {
     "data": {
      "text/plain": [
       "0.6551416041078073"
      ]
     },
     "execution_count": 17,
     "metadata": {},
     "output_type": "execute_result"
    }
   ],
   "source": [
    "from sklearn.metrics import roc_auc_score\n",
    "print(clf.best_params_)\n",
    "print(clf.best_score_)\n",
    "\n",
    "Y_pred=clf.predict_proba(X_te)[:,1]\n",
    "roc_auc_score(Y_test,Y_pred)"
   ]
  },
  {
   "cell_type": "markdown",
   "id": "8cc4f67b",
   "metadata": {},
   "source": [
    "### 3.2 Plotting heat map of parameters and there outputs"
   ]
  },
  {
   "cell_type": "code",
   "execution_count": 18,
   "id": "92fb8f76",
   "metadata": {},
   "outputs": [
    {
     "data": {
      "image/png": "[encoded data removed]",
      "text/plain": [
       "<Figure size 432x288 with 2 Axes>"
      ]
     },
     "metadata": {
      "needs_background": "light"
     },
     "output_type": "display_data"
    }
   ],
   "source": [
    "import seaborn as sns\n",
    "x=clf.cv_results_['param_n_estimators'].data\n",
    "y=clf.cv_results_['param_max_depth'].data\n",
    "z=clf.cv_results_['mean_test_score']\n",
    "\n",
    "mat=np.zeros((4,4))\n",
    "for i in range(len(z)):\n",
    "    mat.itemset(i, z[i])\n",
    "\n",
    "\n",
    "ax= plt.subplot();\n",
    "sns.heatmap(mat, annot=True,cmap='Oranges',ax=ax);\n",
    "# labels, title and ticks\n",
    "ax.set_xlabel('param_n_estimators');ax.set_ylabel('param_max_depth'); \n",
    "ax.set_title('Heatmap of the GridSearchCV output');\n",
    "ax.xaxis.set_ticklabels(['5','10','15','20']); \n",
    "ax.yaxis.set_ticklabels(['1','2','3','4']);\n"
   ]
  },
  {
   "cell_type": "markdown",
   "id": "7ad1a81f",
   "metadata": {},
   "source": [
    "### 3.3 Training the best model"
   ]
  },
  {
   "cell_type": "code",
   "execution_count": 19,
   "id": "6c99af90",
   "metadata": {},
   "outputs": [
    {
     "data": {
      "text/plain": [
       "GradientBoostingClassifier(max_depth=4, n_estimators=20, random_state=0)"
      ]
     },
     "execution_count": 19,
     "metadata": {},
     "output_type": "execute_result"
    }
   ],
   "source": [
    "from sklearn.metrics import confusion_matrix\n",
    "\n",
    "DB_best = GradientBoostingClassifier(random_state=0,max_depth= 4,n_estimators= 20)\n",
    "DB_best.fit(X_tr,Y_train)\n"
   ]
  },
  {
   "cell_type": "markdown",
   "id": "f0557101",
   "metadata": {},
   "source": [
    "### 3.4 AUC"
   ]
  },
  {
   "cell_type": "code",
   "execution_count": 22,
   "id": "a5241846",
   "metadata": {},
   "outputs": [
    {
     "name": "stdout",
     "output_type": "stream",
     "text": [
      "test=  0.6551416041078073\n",
      "train=  0.745515594373414\n"
     ]
    },
    {
     "data": {
      "image/png": "[encoded data removed]",
      "text/plain": [
       "<Figure size 432x288 with 1 Axes>"
      ]
     },
     "metadata": {
      "needs_background": "light"
     },
     "output_type": "display_data"
    }
   ],
   "source": [
    "y_pred=DB_best.predict_proba(X_te)[:,1]    # predict the probabitity of class 1 = (approved)\n",
    "print(\"test= \",metrics.roc_auc_score(Y_test, y_pred))\n",
    "fpr, tpr, threshold = metrics.roc_curve(Y_test, y_pred)\n",
    "roc_auc_test = metrics.auc(fpr, tpr)\n",
    "\n",
    "y_pred_class_train = DB_best.predict_proba(X_tr)[:,1]   # predict the probabitity of class 1 = (approved)\n",
    "print(\"train= \",metrics.roc_auc_score(Y_train, y_pred_class_train))\n",
    "fpr_1, tpr_1, threshold_1 = metrics.roc_curve(Y_train, y_pred_class_train)\n",
    "roc_auc_train = metrics.auc(fpr_1, tpr_1)\n",
    "\n",
    "plt.title('Receiver Operating Characteristic')\n",
    "plt.plot(fpr, tpr, 'b', label = 'AUC test = %0.2f' % roc_auc_test)\n",
    "plt.plot(fpr_1, tpr_1, 'y', label = 'AUC train = %0.2f' % roc_auc_train)\n",
    "plt.legend(loc = 'lower right')\n",
    "plt.plot([0, 1], [0, 1],'r--')\n",
    "plt.xlim([0, 1])\n",
    "plt.ylim([0, 1])\n",
    "plt.ylabel('True Positive Rate (TPR)')\n",
    "plt.xlabel('False Positive Rate (FPR)')\n",
    "plt.show()"
   ]
  },
  {
   "cell_type": "markdown",
   "id": "bd7d2ef7",
   "metadata": {},
   "source": [
    "### 3.5 confusion matrix "
   ]
  },
  {
   "cell_type": "markdown",
   "id": "2e0ac64b",
   "metadata": {},
   "source": [
    "Train data set"
   ]
  },
  {
   "cell_type": "code",
   "execution_count": 24,
   "id": "d6cf9e48",
   "metadata": {},
   "outputs": [
    {
     "name": "stdout",
     "output_type": "stream",
     "text": [
      "[[   35  3564]\n",
      " [    0 19851]]\n"
     ]
    },
    {
     "data": {
      "image/png": "[encoded data removed]",
      "text/plain": [
       "<Figure size 432x288 with 2 Axes>"
      ]
     },
     "metadata": {
      "needs_background": "light"
     },
     "output_type": "display_data"
    }
   ],
   "source": [
    "import seaborn as sns\n",
    "\n",
    "y_pred_bi=DB_best.predict(X_tr)\n",
    "cf_matrix=confusion_matrix(Y_train,y_pred_bi)\n",
    "\n",
    "ax= plt.subplot();\n",
    "sns.heatmap(cf_matrix, annot=True,cmap='Oranges',ax=ax);\n",
    "# labels, title and ticks\n",
    "ax.set_xlabel('Predicted values');ax.set_ylabel('Actual values'); \n",
    "ax.set_ylim(2.0, 0)\n",
    "ax.set_title('Confusion Matrix of train data');\n",
    "ax.xaxis.set_ticklabels(['0','1']); \n",
    "ax.yaxis.set_ticklabels(['0','1']);\n",
    "print(cf_matrix)"
   ]
  },
  {
   "cell_type": "markdown",
   "id": "8f5ac725",
   "metadata": {},
   "source": [
    "Test data set"
   ]
  },
  {
   "cell_type": "code",
   "execution_count": 25,
   "id": "9dfb335f",
   "metadata": {},
   "outputs": [
    {
     "name": "stdout",
     "output_type": "stream",
     "text": [
      "[[   7 1765]\n",
      " [   5 9773]]\n"
     ]
    },
    {
     "data": {
      "image/png": "[encoded data removed]",
      "text/plain": [
       "<Figure size 432x288 with 2 Axes>"
      ]
     },
     "metadata": {
      "needs_background": "light"
     },
     "output_type": "display_data"
    }
   ],
   "source": [
    "y_pred_bi=DB_best.predict(X_te)\n",
    "cf_matrix=confusion_matrix(Y_test,y_pred_bi)\n",
    "\n",
    "ax= plt.subplot();\n",
    "sns.heatmap(cf_matrix, annot=True,cmap='Blues',ax=ax);\n",
    "# labels, title and ticks\n",
    "ax.set_xlabel('Predicted values');ax.set_ylabel('Actual values'); \n",
    "ax.set_ylim(2.0, 0)\n",
    "ax.set_title('Confusion Matrix of test data');\n",
    "ax.xaxis.set_ticklabels(['0','1']); \n",
    "ax.yaxis.set_ticklabels(['0','1']);\n",
    "print(cf_matrix)"
   ]
  },
  {
   "cell_type": "markdown",
   "id": "62c87763",
   "metadata": {},
   "source": [
    "# 4. Data set 2"
   ]
  },
  {
   "cell_type": "code",
   "execution_count": 35,
   "id": "78517704",
   "metadata": {},
   "outputs": [
    {
     "name": "stdout",
     "output_type": "stream",
     "text": [
      "(23450, 316) shape of training data set\n",
      "(11550, 316) shape of testing data set\n"
     ]
    }
   ],
   "source": [
    "from scipy.sparse import hstack\n",
    "\n",
    "\n",
    "X_tr_2 = np.column_stack((train_w2v ,X_cat_train , X_train_price_norm , X_train_num_norm , neg , neu , pos , compound))\n",
    "X_te_2 = np.column_stack((test_w2v , X_cat_test , X_test_price_norm , X_test_num_norm , neg_test , neu_test , pos_test , compound_test))\n",
    "\n",
    "print(X_tr_2.shape,\"shape of training data set\")\n",
    "print(X_te_2.shape,\"shape of testing data set\")"
   ]
  },
  {
   "cell_type": "markdown",
   "id": "ccabb4fd",
   "metadata": {},
   "source": [
    "### 4.1 Finding the best hyperparameter"
   ]
  },
  {
   "cell_type": "code",
   "execution_count": 37,
   "id": "b38ce362",
   "metadata": {},
   "outputs": [
    {
     "name": "stdout",
     "output_type": "stream",
     "text": [
      "Wall time: 8min 1s\n"
     ]
    },
    {
     "data": {
      "text/plain": [
       "GridSearchCV(cv=5, estimator=GradientBoostingClassifier(random_state=0),\n",
       "             n_jobs=-1,\n",
       "             param_grid={'max_depth': [1, 2, 3, 4],\n",
       "                         'n_estimators': [5, 10, 15, 20]},\n",
       "             return_train_score=True, scoring='roc_auc')"
      ]
     },
     "execution_count": 37,
     "metadata": {},
     "output_type": "execute_result"
    }
   ],
   "source": [
    "from sklearn.ensemble import GradientBoostingClassifier\n",
    "from sklearn.model_selection import GridSearchCV\n",
    "# https://stackoverflow.com/questions/37689942/grid-search-finding-parameters-for-auc\n",
    "\n",
    "DB_2 = GradientBoostingClassifier(random_state=0)\n",
    "\n",
    "parameters={'max_depth':[1, 2, 3, 4],\n",
    "            \"n_estimators\":[5,10,15,20] }\n",
    "\n",
    "clf = GridSearchCV(DB_2, parameters, cv=5, scoring='roc_auc', n_jobs=-1, return_train_score=True)\n",
    "\n",
    "%time clf.fit(X_tr_2,Y_train)"
   ]
  },
  {
   "cell_type": "code",
   "execution_count": 39,
   "id": "87e8a419",
   "metadata": {},
   "outputs": [
    {
     "name": "stdout",
     "output_type": "stream",
     "text": [
      "{'max_depth': 4, 'n_estimators': 20}\n",
      "0.6680806998246132\n"
     ]
    },
    {
     "data": {
      "text/plain": [
       "0.6642239315513196"
      ]
     },
     "execution_count": 39,
     "metadata": {},
     "output_type": "execute_result"
    }
   ],
   "source": [
    "from sklearn.metrics import roc_auc_score\n",
    "print(clf.best_params_)\n",
    "print(clf.best_score_)\n",
    "\n",
    "Y_pred=clf.predict_proba(X_te_2)[:,1]\n",
    "roc_auc_score(Y_test,Y_pred)"
   ]
  },
  {
   "cell_type": "markdown",
   "id": "3f59f194",
   "metadata": {},
   "source": [
    "### 4.2 Heatmap of hyperparameter"
   ]
  },
  {
   "cell_type": "code",
   "execution_count": 40,
   "id": "1a08e106",
   "metadata": {},
   "outputs": [
    {
     "data": {
      "image/png": "[encoded data removed]",
      "text/plain": [
       "<Figure size 432x288 with 2 Axes>"
      ]
     },
     "metadata": {
      "needs_background": "light"
     },
     "output_type": "display_data"
    }
   ],
   "source": [
    "import seaborn as sns\n",
    "x=clf.cv_results_['param_n_estimators'].data\n",
    "y=clf.cv_results_['param_max_depth'].data\n",
    "z=clf.cv_results_['mean_test_score']\n",
    "\n",
    "mat=np.zeros((4,4))\n",
    "for i in range(len(z)):\n",
    "    mat.itemset(i, z[i])\n",
    "\n",
    "\n",
    "ax= plt.subplot();\n",
    "sns.heatmap(mat, annot=True,cmap='Oranges',ax=ax);\n",
    "# labels, title and ticks\n",
    "ax.set_xlabel('param_n_estimators');ax.set_ylabel('param_max_depth'); \n",
    "ax.set_title('Heatmap of the GridSearchCV output');\n",
    "ax.xaxis.set_ticklabels(['5','10','15','20']); \n",
    "ax.yaxis.set_ticklabels(['1','2','3','4']);\n"
   ]
  },
  {
   "cell_type": "markdown",
   "id": "9ccb677e",
   "metadata": {},
   "source": [
    "### 4.3 Confusion matrix"
   ]
  },
  {
   "cell_type": "code",
   "execution_count": 42,
   "id": "edb1922b",
   "metadata": {},
   "outputs": [
    {
     "data": {
      "text/plain": [
       "GradientBoostingClassifier(max_depth=4, n_estimators=20, random_state=0)"
      ]
     },
     "execution_count": 42,
     "metadata": {},
     "output_type": "execute_result"
    }
   ],
   "source": [
    "from sklearn.metrics import confusion_matrix\n",
    "\n",
    "DB_best = GradientBoostingClassifier(random_state=0,max_depth= 4,n_estimators= 20)\n",
    "DB_best.fit(X_tr_2,Y_train)\n"
   ]
  },
  {
   "cell_type": "markdown",
   "id": "bb1da135",
   "metadata": {},
   "source": [
    "### 4.4 AUC"
   ]
  },
  {
   "cell_type": "code",
   "execution_count": 43,
   "id": "e2390c20",
   "metadata": {},
   "outputs": [
    {
     "name": "stdout",
     "output_type": "stream",
     "text": [
      "test=  0.6642239315513196\n",
      "train=  0.7479904225070833\n"
     ]
    },
    {
     "data": {
      "image/png": "[encoded data removed]",
      "text/plain": [
       "<Figure size 432x288 with 1 Axes>"
      ]
     },
     "metadata": {
      "needs_background": "light"
     },
     "output_type": "display_data"
    }
   ],
   "source": [
    "y_pred=DB_best.predict_proba(X_te_2)[:,1]    # predict the probabitity of class 1 = (approved)\n",
    "print(\"test= \",metrics.roc_auc_score(Y_test, y_pred))\n",
    "fpr, tpr, threshold = metrics.roc_curve(Y_test, y_pred)\n",
    "roc_auc_test = metrics.auc(fpr, tpr)\n",
    "\n",
    "y_pred_class_train = DB_best.predict_proba(X_tr_2)[:,1]   # predict the probabitity of class 1 = (approved)\n",
    "print(\"train= \",metrics.roc_auc_score(Y_train, y_pred_class_train))\n",
    "fpr_1, tpr_1, threshold_1 = metrics.roc_curve(Y_train, y_pred_class_train)\n",
    "roc_auc_train = metrics.auc(fpr_1, tpr_1)\n",
    "\n",
    "plt.title('Receiver Operating Characteristic')\n",
    "plt.plot(fpr, tpr, 'b', label = 'AUC test = %0.2f' % roc_auc_test)\n",
    "plt.plot(fpr_1, tpr_1, 'y', label = 'AUC train = %0.2f' % roc_auc_train)\n",
    "plt.legend(loc = 'lower right')\n",
    "plt.plot([0, 1], [0, 1],'r--')\n",
    "plt.xlim([0, 1])\n",
    "plt.ylim([0, 1])\n",
    "plt.ylabel('True Positive Rate (TPR)')\n",
    "plt.xlabel('False Positive Rate (FPR)')\n",
    "plt.show()"
   ]
  },
  {
   "cell_type": "markdown",
   "id": "07506796",
   "metadata": {},
   "source": [
    "### 4.5 Confusion matrix"
   ]
  },
  {
   "cell_type": "markdown",
   "id": "fb1267c2",
   "metadata": {},
   "source": [
    "Train data set"
   ]
  },
  {
   "cell_type": "code",
   "execution_count": 44,
   "id": "5976931e",
   "metadata": {},
   "outputs": [
    {
     "name": "stdout",
     "output_type": "stream",
     "text": [
      "[[   35  3564]\n",
      " [    0 19851]]\n"
     ]
    },
    {
     "data": {
      "image/png": "[encoded data removed]",
      "text/plain": [
       "<Figure size 432x288 with 2 Axes>"
      ]
     },
     "metadata": {
      "needs_background": "light"
     },
     "output_type": "display_data"
    }
   ],
   "source": [
    "import seaborn as sns\n",
    "\n",
    "y_pred_bi=DB_best.predict(X_tr_2)\n",
    "cf_matrix=confusion_matrix(Y_train,y_pred_bi)\n",
    "\n",
    "ax= plt.subplot();\n",
    "sns.heatmap(cf_matrix, annot=True,cmap='Oranges',ax=ax);\n",
    "# labels, title and ticks\n",
    "ax.set_xlabel('Predicted values');ax.set_ylabel('Actual values'); \n",
    "ax.set_ylim(2.0, 0)\n",
    "ax.set_title('Confusion Matrix of train data');\n",
    "ax.xaxis.set_ticklabels(['0','1']); \n",
    "ax.yaxis.set_ticklabels(['0','1']);\n",
    "print(cf_matrix)"
   ]
  },
  {
   "cell_type": "markdown",
   "id": "24e7f24f",
   "metadata": {},
   "source": [
    "Test data set"
   ]
  },
  {
   "cell_type": "code",
   "execution_count": 45,
   "id": "8bca0354",
   "metadata": {},
   "outputs": [
    {
     "name": "stdout",
     "output_type": "stream",
     "text": [
      "[[   6 1766]\n",
      " [   6 9772]]\n"
     ]
    },
    {
     "data": {
      "image/png": "[encoded data removed]",
      "text/plain": [
       "<Figure size 432x288 with 2 Axes>"
      ]
     },
     "metadata": {
      "needs_background": "light"
     },
     "output_type": "display_data"
    }
   ],
   "source": [
    "y_pred_bi=DB_best.predict(X_te_2)\n",
    "cf_matrix=confusion_matrix(Y_test,y_pred_bi)\n",
    "\n",
    "ax= plt.subplot();\n",
    "sns.heatmap(cf_matrix, annot=True,cmap='Blues',ax=ax);\n",
    "# labels, title and ticks\n",
    "ax.set_xlabel('Predicted values');ax.set_ylabel('Actual values'); \n",
    "ax.set_ylim(2.0, 0)\n",
    "ax.set_title('Confusion Matrix of test data');\n",
    "ax.xaxis.set_ticklabels(['0','1']); \n",
    "ax.yaxis.set_ticklabels(['0','1']);\n",
    "print(cf_matrix)"
   ]
  },
  {
   "cell_type": "markdown",
   "id": "97d30d44",
   "metadata": {},
   "source": [
    "# 5. Outputs "
   ]
  },
  {
   "cell_type": "code",
   "execution_count": 54,
   "id": "ca27e60f",
   "metadata": {},
   "outputs": [
    {
     "name": "stdout",
     "output_type": "stream",
     "text": [
      "+------------+-------+----------------------------+--------------------------------+--------------------+\n",
      "| Vectorizer | Model | Hyper parameter(max depth) | hyper parameter(n_estimators)  |        AUC         |\n",
      "+------------+-------+----------------------------+--------------------------------+--------------------+\n",
      "|   TFIDF    |  GBDT |             4              |               20               | 0.6551416041078073 |\n",
      "| TFIDF W2V  |  GBDT |             4              |               20               | 0.6642239315513196 |\n",
      "+------------+-------+----------------------------+--------------------------------+--------------------+\n"
     ]
    }
   ],
   "source": [
    "from prettytable import PrettyTable\n",
    "x = PrettyTable()\n",
    "x.field_names = [\"Vectorizer\", \"Model\", \"Hyper parameter(max depth)\",\"hyper parameter(n_estimators) \",\"AUC\"]\n",
    "x.add_row([\"TFIDF\", \"GBDT\", 4,20, 0.6551416041078073])\n",
    "x.add_row([\"TFIDF W2V\", \"GBDT\", 4,20, 0.6642239315513196])\n",
    "print(x)"
   ]
  },
  {
   "cell_type": "code",
   "execution_count": null,
   "id": "50807ea7",
   "metadata": {},
   "outputs": [],
   "source": []
  }
 ],
 "metadata": {
  "kernelspec": {
   "display_name": "Python 3 (ipykernel)",
   "language": "python",
   "name": "python3"
  },
  "language_info": {
   "codemirror_mode": {
    "name": "ipython",
    "version": 3
   },
   "file_extension": ".py",
   "mimetype": "text/x-python",
   "name": "python",
   "nbconvert_exporter": "python",
   "pygments_lexer": "ipython3",
   "version": "3.8.13"
  }
 },
 "nbformat": 4,
 "nbformat_minor": 5
}
