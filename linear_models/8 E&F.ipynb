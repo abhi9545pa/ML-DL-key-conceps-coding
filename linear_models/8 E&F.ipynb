{
 "cells": [
  {
   "cell_type": "markdown",
   "id": "4b7ab69a",
   "metadata": {},
   "source": [
    "# Task E"
   ]
  },
  {
   "cell_type": "code",
   "execution_count": 1,
   "id": "8eb34adf",
   "metadata": {},
   "outputs": [],
   "source": [
    "import numpy as np\n",
    "import pandas as pd\n",
    "from sklearn.datasets import make_classification\n",
    "import numpy as np\n",
    "from sklearn.svm import SVC"
   ]
  },
  {
   "cell_type": "code",
   "execution_count": 2,
   "id": "97a4ed27",
   "metadata": {},
   "outputs": [],
   "source": [
    "X, y = make_classification(n_samples=5000, n_features=5, n_redundant=2,\n",
    "                           n_classes=2, weights=[0.7], class_sep=0.7, random_state=15)"
   ]
  },
  {
   "cell_type": "code",
   "execution_count": 3,
   "id": "af3439d0",
   "metadata": {},
   "outputs": [
    {
     "name": "stdout",
     "output_type": "stream",
     "text": [
      "(3000, 5) (1000, 5) (1000, 5)\n"
     ]
    }
   ],
   "source": [
    "# you can write your code here\n",
    "# Split the data into  𝑋𝑡𝑟𝑎𝑖𝑛 (60),  𝑋𝑐𝑣 (20),  𝑋𝑡𝑒𝑠𝑡 (20)\n",
    "from sklearn.model_selection import train_test_split\n",
    "\n",
    "X_tr,X_test,y_tr,y_test=train_test_split(X,y,random_state=42,test_size=0.2)\n",
    "X_train,X_cv,y_train,y_cv=train_test_split(X_tr,y_tr,random_state=42,test_size=0.25)\n",
    "print(X_train.shape,X_test.shape,X_cv.shape)\n",
    "\n",
    "clf=SVC(𝑔𝑎𝑚𝑚𝑎=0.001,𝐶=100)\n",
    "clf.fit(X_train,y_train)\n",
    "\n",
    "f_cv=clf.decision_function(X_cv)\n",
    "\n",
    "\n",
    "\n",
    "intercept=clf.intercept_\n",
    "dual_coef=clf.dual_coef_"
   ]
  },
  {
   "cell_type": "code",
   "execution_count": 4,
   "id": "c2465a3c",
   "metadata": {},
   "outputs": [
    {
     "name": "stderr",
     "output_type": "stream",
     "text": [
      "100%|█████████████████████████████████████████████████████████████████████████████| 1000/1000 [00:04<00:00, 248.26it/s]"
     ]
    },
    {
     "name": "stdout",
     "output_type": "stream",
     "text": [
      "Custom decision function output only first value is printed = 0.8772503226216477\n",
      "Built-in decision function output only first value is printed = 0.8772503226216477\n"
     ]
    },
    {
     "name": "stderr",
     "output_type": "stream",
     "text": [
      "\n"
     ]
    }
   ],
   "source": [
    "g=0.001\n",
    "def custom_de(X_cv,g):\n",
    "    from tqdm import tqdm\n",
    "    inter=clf.intercept_\n",
    "    sup_vecs=clf.support_vectors_\n",
    "    dual_coef=clf.dual_coef_\n",
    "    ans=0\n",
    "    for Xq in tqdm(X_cv):\n",
    "        for i in range(np.shape(sup_vecs)[0]):\n",
    "            k=np.linalg.norm(sup_vecs[i,:]-Xq)\n",
    "            ans =+  dual_coef[0,i]  *  np.exp(-g*(k**2))\n",
    "        ans =+ inter  \n",
    "        fcv=np.append(f_cv,ans)\n",
    "    fcv = np.delete(fcv, -1)\n",
    "    return fcv\n",
    "fcv=custom_de(X_cv,g)\n",
    "\n",
    "head, *tail= fcv\n",
    "print(\"Custom decision function output only first value is printed =\",head)\n",
    "head1, *tail1= f_cv                                 \n",
    "print(\"Built-in decision function output only first value is printed =\",head1)\n"
   ]
  },
  {
   "cell_type": "code",
   "execution_count": 5,
   "id": "b660c725",
   "metadata": {},
   "outputs": [
    {
     "name": "stdout",
     "output_type": "stream",
     "text": [
      "(1000,) (1000,) (1000, 5)\n",
      "1.6044245082713067 1.6044245082713067\n"
     ]
    }
   ],
   "source": [
    "print(f_cv.shape,fcv.shape,X_cv.shape)\n",
    "print(f_cv[-1],fcv[-1])"
   ]
  },
  {
   "cell_type": "markdown",
   "id": "df42b65d",
   "metadata": {},
   "source": [
    "# Task F"
   ]
  },
  {
   "cell_type": "code",
   "execution_count": 12,
   "id": "489471bc",
   "metadata": {},
   "outputs": [
    {
     "data": {
      "text/plain": [
       "(0.9995173745173745, 0.00048262548262548264, 2070, 930)"
      ]
     },
     "execution_count": 12,
     "metadata": {},
     "output_type": "execute_result"
    }
   ],
   "source": [
    "def convter(data):\n",
    "    x=[]\n",
    "    for i in data:\n",
    "        if i==0:         \n",
    "            x.append(y_n)\n",
    "        else:\n",
    "            x.append(y_p)\n",
    "    return x    \n",
    "\n",
    "N_p=list(y_train).count(1)  # N+\n",
    "N_n=list(y_train).count(0)  # N-\n",
    "\n",
    "y_n=(1/(N_n+2))\n",
    "y_p=((N_n+1)/(N_n+2))\n",
    "    \n",
    "u_cv=convter(y_cv)\n",
    "\n",
    "\n",
    "y_p,y_n,N_n,N_p"
   ]
  },
  {
   "cell_type": "code",
   "execution_count": 13,
   "id": "0cb568bf",
   "metadata": {},
   "outputs": [],
   "source": [
    "def initialize_weights(row_vector):\n",
    "    ''' In this function, we will initialize our weights and bias'''\n",
    "    w=np.zeros_like(row_vector)\n",
    "    b=0\n",
    "    return w,b\n",
    "\n",
    "def sigmoid(z):\n",
    "    s=1/(1+(np.exp(-z)))\n",
    "    return s\\\n",
    "\n",
    "def logloss(y_true,y_pred):\n",
    "    sum = 0\n",
    "    for i in range(len(y_true)):\n",
    "        sum +=(y_true[i] * np.log10(y_pred[i])) + ((1-y_true[i]) * np.log10(1-y_pred[i]))\n",
    "    loss = -1 * (1 / len(y_true)) * sum\n",
    "    return np.round(loss,8)\n",
    "\n",
    "def gradient_dw(x,y,w,b,alpha,N):\n",
    "    '''In this function, we will compute the gardient w.r.to w '''\n",
    "    dw=(x * (y-sigmoid(np.dot(w.T,x)+b)) )-((alpha/N)* w)\n",
    "    return np.round(dw,7)\n",
    "\n",
    "def gradient_db(x,y,w,b):\n",
    "    '''In this function, we will compute gradient w.r.to b '''\n",
    "    db = y-sigmoid(np.dot(w.T,x)+b)\n",
    "    return np.round(db,6)\n",
    "\n",
    "def pred(w,b, X):\n",
    "    N = len(X)\n",
    "    predict = []\n",
    "    for i in range(N):\n",
    "        z=np.dot(w,X[i])+b\n",
    "        predict.append(sigmoid(z))\n",
    "    return np.array(predict)\n",
    "\n",
    "from tqdm import tqdm\n",
    "def train(X_train,y_train,epochs,alpha,eta0):\n",
    "    ''' In this function, we will implement logistic regression'''\n",
    "    train_loss = []\n",
    "    test_loss = []\n",
    "    w,b = initialize_weights(X_train[0])\n",
    "    for epoch in tqdm(range(epochs)):\n",
    "        for i in range(len(X_train)):\n",
    "            dw=gradient_dw(X_train[i],y_train[i],w,b,alpha,N)\n",
    "            db=gradient_db(X_train[i],y_train[i],w,b)\n",
    "            w= w + (alpha * dw)\n",
    "            b= b + (alpha * db)\n",
    "            \n",
    "        y_pred_train=pred(w,b,X_train)\n",
    "        y_pred_train=np.clip(y_pred_train, 1e-15, 0.9999999)    \n",
    "        loss1=logloss(y_train,y_pred_train)\n",
    "        train_loss.append(loss1)   \n",
    "    \n",
    "    return w,b,train_loss"
   ]
  },
  {
   "cell_type": "code",
   "execution_count": 14,
   "id": "ee27d99e",
   "metadata": {},
   "outputs": [
    {
     "name": "stderr",
     "output_type": "stream",
     "text": [
      "100%|██████████████████████████████████████████████████████████████████████████████████| 20/20 [00:00<00:00, 31.57it/s]\n"
     ]
    }
   ],
   "source": [
    "alpha=0.001\n",
    "eta0=0.001\n",
    "epochs=20\n",
    "N=len(u_cv)\n",
    "w1,b1,train_loss1 = train(f_cv ,u_cv , epochs , alpha , eta0)"
   ]
  },
  {
   "cell_type": "code",
   "execution_count": 15,
   "id": "333606b0",
   "metadata": {
    "scrolled": true
   },
   "outputs": [
    {
     "name": "stdout",
     "output_type": "stream",
     "text": [
      "1.7331393739000063 -0.12378158099999795 [0.13577686, 0.10633886, 0.09464353, 0.08847181, 0.08471942, 0.08223581, 0.08049632, 0.07922781, 0.07827438, 0.07754074, 0.07696556, 0.07650768, 0.07613852, 0.07583772, 0.07559036, 0.07538535, 0.07521429, 0.0750707, 0.07494953, 0.0748468]\n"
     ]
    }
   ],
   "source": [
    "print(w1,b1,train_loss1)\n",
    "f_test  = clf.decision_function( X_test )"
   ]
  },
  {
   "cell_type": "code",
   "execution_count": 16,
   "id": "f0573f07",
   "metadata": {
    "collapsed": true
   },
   "outputs": [
    {
     "data": {
      "text/plain": [
       "array([7.27889081e-02, 8.42206029e-02, 2.23246259e-01, 1.12120231e-02,\n",
       "       1.75155179e-03, 7.68839529e-01, 9.41481691e-01, 4.76923594e-02,\n",
       "       1.32014280e-03, 6.01744936e-01, 9.81593602e-01, 3.46576596e-03,\n",
       "       2.10347539e-01, 2.71116001e-01, 1.57916033e-01, 9.41881446e-01,\n",
       "       5.06797578e-03, 6.99875195e-03, 7.95188953e-03, 4.75650048e-02,\n",
       "       2.63505869e-02, 9.84536590e-04, 9.78555760e-01, 9.27031380e-01,\n",
       "       1.09744936e-02, 5.12453644e-03, 1.15856350e-03, 1.17444016e-01,\n",
       "       1.41759966e-01, 8.34956747e-01, 1.12216551e-02, 2.22364763e-03,\n",
       "       9.83803180e-04, 3.98615659e-03, 9.42507675e-01, 4.97666280e-01,\n",
       "       4.40820904e-01, 2.24759442e-02, 7.24230267e-01, 8.97556366e-01,\n",
       "       3.21074006e-03, 5.52533746e-01, 5.97380715e-01, 4.97829541e-01,\n",
       "       4.89579919e-03, 9.53894323e-01, 7.65644890e-03, 2.42360368e-03,\n",
       "       8.55696674e-01, 9.65179245e-01, 3.79974339e-01, 5.74759132e-02,\n",
       "       1.29403288e-02, 3.18464834e-03, 8.26265523e-03, 3.60987045e-02,\n",
       "       2.47752277e-02, 1.65163261e-02, 2.12637661e-02, 7.40250964e-01,\n",
       "       6.87285331e-03, 1.72429607e-02, 9.90380549e-03, 7.60897872e-03,\n",
       "       7.08851546e-04, 2.45426982e-03, 6.89454819e-01, 9.41080215e-01,\n",
       "       4.26940887e-02, 7.14078522e-01, 9.27760336e-01, 2.19667868e-03,\n",
       "       1.65905347e-02, 2.95059664e-03, 7.14475598e-01, 7.58443510e-03,\n",
       "       3.22808409e-01, 1.43588193e-01, 1.50896170e-01, 3.34671972e-03,\n",
       "       3.11492910e-02, 9.32866099e-01, 1.73703307e-03, 2.62012083e-02,\n",
       "       8.68473098e-01, 6.83236828e-01, 2.64946467e-01, 7.31074037e-01,\n",
       "       5.23961320e-04, 5.88266707e-02, 9.45055002e-01, 1.30394292e-03,\n",
       "       4.24293185e-02, 5.06326780e-02, 4.38354432e-02, 9.43784533e-01,\n",
       "       5.24087911e-02, 6.39391454e-03, 6.92942188e-02, 7.59237619e-01,\n",
       "       2.57532923e-03, 9.00437090e-01, 1.55140444e-02, 9.88150686e-01,\n",
       "       9.58830624e-01, 9.63799840e-01, 3.78858972e-01, 1.30060029e-02,\n",
       "       9.65118121e-01, 9.34067633e-01, 5.97812895e-03, 1.72367958e-01,\n",
       "       7.80233742e-04, 1.74190310e-03, 3.13944494e-03, 9.49797254e-01,\n",
       "       1.17070553e-01, 1.54567824e-02, 6.50131027e-02, 9.59383166e-01,\n",
       "       1.19884754e-02, 9.16831172e-01, 4.65216413e-02, 3.57322329e-02,\n",
       "       5.08894028e-04, 6.00050408e-02, 3.32190222e-03, 5.23756401e-02,\n",
       "       4.67429064e-03, 8.76705940e-01, 4.60618902e-01, 9.52033671e-01,\n",
       "       9.64727650e-01, 5.48624038e-02, 4.81672492e-02, 6.46792073e-03,\n",
       "       9.55838612e-01, 9.56553123e-01, 4.69333667e-03, 4.03545228e-03,\n",
       "       7.51871372e-02, 9.53831711e-01, 2.94858630e-02, 7.23312967e-01,\n",
       "       6.28708162e-01, 8.87717849e-04, 7.43299475e-01, 6.36917398e-01,\n",
       "       1.94634938e-01, 9.42962471e-01, 1.22898727e-03, 4.87406633e-03,\n",
       "       2.73240260e-03, 1.16601912e-02, 1.98257414e-03, 1.94417006e-03,\n",
       "       6.29832982e-01, 5.61197986e-03, 3.11399518e-02, 9.64098977e-01,\n",
       "       9.85996681e-01, 5.55726580e-03, 1.58121538e-01, 4.12410026e-01,\n",
       "       4.52340473e-02, 2.16272976e-01, 9.71214796e-01, 9.81108273e-04,\n",
       "       6.38416349e-01, 1.30288578e-01, 4.75747791e-01, 1.05028243e-02,\n",
       "       1.47495720e-02, 9.62566233e-01, 1.34408764e-02, 4.08525928e-01,\n",
       "       3.51338558e-02, 2.55119197e-01, 9.66928574e-03, 3.40230611e-01,\n",
       "       5.86601757e-02, 6.92362986e-02, 2.27207628e-01, 8.50416552e-01,\n",
       "       1.90062719e-02, 9.77305578e-01, 9.77151994e-01, 1.35664862e-02,\n",
       "       9.94698955e-01, 6.17602796e-05, 7.15544856e-03, 2.86312134e-04,\n",
       "       2.83784599e-03, 3.33982430e-01, 6.85679648e-03, 9.73217730e-01,\n",
       "       1.04964157e-02, 1.26742520e-02, 3.72763920e-01, 8.49446033e-03,\n",
       "       9.76917336e-01, 1.12968919e-02, 6.36143992e-03, 4.26263206e-02,\n",
       "       3.64045850e-03, 9.11730792e-01, 5.80585705e-02, 9.87452945e-03,\n",
       "       9.23839977e-01, 5.37083906e-02, 4.77840873e-02, 7.55126098e-01,\n",
       "       6.47362049e-01, 1.88472598e-02, 2.44197321e-02, 1.18153938e-02,\n",
       "       4.66607347e-03, 9.45635392e-03, 9.81584685e-01, 1.97237189e-02,\n",
       "       5.90588987e-03, 4.80273118e-03, 8.40278471e-02, 1.17178861e-03,\n",
       "       5.39353371e-03, 1.43948643e-01, 6.63520701e-03, 2.53981034e-02,\n",
       "       9.66976600e-01, 1.28893120e-01, 4.20731363e-02, 2.29234011e-03,\n",
       "       2.12814681e-02, 8.78650951e-01, 1.52588652e-02, 6.08310163e-02,\n",
       "       8.80127381e-01, 6.37799533e-04, 9.64205845e-02, 8.80164124e-01,\n",
       "       2.75562006e-01, 2.35153618e-01, 5.27249989e-02, 7.93674205e-01,\n",
       "       1.59045106e-03, 3.96401752e-02, 1.70935155e-03, 1.41638707e-02,\n",
       "       9.69687810e-01, 9.62762600e-01, 4.08336287e-01, 2.00479641e-02,\n",
       "       8.63976296e-01, 8.00580737e-01, 2.17540323e-03, 1.87569040e-03,\n",
       "       9.32121921e-02, 3.58060283e-03, 4.66142169e-03, 1.54842758e-02,\n",
       "       1.91903089e-03, 4.80486313e-03, 4.56709209e-02, 4.27448386e-02,\n",
       "       2.19706714e-03, 9.69153502e-01, 8.36953579e-01, 8.23127824e-04,\n",
       "       8.02421175e-02, 2.45343018e-03, 8.84620731e-01, 1.48423424e-03,\n",
       "       2.18907540e-03, 8.39859554e-01, 4.71867546e-01, 9.97295338e-01,\n",
       "       1.49779989e-02, 7.99422426e-04, 1.47493284e-01, 4.17632211e-02,\n",
       "       5.30935863e-01, 3.00103440e-02, 1.34334825e-02, 4.47685671e-02,\n",
       "       8.57699388e-01, 1.98357844e-03, 8.87742903e-03, 2.23957153e-02,\n",
       "       2.80876989e-01, 2.58497932e-03, 3.49171519e-02, 9.81417062e-01,\n",
       "       9.91688267e-01, 1.32410540e-02, 4.58212840e-03, 1.03043010e-01,\n",
       "       9.43826405e-01, 1.89077856e-03, 1.05975885e-02, 8.94635423e-01,\n",
       "       1.67017493e-02, 9.41873852e-01, 9.52233703e-01, 1.26454087e-02,\n",
       "       1.53848770e-02, 1.68269414e-01, 9.84082512e-01, 2.99351932e-03,\n",
       "       1.41213032e-01, 7.13362553e-01, 9.15560771e-02, 9.74305196e-01,\n",
       "       8.66294571e-01, 4.90337643e-03, 1.33416682e-01, 2.76031901e-02,\n",
       "       1.44632480e-01, 9.83371150e-01, 1.46242867e-02, 6.45775353e-04,\n",
       "       9.06228274e-01, 1.04047820e-02, 3.01092491e-02, 1.26778181e-01,\n",
       "       5.10788548e-02, 3.54195267e-04, 6.71084794e-03, 4.59553771e-03,\n",
       "       1.80765770e-01, 9.75606609e-01, 2.93157657e-02, 8.98348269e-03,\n",
       "       4.08071458e-03, 1.65685553e-02, 8.48007998e-04, 3.54296585e-03,\n",
       "       4.28638207e-02, 9.50019512e-01, 9.95883008e-04, 7.87179576e-01,\n",
       "       9.19758864e-01, 4.24828478e-02, 9.52077759e-02, 4.01105199e-03,\n",
       "       1.55981617e-02, 5.48684227e-03, 1.99559614e-01, 9.23429272e-01,\n",
       "       4.40153254e-01, 2.86475489e-03, 1.32457568e-03, 2.09291286e-01,\n",
       "       9.45871414e-01, 2.37838712e-02, 9.06281800e-01, 9.93711484e-01,\n",
       "       1.12840357e-03, 7.28955086e-02, 1.11095982e-02, 9.93858422e-02,\n",
       "       9.12927563e-01, 4.23282396e-03, 6.19726593e-03, 4.14500037e-03,\n",
       "       1.54074069e-02, 3.83412868e-03, 6.35436646e-01, 1.62915271e-03,\n",
       "       2.35727525e-03, 9.58983325e-01, 6.26077272e-02, 8.00110198e-01,\n",
       "       3.17530852e-03, 1.00047361e-02, 2.06909173e-01, 6.78137098e-02,\n",
       "       4.93047886e-02, 2.95613944e-01, 3.64369666e-03, 1.86388744e-02,\n",
       "       2.66055077e-02, 9.04046021e-01, 5.78729026e-03, 3.94116980e-01,\n",
       "       4.35182073e-03, 3.00778328e-02, 8.55082919e-01, 1.55554985e-02,\n",
       "       1.31297618e-03, 2.23613495e-02, 6.91849120e-02, 6.33013338e-02,\n",
       "       1.37904605e-02, 8.07585329e-01, 8.31226412e-04, 1.63522671e-01,\n",
       "       2.09553130e-01, 3.00621126e-03, 1.93967070e-02, 9.93032209e-01,\n",
       "       4.69467018e-01, 1.80509505e-02, 5.16125723e-01, 8.80380991e-01,\n",
       "       5.01419063e-02, 9.22639796e-01, 9.69008737e-01, 1.98862091e-03,\n",
       "       2.83060036e-03, 3.27602377e-01, 9.37726914e-01, 1.41922068e-02,\n",
       "       3.10287322e-01, 2.15003739e-01, 5.33766481e-02, 9.71418216e-01,\n",
       "       1.20485863e-02, 1.29160624e-02, 2.44573439e-02, 9.55209814e-04,\n",
       "       4.68608397e-03, 8.92935775e-01, 4.35537135e-03, 9.44397621e-01,\n",
       "       6.75408660e-02, 4.98148086e-01, 2.48220038e-02, 9.75852715e-01,\n",
       "       1.84634053e-01, 9.41254409e-01, 4.91834913e-02, 2.40559994e-03,\n",
       "       7.50461424e-01, 6.87078697e-03, 1.09260356e-02, 4.46431094e-02,\n",
       "       2.21333990e-02, 5.25826820e-03, 3.14703965e-04, 9.08008865e-01,\n",
       "       3.96194639e-02, 4.49784086e-03, 2.47368034e-04, 5.55349925e-01,\n",
       "       1.58121286e-02, 6.68683811e-03, 1.14169062e-02, 9.00825728e-01,\n",
       "       1.22556292e-02, 6.12702875e-03, 8.35184627e-02, 8.68363468e-01,\n",
       "       1.85144126e-02, 4.24337188e-03, 4.43350078e-03, 1.65390887e-01,\n",
       "       4.74641131e-04, 3.30829334e-01, 5.83854037e-02, 7.11891121e-04,\n",
       "       9.47114613e-01, 1.83853952e-01, 5.37015783e-03, 4.63499421e-02,\n",
       "       2.11369537e-02, 5.25442252e-03, 9.47528221e-01, 1.19347984e-01,\n",
       "       3.21699555e-02, 4.93196248e-03, 4.89219390e-03, 6.68690048e-01,\n",
       "       8.07009991e-01, 7.73324662e-03, 9.58985003e-01, 3.78738077e-02,\n",
       "       1.92702934e-02, 8.93241339e-03, 9.15290364e-01, 6.27494571e-01,\n",
       "       3.22886396e-02, 2.05070875e-02, 2.29410478e-01, 1.30442934e-02,\n",
       "       9.22789940e-04, 7.72560640e-01, 9.34918130e-01, 9.50176020e-01,\n",
       "       1.44996516e-02, 6.76025608e-01, 1.29896330e-02, 9.25040580e-01,\n",
       "       9.65772080e-01, 8.41301504e-03, 2.90774008e-02, 1.20652863e-01,\n",
       "       1.05081260e-02, 1.98203711e-01, 1.91321802e-02, 2.52859951e-02,\n",
       "       1.12330028e-01, 7.24484302e-04, 1.76605449e-03, 3.12760429e-03,\n",
       "       9.54000178e-01, 3.55939386e-01, 5.89606723e-03, 5.51399272e-03,\n",
       "       9.25650608e-01, 5.63377614e-01, 9.48460147e-01, 2.25521311e-02,\n",
       "       3.96809354e-03, 8.96590648e-03, 7.62629809e-05, 1.12754254e-02,\n",
       "       1.06128834e-01, 1.09661930e-02, 9.51063425e-01, 4.37611066e-03,\n",
       "       9.67539352e-01, 1.69296769e-02, 9.44361064e-03, 7.60792442e-03,\n",
       "       1.95502187e-01, 1.92080164e-01, 1.47358808e-02, 3.05501997e-01,\n",
       "       5.05788467e-01, 6.16169891e-04, 3.37744302e-04, 4.15305354e-01,\n",
       "       7.59241321e-03, 9.98538272e-01, 6.31956860e-02, 1.89263296e-03,\n",
       "       2.56691914e-03, 5.95427605e-01, 1.50729009e-02, 1.87178614e-02,\n",
       "       1.71623795e-02, 7.59127390e-03, 1.30906842e-02, 1.08375317e-01,\n",
       "       6.91162429e-03, 5.80052867e-03, 9.71785485e-01, 6.56524687e-01,\n",
       "       1.41281823e-01, 4.12813642e-02, 7.95384178e-02, 2.37624896e-03,\n",
       "       7.00678762e-03, 2.01263294e-02, 4.03650134e-03, 1.11165003e-02,\n",
       "       2.85380731e-04, 2.64952420e-03, 8.02430921e-04, 9.47174608e-01,\n",
       "       9.15577255e-01, 3.49558698e-02, 1.58868941e-03, 9.38163100e-01,\n",
       "       3.77459360e-03, 2.39579646e-04, 8.97006122e-01, 8.54471751e-01,\n",
       "       5.44969609e-03, 6.02954611e-01, 8.92553486e-01, 9.52104874e-01,\n",
       "       5.17178940e-02, 9.51099487e-01, 1.23967149e-02, 2.15806902e-03,\n",
       "       4.26264272e-03, 3.15729048e-03, 4.62193317e-03, 1.35625058e-02,\n",
       "       1.75707090e-02, 8.76726213e-01, 2.58596842e-02, 4.84664579e-03,\n",
       "       2.61576160e-02, 4.53561438e-03, 6.89018556e-01, 1.07809338e-03,\n",
       "       8.89006650e-01, 6.75315476e-01, 4.83534218e-02, 1.07081313e-02,\n",
       "       1.38625319e-02, 9.13747350e-01, 7.04373837e-01, 8.62515252e-01,\n",
       "       9.52589249e-01, 7.09102643e-01, 9.56060012e-01, 2.40137527e-01,\n",
       "       3.07015413e-01, 9.75744283e-01, 9.57980793e-03, 8.87434161e-03,\n",
       "       9.76659792e-01, 8.70697853e-01, 6.90179652e-02, 3.34232080e-02,\n",
       "       9.45240762e-01, 5.10998890e-02, 9.81547626e-01, 1.26675627e-01,\n",
       "       3.43533359e-03, 4.76434959e-03, 4.40516460e-02, 6.18935015e-01,\n",
       "       2.88806308e-03, 4.80267883e-01, 5.50624997e-01, 8.50709258e-02,\n",
       "       9.58233412e-01, 1.04540909e-02, 1.65028945e-03, 1.12658063e-01,\n",
       "       2.64538144e-03, 3.34597464e-03, 2.16595540e-01, 9.65033272e-01,\n",
       "       1.92750798e-02, 4.73541167e-01, 9.32145622e-01, 8.90965026e-03,\n",
       "       4.91831930e-03, 9.07741162e-01, 7.61061096e-01, 8.75469154e-01,\n",
       "       8.69908045e-03, 5.69559669e-03, 3.47830895e-03, 1.11429991e-03,\n",
       "       2.97896344e-02, 1.88866123e-02, 1.00135354e-02, 9.80962928e-01,\n",
       "       9.64003518e-01, 6.41620198e-02, 3.63701407e-01, 1.30575593e-02,\n",
       "       4.69885065e-04, 2.80552950e-02, 3.48663724e-02, 6.61769410e-03,\n",
       "       2.35210910e-02, 1.03240504e-02, 4.02553226e-03, 2.32058905e-02,\n",
       "       3.53346914e-02, 8.07653278e-01, 3.17445720e-02, 6.80750939e-03,\n",
       "       2.49484968e-04, 1.46276821e-02, 9.39472761e-01, 3.49590228e-01,\n",
       "       4.92396921e-01, 1.78696635e-04, 1.27153876e-02, 3.14841465e-03,\n",
       "       1.05386772e-02, 5.88284810e-02, 4.64874949e-03, 9.59647451e-01,\n",
       "       9.62150235e-01, 4.37426076e-03, 9.66651886e-01, 9.44576135e-01,\n",
       "       3.01140529e-02, 6.35940630e-02, 9.66980118e-01, 9.81537767e-01,\n",
       "       1.27247757e-03, 8.17439918e-03, 7.24318627e-02, 7.72759947e-02,\n",
       "       9.84090706e-03, 3.90632822e-02, 2.45065177e-02, 5.58447282e-02,\n",
       "       1.25010658e-01, 9.56016352e-01, 7.41777914e-02, 8.15130975e-03,\n",
       "       9.81237597e-01, 9.86135989e-03, 6.47493570e-02, 2.93414621e-03,\n",
       "       5.40400677e-02, 1.20229061e-02, 4.09514514e-01, 7.63501797e-04,\n",
       "       1.55974792e-02, 7.62365740e-03, 3.19573088e-02, 3.77710486e-04,\n",
       "       1.51520186e-02, 9.50964598e-01, 1.90573660e-01, 9.60036286e-01,\n",
       "       4.55192547e-02, 9.16320423e-03, 9.42696165e-01, 9.51322715e-01,\n",
       "       6.58421881e-02, 1.84440666e-02, 1.37190302e-01, 8.90985650e-01,\n",
       "       9.80340382e-01, 9.13522934e-01, 2.16120939e-01, 9.47331729e-03,\n",
       "       5.56976493e-01, 6.37097258e-01, 2.40303416e-01, 5.78433665e-03,\n",
       "       6.67102603e-02, 9.55059329e-01, 9.44079991e-01, 9.67841857e-01,\n",
       "       8.84804426e-03, 7.91316482e-02, 2.13118782e-03, 6.21857447e-03,\n",
       "       7.85618091e-04, 9.59290858e-01, 9.77953333e-04, 8.43660485e-03,\n",
       "       1.37430868e-02, 2.48528176e-02, 9.65337433e-01, 8.50444084e-01,\n",
       "       9.53574516e-01, 8.46515103e-01, 3.60118121e-04, 9.21085362e-01,\n",
       "       6.47003739e-04, 4.94533953e-02, 3.06597464e-03, 6.97060149e-03,\n",
       "       2.92028245e-02, 4.61349750e-02, 5.20597979e-02, 1.13609445e-02,\n",
       "       1.78346342e-02, 2.34934200e-02, 3.75916901e-02, 4.12300149e-03,\n",
       "       3.22359634e-02, 3.78058232e-01, 6.05116123e-03, 3.79629209e-04,\n",
       "       8.73097027e-01, 9.32662178e-01, 1.77316497e-02, 9.65418518e-01,\n",
       "       4.06573360e-01, 7.86452697e-03, 8.14725919e-01, 8.56394172e-01,\n",
       "       1.66513447e-01, 2.80829847e-02, 2.57081035e-02, 4.43909450e-03,\n",
       "       3.30251383e-02, 1.51985480e-02, 5.64122268e-03, 1.96321951e-02,\n",
       "       1.84943598e-03, 2.21893360e-03, 9.54684958e-01, 5.05303645e-02,\n",
       "       9.47428580e-01, 1.48142799e-02, 7.21300050e-03, 2.29019607e-03,\n",
       "       7.82200686e-04, 9.53410375e-01, 6.85397012e-04, 5.56695105e-02,\n",
       "       8.48045581e-01, 2.61851510e-02, 1.56299516e-03, 3.22166363e-02,\n",
       "       6.03260310e-03, 9.11748051e-01, 9.58942648e-01, 4.87712000e-02,\n",
       "       7.16894252e-03, 9.69261980e-01, 9.10554903e-01, 1.25231892e-03,\n",
       "       3.64315421e-02, 3.62191314e-03, 6.06705850e-03, 1.53757335e-02,\n",
       "       3.03159697e-02, 2.43733797e-02, 1.41635808e-02, 9.63511368e-01,\n",
       "       4.17635413e-02, 1.94321686e-02, 5.46151417e-03, 1.50219274e-03,\n",
       "       9.44173970e-01, 1.41833013e-01, 4.38713710e-03, 5.09291848e-03,\n",
       "       2.30944222e-02, 9.43769997e-01, 6.09621666e-02, 1.99186254e-02,\n",
       "       6.16524678e-02, 1.40166130e-01, 4.20324308e-02, 8.77459964e-01,\n",
       "       3.96547109e-02, 2.73984579e-02, 1.63148931e-03, 7.05979485e-01,\n",
       "       1.78001553e-02, 1.40185649e-01, 4.86720094e-01, 1.69670329e-03,\n",
       "       6.85901179e-03, 1.41501152e-03, 4.49777053e-01, 5.30470825e-01,\n",
       "       4.88932303e-04, 6.03756636e-01, 7.88159530e-03, 4.84145018e-03,\n",
       "       1.18957548e-02, 1.04601177e-03, 3.79650046e-02, 4.38663135e-04,\n",
       "       9.98141550e-01, 7.73358074e-03, 2.70624227e-02, 1.18453176e-01,\n",
       "       9.52306255e-01, 8.28973778e-01, 8.69311521e-01, 9.35547332e-02,\n",
       "       8.72879327e-01, 9.74665546e-01, 8.96309446e-01, 1.51289057e-02,\n",
       "       9.77458306e-01, 1.51573517e-03, 5.22003724e-02, 9.03956604e-01,\n",
       "       5.52193542e-01, 2.04671676e-01, 4.51314696e-03, 8.51936597e-02,\n",
       "       1.45543894e-02, 8.67983354e-01, 8.57214603e-01, 9.10902689e-01,\n",
       "       6.54175431e-03, 9.36419146e-03, 1.32446953e-01, 7.58666885e-01,\n",
       "       4.33769528e-03, 7.84556563e-01, 9.84804275e-02, 2.67258655e-03,\n",
       "       7.59124764e-03, 2.92595936e-03, 1.55697320e-03, 1.18320536e-02,\n",
       "       4.27742172e-03, 9.63380385e-01, 1.68308274e-02, 1.51357346e-01,\n",
       "       1.61999519e-02, 8.65680081e-01, 9.45797272e-01, 9.36072388e-01,\n",
       "       4.41564158e-02, 1.09430121e-02, 4.01210276e-03, 9.79607985e-01,\n",
       "       4.42722987e-01, 2.22500176e-01, 2.65250899e-01, 9.46527810e-01,\n",
       "       7.72124311e-01, 3.40155388e-02, 9.25360696e-01, 4.62122515e-03,\n",
       "       4.51052091e-02, 4.38544618e-03, 3.89436924e-03, 7.00919614e-01,\n",
       "       9.58879440e-01, 2.05969955e-02, 9.32930016e-01, 1.87369780e-03,\n",
       "       9.58977577e-01, 9.32646338e-01, 7.27581388e-02, 7.43028374e-03,\n",
       "       3.03229894e-01, 9.74105963e-01, 1.81122473e-02, 1.50013838e-02,\n",
       "       9.48642597e-01, 1.96443667e-03, 1.52879900e-03, 1.46638127e-03,\n",
       "       9.57613039e-02, 3.90130093e-02, 1.03336996e-03, 1.45640805e-03,\n",
       "       2.31858171e-03, 2.69656040e-01, 9.57118328e-01, 3.92433736e-01,\n",
       "       7.40653793e-01, 5.65370419e-02, 6.07676449e-03, 5.65075713e-03,\n",
       "       3.20475600e-01, 4.24171039e-01, 9.55553294e-01, 9.27890347e-03,\n",
       "       9.54951439e-01, 3.91852504e-01, 1.36436656e-02, 6.41945314e-03,\n",
       "       1.66907132e-01, 3.34046677e-01, 7.33971448e-02, 3.01739139e-01,\n",
       "       9.84321719e-01, 5.70999466e-02, 1.48432225e-02, 1.75447232e-01,\n",
       "       8.51625678e-03, 9.76294694e-01, 2.04877796e-02, 2.54424166e-01,\n",
       "       2.36710836e-02, 3.41480905e-01, 1.86995375e-02, 6.39264413e-03,\n",
       "       1.70707992e-02, 7.08421759e-03, 9.80577769e-01, 3.84444592e-03,\n",
       "       1.69156054e-02, 9.28737570e-01, 1.97256266e-02, 4.66910807e-02,\n",
       "       1.69325042e-01, 1.25851034e-01, 1.10283896e-02, 9.53639202e-01,\n",
       "       3.44415613e-01, 9.68710480e-01, 9.50481304e-01, 6.99062658e-03,\n",
       "       5.55542180e-01, 1.20062502e-02, 1.34213915e-01, 6.82269144e-01,\n",
       "       2.48493106e-02, 3.88406191e-03, 3.99083431e-02, 9.16596401e-01,\n",
       "       9.68212249e-01, 1.23071322e-03, 8.59124458e-01, 9.37860565e-01,\n",
       "       1.54699707e-01, 2.56091245e-03, 8.46040849e-03, 2.98349906e-03,\n",
       "       6.00249098e-02, 9.04878894e-01, 9.46425214e-03, 5.09082175e-02,\n",
       "       8.36206576e-01, 9.68733190e-01, 2.29006637e-01, 1.58745415e-02,\n",
       "       1.18821035e-01, 9.60880888e-01, 9.78721722e-01, 8.52986939e-04])"
      ]
     },
     "execution_count": 16,
     "metadata": {},
     "output_type": "execute_result"
    }
   ],
   "source": [
    "def prob(w1,b1,f_test):\n",
    "    z=w1*f_test+b1\n",
    "    s=1/(1+(np.exp(-z)))\n",
    "    return s\n",
    "prob(w1,b1,f_test)"
   ]
  },
  {
   "cell_type": "code",
   "execution_count": 29,
   "id": "72f41b3e",
   "metadata": {},
   "outputs": [
    {
     "name": "stdout",
     "output_type": "stream",
     "text": [
      "[ 1  2  3  4  5  6  7  8  9 10 11 12 13 14 15 16 17 18 19 20] [0.13577686, 0.10633886, 0.09464353, 0.08847181, 0.08471942, 0.08223581, 0.08049632, 0.07922781, 0.07827438, 0.07754074, 0.07696556, 0.07650768, 0.07613852, 0.07583772, 0.07559036, 0.07538535, 0.07521429, 0.0750707, 0.07494953, 0.0748468]\n"
     ]
    },
    {
     "data": {
      "text/plain": [
       "Text(0.5, 1.0, 'epochs vs loss')"
      ]
     },
     "execution_count": 29,
     "metadata": {},
     "output_type": "execute_result"
    },
    {
     "data": {
      "image/png": "[encoded data removed]",
      "text/plain": [
       "<Figure size 432x288 with 1 Axes>"
      ]
     },
     "metadata": {
      "needs_background": "light"
     },
     "output_type": "display_data"
    }
   ],
   "source": [
    "import matplotlib.pyplot as plt\n",
    "y=train_loss1\n",
    "x=np.arange(1,epochs+1)\n",
    "plt.plot(x, y)\n",
    "plt.xlabel(\"epochs\")\n",
    "plt.ylabel(\"loss on train\")\n",
    "plt.title(\"epochs vs loss\")"
   ]
  },
  {
   "cell_type": "code",
   "execution_count": null,
   "id": "8a805a02",
   "metadata": {},
   "outputs": [],
   "source": []
  }
 ],
 "metadata": {
  "kernelspec": {
   "display_name": "Python 3",
   "language": "python",
   "name": "python3"
  },
  "language_info": {
   "codemirror_mode": {
    "name": "ipython",
    "version": 3
   },
   "file_extension": ".py",
   "mimetype": "text/x-python",
   "name": "python",
   "nbconvert_exporter": "python",
   "pygments_lexer": "ipython3",
   "version": "3.8.8"
  }
 },
 "nbformat": 4,
 "nbformat_minor": 5
}
