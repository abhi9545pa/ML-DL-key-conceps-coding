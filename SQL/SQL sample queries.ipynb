{
 "cells": [
  {
   "cell_type": "markdown",
   "metadata": {
    "id": "hmzI5oZ6E_Hp"
   },
   "source": [
    "# SQL Assignment"
   ]
  },
  {
   "cell_type": "code",
   "execution_count": 2,
   "metadata": {
    "id": "wso5pGwnE_Ht"
   },
   "outputs": [],
   "source": [
    "import pandas as pd\n",
    "import sqlite3\n",
    "\n",
    "from IPython.display import display, HTML"
   ]
  },
  {
   "cell_type": "code",
   "execution_count": null,
   "metadata": {
    "id": "uMYMAPLm23sp"
   },
   "outputs": [],
   "source": [
    "# Note that this is not the same db we have used in course videos, please download from this link\n",
    "# https://drive.google.com/file/d/1O-1-L1DdNxEK6O6nG2jS31MbrMh-OnXM/view?usp=sharing"
   ]
  },
  {
   "cell_type": "code",
   "execution_count": 3,
   "metadata": {
    "id": "xrUl9ShkE_H0"
   },
   "outputs": [],
   "source": [
    "conn = sqlite3.connect(\"Db-IMDB-Assignment.db\")"
   ]
  },
  {
   "cell_type": "markdown",
   "metadata": {
    "id": "Z_ADQl2BE_H6"
   },
   "source": [
    "#### Overview of all tables"
   ]
  },
  {
   "cell_type": "code",
   "execution_count": 4,
   "metadata": {
    "id": "7ZfheusYE_H7",
    "scrolled": true
   },
   "outputs": [],
   "source": [
    "tables = pd.read_sql_query(\"SELECT NAME AS 'Table_Name' FROM sqlite_master WHERE type='table'\",conn)\n",
    "tables = tables[\"Table_Name\"].values.tolist()"
   ]
  },
  {
   "cell_type": "code",
   "execution_count": 5,
   "metadata": {
    "colab": {
     "base_uri": "https://localhost:8080/",
     "height": 1000
    },
    "collapsed": true,
    "executionInfo": {
     "elapsed": 1573,
     "status": "ok",
     "timestamp": 1609076958858,
     "user": {
      "displayName": "Applied AI Course",
      "photoUrl": "https://lh3.googleusercontent.com/a-/AOh14GhuSQ5tWcMSEyUXWi5GYagbq0BttLJf6r6PPxrB=s64",
      "userId": "00484516897554883881"
     },
     "user_tz": -330
    },
    "id": "f3zLh5FGE_H_",
    "outputId": "a443d072-a22f-4d15-bff8-0b8a4ee78d5c"
   },
   "outputs": [
    {
     "name": "stdout",
     "output_type": "stream",
     "text": [
      "Schema of Movie\n"
     ]
    },
    {
     "data": {
      "text/html": [
       "<div>\n",
       "<style scoped>\n",
       "    .dataframe tbody tr th:only-of-type {\n",
       "        vertical-align: middle;\n",
       "    }\n",
       "\n",
       "    .dataframe tbody tr th {\n",
       "        vertical-align: top;\n",
       "    }\n",
       "\n",
       "    .dataframe thead th {\n",
       "        text-align: right;\n",
       "    }\n",
       "</style>\n",
       "<table border=\"1\" class=\"dataframe\">\n",
       "  <thead>\n",
       "    <tr style=\"text-align: right;\">\n",
       "      <th></th>\n",
       "      <th>cid</th>\n",
       "      <th>name</th>\n",
       "      <th>type</th>\n",
       "      <th>notnull</th>\n",
       "      <th>dflt_value</th>\n",
       "      <th>pk</th>\n",
       "    </tr>\n",
       "  </thead>\n",
       "  <tbody>\n",
       "    <tr>\n",
       "      <th>0</th>\n",
       "      <td>0</td>\n",
       "      <td>index</td>\n",
       "      <td>INTEGER</td>\n",
       "      <td>0</td>\n",
       "      <td>None</td>\n",
       "      <td>0</td>\n",
       "    </tr>\n",
       "    <tr>\n",
       "      <th>1</th>\n",
       "      <td>1</td>\n",
       "      <td>MID</td>\n",
       "      <td>TEXT</td>\n",
       "      <td>0</td>\n",
       "      <td>None</td>\n",
       "      <td>0</td>\n",
       "    </tr>\n",
       "    <tr>\n",
       "      <th>2</th>\n",
       "      <td>2</td>\n",
       "      <td>title</td>\n",
       "      <td>TEXT</td>\n",
       "      <td>0</td>\n",
       "      <td>None</td>\n",
       "      <td>0</td>\n",
       "    </tr>\n",
       "    <tr>\n",
       "      <th>3</th>\n",
       "      <td>3</td>\n",
       "      <td>year</td>\n",
       "      <td>TEXT</td>\n",
       "      <td>0</td>\n",
       "      <td>None</td>\n",
       "      <td>0</td>\n",
       "    </tr>\n",
       "    <tr>\n",
       "      <th>4</th>\n",
       "      <td>4</td>\n",
       "      <td>rating</td>\n",
       "      <td>REAL</td>\n",
       "      <td>0</td>\n",
       "      <td>None</td>\n",
       "      <td>0</td>\n",
       "    </tr>\n",
       "    <tr>\n",
       "      <th>5</th>\n",
       "      <td>5</td>\n",
       "      <td>num_votes</td>\n",
       "      <td>INTEGER</td>\n",
       "      <td>0</td>\n",
       "      <td>None</td>\n",
       "      <td>0</td>\n",
       "    </tr>\n",
       "  </tbody>\n",
       "</table>\n",
       "</div>"
      ],
      "text/plain": [
       "   cid       name     type  notnull dflt_value  pk\n",
       "0    0      index  INTEGER        0       None   0\n",
       "1    1        MID     TEXT        0       None   0\n",
       "2    2      title     TEXT        0       None   0\n",
       "3    3       year     TEXT        0       None   0\n",
       "4    4     rating     REAL        0       None   0\n",
       "5    5  num_votes  INTEGER        0       None   0"
      ]
     },
     "metadata": {},
     "output_type": "display_data"
    },
    {
     "name": "stdout",
     "output_type": "stream",
     "text": [
      "----------------------------------------------------------------------------------------------------\n",
      "\n",
      "\n",
      "Schema of Genre\n"
     ]
    },
    {
     "data": {
      "text/html": [
       "<div>\n",
       "<style scoped>\n",
       "    .dataframe tbody tr th:only-of-type {\n",
       "        vertical-align: middle;\n",
       "    }\n",
       "\n",
       "    .dataframe tbody tr th {\n",
       "        vertical-align: top;\n",
       "    }\n",
       "\n",
       "    .dataframe thead th {\n",
       "        text-align: right;\n",
       "    }\n",
       "</style>\n",
       "<table border=\"1\" class=\"dataframe\">\n",
       "  <thead>\n",
       "    <tr style=\"text-align: right;\">\n",
       "      <th></th>\n",
       "      <th>cid</th>\n",
       "      <th>name</th>\n",
       "      <th>type</th>\n",
       "      <th>notnull</th>\n",
       "      <th>dflt_value</th>\n",
       "      <th>pk</th>\n",
       "    </tr>\n",
       "  </thead>\n",
       "  <tbody>\n",
       "    <tr>\n",
       "      <th>0</th>\n",
       "      <td>0</td>\n",
       "      <td>index</td>\n",
       "      <td>INTEGER</td>\n",
       "      <td>0</td>\n",
       "      <td>None</td>\n",
       "      <td>0</td>\n",
       "    </tr>\n",
       "    <tr>\n",
       "      <th>1</th>\n",
       "      <td>1</td>\n",
       "      <td>Name</td>\n",
       "      <td>TEXT</td>\n",
       "      <td>0</td>\n",
       "      <td>None</td>\n",
       "      <td>0</td>\n",
       "    </tr>\n",
       "    <tr>\n",
       "      <th>2</th>\n",
       "      <td>2</td>\n",
       "      <td>GID</td>\n",
       "      <td>INTEGER</td>\n",
       "      <td>0</td>\n",
       "      <td>None</td>\n",
       "      <td>0</td>\n",
       "    </tr>\n",
       "  </tbody>\n",
       "</table>\n",
       "</div>"
      ],
      "text/plain": [
       "   cid   name     type  notnull dflt_value  pk\n",
       "0    0  index  INTEGER        0       None   0\n",
       "1    1   Name     TEXT        0       None   0\n",
       "2    2    GID  INTEGER        0       None   0"
      ]
     },
     "metadata": {},
     "output_type": "display_data"
    },
    {
     "name": "stdout",
     "output_type": "stream",
     "text": [
      "----------------------------------------------------------------------------------------------------\n",
      "\n",
      "\n",
      "Schema of Language\n"
     ]
    },
    {
     "data": {
      "text/html": [
       "<div>\n",
       "<style scoped>\n",
       "    .dataframe tbody tr th:only-of-type {\n",
       "        vertical-align: middle;\n",
       "    }\n",
       "\n",
       "    .dataframe tbody tr th {\n",
       "        vertical-align: top;\n",
       "    }\n",
       "\n",
       "    .dataframe thead th {\n",
       "        text-align: right;\n",
       "    }\n",
       "</style>\n",
       "<table border=\"1\" class=\"dataframe\">\n",
       "  <thead>\n",
       "    <tr style=\"text-align: right;\">\n",
       "      <th></th>\n",
       "      <th>cid</th>\n",
       "      <th>name</th>\n",
       "      <th>type</th>\n",
       "      <th>notnull</th>\n",
       "      <th>dflt_value</th>\n",
       "      <th>pk</th>\n",
       "    </tr>\n",
       "  </thead>\n",
       "  <tbody>\n",
       "    <tr>\n",
       "      <th>0</th>\n",
       "      <td>0</td>\n",
       "      <td>index</td>\n",
       "      <td>INTEGER</td>\n",
       "      <td>0</td>\n",
       "      <td>None</td>\n",
       "      <td>0</td>\n",
       "    </tr>\n",
       "    <tr>\n",
       "      <th>1</th>\n",
       "      <td>1</td>\n",
       "      <td>Name</td>\n",
       "      <td>TEXT</td>\n",
       "      <td>0</td>\n",
       "      <td>None</td>\n",
       "      <td>0</td>\n",
       "    </tr>\n",
       "    <tr>\n",
       "      <th>2</th>\n",
       "      <td>2</td>\n",
       "      <td>LAID</td>\n",
       "      <td>INTEGER</td>\n",
       "      <td>0</td>\n",
       "      <td>None</td>\n",
       "      <td>0</td>\n",
       "    </tr>\n",
       "  </tbody>\n",
       "</table>\n",
       "</div>"
      ],
      "text/plain": [
       "   cid   name     type  notnull dflt_value  pk\n",
       "0    0  index  INTEGER        0       None   0\n",
       "1    1   Name     TEXT        0       None   0\n",
       "2    2   LAID  INTEGER        0       None   0"
      ]
     },
     "metadata": {},
     "output_type": "display_data"
    },
    {
     "name": "stdout",
     "output_type": "stream",
     "text": [
      "----------------------------------------------------------------------------------------------------\n",
      "\n",
      "\n",
      "Schema of Country\n"
     ]
    },
    {
     "data": {
      "text/html": [
       "<div>\n",
       "<style scoped>\n",
       "    .dataframe tbody tr th:only-of-type {\n",
       "        vertical-align: middle;\n",
       "    }\n",
       "\n",
       "    .dataframe tbody tr th {\n",
       "        vertical-align: top;\n",
       "    }\n",
       "\n",
       "    .dataframe thead th {\n",
       "        text-align: right;\n",
       "    }\n",
       "</style>\n",
       "<table border=\"1\" class=\"dataframe\">\n",
       "  <thead>\n",
       "    <tr style=\"text-align: right;\">\n",
       "      <th></th>\n",
       "      <th>cid</th>\n",
       "      <th>name</th>\n",
       "      <th>type</th>\n",
       "      <th>notnull</th>\n",
       "      <th>dflt_value</th>\n",
       "      <th>pk</th>\n",
       "    </tr>\n",
       "  </thead>\n",
       "  <tbody>\n",
       "    <tr>\n",
       "      <th>0</th>\n",
       "      <td>0</td>\n",
       "      <td>index</td>\n",
       "      <td>INTEGER</td>\n",
       "      <td>0</td>\n",
       "      <td>None</td>\n",
       "      <td>0</td>\n",
       "    </tr>\n",
       "    <tr>\n",
       "      <th>1</th>\n",
       "      <td>1</td>\n",
       "      <td>Name</td>\n",
       "      <td>TEXT</td>\n",
       "      <td>0</td>\n",
       "      <td>None</td>\n",
       "      <td>0</td>\n",
       "    </tr>\n",
       "    <tr>\n",
       "      <th>2</th>\n",
       "      <td>2</td>\n",
       "      <td>CID</td>\n",
       "      <td>INTEGER</td>\n",
       "      <td>0</td>\n",
       "      <td>None</td>\n",
       "      <td>0</td>\n",
       "    </tr>\n",
       "  </tbody>\n",
       "</table>\n",
       "</div>"
      ],
      "text/plain": [
       "   cid   name     type  notnull dflt_value  pk\n",
       "0    0  index  INTEGER        0       None   0\n",
       "1    1   Name     TEXT        0       None   0\n",
       "2    2    CID  INTEGER        0       None   0"
      ]
     },
     "metadata": {},
     "output_type": "display_data"
    },
    {
     "name": "stdout",
     "output_type": "stream",
     "text": [
      "----------------------------------------------------------------------------------------------------\n",
      "\n",
      "\n",
      "Schema of Location\n"
     ]
    },
    {
     "data": {
      "text/html": [
       "<div>\n",
       "<style scoped>\n",
       "    .dataframe tbody tr th:only-of-type {\n",
       "        vertical-align: middle;\n",
       "    }\n",
       "\n",
       "    .dataframe tbody tr th {\n",
       "        vertical-align: top;\n",
       "    }\n",
       "\n",
       "    .dataframe thead th {\n",
       "        text-align: right;\n",
       "    }\n",
       "</style>\n",
       "<table border=\"1\" class=\"dataframe\">\n",
       "  <thead>\n",
       "    <tr style=\"text-align: right;\">\n",
       "      <th></th>\n",
       "      <th>cid</th>\n",
       "      <th>name</th>\n",
       "      <th>type</th>\n",
       "      <th>notnull</th>\n",
       "      <th>dflt_value</th>\n",
       "      <th>pk</th>\n",
       "    </tr>\n",
       "  </thead>\n",
       "  <tbody>\n",
       "    <tr>\n",
       "      <th>0</th>\n",
       "      <td>0</td>\n",
       "      <td>index</td>\n",
       "      <td>INTEGER</td>\n",
       "      <td>0</td>\n",
       "      <td>None</td>\n",
       "      <td>0</td>\n",
       "    </tr>\n",
       "    <tr>\n",
       "      <th>1</th>\n",
       "      <td>1</td>\n",
       "      <td>Name</td>\n",
       "      <td>TEXT</td>\n",
       "      <td>0</td>\n",
       "      <td>None</td>\n",
       "      <td>0</td>\n",
       "    </tr>\n",
       "    <tr>\n",
       "      <th>2</th>\n",
       "      <td>2</td>\n",
       "      <td>LID</td>\n",
       "      <td>INTEGER</td>\n",
       "      <td>0</td>\n",
       "      <td>None</td>\n",
       "      <td>0</td>\n",
       "    </tr>\n",
       "  </tbody>\n",
       "</table>\n",
       "</div>"
      ],
      "text/plain": [
       "   cid   name     type  notnull dflt_value  pk\n",
       "0    0  index  INTEGER        0       None   0\n",
       "1    1   Name     TEXT        0       None   0\n",
       "2    2    LID  INTEGER        0       None   0"
      ]
     },
     "metadata": {},
     "output_type": "display_data"
    },
    {
     "name": "stdout",
     "output_type": "stream",
     "text": [
      "----------------------------------------------------------------------------------------------------\n",
      "\n",
      "\n",
      "Schema of M_Location\n"
     ]
    },
    {
     "data": {
      "text/html": [
       "<div>\n",
       "<style scoped>\n",
       "    .dataframe tbody tr th:only-of-type {\n",
       "        vertical-align: middle;\n",
       "    }\n",
       "\n",
       "    .dataframe tbody tr th {\n",
       "        vertical-align: top;\n",
       "    }\n",
       "\n",
       "    .dataframe thead th {\n",
       "        text-align: right;\n",
       "    }\n",
       "</style>\n",
       "<table border=\"1\" class=\"dataframe\">\n",
       "  <thead>\n",
       "    <tr style=\"text-align: right;\">\n",
       "      <th></th>\n",
       "      <th>cid</th>\n",
       "      <th>name</th>\n",
       "      <th>type</th>\n",
       "      <th>notnull</th>\n",
       "      <th>dflt_value</th>\n",
       "      <th>pk</th>\n",
       "    </tr>\n",
       "  </thead>\n",
       "  <tbody>\n",
       "    <tr>\n",
       "      <th>0</th>\n",
       "      <td>0</td>\n",
       "      <td>index</td>\n",
       "      <td>INTEGER</td>\n",
       "      <td>0</td>\n",
       "      <td>None</td>\n",
       "      <td>0</td>\n",
       "    </tr>\n",
       "    <tr>\n",
       "      <th>1</th>\n",
       "      <td>1</td>\n",
       "      <td>MID</td>\n",
       "      <td>TEXT</td>\n",
       "      <td>0</td>\n",
       "      <td>None</td>\n",
       "      <td>0</td>\n",
       "    </tr>\n",
       "    <tr>\n",
       "      <th>2</th>\n",
       "      <td>2</td>\n",
       "      <td>LID</td>\n",
       "      <td>REAL</td>\n",
       "      <td>0</td>\n",
       "      <td>None</td>\n",
       "      <td>0</td>\n",
       "    </tr>\n",
       "    <tr>\n",
       "      <th>3</th>\n",
       "      <td>3</td>\n",
       "      <td>ID</td>\n",
       "      <td>INTEGER</td>\n",
       "      <td>0</td>\n",
       "      <td>None</td>\n",
       "      <td>0</td>\n",
       "    </tr>\n",
       "  </tbody>\n",
       "</table>\n",
       "</div>"
      ],
      "text/plain": [
       "   cid   name     type  notnull dflt_value  pk\n",
       "0    0  index  INTEGER        0       None   0\n",
       "1    1    MID     TEXT        0       None   0\n",
       "2    2    LID     REAL        0       None   0\n",
       "3    3     ID  INTEGER        0       None   0"
      ]
     },
     "metadata": {},
     "output_type": "display_data"
    },
    {
     "name": "stdout",
     "output_type": "stream",
     "text": [
      "----------------------------------------------------------------------------------------------------\n",
      "\n",
      "\n",
      "Schema of M_Country\n"
     ]
    },
    {
     "data": {
      "text/html": [
       "<div>\n",
       "<style scoped>\n",
       "    .dataframe tbody tr th:only-of-type {\n",
       "        vertical-align: middle;\n",
       "    }\n",
       "\n",
       "    .dataframe tbody tr th {\n",
       "        vertical-align: top;\n",
       "    }\n",
       "\n",
       "    .dataframe thead th {\n",
       "        text-align: right;\n",
       "    }\n",
       "</style>\n",
       "<table border=\"1\" class=\"dataframe\">\n",
       "  <thead>\n",
       "    <tr style=\"text-align: right;\">\n",
       "      <th></th>\n",
       "      <th>cid</th>\n",
       "      <th>name</th>\n",
       "      <th>type</th>\n",
       "      <th>notnull</th>\n",
       "      <th>dflt_value</th>\n",
       "      <th>pk</th>\n",
       "    </tr>\n",
       "  </thead>\n",
       "  <tbody>\n",
       "    <tr>\n",
       "      <th>0</th>\n",
       "      <td>0</td>\n",
       "      <td>index</td>\n",
       "      <td>INTEGER</td>\n",
       "      <td>0</td>\n",
       "      <td>None</td>\n",
       "      <td>0</td>\n",
       "    </tr>\n",
       "    <tr>\n",
       "      <th>1</th>\n",
       "      <td>1</td>\n",
       "      <td>MID</td>\n",
       "      <td>TEXT</td>\n",
       "      <td>0</td>\n",
       "      <td>None</td>\n",
       "      <td>0</td>\n",
       "    </tr>\n",
       "    <tr>\n",
       "      <th>2</th>\n",
       "      <td>2</td>\n",
       "      <td>CID</td>\n",
       "      <td>REAL</td>\n",
       "      <td>0</td>\n",
       "      <td>None</td>\n",
       "      <td>0</td>\n",
       "    </tr>\n",
       "    <tr>\n",
       "      <th>3</th>\n",
       "      <td>3</td>\n",
       "      <td>ID</td>\n",
       "      <td>INTEGER</td>\n",
       "      <td>0</td>\n",
       "      <td>None</td>\n",
       "      <td>0</td>\n",
       "    </tr>\n",
       "  </tbody>\n",
       "</table>\n",
       "</div>"
      ],
      "text/plain": [
       "   cid   name     type  notnull dflt_value  pk\n",
       "0    0  index  INTEGER        0       None   0\n",
       "1    1    MID     TEXT        0       None   0\n",
       "2    2    CID     REAL        0       None   0\n",
       "3    3     ID  INTEGER        0       None   0"
      ]
     },
     "metadata": {},
     "output_type": "display_data"
    },
    {
     "name": "stdout",
     "output_type": "stream",
     "text": [
      "----------------------------------------------------------------------------------------------------\n",
      "\n",
      "\n",
      "Schema of M_Language\n"
     ]
    },
    {
     "data": {
      "text/html": [
       "<div>\n",
       "<style scoped>\n",
       "    .dataframe tbody tr th:only-of-type {\n",
       "        vertical-align: middle;\n",
       "    }\n",
       "\n",
       "    .dataframe tbody tr th {\n",
       "        vertical-align: top;\n",
       "    }\n",
       "\n",
       "    .dataframe thead th {\n",
       "        text-align: right;\n",
       "    }\n",
       "</style>\n",
       "<table border=\"1\" class=\"dataframe\">\n",
       "  <thead>\n",
       "    <tr style=\"text-align: right;\">\n",
       "      <th></th>\n",
       "      <th>cid</th>\n",
       "      <th>name</th>\n",
       "      <th>type</th>\n",
       "      <th>notnull</th>\n",
       "      <th>dflt_value</th>\n",
       "      <th>pk</th>\n",
       "    </tr>\n",
       "  </thead>\n",
       "  <tbody>\n",
       "    <tr>\n",
       "      <th>0</th>\n",
       "      <td>0</td>\n",
       "      <td>index</td>\n",
       "      <td>INTEGER</td>\n",
       "      <td>0</td>\n",
       "      <td>None</td>\n",
       "      <td>0</td>\n",
       "    </tr>\n",
       "    <tr>\n",
       "      <th>1</th>\n",
       "      <td>1</td>\n",
       "      <td>MID</td>\n",
       "      <td>TEXT</td>\n",
       "      <td>0</td>\n",
       "      <td>None</td>\n",
       "      <td>0</td>\n",
       "    </tr>\n",
       "    <tr>\n",
       "      <th>2</th>\n",
       "      <td>2</td>\n",
       "      <td>LAID</td>\n",
       "      <td>INTEGER</td>\n",
       "      <td>0</td>\n",
       "      <td>None</td>\n",
       "      <td>0</td>\n",
       "    </tr>\n",
       "    <tr>\n",
       "      <th>3</th>\n",
       "      <td>3</td>\n",
       "      <td>ID</td>\n",
       "      <td>INTEGER</td>\n",
       "      <td>0</td>\n",
       "      <td>None</td>\n",
       "      <td>0</td>\n",
       "    </tr>\n",
       "  </tbody>\n",
       "</table>\n",
       "</div>"
      ],
      "text/plain": [
       "   cid   name     type  notnull dflt_value  pk\n",
       "0    0  index  INTEGER        0       None   0\n",
       "1    1    MID     TEXT        0       None   0\n",
       "2    2   LAID  INTEGER        0       None   0\n",
       "3    3     ID  INTEGER        0       None   0"
      ]
     },
     "metadata": {},
     "output_type": "display_data"
    },
    {
     "name": "stdout",
     "output_type": "stream",
     "text": [
      "----------------------------------------------------------------------------------------------------\n",
      "\n",
      "\n",
      "Schema of M_Genre\n"
     ]
    },
    {
     "data": {
      "text/html": [
       "<div>\n",
       "<style scoped>\n",
       "    .dataframe tbody tr th:only-of-type {\n",
       "        vertical-align: middle;\n",
       "    }\n",
       "\n",
       "    .dataframe tbody tr th {\n",
       "        vertical-align: top;\n",
       "    }\n",
       "\n",
       "    .dataframe thead th {\n",
       "        text-align: right;\n",
       "    }\n",
       "</style>\n",
       "<table border=\"1\" class=\"dataframe\">\n",
       "  <thead>\n",
       "    <tr style=\"text-align: right;\">\n",
       "      <th></th>\n",
       "      <th>cid</th>\n",
       "      <th>name</th>\n",
       "      <th>type</th>\n",
       "      <th>notnull</th>\n",
       "      <th>dflt_value</th>\n",
       "      <th>pk</th>\n",
       "    </tr>\n",
       "  </thead>\n",
       "  <tbody>\n",
       "    <tr>\n",
       "      <th>0</th>\n",
       "      <td>0</td>\n",
       "      <td>index</td>\n",
       "      <td>INTEGER</td>\n",
       "      <td>0</td>\n",
       "      <td>None</td>\n",
       "      <td>0</td>\n",
       "    </tr>\n",
       "    <tr>\n",
       "      <th>1</th>\n",
       "      <td>1</td>\n",
       "      <td>MID</td>\n",
       "      <td>TEXT</td>\n",
       "      <td>0</td>\n",
       "      <td>None</td>\n",
       "      <td>0</td>\n",
       "    </tr>\n",
       "    <tr>\n",
       "      <th>2</th>\n",
       "      <td>2</td>\n",
       "      <td>GID</td>\n",
       "      <td>INTEGER</td>\n",
       "      <td>0</td>\n",
       "      <td>None</td>\n",
       "      <td>0</td>\n",
       "    </tr>\n",
       "    <tr>\n",
       "      <th>3</th>\n",
       "      <td>3</td>\n",
       "      <td>ID</td>\n",
       "      <td>INTEGER</td>\n",
       "      <td>0</td>\n",
       "      <td>None</td>\n",
       "      <td>0</td>\n",
       "    </tr>\n",
       "  </tbody>\n",
       "</table>\n",
       "</div>"
      ],
      "text/plain": [
       "   cid   name     type  notnull dflt_value  pk\n",
       "0    0  index  INTEGER        0       None   0\n",
       "1    1    MID     TEXT        0       None   0\n",
       "2    2    GID  INTEGER        0       None   0\n",
       "3    3     ID  INTEGER        0       None   0"
      ]
     },
     "metadata": {},
     "output_type": "display_data"
    },
    {
     "name": "stdout",
     "output_type": "stream",
     "text": [
      "----------------------------------------------------------------------------------------------------\n",
      "\n",
      "\n",
      "Schema of Person\n"
     ]
    },
    {
     "data": {
      "text/html": [
       "<div>\n",
       "<style scoped>\n",
       "    .dataframe tbody tr th:only-of-type {\n",
       "        vertical-align: middle;\n",
       "    }\n",
       "\n",
       "    .dataframe tbody tr th {\n",
       "        vertical-align: top;\n",
       "    }\n",
       "\n",
       "    .dataframe thead th {\n",
       "        text-align: right;\n",
       "    }\n",
       "</style>\n",
       "<table border=\"1\" class=\"dataframe\">\n",
       "  <thead>\n",
       "    <tr style=\"text-align: right;\">\n",
       "      <th></th>\n",
       "      <th>cid</th>\n",
       "      <th>name</th>\n",
       "      <th>type</th>\n",
       "      <th>notnull</th>\n",
       "      <th>dflt_value</th>\n",
       "      <th>pk</th>\n",
       "    </tr>\n",
       "  </thead>\n",
       "  <tbody>\n",
       "    <tr>\n",
       "      <th>0</th>\n",
       "      <td>0</td>\n",
       "      <td>index</td>\n",
       "      <td>INTEGER</td>\n",
       "      <td>0</td>\n",
       "      <td>None</td>\n",
       "      <td>0</td>\n",
       "    </tr>\n",
       "    <tr>\n",
       "      <th>1</th>\n",
       "      <td>1</td>\n",
       "      <td>PID</td>\n",
       "      <td>TEXT</td>\n",
       "      <td>0</td>\n",
       "      <td>None</td>\n",
       "      <td>0</td>\n",
       "    </tr>\n",
       "    <tr>\n",
       "      <th>2</th>\n",
       "      <td>2</td>\n",
       "      <td>Name</td>\n",
       "      <td>TEXT</td>\n",
       "      <td>0</td>\n",
       "      <td>None</td>\n",
       "      <td>0</td>\n",
       "    </tr>\n",
       "    <tr>\n",
       "      <th>3</th>\n",
       "      <td>3</td>\n",
       "      <td>Gender</td>\n",
       "      <td>TEXT</td>\n",
       "      <td>0</td>\n",
       "      <td>None</td>\n",
       "      <td>0</td>\n",
       "    </tr>\n",
       "  </tbody>\n",
       "</table>\n",
       "</div>"
      ],
      "text/plain": [
       "   cid    name     type  notnull dflt_value  pk\n",
       "0    0   index  INTEGER        0       None   0\n",
       "1    1     PID     TEXT        0       None   0\n",
       "2    2    Name     TEXT        0       None   0\n",
       "3    3  Gender     TEXT        0       None   0"
      ]
     },
     "metadata": {},
     "output_type": "display_data"
    },
    {
     "name": "stdout",
     "output_type": "stream",
     "text": [
      "----------------------------------------------------------------------------------------------------\n",
      "\n",
      "\n",
      "Schema of M_Producer\n"
     ]
    },
    {
     "data": {
      "text/html": [
       "<div>\n",
       "<style scoped>\n",
       "    .dataframe tbody tr th:only-of-type {\n",
       "        vertical-align: middle;\n",
       "    }\n",
       "\n",
       "    .dataframe tbody tr th {\n",
       "        vertical-align: top;\n",
       "    }\n",
       "\n",
       "    .dataframe thead th {\n",
       "        text-align: right;\n",
       "    }\n",
       "</style>\n",
       "<table border=\"1\" class=\"dataframe\">\n",
       "  <thead>\n",
       "    <tr style=\"text-align: right;\">\n",
       "      <th></th>\n",
       "      <th>cid</th>\n",
       "      <th>name</th>\n",
       "      <th>type</th>\n",
       "      <th>notnull</th>\n",
       "      <th>dflt_value</th>\n",
       "      <th>pk</th>\n",
       "    </tr>\n",
       "  </thead>\n",
       "  <tbody>\n",
       "    <tr>\n",
       "      <th>0</th>\n",
       "      <td>0</td>\n",
       "      <td>index</td>\n",
       "      <td>INTEGER</td>\n",
       "      <td>0</td>\n",
       "      <td>None</td>\n",
       "      <td>0</td>\n",
       "    </tr>\n",
       "    <tr>\n",
       "      <th>1</th>\n",
       "      <td>1</td>\n",
       "      <td>MID</td>\n",
       "      <td>TEXT</td>\n",
       "      <td>0</td>\n",
       "      <td>None</td>\n",
       "      <td>0</td>\n",
       "    </tr>\n",
       "    <tr>\n",
       "      <th>2</th>\n",
       "      <td>2</td>\n",
       "      <td>PID</td>\n",
       "      <td>TEXT</td>\n",
       "      <td>0</td>\n",
       "      <td>None</td>\n",
       "      <td>0</td>\n",
       "    </tr>\n",
       "    <tr>\n",
       "      <th>3</th>\n",
       "      <td>3</td>\n",
       "      <td>ID</td>\n",
       "      <td>INTEGER</td>\n",
       "      <td>0</td>\n",
       "      <td>None</td>\n",
       "      <td>0</td>\n",
       "    </tr>\n",
       "  </tbody>\n",
       "</table>\n",
       "</div>"
      ],
      "text/plain": [
       "   cid   name     type  notnull dflt_value  pk\n",
       "0    0  index  INTEGER        0       None   0\n",
       "1    1    MID     TEXT        0       None   0\n",
       "2    2    PID     TEXT        0       None   0\n",
       "3    3     ID  INTEGER        0       None   0"
      ]
     },
     "metadata": {},
     "output_type": "display_data"
    },
    {
     "name": "stdout",
     "output_type": "stream",
     "text": [
      "----------------------------------------------------------------------------------------------------\n",
      "\n",
      "\n",
      "Schema of M_Director\n"
     ]
    },
    {
     "data": {
      "text/html": [
       "<div>\n",
       "<style scoped>\n",
       "    .dataframe tbody tr th:only-of-type {\n",
       "        vertical-align: middle;\n",
       "    }\n",
       "\n",
       "    .dataframe tbody tr th {\n",
       "        vertical-align: top;\n",
       "    }\n",
       "\n",
       "    .dataframe thead th {\n",
       "        text-align: right;\n",
       "    }\n",
       "</style>\n",
       "<table border=\"1\" class=\"dataframe\">\n",
       "  <thead>\n",
       "    <tr style=\"text-align: right;\">\n",
       "      <th></th>\n",
       "      <th>cid</th>\n",
       "      <th>name</th>\n",
       "      <th>type</th>\n",
       "      <th>notnull</th>\n",
       "      <th>dflt_value</th>\n",
       "      <th>pk</th>\n",
       "    </tr>\n",
       "  </thead>\n",
       "  <tbody>\n",
       "    <tr>\n",
       "      <th>0</th>\n",
       "      <td>0</td>\n",
       "      <td>index</td>\n",
       "      <td>INTEGER</td>\n",
       "      <td>0</td>\n",
       "      <td>None</td>\n",
       "      <td>0</td>\n",
       "    </tr>\n",
       "    <tr>\n",
       "      <th>1</th>\n",
       "      <td>1</td>\n",
       "      <td>MID</td>\n",
       "      <td>TEXT</td>\n",
       "      <td>0</td>\n",
       "      <td>None</td>\n",
       "      <td>0</td>\n",
       "    </tr>\n",
       "    <tr>\n",
       "      <th>2</th>\n",
       "      <td>2</td>\n",
       "      <td>PID</td>\n",
       "      <td>TEXT</td>\n",
       "      <td>0</td>\n",
       "      <td>None</td>\n",
       "      <td>0</td>\n",
       "    </tr>\n",
       "    <tr>\n",
       "      <th>3</th>\n",
       "      <td>3</td>\n",
       "      <td>ID</td>\n",
       "      <td>INTEGER</td>\n",
       "      <td>0</td>\n",
       "      <td>None</td>\n",
       "      <td>0</td>\n",
       "    </tr>\n",
       "  </tbody>\n",
       "</table>\n",
       "</div>"
      ],
      "text/plain": [
       "   cid   name     type  notnull dflt_value  pk\n",
       "0    0  index  INTEGER        0       None   0\n",
       "1    1    MID     TEXT        0       None   0\n",
       "2    2    PID     TEXT        0       None   0\n",
       "3    3     ID  INTEGER        0       None   0"
      ]
     },
     "metadata": {},
     "output_type": "display_data"
    },
    {
     "name": "stdout",
     "output_type": "stream",
     "text": [
      "----------------------------------------------------------------------------------------------------\n",
      "\n",
      "\n",
      "Schema of M_Cast\n"
     ]
    },
    {
     "data": {
      "text/html": [
       "<div>\n",
       "<style scoped>\n",
       "    .dataframe tbody tr th:only-of-type {\n",
       "        vertical-align: middle;\n",
       "    }\n",
       "\n",
       "    .dataframe tbody tr th {\n",
       "        vertical-align: top;\n",
       "    }\n",
       "\n",
       "    .dataframe thead th {\n",
       "        text-align: right;\n",
       "    }\n",
       "</style>\n",
       "<table border=\"1\" class=\"dataframe\">\n",
       "  <thead>\n",
       "    <tr style=\"text-align: right;\">\n",
       "      <th></th>\n",
       "      <th>cid</th>\n",
       "      <th>name</th>\n",
       "      <th>type</th>\n",
       "      <th>notnull</th>\n",
       "      <th>dflt_value</th>\n",
       "      <th>pk</th>\n",
       "    </tr>\n",
       "  </thead>\n",
       "  <tbody>\n",
       "    <tr>\n",
       "      <th>0</th>\n",
       "      <td>0</td>\n",
       "      <td>index</td>\n",
       "      <td>INTEGER</td>\n",
       "      <td>0</td>\n",
       "      <td>None</td>\n",
       "      <td>0</td>\n",
       "    </tr>\n",
       "    <tr>\n",
       "      <th>1</th>\n",
       "      <td>1</td>\n",
       "      <td>MID</td>\n",
       "      <td>TEXT</td>\n",
       "      <td>0</td>\n",
       "      <td>None</td>\n",
       "      <td>0</td>\n",
       "    </tr>\n",
       "    <tr>\n",
       "      <th>2</th>\n",
       "      <td>2</td>\n",
       "      <td>PID</td>\n",
       "      <td>TEXT</td>\n",
       "      <td>0</td>\n",
       "      <td>None</td>\n",
       "      <td>0</td>\n",
       "    </tr>\n",
       "    <tr>\n",
       "      <th>3</th>\n",
       "      <td>3</td>\n",
       "      <td>ID</td>\n",
       "      <td>INTEGER</td>\n",
       "      <td>0</td>\n",
       "      <td>None</td>\n",
       "      <td>0</td>\n",
       "    </tr>\n",
       "  </tbody>\n",
       "</table>\n",
       "</div>"
      ],
      "text/plain": [
       "   cid   name     type  notnull dflt_value  pk\n",
       "0    0  index  INTEGER        0       None   0\n",
       "1    1    MID     TEXT        0       None   0\n",
       "2    2    PID     TEXT        0       None   0\n",
       "3    3     ID  INTEGER        0       None   0"
      ]
     },
     "metadata": {},
     "output_type": "display_data"
    },
    {
     "name": "stdout",
     "output_type": "stream",
     "text": [
      "----------------------------------------------------------------------------------------------------\n",
      "\n",
      "\n"
     ]
    }
   ],
   "source": [
    "for table in tables:\n",
    "    query = \"PRAGMA TABLE_INFO({})\".format(table)\n",
    "    schema = pd.read_sql_query(query,conn)\n",
    "    print(\"Schema of\",table)\n",
    "    display(schema)\n",
    "    print(\"-\"*100)\n",
    "    print(\"\\n\")"
   ]
  },
  {
   "cell_type": "markdown",
   "metadata": {
    "id": "O4Cj0Wdz23tA"
   },
   "source": [
    "## Useful tips:\n",
    "\n",
    "1. the year column in 'Movie' table, will have few chracters other than numbers which you need to be preprocessed, you need to get a substring of last 4 characters, its better if you convert it as int type, ex: CAST(SUBSTR(TRIM(m.year),-4) AS INTEGER)\n",
    "\n",
    "2. For almost all the TEXT columns we have show, please try to remove trailing spaces, you need to use TRIM() function\n",
    "\n",
    "3. When you are doing count(coulmn) it won't consider the \"NULL\" values, you might need to explore other alternatives like Count(*)"
   ]
  },
  {
   "cell_type": "markdown",
   "metadata": {
    "id": "jL9AmM3oE_IZ"
   },
   "source": [
    "## Q1 --- List all the directors who directed a 'Comedy' movie in a leap year. (You need to check that the genre is 'Comedy’ and year is a leap year) Your query should return director name, the movie name, and the year."
   ]
  },
  {
   "cell_type": "markdown",
   "metadata": {
    "id": "1jglmxDuE_Ib"
   },
   "source": [
    "<h4>To determine whether a year is a leap year, follow these steps:</h4>\n",
    "\n",
    "<ul>\n",
    "    <li><b>STEP-1:</b> If the year is evenly divisible by 4, go to step 2. Otherwise, go to step 5.</li>\n",
    "    <li><b>STEP-2:</b> If the year is evenly divisible by 100, go to step 3. Otherwise, go to step 4.</li>\n",
    "    <li><b>STEP-3:</b> If the year is evenly divisible by 400, go to step 4. Otherwise, go to step 5.</li>\n",
    "    <li><b>STEP-4:</b> The year is a leap year (it has 366 days).</li>\n",
    "    <li><b>STEP-5:</b> The year is not a leap year (it has 365 days).</li>\n",
    "</ul>\n",
    "\n",
    "Year 1900 is divisible by 4 and 100 but it is not divisible by 400, so it is not a leap year."
   ]
  },
  {
   "cell_type": "code",
   "execution_count": 5,
   "metadata": {
    "colab": {
     "base_uri": "https://localhost:8080/",
     "height": 606
    },
    "executionInfo": {
     "elapsed": 1695,
     "status": "error",
     "timestamp": 1600088797006,
     "user": {
      "displayName": "Applied AI Course",
      "photoUrl": "https://lh3.googleusercontent.com/a-/AOh14GhuSQ5tWcMSEyUXWi5GYagbq0BttLJf6r6PPxrB=s64",
      "userId": "00484516897554883881"
     },
     "user_tz": -330
    },
    "id": "yBo_pMrH23tD",
    "outputId": "cebe75ec-12f2-499f-854d-d33f2ab3a766"
   },
   "outputs": [
    {
     "name": "stdout",
     "output_type": "stream",
     "text": [
      "               Name  year                         title\n",
      "0     Satyendra Pal  1976                    Hera Pheri\n",
      "1      Guddu Dhanoa  1992                       Deewana\n",
      "2      Lalit Kapoor  1992                       Deewana\n",
      "3      Raju Kothari  1992                       Deewana\n",
      "4       K.K. Nayyar  1992                       Deewana\n",
      "5   A.G. Nadiadwala  2000                    Hera Pheri\n",
      "6         Gul Anand  1972                 Gora Aur Kala\n",
      "7    Rajkumar Kohli  1972                 Gora Aur Kala\n",
      "8     Gulshan Anand  1972                 Gora Aur Kala\n",
      "9     Eeshwar Nivas  2008  My Name Is Anthony Gonsalves\n",
      "(922, 3)\n"
     ]
    },
    {
     "ename": "AssertionError",
     "evalue": "",
     "output_type": "error",
     "traceback": [
      "\u001b[1;31m---------------------------------------------------------------------------\u001b[0m",
      "\u001b[1;31mAssertionError\u001b[0m                            Traceback (most recent call last)",
      "File \u001b[1;32m<timed exec>:16\u001b[0m, in \u001b[0;36m<module>\u001b[1;34m\u001b[0m\n",
      "File \u001b[1;32m<timed exec>:5\u001b[0m, in \u001b[0;36mgrader_1\u001b[1;34m(q1)\u001b[0m\n",
      "\u001b[1;31mAssertionError\u001b[0m: "
     ]
    }
   ],
   "source": [
    "%%time\n",
    "def grader_1(q1):\n",
    "    q1_results  = pd.read_sql_query(q1,conn)\n",
    "    print(q1_results.head(10))\n",
    "    print(q1_results.shape)\n",
    "    assert (q1_results.shape == (232,3))\n",
    "\n",
    "query1 = \"\"\" SELECT person.Name,Movie.year,Movie.Title FROM person \n",
    "JOIN M_Producer ON Person.PID = TRIM(M_Producer.PID)\n",
    "JOIN Movie ON M_Producer.MID = Movie.MID\n",
    "JOIN M_Genre ON Movie.MID = M_Genre.MID\n",
    "JOIN Genre ON M_Genre.GID = TRIM(Genre.GID)\n",
    "\n",
    "WHERE (((Movie.year % 4 = 0) AND (Movie.year % 100 != 0)) OR ((Movie.year % 400 = 0) AND (Movie.year % 100 = 0)))\n",
    "AND Genre.Name LIKE '%Comedy%'\n",
    "\"\"\"\n",
    "grader_1(query1)"
   ]
  },
  {
   "cell_type": "code",
   "execution_count": 190,
   "metadata": {
    "collapsed": true
   },
   "outputs": [
    {
     "name": "stdout",
     "output_type": "stream",
     "text": [
      "                Name  year                            title\n",
      "0      Griffin Dunne  2008           The Accidental Husband\n",
      "1   Mahesh Manjrekar  2000   Jis Desh Mein Ganga Rehta Hain\n",
      "2            Madonna  2008                 Filth and Wisdom\n",
      "3    Gurinder Chadha  2004                Bride & Prejudice\n",
      "4       Frank Coraci  2004      Around the World in 80 Days\n",
      "5   Tarun Mansukhani  2008                          Dostana\n",
      "6        Lekh Tandon  1968                 Jhuk Gaya Aasman\n",
      "7     S.S. Rajamouli  2012                             Eega\n",
      "8      Jugal Hansraj  2008                   Roadside Romeo\n",
      "9         Mike Judge  1996  Beavis and Butt-Head Do America\n",
      "(246, 3)\n"
     ]
    },
    {
     "ename": "AssertionError",
     "evalue": "",
     "output_type": "error",
     "traceback": [
      "\u001b[1;31m---------------------------------------------------------------------------\u001b[0m",
      "\u001b[1;31mAssertionError\u001b[0m                            Traceback (most recent call last)",
      "File \u001b[1;32m<timed exec>:15\u001b[0m, in \u001b[0;36m<module>\u001b[1;34m\u001b[0m\n",
      "File \u001b[1;32m<timed exec>:5\u001b[0m, in \u001b[0;36mgrader_1\u001b[1;34m(q1)\u001b[0m\n",
      "\u001b[1;31mAssertionError\u001b[0m: "
     ]
    }
   ],
   "source": [
    "%%time\n",
    "def grader_1(q1):\n",
    "    q1_results  = pd.read_sql_query(q1,conn)\n",
    "    print(q1_results.head(10))\n",
    "    print(q1_results.shape)\n",
    "    assert (q1_results.shape == (232,3))\n",
    "\n",
    "query1 = \"\"\" SELECT person.Name,Movie.year,Movie.Title FROM person \n",
    "JOIN M_director ON M_director.PID = TRIM(Person.PID)\n",
    "JOIN Movie ON Movie.MID = M_director.MID\n",
    "JOIN M_Genre ON M_Genre.MID = Movie.MID\n",
    "JOIN Genre ON Genre.GID = TRIM(M_Genre.GID)\n",
    "WHERE (((Movie.year % 4 = 0) AND (Movie.year % 100 != 0)) OR ((Movie.year % 400 = 0) AND (Movie.year % 100 = 0)))\n",
    "AND (Genre.Name LIKE '%Comedy%')\n",
    "\"\"\"\n",
    "grader_1(query1)"
   ]
  },
  {
   "cell_type": "markdown",
   "metadata": {
    "id": "LHFSrIJlE_Ih"
   },
   "source": [
    "## Q2 --- List the names of all the actors who played in the movie 'Anand' (1971)"
   ]
  },
  {
   "cell_type": "code",
   "execution_count": 6,
   "metadata": {
    "id": "5BSQOVlk23tS",
    "outputId": "c3752139-c22a-46d8-f0eb-0c23ffce7bf3"
   },
   "outputs": [
    {
     "name": "stdout",
     "output_type": "stream",
     "text": [
      "          PID\n",
      "0   nm0004435\n",
      "1   nm0000821\n",
      "2   nm0764407\n",
      "3   nm0219946\n",
      "4   nm0219947\n",
      "5   nm0783996\n",
      "6   nm0222743\n",
      "7   nm0695155\n",
      "8   nm0474931\n",
      "9   nm1783998\n",
      "             Name\n",
      "0   Rajesh Khanna\n",
      "             Name\n",
      "0   Rajesh Khanna\n",
      "(17, 1)\n",
      "CPU times: total: 31.2 ms\n",
      "Wall time: 34.1 ms\n"
     ]
    }
   ],
   "source": [
    "%%time\n",
    "def grader_1(q1,q2,q3):\n",
    "    q1_results  = pd.read_sql_query(q1,conn)\n",
    "    q2_results = pd.read_sql_query(q2,conn)\n",
    "    q3_r = pd.read_sql_query(q3,conn)\n",
    "    \n",
    "    print(q1_results.head(10))\n",
    "    print(q2_results)\n",
    "    print(q3_r)\n",
    "    print(q1_results.shape)\n",
    "    \n",
    "    assert (q1_results.shape == (17,1))\n",
    "query1 = \"\"\" SELECT PID FROM M_cast WHERE MID IN (SELECT MID FROM movie WHERE title = 'Anand')  \"\"\"\n",
    "query2 = \"\"\" SELECT name FROM Person WHERE PID = 'nm0004435' \"\"\"\n",
    "q3= \"\"\" SELECT name FROM person WHERE PID =(SELECT trim(PID) FROM M_cast WHERE MID IN (SELECT MID FROM movie WHERE title = 'Anand')) \"\"\"\n",
    "grader_1(query1,query2,q3)"
   ]
  },
  {
   "cell_type": "code",
   "execution_count": 5,
   "metadata": {},
   "outputs": [
    {
     "name": "stdout",
     "output_type": "stream",
     "text": [
      "                Name\n",
      "0   Amitabh Bachchan\n",
      "1      Rajesh Khanna\n",
      "2     Brahm Bhardwaj\n",
      "3         Ramesh Deo\n",
      "4          Seema Deo\n",
      "5         Dev Kishan\n",
      "6        Durga Khote\n",
      "7      Lalita Kumari\n",
      "8       Lalita Pawar\n",
      "9       Atam Prakash\n",
      "CPU times: total: 250 ms\n",
      "Wall time: 247 ms\n"
     ]
    }
   ],
   "source": [
    "%%time\n",
    "# https://www.javatpoint.com/sql-join\n",
    "\n",
    "def grader_1(q1):\n",
    "    q1_results  = pd.read_sql_query(q1,conn)\n",
    "    print(q1_results.head(10))\n",
    "    assert (q1_results.shape == (17,1))\n",
    "\n",
    "query1 = \"\"\" SELECT Name\n",
    "FROM Person \n",
    "JOIN M_Cast ON Person.PID = TRIM(M_Cast.PID) \n",
    "JOIN Movie  ON Movie.MID = M_Cast.MID \n",
    "WHERE Movie.title = 'Anand' AND Movie.\"year\" = 1971 \"\"\"\n",
    "grader_1(query1)"
   ]
  },
  {
   "cell_type": "markdown",
   "metadata": {
    "id": "bJ-mAUMmE_Il"
   },
   "source": [
    "## Q3 --- List all the actors who acted in a film before 1970 and in a film after 1990. (That is: < 1970 and > 1990.)"
   ]
  },
  {
   "cell_type": "code",
   "execution_count": 8,
   "metadata": {
    "colab": {
     "base_uri": "https://localhost:8080/"
    },
    "executionInfo": {
     "elapsed": 1054,
     "status": "ok",
     "timestamp": 1609074911453,
     "user": {
      "displayName": "Applied AI Course",
      "photoUrl": "https://lh3.googleusercontent.com/a-/AOh14GhuSQ5tWcMSEyUXWi5GYagbq0BttLJf6r6PPxrB=s64",
      "userId": "00484516897554883881"
     },
     "user_tz": -330
    },
    "id": "HARXLaJ623tY",
    "outputId": "8f4788df-84e8-42b9-b535-520f546e3348"
   },
   "outputs": [
    {
     "name": "stdout",
     "output_type": "stream",
     "text": [
      "      index        PID             Name  Gender         PD        MID\n",
      "0      1860  nm0719692   Michael Rennie    Male  nm0719692  tt0043456\n",
      "1      1861  nm0623658    Patricia Neal  Female  nm0623658  tt0043456\n",
      "2      1862  nm0549280     Hugh Marlowe    Male  nm0549280  tt0043456\n",
      "3      1863  nm0415488        Sam Jaffe    Male  nm0415488  tt0043456\n",
      "4      1864  nm0336474       Billy Gray    Male  nm0336474  tt0043456\n",
      "...     ...        ...              ...     ...        ...        ...\n",
      "4937  24201  nm0004660         Rajkumar    Male  nm0004660  tt0290632\n",
      "4938  32092  nm0672784   Sabitha Perara  Female  nm0672784  tt0290632\n",
      "4939  12384  nm0482285          Lakshmi  Female  nm0482285  tt0290632\n",
      "4940   5375  nm0004334            Rekha  Female  nm0004334  tt0290632\n",
      "4941  32127  nm0066829            Iqbal  Female  nm0066829  tt0375882\n",
      "\n",
      "[4942 rows x 6 columns]\n",
      "       index        PID                   Name  Gender         PD        MID\n",
      "0          0  nm0000288         Christian Bale    Male  nm0000288  tt2388771\n",
      "1          1  nm0000949         Cate Blanchett  Female  nm0000949  tt2388771\n",
      "2          2  nm1212722   Benedict Cumberbatch    Male  nm1212722  tt2388771\n",
      "3          3  nm0365140          Naomie Harris  Female  nm0365140  tt2388771\n",
      "4          4  nm0785227            Andy Serkis    Male  nm0785227  tt2388771\n",
      "...      ...        ...                    ...     ...        ...        ...\n",
      "62565   8192  nm0664109           Yunus Parvez    Male  nm0664109  tt0375890\n",
      "62566   4424  nm0505323           Johnny Lever    Male  nm0505323  tt0375890\n",
      "62567  12436  nm0019427             Ishrat Ali    Male  nm0019427  tt0375890\n",
      "62568  12028  nm0197582           Sudhir Dalvi    Male  nm0197582  tt0375890\n",
      "62569  15798  nm0438467          Bharat Kapoor    Male  nm0438467  tt0375890\n",
      "\n",
      "[62570 rows x 6 columns]\n",
      "False\n",
      "CPU times: total: 625 ms\n",
      "Wall time: 630 ms\n"
     ]
    }
   ],
   "source": [
    "%%time\n",
    "\n",
    "def grader_3a(query_less_1970, query_more_1990):\n",
    "    q3_a = pd.read_sql_query(query_less_1970,conn)\n",
    "    print(q3_a.shape)\n",
    "    q3_b = pd.read_sql_query(query_more_1990,conn)\n",
    "    print(q3_b.shape)\n",
    "    return (q3_a.shape == (4942,1)) and (q3_b.shape == (62570,1))\n",
    "\n",
    "query_less_1970 =\"\"\" \n",
    "Select * from Person p \n",
    "inner join \n",
    "(\n",
    "    select trim(mc.PID) PD, mc.MID from M_cast mc \n",
    "where mc.MID \n",
    "in \n",
    "(\n",
    "    select mv.MID from Movie mv where CAST(SUBSTR(mv.year,-4) AS Integer)<1970\n",
    ")\n",
    ") r1 \n",
    "on r1.PD=p.PID \n",
    "\"\"\"\n",
    "query_more_1990 =\"\"\" \n",
    "Select * from Person p \n",
    "inner join \n",
    "(\n",
    "    select trim(mc.PID) PD, mc.MID from M_cast mc \n",
    "where mc.MID \n",
    "in \n",
    "(\n",
    "    select mv.MID from Movie mv where CAST(SUBSTR(mv.year,-4) AS Integer)>1990\n",
    ")\n",
    ") r1 \n",
    "on r1.PD=p.PID \"\"\"\n",
    "print(grader_3a(query_less_1970, query_more_1990))\n",
    "\n",
    "# using the above two queries, you can find the answer to the given question "
   ]
  },
  {
   "cell_type": "code",
   "execution_count": 9,
   "metadata": {},
   "outputs": [
    {
     "name": "stdout",
     "output_type": "stream",
     "text": [
      "                Name\n",
      "0       Rishi Kapoor\n",
      "1   Amitabh Bachchan\n",
      "2             Asrani\n",
      "3       Zohra Sehgal\n",
      "4    Parikshat Sahni\n",
      "5      Rakesh Sharma\n",
      "6        Sanjay Dutt\n",
      "7          Ric Young\n",
      "8              Yusuf\n",
      "9     Suhasini Mulay\n",
      "(300, 1)\n",
      "CPU times: total: 422 ms\n",
      "Wall time: 427 ms\n"
     ]
    }
   ],
   "source": [
    "%%time\n",
    "# https://www.geeksforgeeks.org/sql-with-clause/  FOR WITH CLAUSE\n",
    "def grader_3(q3):\n",
    "    q3_results  = pd.read_sql_query(q3,conn)\n",
    "    print(q3_results.head(10))\n",
    "    print(q3_results.shape)\n",
    "    assert (q3_results.shape == (300,1))\n",
    "\n",
    "query3 = \"\"\"\n",
    "WITH\n",
    "case_more90 AS (SELECT p.PID from Person p \n",
    "inner join \n",
    "(\n",
    "SELECT trim(mc.PID) PD, mc.MID FROM M_cast mc WHERE mc.MID \n",
    "in (SELECT mv.MID FROM Movie mv WHERE CAST(SUBSTR(mv.year,-4) AS Integer)>1990)\n",
    ") r1 \n",
    "on r1.PD=p.PID) ,\n",
    "\n",
    "case_less70 AS (SELECT p.PID from Person p \n",
    "inner join \n",
    "(\n",
    "SELECT trim(mc.PID) PD, mc.MID FROM M_cast mc WHERE mc.MID \n",
    "in (SELECT mv.MID FROM Movie mv WHERE CAST(SUBSTR(mv.year,-4) AS Integer)<1970)\n",
    ") r1 \n",
    "on r1.PD=p.PID) \n",
    "\n",
    "SELECT P1.name FROM person p1\n",
    "WHERE (TRIM(P1.PID) IN case_more90) AND (TRIM(P1.PID) IN case_less70)\n",
    "\"\"\"\n",
    "grader_3(query3)"
   ]
  },
  {
   "cell_type": "markdown",
   "metadata": {
    "id": "wd3tqFxaE_Ir"
   },
   "source": [
    "## Q4 --- List all directors who directed 10 movies or more, in descending order of the number of movies they directed. Return the directors' names and the number of movies each of them directed."
   ]
  },
  {
   "cell_type": "code",
   "execution_count": 11,
   "metadata": {},
   "outputs": [
    {
     "name": "stdout",
     "output_type": "stream",
     "text": [
      "  Director_id  Movie_Count\n",
      "0   nm0000180            1\n",
      "1   nm0000187            1\n",
      "2   nm0000229            1\n",
      "3   nm0000269            1\n",
      "4   nm0000386            1\n",
      "5   nm0000487            2\n",
      "6   nm0000965            1\n",
      "7   nm0001060            1\n",
      "8   nm0001162            1\n",
      "9   nm0001241            1\n",
      "(1462, 2)\n",
      "True\n",
      "CPU times: total: 0 ns\n",
      "Wall time: 8 ms\n"
     ]
    }
   ],
   "source": [
    "%%time\n",
    "\n",
    "def grader_4a(query_4a):\n",
    "    query_4a = pd.read_sql_query(query_4a,conn)\n",
    "    print(query_4a.head(10)) \n",
    "    print(query_4a.shape)\n",
    "    return (query_4a.shape == (1462,2))\n",
    "\n",
    "query_4a =\"\"\" \n",
    "SELECT md.PID AS Director_id, COUNT(*) AS Movie_Count FROM M_Director md GROUP BY md.PID \n",
    "\"\"\"\n",
    "print(grader_4a(query_4a))"
   ]
  },
  {
   "cell_type": "code",
   "execution_count": 12,
   "metadata": {
    "id": "xROoSzcF23tn",
    "outputId": "76366cff-58f5-4d83-d58b-017c0f7afc58"
   },
   "outputs": [
    {
     "name": "stdout",
     "output_type": "stream",
     "text": [
      "                 Name  Movie_count\n",
      "0    Mahesh Manjrekar           15\n",
      "1    Tigmanshu Dhulia           10\n",
      "2      Satish Kaushik           12\n",
      "3      Anurag Kashyap           13\n",
      "4         Yash Chopra           21\n",
      "5        Subhash Ghai           18\n",
      "6       Rakesh Roshan           13\n",
      "7   Madhur Bhandarkar           12\n",
      "8         Ketan Mehta           11\n",
      "9        Mahesh Bhatt           35\n",
      "(58, 2)\n",
      "CPU times: total: 31.2 ms\n",
      "Wall time: 25 ms\n"
     ]
    }
   ],
   "source": [
    "%%time\n",
    "def grader_4(q4):\n",
    "    q4_results  = pd.read_sql_query(q4,conn)\n",
    "    print(q4_results.head(10))\n",
    "    print(q4_results.shape)\n",
    "    assert (q4_results.shape == (58,2))\n",
    "\n",
    "query4 = \"\"\" WITH\n",
    "needed_pid_count AS (SELECT md.PID,COUNT(MID) AS Movie_count FROM M_director md GROUP BY md.PID HAVING Movie_count >= 10) \n",
    "\n",
    "SELECT p.name,Co.Movie_count \n",
    "FROM person p \n",
    "JOIN needed_pid_count Co ON P.PID = Co.PID\n",
    "\n",
    "\"\"\"\n",
    "grader_4(query4)"
   ]
  },
  {
   "cell_type": "markdown",
   "metadata": {
    "id": "OnulNpiOE_Iw"
   },
   "source": [
    "## Q5.a --- For each year, count the number of movies in that year that had only female actors."
   ]
  },
  {
   "cell_type": "code",
   "execution_count": 34,
   "metadata": {
    "id": "ES-gGiNG23tr",
    "outputId": "05e73aed-8917-4d9f-b746-619d1c48735b"
   },
   "outputs": [
    {
     "name": "stdout",
     "output_type": "stream",
     "text": [
      "         MID  Gender  count\n",
      "0  tt0021594    None      0\n",
      "1  tt0021594  Female      3\n",
      "2  tt0021594    Male      5\n",
      "3  tt0026274    None      0\n",
      "4  tt0026274  Female     11\n",
      "5  tt0026274    Male      9\n",
      "6  tt0027256    None      0\n",
      "7  tt0027256  Female      5\n",
      "8  tt0027256    Male      8\n",
      "9  tt0028217  Female      3\n",
      "(8846, 3)\n",
      "True\n",
      "         MID Gender  COUNT\n",
      "0  tt0021594   Male      5\n",
      "1  tt0026274   Male      9\n",
      "2  tt0027256   Male      8\n",
      "3  tt0028217   Male      7\n",
      "4  tt0031580   Male     27\n",
      "5  tt0033616   Male     46\n",
      "6  tt0036077   Male     11\n",
      "7  tt0038491   Male      7\n",
      "8  tt0039654   Male      6\n",
      "9  tt0040067   Male     10\n",
      "True\n",
      "CPU times: total: 656 ms\n",
      "Wall time: 639 ms\n"
     ]
    }
   ],
   "source": [
    "%%time\n",
    "\n",
    "# note that you don't need TRIM for person table\n",
    "\n",
    "def grader_5aa(query_5aa):\n",
    "    query_5aa = pd.read_sql_query(query_5aa,conn)\n",
    "    print(query_5aa.head(10)) \n",
    "    print(query_5aa.shape)\n",
    "    return (query_5aa.shape == (8846,3))\n",
    "\n",
    "query_5aa =\"\"\" \n",
    "SELECT m.MID, p.Gender, COUNT(p.Gender) as count\n",
    "    FROM Movie m\n",
    "    JOIN M_Cast mc ON m.MID = mc.MID\n",
    "    JOIN Person p ON trim(mc.PID) = p.PID\n",
    "    GROUP BY mc.MID,p.Gender\n",
    "\"\"\"\n",
    "\n",
    "print(grader_5aa(query_5aa))\n",
    "\n",
    "def grader_5ab(query_5ab):\n",
    "    query_5ab = pd.read_sql_query(query_5ab,conn)\n",
    "    print(query_5ab.head(10)) \n",
    "    return (query_5ab.shape == (3469, 3))\n",
    "\n",
    "query_5ab =\"\"\" \n",
    "SELECT MC.MID ,p.Gender , COUNT(p.Gender) as COUNT\n",
    "FROM M_Cast MC\n",
    "INNER JOIN Person p ON p.PID=TRIM(MC.PID)\n",
    "WHERE p.Gender IN ('Male', 'NULL')\n",
    "GROUP BY MC.MID\n",
    "\"\"\"\n",
    "\n",
    "print(grader_5ab(query_5ab))\n",
    "\n",
    "\n",
    "# using the above queries, you can write the answer to the given question"
   ]
  },
  {
   "cell_type": "code",
   "execution_count": 19,
   "metadata": {},
   "outputs": [
    {
     "name": "stdout",
     "output_type": "stream",
     "text": [
      "   year  count\n",
      "0  1939      1\n",
      "1  1999      1\n",
      "2  2000      1\n",
      "3  2018      1\n",
      "(4, 2)\n",
      "CPU times: total: 734 ms\n",
      "Wall time: 711 ms\n"
     ]
    },
    {
     "data": {
      "text/plain": [
       "True"
      ]
     },
     "execution_count": 19,
     "metadata": {},
     "output_type": "execute_result"
    }
   ],
   "source": [
    "%%time\n",
    "\n",
    "def grader_5a(query_5a):\n",
    "    query_5a = pd.read_sql_query(query_5a,conn)\n",
    "    print(query_5a.head(10)) \n",
    "    print(query_5a.shape)\n",
    "    return (query_5a.shape == (4,2))\n",
    "\n",
    "query_5a =\"\"\"  \n",
    "    WITH \n",
    "    all_cast AS \n",
    "    (SELECT m.mid ,count(DISTINCT(m.MID)) as count, TRIM(p.Gender), TRIM(p.Gender), SUBSTR(m.year,-4) AS year\n",
    "    FROM Movie m\n",
    "    JOIN M_Cast mc ON m.MID = mc.MID\n",
    "    JOIN Person p ON trim(mc.PID) = p.PID\n",
    "    GROUP BY mc.MID, p.Gender)\n",
    "    ,\n",
    "    male_present AS \n",
    "    (SELECT MC.MID ,p.Gender , COUNT(p.Gender) as COUNT\n",
    "    FROM M_Cast MC\n",
    "    INNER JOIN Person p ON p.PID=TRIM(MC.PID)\n",
    "    WHERE p.Gender = 'Male'\n",
    "    GROUP BY MC.MID)\n",
    "\n",
    "\n",
    "SELECT a.YEAR,a.count\n",
    "FROM all_cast a\n",
    "WHERE NOT EXISTS (SELECT * FROM male_present WHERE a.mid = mid)\n",
    "GROUP BY a.year,a.MID\n",
    "\"\"\"\n",
    "\n",
    "grader_5a(query_5a)\n",
    "# using the above queries, you can write the answer to the given question"
   ]
  },
  {
   "cell_type": "code",
   "execution_count": 12,
   "metadata": {},
   "outputs": [
    {
     "name": "stdout",
     "output_type": "stream",
     "text": [
      "   Year  All Female Cast\n",
      "0  1939                1\n",
      "1  1999                1\n",
      "2  2000                1\n",
      "3  2018                1\n",
      "(4, 2)\n",
      "CPU times: total: 2.05 s\n",
      "Wall time: 2.11 s\n"
     ]
    },
    {
     "data": {
      "text/plain": [
       "True"
      ]
     },
     "execution_count": 12,
     "metadata": {},
     "output_type": "execute_result"
    }
   ],
   "source": [
    "%%time\n",
    "\n",
    "def grader_5a(query_5a):\n",
    "    query_5a = pd.read_sql_query(query_5a,conn)\n",
    "    print(query_5a.head(10)) \n",
    "    print(query_5a.shape)\n",
    "    return (query_5a.shape == (4,2))\n",
    "\n",
    "query_5a =\"\"\"  \n",
    "WITH all_cast AS \n",
    "    (SELECT SUBSTR(m.\"year\",-4) as 'Year', m.title, trim(m.MID) as MID, p.Name, trim(p.Gender) as Gender  \n",
    "    FROM Movie m\n",
    "    JOIN M_Cast mc ON (m.MID = mc.MID)\n",
    "    JOIN Person p ON (trim(mc.PID) = p.PID))\n",
    "        ,   \n",
    "male_present AS (\n",
    "    SELECT year, mid, name\n",
    "    FROM all_cast\n",
    "    WHERE Gender = 'Male')\n",
    "\n",
    "\n",
    "SELECT year, COUNT(DISTINCT mid) as 'All Female Cast'\n",
    "FROM all_cast a\n",
    "WHERE NOT EXISTS (SELECT * FROM male_present WHERE a.mid = mid)\n",
    "GROUP BY year\n",
    "\"\"\"\n",
    "\n",
    "grader_5a(query_5a)"
   ]
  },
  {
   "cell_type": "markdown",
   "metadata": {
    "id": "cTiKejUfE_I1"
   },
   "source": [
    "## Q5.b --- Now include a small change: report for each year the percentage of movies in that year with only female actors, and the total number of movies made that year. For example, one answer will be: 1990 31.81 13522 meaning that in 1990 there were 13,522 movies, and 31.81% had only female actors. You do not need to round your answer."
   ]
  },
  {
   "cell_type": "code",
   "execution_count": 21,
   "metadata": {
    "colab": {
     "base_uri": "https://localhost:8080/",
     "height": 153
    },
    "id": "Xv6iXvcZE_I2",
    "outputId": "16958703-8f35-40d8-8489-b7269cde2d70"
   },
   "outputs": [
    {
     "name": "stdout",
     "output_type": "stream",
     "text": [
      "   year  Percentage_Female_Only_Movie  total_movies\n",
      "0  1939                            50             2\n",
      "1  1999                            16            66\n",
      "2  2000                            15            64\n",
      "3  2018                             2            93\n",
      "CPU times: total: 672 ms\n",
      "Wall time: 670 ms\n"
     ]
    }
   ],
   "source": [
    "%%time\n",
    "def grader_5b(q5b):\n",
    "    q5b_results  = pd.read_sql_query(q5b,conn)\n",
    "    print(q5b_results.head(10))\n",
    "    assert (q5b_results.shape == (4,3))\n",
    "\n",
    "query5b = \"\"\" \n",
    "WITH \n",
    "    all_cast AS \n",
    "    (SELECT m.MID, p.Gender, COUNT(p.Gender) as count, SUBSTR(m.year,-4) AS year\n",
    "    FROM Movie m\n",
    "    JOIN M_Cast mc ON m.MID = mc.MID\n",
    "    JOIN Person p ON trim(mc.PID) = p.PID\n",
    "    GROUP BY mc.MID, p.Gender)\n",
    "    ,\n",
    "    male_present AS \n",
    "    (SELECT MC.MID ,p.Gender , COUNT(p.Gender) as COUNT\n",
    "    FROM M_Cast MC\n",
    "    INNER JOIN Person p ON p.PID=TRIM(MC.PID)\n",
    "    WHERE p.Gender IN ('Male', 'NULL')\n",
    "    GROUP BY MC.MID)\n",
    "    ,\n",
    "    Total_movies_per_year AS \n",
    "    (SELECT M.\"year\", COUNT(*) AS 'total_movies' \n",
    "    FROM Movie as M GROUP BY M.\"year\")\n",
    "    \n",
    "   \n",
    "    \n",
    "SELECT a.year, a.count*100/T.total_movies AS Percentage_Female_Only_Movie ,T.total_movies\n",
    "FROM all_cast a\n",
    "JOIN Total_movies_per_year T ON T.\"year\"=a.'year'\n",
    "WHERE NOT EXISTS (SELECT * FROM male_present WHERE a.mid = mid)\n",
    "GROUP BY a.year,a.MID\n",
    "\n",
    "\"\"\"\n",
    "grader_5b(query5b)"
   ]
  },
  {
   "cell_type": "code",
   "execution_count": 42,
   "metadata": {},
   "outputs": [
    {
     "name": "stdout",
     "output_type": "stream",
     "text": [
      "   year  Percentage_Female_Only_Movie  count\n",
      "0  1939                      0.500000      2\n",
      "1  1999                      0.015152     66\n",
      "2  2000                      0.015625     64\n",
      "3  2018                      0.009615    104\n",
      "CPU times: total: 891 ms\n",
      "Wall time: 891 ms\n"
     ]
    }
   ],
   "source": [
    "%%time\n",
    "def grader_5b(q5b):\n",
    "    q5b_results  = pd.read_sql_query(q5b,conn)\n",
    "    print(q5b_results.head(10))\n",
    "    assert (q5b_results.shape == (4,3))\n",
    "    \n",
    "query5b =\"\"\"\n",
    " WITH \n",
    "    all_cast AS \n",
    "    (SELECT m.mid ,count(DISTINCT(m.MID)) as count, TRIM(p.Gender), TRIM(p.Gender), SUBSTR(m.year,-4) AS year\n",
    "    FROM Movie m\n",
    "    JOIN M_Cast mc ON m.MID = mc.MID\n",
    "    JOIN Person p ON trim(mc.PID) = p.PID\n",
    "    GROUP BY mc.MID, p.Gender)\n",
    "    ,\n",
    "    male_present AS \n",
    "    (SELECT MC.MID ,p.Gender  ,count(DISTINCT(mc.MID)) as count\n",
    "    FROM M_Cast MC\n",
    "    INNER JOIN Person p ON p.PID=TRIM(MC.PID)\n",
    "    WHERE p.Gender = 'Male'\n",
    "    GROUP BY MC.MID)\n",
    "    ,\n",
    "    movies_per_year AS\n",
    "    (SELECT COUNT(DISTINCT(m.mid)) as count, SUBSTR(m.year,-4) AS year\n",
    "    FROM M_cast mc \n",
    "    join movie m ON (TRIM(mc.mid)=m.mid )\n",
    "    group by SUBSTR(m.year,-4)\n",
    "    )\n",
    "\n",
    "\n",
    "SELECT a.year, CAST(a.count AS float)/CAST(T.count AS float) AS Percentage_Female_Only_Movie ,T.count\n",
    "FROM all_cast a\n",
    "JOIN movies_per_year T ON T.\"year\"=a.'year'\n",
    "WHERE NOT EXISTS (SELECT * FROM male_present WHERE a.mid = mid)\n",
    "GROUP BY a.year,a.MID\n",
    "\n",
    "\n",
    "\"\"\"\n",
    "grader_5b(query5b)"
   ]
  },
  {
   "cell_type": "markdown",
   "metadata": {
    "id": "d5mvJcHDE_I6"
   },
   "source": [
    "## Q6 --- Find the film(s) with the largest cast. Return the movie title and the size of the cast. By \"cast size\" we mean the number of distinct actors that played in that movie: if an actor played multiple roles, or if it simply occurs multiple times in casts, we still count her/him only once."
   ]
  },
  {
   "cell_type": "code",
   "execution_count": null,
   "metadata": {
    "colab": {
     "base_uri": "https://localhost:8080/",
     "height": 255
    },
    "id": "vpr9gGg6E_I7",
    "outputId": "bceec796-502e-4bb1-ce5e-0f8eb703e2f5"
   },
   "outputs": [
    {
     "name": "stdout",
     "output_type": "stream",
     "text": [
      "                        title  count\n",
      "0               Ocean's Eight    238\n",
      "1                    Apaharan    233\n",
      "2                        Gold    215\n",
      "3             My Name Is Khan    213\n",
      "4  Captain America: Civil War    191\n",
      "5                    Geostorm    170\n",
      "6                     Striker    165\n",
      "7                        2012    154\n",
      "8                      Pixels    144\n",
      "9       Yamla Pagla Deewana 2    140\n",
      "Wall time: 232 ms\n"
     ]
    }
   ],
   "source": [
    "%%time\n",
    "def grader_6(q6):\n",
    "    q6_results  = pd.read_sql_query(q6,conn)\n",
    "    print(q6_results.head(10))\n",
    "    assert (q6_results.shape == (3473, 2))\n",
    "\n",
    "query6 = \"\"\" *** Write your query for the question 5b *** \"\"\"\n",
    "grader_6(query6)"
   ]
  },
  {
   "cell_type": "code",
   "execution_count": 115,
   "metadata": {},
   "outputs": [
    {
     "name": "stdout",
     "output_type": "stream",
     "text": [
      "                        title  count\n",
      "0               Ocean's Eight    238\n",
      "1                    Apaharan    233\n",
      "2                        Gold    215\n",
      "3             My Name Is Khan    213\n",
      "4  Captain America: Civil War    191\n",
      "5                    Geostorm    170\n",
      "6                     Striker    165\n",
      "7                        2012    154\n",
      "8                      Pixels    144\n",
      "9       Yamla Pagla Deewana 2    140\n",
      "(3473, 2)\n",
      "CPU times: total: 156 ms\n",
      "Wall time: 155 ms\n"
     ]
    }
   ],
   "source": [
    "%%time\n",
    "def grader_6(q6):\n",
    "    q6_results  = pd.read_sql_query(q6,conn)\n",
    "    print(q6_results.head(10))\n",
    "    print(q6_results.shape)\n",
    "    assert (q6_results.shape == (3473, 2))\n",
    "\n",
    "query6 = \"\"\" \n",
    "SELECT  M.Title,COUNT(mc.PID) AS count\n",
    "FROM M_cast mc\n",
    "JOIN Movie M ON mc.MID=M.MID\n",
    "GROUP BY mc.MID\n",
    "ORDER BY count DESC\n",
    "\"\"\"\n",
    "grader_6(query6)"
   ]
  },
  {
   "cell_type": "markdown",
   "metadata": {
    "id": "E6mOLxNgTby6"
   },
   "source": [
    "### Q7 --- A decade is a sequence of 10 consecutive years. \n",
    "### For example, say in your database you have movie information starting from 1931. \n",
    "### the first decade is 1931, 1932, ..., 1940,\n",
    "### the second decade is 1932, 1933, ..., 1941 and so on. \n",
    "### Find the decade D with the largest number of films and the total number of films in D"
   ]
  },
  {
   "cell_type": "code",
   "execution_count": null,
   "metadata": {
    "id": "ZfOWt8IW23uE",
    "outputId": "2f06e789-9f45-44ed-d1d7-d628170bb6c5"
   },
   "outputs": [
    {
     "name": "stdout",
     "output_type": "stream",
     "text": [
      "   Movie_Year  Total_Movies\n",
      "0        1931             1\n",
      "1        1936             3\n",
      "2        1939             2\n",
      "3        1941             1\n",
      "4        1943             1\n",
      "5        1946             2\n",
      "6        1947             2\n",
      "7        1948             3\n",
      "8        1949             3\n",
      "9        1950             2\n",
      "Wall time: 12 ms\n"
     ]
    }
   ],
   "source": [
    "%%time\n",
    "def grader_7a(q7a):\n",
    "    q7a_results  = pd.read_sql_query(q7a,conn)\n",
    "    print(q7a_results.head(10))\n",
    "    assert (q7a_results.shape == (78, 2))\n",
    "\n",
    "query7a = \"\"\" *** Write a query that computes number of movies in each year *** \"\"\"\n",
    "grader_7a(query7a)\n",
    "\n",
    "# using the above query, you can write the answer to the given question"
   ]
  },
  {
   "cell_type": "code",
   "execution_count": 130,
   "metadata": {},
   "outputs": [
    {
     "name": "stdout",
     "output_type": "stream",
     "text": [
      "   Movie_year  Total_movie\n",
      "0        1931            1\n",
      "1        1936            3\n",
      "2        1939            2\n",
      "3        1941            1\n",
      "4        1943            1\n",
      "5        1946            2\n",
      "6        1947            2\n",
      "7        1948            3\n",
      "8        1949            3\n",
      "9        1950            2\n",
      "(78, 2)\n",
      "CPU times: total: 0 ns\n",
      "Wall time: 9 ms\n"
     ]
    }
   ],
   "source": [
    "%%time\n",
    "def grader_7a(q7a):\n",
    "    q7a_results  = pd.read_sql_query(q7a,conn)\n",
    "    print(q7a_results.head(10))\n",
    "    print(q7a_results.shape)\n",
    "    assert (q7a_results.shape == (78, 2))\n",
    "\n",
    "query7a = \"\"\" \n",
    "SELECT CAST(SUBSTR(TRIM(M.year),-4) AS INTEGER) AS Movie_year,COUNT(M.MID) AS Total_movie \n",
    "FROM Movie M\n",
    "GROUP BY CAST(SUBSTR(TRIM(M.year),-4) AS INTEGER)\n",
    "\"\"\"\n",
    "grader_7a(query7a)\n",
    "\n",
    "# using the above query, you can write the answer to the given question"
   ]
  },
  {
   "cell_type": "code",
   "execution_count": null,
   "metadata": {
    "id": "sBMzLrIY23uJ",
    "outputId": "6f40ad73-684a-44f9-a7ce-c0ec253df7e7"
   },
   "outputs": [
    {
     "name": "stdout",
     "output_type": "stream",
     "text": [
      "   Movie_Year  Total_Movies  Movie_Year  Total_Movies\n",
      "0        1931             1        1931             1\n",
      "1        1931             1        1936             3\n",
      "2        1931             1        1939             2\n",
      "3        1936             3        1936             3\n",
      "4        1936             3        1939             2\n",
      "5        1936             3        1941             1\n",
      "6        1936             3        1943             1\n",
      "7        1939             2        1939             2\n",
      "8        1939             2        1941             1\n",
      "9        1939             2        1943             1\n",
      "Wall time: 24 ms\n"
     ]
    }
   ],
   "source": [
    "%%time\n",
    "def grader_7b(q7b):\n",
    "    q7b_results  = pd.read_sql_query(q7b,conn)\n",
    "    print(q7b_results.head(10))\n",
    "    assert (q7b_results.shape == (713, 4))\n",
    "\n",
    "query7b = \"\"\"   \n",
    "    *** \n",
    "    Write a query that will do joining of the above table(7a) with itself \n",
    "    such that you will join with only rows if the second tables year is <= current_year+9 and more than or equal current_year\n",
    "    *** \n",
    "          \"\"\"\n",
    "grader_7b(query7b)\n",
    "# if you see the below results the first movie year is less than 2nd movie year and \n",
    "# 2nd movie year is less or equal to the first movie year+9\n",
    "\n",
    "# using the above query, you can write the answer to the given question"
   ]
  },
  {
   "cell_type": "code",
   "execution_count": 6,
   "metadata": {},
   "outputs": [
    {
     "name": "stdout",
     "output_type": "stream",
     "text": [
      "  decade_start decade_end  total_movies\n",
      "0         2008       2017          1126\n",
      "(1, 3)\n"
     ]
    }
   ],
   "source": [
    "def grader_7(q7b):\n",
    "    q7b_results  = pd.read_sql_query(q7b,conn)\n",
    "    print(q7b_results.head(10))\n",
    "    print(q7b_results.shape)\n",
    "\n",
    "query7 = \"\"\"\n",
    "WITH MOV AS\n",
    "(\n",
    "   SELECT year as movie_year, COUNT(MID) as total_movies\n",
    "   FROM MOVIE \n",
    "   GROUP BY year\n",
    ")\n",
    "SELECT\n",
    "  m1.movie_year as decade_start,\n",
    "  MAX(m2.movie_year) as decade_end,\n",
    "  SUM(m2.total_movies) as total_movies\n",
    "FROM MOV m1\n",
    "LEFT JOIN MOV m2 ON (m2.movie_year BETWEEN m1.movie_year AND m1.movie_year + 9)\n",
    "GROUP BY m1.movie_year\n",
    "ORDER BY SUM(m2.total_movies) DESC\n",
    "LIMIT 1\n",
    "\n",
    "\"\"\"\n",
    "grader_7(query7)"
   ]
  },
  {
   "cell_type": "code",
   "execution_count": 7,
   "metadata": {
    "colab": {
     "base_uri": "https://localhost:8080/",
     "height": 255
    },
    "id": "NKqbguuqE_JA",
    "outputId": "2819ceef-0787-45f9-c38f-9648ccf787f0"
   },
   "outputs": [
    {
     "name": "stdout",
     "output_type": "stream",
     "text": [
      "             DECADE  TOTAL_MOVIES\n",
      "0  Decade of : 2008          1203\n",
      "(1, 2)\n",
      "CPU times: total: 31.2 ms\n",
      "Wall time: 22 ms\n"
     ]
    }
   ],
   "source": [
    "%%time\n",
    "def grader_7b(q7b):\n",
    "    q7b_results  = pd.read_sql_query(q7b,conn)\n",
    "    print(q7b_results.head(10))\n",
    "    print(q7b_results.shape)\n",
    "    \n",
    "query7b = \"\"\"   \n",
    "WITH \n",
    "    DISTINCT_YEARS AS\n",
    "    (SELECT DISTINCT CAST(SUBSTR(TRIM(year),-4) AS INTEGER) YEAR,\n",
    "        CAST(SUBSTR(TRIM(year),-4) AS INTEGER) START_OF_DECADE,\n",
    "        CAST(SUBSTR(TRIM(year),-4) AS INTEGER)+9 END_OF_DECADE,\n",
    "        'Decade of : ' || SUBSTR(year,-4)   DECADE\n",
    "    FROM Movie)\n",
    "    ,\n",
    "    NUMBER_OF_MOV_BY_YR AS\n",
    "    (SELECT COUNT(DISTINCT MID) NUM_OF_MOV, CAST(SUBSTR(TRIM(year),-4) AS INTEGER) YEAR\n",
    "    FROM Movie GROUP BY CAST(SUBSTR(TRIM(year),-4) AS INTEGER))\n",
    "    ,\n",
    "    NUM_OF_MOV_IN_DECADE AS \n",
    "    (SELECT SUM(NUM_OF_MOV) TOTAL_MOVIES,DY.DECADE\n",
    "    FROM NUMBER_OF_MOV_BY_YR NM, DISTINCT_YEARS DY\n",
    "    WHERE NM.YEAR BETWEEN DY.START_OF_DECADE AND DY.END_OF_DECADE\n",
    "    GROUP BY DY.DECADE)\n",
    "        \n",
    "SELECT DECADE, TOTAL_MOVIES\n",
    "FROM NUM_OF_MOV_IN_DECADE\n",
    "WHERE TOTAL_MOVIES = \n",
    "    (SELECT MAX(TOTAL_MOVIES)\n",
    "    FROM NUM_OF_MOV_IN_DECADE)\n",
    "    \"\"\"\n",
    "grader_7b(query7b)\n",
    "# if you check the output we are printinng all the year in that decade, its fine you can print 2008 or 2008-2017"
   ]
  },
  {
   "cell_type": "markdown",
   "metadata": {
    "id": "Jbm3Oy3hT8d9"
   },
   "source": [
    "## Q8 --- Find all the actors that made more movies with Yash Chopra than any other director."
   ]
  },
  {
   "cell_type": "code",
   "execution_count": null,
   "metadata": {
    "id": "DZJ7WMrk23uR",
    "outputId": "6f379ab4-bfb0-4a2f-dc6a-ae221cb65a0e"
   },
   "outputs": [
    {
     "name": "stdout",
     "output_type": "stream",
     "text": [
      "       actor   director  movies\n",
      "0  nm0000002  nm0496746       1\n",
      "1  nm0000027  nm0000180       1\n",
      "2  nm0000039  nm0896533       1\n",
      "3  nm0000042  nm0896533       1\n",
      "4  nm0000047  nm0004292       1\n",
      "5  nm0000073  nm0485943       1\n",
      "6  nm0000076  nm0000229       1\n",
      "7  nm0000092  nm0178997       1\n",
      "8  nm0000093  nm0000269       1\n",
      "9  nm0000096  nm0113819       1\n",
      "Wall time: 534 ms\n"
     ]
    }
   ],
   "source": [
    "%%time\n",
    "def grader_8a(q8a):\n",
    "    q8a_results  = pd.read_sql_query(q8a,conn)\n",
    "    print(q8a_results.head(10))\n",
    "    assert (q8a_results.shape == (73408, 3))\n",
    "\n",
    "query8a = \"\"\" *** Write a query that will results in number of movies actor-director worked together ***\"\"\"\n",
    "grader_8a(query8a)\n",
    "\n",
    "# using the above query, you can write the answer to the given question"
   ]
  },
  {
   "cell_type": "code",
   "execution_count": 23,
   "metadata": {},
   "outputs": [
    {
     "name": "stdout",
     "output_type": "stream",
     "text": [
      "        Actor   Director  COUNT(mc.MID)\n",
      "0   nm0000002  nm0496746              1\n",
      "1   nm0000027  nm0000180              1\n",
      "2   nm0000039  nm0896533              1\n",
      "3   nm0000042  nm0896533              1\n",
      "4   nm0000047  nm0004292              1\n",
      "5   nm0000073  nm0485943              1\n",
      "6   nm0000076  nm0000229              1\n",
      "7   nm0000092  nm0178997              1\n",
      "8   nm0000093  nm0000269              1\n",
      "9   nm0000096  nm0113819              1\n",
      "(73408, 3)\n",
      "CPU times: total: 484 ms\n",
      "Wall time: 490 ms\n"
     ]
    }
   ],
   "source": [
    "%%time\n",
    "def grader_8a(q8a):\n",
    "    q8a_results  = pd.read_sql_query(q8a,conn)\n",
    "    print(q8a_results.head(10))\n",
    "    print(q8a_results.shape)\n",
    "    assert (q8a_results.shape == (73408, 3))\n",
    "\n",
    "query8a = \"\"\" \n",
    "SELECT mc.PID as Actor, md.PID as Director, COUNT(mc.MID)\n",
    "FROM M_Director md\n",
    "JOIN M_cast mc ON md.MID=mc.MID\n",
    "GROUP BY mc.PID,md.PID\n",
    "\"\"\"\n",
    "grader_8a(query8a)\n"
   ]
  },
  {
   "cell_type": "code",
   "execution_count": 5,
   "metadata": {
    "colab": {
     "base_uri": "https://localhost:8080/",
     "height": 255
    },
    "id": "SYMTcHixE_JH",
    "outputId": "8cc98748-cc3b-4cbf-fa99-3af323f0d094"
   },
   "outputs": [
    {
     "name": "stdout",
     "output_type": "stream",
     "text": [
      "              Actor  COUNT\n",
      "0       Jagdish Raj     11\n",
      "1  Manmohan Krishna     10\n",
      "2          Iftekhar      9\n",
      "3     Shashi Kapoor      7\n",
      "4     Rakhee Gulzar      5\n",
      "5    Waheeda Rehman      5\n",
      "6    Achala Sachdev      4\n",
      "7       Neetu Singh      4\n",
      "8          Ravikant      4\n",
      "9     Leela Chitnis      3\n",
      "(237, 2)\n"
     ]
    },
    {
     "ename": "AssertionError",
     "evalue": "",
     "output_type": "error",
     "traceback": [
      "\u001b[1;31m---------------------------------------------------------------------------\u001b[0m",
      "\u001b[1;31mAssertionError\u001b[0m                            Traceback (most recent call last)",
      "File \u001b[1;32m<timed exec>:59\u001b[0m, in \u001b[0;36m<module>\u001b[1;34m\u001b[0m\n",
      "File \u001b[1;32m<timed exec>:6\u001b[0m, in \u001b[0;36mgrader_8\u001b[1;34m(q8)\u001b[0m\n",
      "\u001b[1;31mAssertionError\u001b[0m: "
     ]
    }
   ],
   "source": [
    "%%time\n",
    "# https://stackoverflow.com/questions/62852386/find-all-the-actors-that-made-more-movies-with-yash-chopra-than-any-other-direct\n",
    "def grader_8(q8):\n",
    "    q8_results  = pd.read_sql_query(q8,conn)\n",
    "    print(q8_results.head(10))\n",
    "    print(q8_results.shape)\n",
    "    assert (q8_results.shape == (245, 2))\n",
    "\n",
    "query8 = \"\"\" \n",
    "SELECT first.actor, first.count \n",
    "FROM   (SELECT Trim(actor) AS Actor, \n",
    "               Count(*)    AS COUNT \n",
    "        FROM   m_cast mc \n",
    "               INNER JOIN (SELECT m.mid \n",
    "                           FROM   movie m) AS m \n",
    "                       ON m.mid = Trim(mc.mid) \n",
    "               INNER JOIN (SELECT md.pid, \n",
    "                                  md.mid \n",
    "                           FROM   m_director md) AS md \n",
    "                       ON md.mid = Trim(mc.mid) \n",
    "               INNER JOIN (SELECT p.pid, \n",
    "                                  p.NAME AS actor \n",
    "                           FROM   person p) AS pactor \n",
    "                       ON pactor.pid = Trim(mc.pid) \n",
    "               INNER JOIN (SELECT p.pid, \n",
    "                                  p.NAME AS director \n",
    "                           FROM   person p) AS pdirector \n",
    "                       ON pdirector.pid = Trim(md.pid) \n",
    "        WHERE  director LIKE '%Yash Chopra%' \n",
    "        GROUP  BY Trim(actor)) first \n",
    "       LEFT JOIN (SELECT actor, \n",
    "                         Max(count) AS COUNT \n",
    "                  FROM   (SELECT DISTINCT Trim(actor) AS Actor, \n",
    "                                          Count(*)    AS COUNT \n",
    "                          FROM   m_cast mc \n",
    "                                 INNER JOIN (SELECT m.mid \n",
    "                                             FROM   movie m) AS m \n",
    "                                         ON m.mid = Trim(mc.mid) \n",
    "                                 INNER JOIN (SELECT md.pid, \n",
    "                                                    md.mid \n",
    "                                             FROM   m_director md) AS md \n",
    "                                         ON md.mid = Trim(mc.mid) \n",
    "                                 INNER JOIN (SELECT p.pid, \n",
    "                                                    p.NAME AS actor \n",
    "                                             FROM   person p) AS pactor \n",
    "                                         ON pactor.pid = Trim(mc.pid) \n",
    "                                 INNER JOIN (SELECT p.pid, \n",
    "                                                    p.NAME AS director \n",
    "                                             FROM   person p) AS pdirector \n",
    "                                         ON pdirector.pid = Trim(md.pid) \n",
    "                          WHERE  director NOT LIKE '%Yash Chopra%' \n",
    "                          GROUP  BY Trim(actor), \n",
    "                                    director) \n",
    "                  GROUP  BY actor) second \n",
    "              ON first.actor = second.actor \n",
    "WHERE  first.count >= second.count \n",
    "        OR second.actor IS NULL \n",
    "ORDER  BY first.count DESC \n",
    "\"\"\"\n",
    "grader_8(query8)"
   ]
  },
  {
   "cell_type": "code",
   "execution_count": 30,
   "metadata": {},
   "outputs": [
    {
     "name": "stdout",
     "output_type": "stream",
     "text": [
      "                Name  Count\n",
      "0        Jagdish Raj     11\n",
      "1   Manmohan Krishna     10\n",
      "2           Iftekhar      9\n",
      "3         Madan Puri      8\n",
      "4        Vikas Anand      8\n",
      "5        Anupam Kher      7\n",
      "6      Shashi Kapoor      7\n",
      "7   Amitabh Bachchan      6\n",
      "8     Waheeda Rehman      5\n",
      "9      Rakhee Gulzar      5\n",
      "(430, 2)\n"
     ]
    },
    {
     "ename": "AssertionError",
     "evalue": "",
     "output_type": "error",
     "traceback": [
      "\u001b[1;31m---------------------------------------------------------------------------\u001b[0m",
      "\u001b[1;31mAssertionError\u001b[0m                            Traceback (most recent call last)",
      "File \u001b[1;32m<timed exec>:59\u001b[0m, in \u001b[0;36m<module>\u001b[1;34m\u001b[0m\n",
      "File \u001b[1;32m<timed exec>:5\u001b[0m, in \u001b[0;36mgrader_8\u001b[1;34m(q8)\u001b[0m\n",
      "\u001b[1;31mAssertionError\u001b[0m: "
     ]
    }
   ],
   "source": [
    "%%time\n",
    "\n",
    "def grader_8(q8):\n",
    "    q8_results  = pd.read_sql_query(q8,conn)\n",
    "    print(q8_results.head(10))\n",
    "    print(q8_results.shape)\n",
    "    assert (q8_results.shape == (245, 2))\n",
    "\n",
    "query8 = \"\"\" \n",
    "WITH pair AS\n",
    "(SELECT mc.PID as Actor, md.PID as Director, COUNT(mc.MID) AS Count\n",
    "FROM M_Director md\n",
    "JOIN M_cast mc ON md.MID=mc.MID\n",
    "GROUP BY mc.PID,md.PID)\n",
    ",\n",
    "yash_pair AS\n",
    "(SELECT * FROM pair pr WHERE pr.director IN\n",
    "(SELECT TRIM(p.PID) FROM person p WHERE p.name LIKE \"%Yash%Chopra%\"))\n",
    ",\n",
    "no_yash_pair AS\n",
    "(SELECT * FROM pair pr WHERE pr.director IN \n",
    "(SELECT TRIM(p.PID) FROM person p WHERE p.name NOT LIKE '%Yash%Chopra%'))\n",
    "\n",
    "SELECT  pe.NAME,yp.count\n",
    "FROM yash_pair yp\n",
    "JOIN pair p ON (yp.actor=p.actor)\n",
    "JOIN person pe ON (TRIM(yp.actor)=pe.PID)\n",
    "WHERE (yp.count>p.count) OR (TRIM(yp.actor) NOT IN (p.actor))\n",
    "GROUP BY p.actor\n",
    "ORDER BY yp.count DESC\n",
    "\"\"\"\n",
    "\n",
    "qtt=\"\"\"\n",
    "SELECT TRIM(P.Name) AS ACTOR_NAME, COUNT(DISTINCT M.MID) AS YASH_CHOPRA_DIRECTED_MOVIES\n",
    "FROM Person P \n",
    "JOIN M_Cast MC ON TRIM(MC.PID) = P.PID \n",
    "JOIN Movie M ON M.MID = MC.MID \n",
    "JOIN M_Director MD ON MD.MID = M.MID \n",
    "JOIN Person P1 ON P1.PID = TRIM(MD.PID)\n",
    "WHERE TRIM(P1.Name) = 'Yash Chopra'  \n",
    "GROUP BY TRIM(P.PID)\n",
    "ORDER BY COUNT(DISTINCT M.MID) DESC\n",
    "\n",
    "\"\"\"\n",
    "\n",
    "qt=\"\"\"\n",
    "SELECT p1.PID,p1.name,count(movie.MID) as movie_with_yc\n",
    "FROM person as p1 ,M_cash, movie\n",
    "    join m_director ON (movie.MID=M_director.MID)\n",
    "    JOIN Person AS p2 ON (M_director.PID=p2.PID)\n",
    "    WHERE p2.nme = '%Yash%Chopra%'\n",
    "    GROUP BY p1.PID\n",
    "    HAVING count(Moive.MID) > ALL (SELECT COUNT(movie.MID)\n",
    "    FROM Person AS p3 , M_cast,movie\n",
    "    JOIN M_director ON (Movie.MID=M_Director.MID)\n",
    "    JOIN Person AS p4 ON (M_director.PID=p4.MID)\n",
    "    WHERE p1.PID=p3.PID and p4.name != '%Yash%Chopra%'\n",
    "    GROUP BY p4.PID)\n",
    "    ORDER BY movie_with_yc DESC\n",
    "\"\"\"\n",
    "grader_8(query8)"
   ]
  },
  {
   "cell_type": "markdown",
   "metadata": {
    "id": "2j8Fc9jUUJ9C"
   },
   "source": [
    "## Q9 --- The Shahrukh number of an actor is the length of the shortest path between the actor and Shahrukh Khan in the \"co-acting\" graph. That is, Shahrukh Khan has Shahrukh number 0; all actors who acted in the same film as Shahrukh have Shahrukh number 1; all actors who acted in the same film as some actor with Shahrukh number 1 have Shahrukh number 2, etc. Return all actors whose Shahrukh number is 2."
   ]
  },
  {
   "cell_type": "code",
   "execution_count": null,
   "metadata": {
    "id": "3FnJ_19z23ub",
    "outputId": "c63ac439-ad2b-4aa4-8aeb-dc0245670f34"
   },
   "outputs": [
    {
     "name": "stdout",
     "output_type": "stream",
     "text": [
      "      S1_PID\n",
      "0  nm0004418\n",
      "1  nm1995953\n",
      "2  nm2778261\n",
      "3  nm0631373\n",
      "4  nm0241935\n",
      "5  nm0792116\n",
      "6  nm1300111\n",
      "7  nm0196375\n",
      "8  nm1464837\n",
      "9  nm2868019\n",
      "(2382, 1)\n",
      "Wall time: 178 ms\n"
     ]
    }
   ],
   "source": [
    "%%time\n",
    "def grader_9a(q9a):\n",
    "    q9a_results  = pd.read_sql_query(q9a,conn)\n",
    "    print(q9a_results.head(10))\n",
    "    print(q9a_results.shape)\n",
    "    assert (q9a_results.shape == (2382, 1))\n",
    "\n",
    "query9a = \"\"\" *** Write a query that answers the 9th question ***\"\"\"\n",
    "grader_9a(query9a)\n",
    "# using the above query, you can write the answer to the given question\n",
    "\n",
    "# selecting actors who acted with srk (S1)\n",
    "# selecting all movies where S1 actors acted, this forms S2 movies list\n",
    "# selecting all actors who acted in S2 movies, this gives us S2 actors along with S1 actors\n",
    "# removing S1 actors from the combined list of S1 & S2 actors, so that we get only S2 actors"
   ]
  },
  {
   "cell_type": "code",
   "execution_count": 98,
   "metadata": {},
   "outputs": [
    {
     "name": "stdout",
     "output_type": "stream",
     "text": [
      "      S1_PID\n",
      "0  nm0000818\n",
      "1  nm0000821\n",
      "2  nm0001934\n",
      "3  nm0002043\n",
      "4  nm0004109\n",
      "5  nm0004334\n",
      "6  nm0004335\n",
      "7  nm0004363\n",
      "8  nm0004418\n",
      "9  nm0004429\n",
      "(2382, 1)\n",
      "CPU times: total: 1.38 s\n",
      "Wall time: 1.37 s\n"
     ]
    }
   ],
   "source": [
    "%%time\n",
    "def grader_9a(q9a):\n",
    "    q9a_results  = pd.read_sql_query(q9a,conn)\n",
    "    \n",
    "    print(q9a_results.head(10))\n",
    "    print(q9a_results.shape)\n",
    "    assert (q9a_results.shape == (2382, 1))\n",
    "    \n",
    "query9a = \"\"\" \n",
    "WITH shk_MID AS (SELECT mc.MID\n",
    "FROM Person p\n",
    "JOIN M_Cast mc ON p.PID=TRIM(mc.PID)\n",
    "WHERE p.name LIKE ('%Shah%Rukh%Khan%'))\n",
    "\n",
    "SELECT p.PID AS S1_PID\n",
    "FROM M_Cast mc\n",
    "JOIN shk_MID sm ON mc.MID=sm.MID\n",
    "JOIN Person p ON TRIM(mc.PID)=p.PID\n",
    "WHERE p.name NOT LIKE '%Shah%Rukh%Khan%'\n",
    "GROUP BY p.PID\n",
    "\"\"\"\n",
    "#2382\n",
    "grader_9a(query9a)"
   ]
  },
  {
   "cell_type": "code",
   "execution_count": 102,
   "metadata": {
    "colab": {
     "base_uri": "https://localhost:8080/",
     "height": 255
    },
    "collapsed": true,
    "id": "5o6imc82E_JS",
    "outputId": "29de4fa8-ddbb-44ba-ad8f-12d2e48d278f"
   },
   "outputs": [
    {
     "ename": "DatabaseError",
     "evalue": "Execution failed on sql ' *** Write a query that answers the 9th question ***': near \"*\": syntax error",
     "output_type": "error",
     "traceback": [
      "\u001b[1;31m---------------------------------------------------------------------------\u001b[0m",
      "\u001b[1;31mOperationalError\u001b[0m                          Traceback (most recent call last)",
      "File \u001b[1;32m~\\anaconda3\\lib\\site-packages\\pandas\\io\\sql.py:2020\u001b[0m, in \u001b[0;36mSQLiteDatabase.execute\u001b[1;34m(self, *args, **kwargs)\u001b[0m\n\u001b[0;32m   2019\u001b[0m \u001b[38;5;28;01mtry\u001b[39;00m:\n\u001b[1;32m-> 2020\u001b[0m     \u001b[43mcur\u001b[49m\u001b[38;5;241;43m.\u001b[39;49m\u001b[43mexecute\u001b[49m\u001b[43m(\u001b[49m\u001b[38;5;241;43m*\u001b[39;49m\u001b[43margs\u001b[49m\u001b[43m,\u001b[49m\u001b[43m \u001b[49m\u001b[38;5;241;43m*\u001b[39;49m\u001b[38;5;241;43m*\u001b[39;49m\u001b[43mkwargs\u001b[49m\u001b[43m)\u001b[49m\n\u001b[0;32m   2021\u001b[0m     \u001b[38;5;28;01mreturn\u001b[39;00m cur\n",
      "\u001b[1;31mOperationalError\u001b[0m: near \"*\": syntax error",
      "\nThe above exception was the direct cause of the following exception:\n",
      "\u001b[1;31mDatabaseError\u001b[0m                             Traceback (most recent call last)",
      "File \u001b[1;32m<timed exec>:8\u001b[0m, in \u001b[0;36m<module>\u001b[1;34m\u001b[0m\n",
      "File \u001b[1;32m<timed exec>:2\u001b[0m, in \u001b[0;36mgrader_9\u001b[1;34m(q9)\u001b[0m\n",
      "File \u001b[1;32m~\\anaconda3\\lib\\site-packages\\pandas\\io\\sql.py:399\u001b[0m, in \u001b[0;36mread_sql_query\u001b[1;34m(sql, con, index_col, coerce_float, params, parse_dates, chunksize, dtype)\u001b[0m\n\u001b[0;32m    341\u001b[0m \u001b[38;5;124;03m\"\"\"\u001b[39;00m\n\u001b[0;32m    342\u001b[0m \u001b[38;5;124;03mRead SQL query into a DataFrame.\u001b[39;00m\n\u001b[0;32m    343\u001b[0m \n\u001b[1;32m   (...)\u001b[0m\n\u001b[0;32m    396\u001b[0m \u001b[38;5;124;03mparameter will be converted to UTC.\u001b[39;00m\n\u001b[0;32m    397\u001b[0m \u001b[38;5;124;03m\"\"\"\u001b[39;00m\n\u001b[0;32m    398\u001b[0m pandas_sql \u001b[38;5;241m=\u001b[39m pandasSQL_builder(con)\n\u001b[1;32m--> 399\u001b[0m \u001b[38;5;28;01mreturn\u001b[39;00m \u001b[43mpandas_sql\u001b[49m\u001b[38;5;241;43m.\u001b[39;49m\u001b[43mread_query\u001b[49m\u001b[43m(\u001b[49m\n\u001b[0;32m    400\u001b[0m \u001b[43m    \u001b[49m\u001b[43msql\u001b[49m\u001b[43m,\u001b[49m\n\u001b[0;32m    401\u001b[0m \u001b[43m    \u001b[49m\u001b[43mindex_col\u001b[49m\u001b[38;5;241;43m=\u001b[39;49m\u001b[43mindex_col\u001b[49m\u001b[43m,\u001b[49m\n\u001b[0;32m    402\u001b[0m \u001b[43m    \u001b[49m\u001b[43mparams\u001b[49m\u001b[38;5;241;43m=\u001b[39;49m\u001b[43mparams\u001b[49m\u001b[43m,\u001b[49m\n\u001b[0;32m    403\u001b[0m \u001b[43m    \u001b[49m\u001b[43mcoerce_float\u001b[49m\u001b[38;5;241;43m=\u001b[39;49m\u001b[43mcoerce_float\u001b[49m\u001b[43m,\u001b[49m\n\u001b[0;32m    404\u001b[0m \u001b[43m    \u001b[49m\u001b[43mparse_dates\u001b[49m\u001b[38;5;241;43m=\u001b[39;49m\u001b[43mparse_dates\u001b[49m\u001b[43m,\u001b[49m\n\u001b[0;32m    405\u001b[0m \u001b[43m    \u001b[49m\u001b[43mchunksize\u001b[49m\u001b[38;5;241;43m=\u001b[39;49m\u001b[43mchunksize\u001b[49m\u001b[43m,\u001b[49m\n\u001b[0;32m    406\u001b[0m \u001b[43m    \u001b[49m\u001b[43mdtype\u001b[49m\u001b[38;5;241;43m=\u001b[39;49m\u001b[43mdtype\u001b[49m\u001b[43m,\u001b[49m\n\u001b[0;32m    407\u001b[0m \u001b[43m\u001b[49m\u001b[43m)\u001b[49m\n",
      "File \u001b[1;32m~\\anaconda3\\lib\\site-packages\\pandas\\io\\sql.py:2080\u001b[0m, in \u001b[0;36mSQLiteDatabase.read_query\u001b[1;34m(self, sql, index_col, coerce_float, params, parse_dates, chunksize, dtype)\u001b[0m\n\u001b[0;32m   2068\u001b[0m \u001b[38;5;28;01mdef\u001b[39;00m \u001b[38;5;21mread_query\u001b[39m(\n\u001b[0;32m   2069\u001b[0m     \u001b[38;5;28mself\u001b[39m,\n\u001b[0;32m   2070\u001b[0m     sql,\n\u001b[1;32m   (...)\u001b[0m\n\u001b[0;32m   2076\u001b[0m     dtype: DtypeArg \u001b[38;5;241m|\u001b[39m \u001b[38;5;28;01mNone\u001b[39;00m \u001b[38;5;241m=\u001b[39m \u001b[38;5;28;01mNone\u001b[39;00m,\n\u001b[0;32m   2077\u001b[0m ):\n\u001b[0;32m   2079\u001b[0m     args \u001b[38;5;241m=\u001b[39m _convert_params(sql, params)\n\u001b[1;32m-> 2080\u001b[0m     cursor \u001b[38;5;241m=\u001b[39m \u001b[38;5;28;43mself\u001b[39;49m\u001b[38;5;241;43m.\u001b[39;49m\u001b[43mexecute\u001b[49m\u001b[43m(\u001b[49m\u001b[38;5;241;43m*\u001b[39;49m\u001b[43margs\u001b[49m\u001b[43m)\u001b[49m\n\u001b[0;32m   2081\u001b[0m     columns \u001b[38;5;241m=\u001b[39m [col_desc[\u001b[38;5;241m0\u001b[39m] \u001b[38;5;28;01mfor\u001b[39;00m col_desc \u001b[38;5;129;01min\u001b[39;00m cursor\u001b[38;5;241m.\u001b[39mdescription]\n\u001b[0;32m   2083\u001b[0m     \u001b[38;5;28;01mif\u001b[39;00m chunksize \u001b[38;5;129;01mis\u001b[39;00m \u001b[38;5;129;01mnot\u001b[39;00m \u001b[38;5;28;01mNone\u001b[39;00m:\n",
      "File \u001b[1;32m~\\anaconda3\\lib\\site-packages\\pandas\\io\\sql.py:2032\u001b[0m, in \u001b[0;36mSQLiteDatabase.execute\u001b[1;34m(self, *args, **kwargs)\u001b[0m\n\u001b[0;32m   2029\u001b[0m     \u001b[38;5;28;01mraise\u001b[39;00m ex \u001b[38;5;28;01mfrom\u001b[39;00m \u001b[38;5;21;01minner_exc\u001b[39;00m\n\u001b[0;32m   2031\u001b[0m ex \u001b[38;5;241m=\u001b[39m DatabaseError(\u001b[38;5;124mf\u001b[39m\u001b[38;5;124m\"\u001b[39m\u001b[38;5;124mExecution failed on sql \u001b[39m\u001b[38;5;124m'\u001b[39m\u001b[38;5;132;01m{\u001b[39;00margs[\u001b[38;5;241m0\u001b[39m]\u001b[38;5;132;01m}\u001b[39;00m\u001b[38;5;124m'\u001b[39m\u001b[38;5;124m: \u001b[39m\u001b[38;5;132;01m{\u001b[39;00mexc\u001b[38;5;132;01m}\u001b[39;00m\u001b[38;5;124m\"\u001b[39m)\n\u001b[1;32m-> 2032\u001b[0m \u001b[38;5;28;01mraise\u001b[39;00m ex \u001b[38;5;28;01mfrom\u001b[39;00m \u001b[38;5;21;01mexc\u001b[39;00m\n",
      "\u001b[1;31mDatabaseError\u001b[0m: Execution failed on sql ' *** Write a query that answers the 9th question ***': near \"*\": syntax error"
     ]
    }
   ],
   "source": [
    "%%time\n",
    "def grader_9(q9):\n",
    "    q9_results  = pd.read_sql_query(q9,conn)\n",
    "    print(q9_results.head(10))\n",
    "    print(q9_results.shape)\n",
    "    assert (q9_results.shape == (25698, 1))\n",
    "\n",
    "query9 = \"\"\" *** Write a query that answers the 9th question ***\"\"\"\n",
    "grader_9(query9)"
   ]
  },
  {
   "cell_type": "code",
   "execution_count": 2,
   "metadata": {},
   "outputs": [
    {
     "ename": "NameError",
     "evalue": "name 'pd' is not defined",
     "output_type": "error",
     "traceback": [
      "\u001b[1;31m---------------------------------------------------------------------------\u001b[0m",
      "\u001b[1;31mNameError\u001b[0m                                 Traceback (most recent call last)",
      "File \u001b[1;32m<timed exec>:107\u001b[0m, in \u001b[0;36m<module>\u001b[1;34m\u001b[0m\n",
      "File \u001b[1;32m<timed exec>:2\u001b[0m, in \u001b[0;36mgrader_9\u001b[1;34m(q9)\u001b[0m\n",
      "\u001b[1;31mNameError\u001b[0m: name 'pd' is not defined"
     ]
    }
   ],
   "source": [
    "%%time\n",
    "def grader_9(q9):\n",
    "    q9_results  = pd.read_sql_query(q9,conn)\n",
    "    print(q9_results.head(10))\n",
    "    print(q9_results.shape)\n",
    "    assert (q9_results.shape == (25698, 1))\n",
    "\n",
    "query9 = \"\"\"\n",
    "WITH shk_MID AS (SELECT mc.MID\n",
    "FROM Person p\n",
    "JOIN M_Cast mc ON p.PID=TRIM(mc.PID)\n",
    "WHERE p.name LIKE ('%Shah%Rukh%Khan%'))\n",
    ",\n",
    "PID_in_shk as\n",
    "(SELECT mc.PID AS S1_PID\n",
    "FROM M_Cast mc\n",
    "JOIN shk_MID sm ON mc.MID=sm.MID\n",
    "JOIN Person p ON TRIM(mc.PID)=p.PID\n",
    "WHERE p.name NOT LIKE '%Shah%Rukh%Khan%'\n",
    "GROUP BY p.PID)\n",
    "\n",
    "SELECT * \n",
    "FROM person p\n",
    "JOIn M_cast mc ON p.PID=TRIM(mc.PID)\n",
    "WHERE p.PID = TRIM(PID_in_shk.PID)\n",
    "\n",
    "\"\"\"\n",
    "\n",
    "q2=\"\"\"\n",
    "WITH\n",
    "    YASH_CHOPRAS_PID AS\n",
    "    (\n",
    "        SELECT\n",
    "            TRIM(P.PID) AS PID\n",
    "        FROM\n",
    "            Person P\n",
    "        WHERE\n",
    "            Trim(P.Name) = 'Yash Chopra'\n",
    "    ),\n",
    "    NUM_OF_MOV_BY_ACTOR_DIRECTOR AS\n",
    "    (\n",
    "        SELECT\n",
    "            TRIM(MC.PID) ACTOR_PID,\n",
    "            TRIM(MD.PID) DIRECTOR_PID,\n",
    "            COUNT(DISTINCT TRIM(MD.MID)) AS NUM_OF_MOV\n",
    "        FROM\n",
    "            M_Cast MC,\n",
    "            M_Director MD\n",
    "        WHERE\n",
    "            TRIM(MC.MID)= TRIM(MD.MID)\n",
    "        GROUP BY\n",
    "            ACTOR_PID,\n",
    "            DIRECTOR_PID\n",
    "    ),\n",
    "    NUM_OF_MOVIES_BY_YC AS\n",
    "    (\n",
    "        SELECT\n",
    "            NM.ACTOR_PID,\n",
    "            NM.DIRECTOR_PID,\n",
    "            NM.NUM_OF_MOV NUM_OF_MOV_BY_YC\n",
    "        FROM\n",
    "            NUM_OF_MOV_BY_ACTOR_DIRECTOR NM,\n",
    "            YASH_CHOPRAS_PID YCP\n",
    "        WHERE\n",
    "            NM.DIRECTOR_PID = YCP.PID\n",
    "    ),\n",
    "    MAX_MOV_BY_OTHER_DIRECTORS AS\n",
    "    (\n",
    "        SELECT\n",
    "            ACTOR_PID,\n",
    "            MAX(NUM_OF_MOV) MAX_NUM_OF_MOV\n",
    "        FROM\n",
    "            NUM_OF_MOV_BY_ACTOR_DIRECTOR NM,\n",
    "            YASH_CHOPRAS_PID YCP\n",
    "        WHERE\n",
    "            NM.DIRECTOR_PID <> YCP.PID \n",
    "        GROUP BY\n",
    "            ACTOR_PID\n",
    "    ),\n",
    "    ACTORS_MOV_COMPARISION AS\n",
    "    (\n",
    "    SELECT\n",
    "        NMY.ACTOR_PID,\n",
    "        CASE WHEN NMY.NUM_OF_MOV_BY_YC > IFNULL(NMO.MAX_NUM_OF_MOV,0) THEN 'Y' ELSE 'N' END MORE_MOV_BY_YC\n",
    "    FROM\n",
    "        NUM_OF_MOVIES_BY_YC NMY\n",
    "        LEFT OUTER JOIN\n",
    "        MAX_MOV_BY_OTHER_DIRECTORS NMO\n",
    "        ON\n",
    "        NMY.ACTOR_PID = NMO.ACTOR_PID \n",
    "    )\n",
    "    SELECT\n",
    "        DISTINCT\n",
    "        TRIM(P.Name) ACTOR_NAME\n",
    "    FROM\n",
    "        Person P\n",
    "    WHERE\n",
    "        TRIM(P.PID) IN (\n",
    "            SELECT\n",
    "                DISTINCT\n",
    "                ACTOR_PID\n",
    "            FROM\n",
    "                ACTORS_MOV_COMPARISION\n",
    "            WHERE\n",
    "                MORE_MOV_BY_YC = 'Y'\n",
    "        )\n",
    "\"\"\"\n",
    "grader_9(q2)"
   ]
  },
  {
   "cell_type": "code",
   "execution_count": null,
   "metadata": {},
   "outputs": [],
   "source": []
  }
 ],
 "metadata": {
  "colab": {
   "collapsed_sections": [],
   "name": "SQL sample queries.ipynb",
   "provenance": [],
   "toc_visible": true
  },
  "kernelspec": {
   "display_name": "Python 3 (ipykernel)",
   "language": "python",
   "name": "python3"
  },
  "language_info": {
   "codemirror_mode": {
    "name": "ipython",
    "version": 3
   },
   "file_extension": ".py",
   "mimetype": "text/x-python",
   "name": "python",
   "nbconvert_exporter": "python",
   "pygments_lexer": "ipython3",
   "version": "3.8.13"
  }
 },
 "nbformat": 4,
 "nbformat_minor": 1
}
