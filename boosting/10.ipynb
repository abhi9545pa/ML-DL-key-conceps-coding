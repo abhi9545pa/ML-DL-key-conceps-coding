{
 "cells": [
  {
   "cell_type": "code",
   "execution_count": 203,
   "id": "e5f753c3",
   "metadata": {},
   "outputs": [],
   "source": [
    "import numpy as np # importing numpy for numerical computation\n",
    "from sklearn.datasets import load_boston # here we are using sklearn's boston dataset\n",
    "from sklearn.metrics import mean_squared_error # importing mean_squared_error metric\n",
    "from sklearn.tree import DecisionTreeRegressor\n",
    "import pickle\n",
    "import pandas as pd\n",
    "from joblib import dump, load"
   ]
  },
  {
   "cell_type": "code",
   "execution_count": 41,
   "id": "84fd4f4e",
   "metadata": {},
   "outputs": [
    {
     "data": {
      "text/plain": [
       "((506, 13), (506,))"
      ]
     },
     "execution_count": 41,
     "metadata": {},
     "output_type": "execute_result"
    }
   ],
   "source": [
    "boston = load_boston()\n",
    "x=boston.data #independent variables\n",
    "y=boston.target #target variable\n",
    "x.shape,y.shape"
   ]
  },
  {
   "cell_type": "code",
   "execution_count": 177,
   "id": "248dd0c1",
   "metadata": {},
   "outputs": [],
   "source": [
    "def generating_samples(input_data, target_data):\n",
    "    \n",
    "    l=len(input_data)\n",
    "    sample_index=np.random.choice(l,303,replace=False) # Sample 60 % of data form main data set(303)\n",
    "    resample_index=np.random.choice(sample_index,203,replace=False) # Resample 40 % of main-data from sample data set (203)\n",
    "    total_index=np.concatenate((sample_index,resample_index)) # joining sample and resample data\n",
    "    data=np.array(input_data.iloc[total_index])\n",
    "    col=np.sort(np.random.choice(13,(np.random.choice(np.arange(3,13))),replace=False)) # column sampling\n",
    "    total_data=data[:,col]  #total_index[:,None] None part for changing the dim\n",
    "    target_data_sd=target_data[total_index]\n",
    "    #print(total_data.shape,target_data_sd.shape,)\n",
    "    \n",
    "    return total_data,target_data_sd,sample_index,col"
   ]
  },
  {
   "cell_type": "code",
   "execution_count": 147,
   "id": "169f5f9b",
   "metadata": {},
   "outputs": [
    {
     "data": {
      "text/plain": [
       "True"
      ]
     },
     "execution_count": 147,
     "metadata": {},
     "output_type": "execute_result"
    }
   ],
   "source": [
    "def grader_samples(a,b,c,d):\n",
    "    length = (len(a)==506  and len(b)==506)\n",
    "    sampled = (len(a)-len(set([str(i) for i in a]))==203)\n",
    "    rows_length = (len(c)==303)\n",
    "    column_length= (len(d)>=3)\n",
    "    assert(length and sampled and rows_length and column_length)\n",
    "    return True\n",
    "a,b,c,d = generating_samples(x, y)\n",
    "grader_samples(a,b,c,d)"
   ]
  },
  {
   "cell_type": "code",
   "execution_count": 148,
   "id": "eb150120",
   "metadata": {},
   "outputs": [],
   "source": [
    "def sample_gen30(x,y):\n",
    "    list_input_data = []\n",
    "    list_output_data = []\n",
    "    list_selected_row = []\n",
    "    list_selected_columns = []\n",
    "\n",
    "\n",
    "    for i in range(30):\n",
    "        d,o,r,c=generating_samples(x, y)\n",
    "        list_input_data.append(d)\n",
    "        list_output_data.append(o)\n",
    "        list_selected_row.append(r)\n",
    "        list_selected_columns.append(c)\n",
    "    \n",
    "        \n",
    "    return list_input_data,list_output_data,list_selected_row,list_selected_columns\n",
    "list_input_data,list_output_data,list_selected_row,list_selected_columns= sample_gen30(x,y)"
   ]
  },
  {
   "cell_type": "code",
   "execution_count": 149,
   "id": "5bedfb42",
   "metadata": {},
   "outputs": [
    {
     "data": {
      "text/plain": [
       "True"
      ]
     },
     "execution_count": 149,
     "metadata": {},
     "output_type": "execute_result"
    }
   ],
   "source": [
    "def grader_30(a):\n",
    "    assert(len(a)==30 and len(a[0])==506)\n",
    "    return True\n",
    "grader_30(list_input_data)"
   ]
  },
  {
   "cell_type": "markdown",
   "id": "d5bb8320",
   "metadata": {},
   "source": [
    "#### step 2"
   ]
  },
  {
   "cell_type": "code",
   "execution_count": 179,
   "id": "35ab1a5c",
   "metadata": {},
   "outputs": [],
   "source": [
    "def oob_30(list_selected_row,list_selected_columns):\n",
    "    # Predicting on unseen data\n",
    "    index_data_oob=[]                   #unseen data index\n",
    "    for i in list_selected_row:\n",
    "        s=np.unique(i)\n",
    "        l1=list(np.arange(506))\n",
    "        for j in s:\n",
    "            l1.remove(j)\n",
    "        index_data_oob.append(l1)\n",
    "        \n",
    "    data_oob=[]                    #unseen data from the index\n",
    "    Y_oob=[]\n",
    "    data_mse=[]\n",
    "    Y_mse=[]\n",
    "    for i in range(30): \n",
    "        temp=np.array(x)                          # converting input data into numpy array\n",
    "        temp2=temp[index_data_oob[i],:]           # selecting the row which are not present in the sample data \"temp2\"\n",
    "        temp3=temp2[:,list_selected_columns[i]]   # Selecting the columns from the temp2 for oob\n",
    "        temp4=temp[:,list_selected_columns[i]     # Selecting the columns for mse from temp total data set \n",
    "        data_mse.append(temp4)\n",
    "        data_oob.append(temp3)\n",
    "        Y_mse.append(y)\n",
    "        Y_oob.append(y[index_data_oob[i]])\n",
    "    col_oob=list_selected_columns\n",
    "    \n",
    "    return data_oob,Y_oob,col_oob,data_mse,Y_mse\n",
    "\n",
    "X_oob,Y_oob,col_oob,data_mse,Y_mse=oob_30(list_selected_row,list_selected_columns)"
   ]
  },
  {
   "cell_type": "code",
   "execution_count": 205,
   "id": "44b68363",
   "metadata": {},
   "outputs": [],
   "source": [
    "def model_train(list_X,list_Y,n):\n",
    "    # https://scikit-learn.org/stable/modules/model_persistence.html\n",
    "\n",
    "    DT=DecisionTreeRegressor(random_state=0,max_depth=12,min_samples_split=2)#random_state=0\n",
    "    models=[]\n",
    "    for i in range(n):\n",
    "        x=np.array(list_X[i])\n",
    "        y=np.array(list_Y[i])\n",
    "        temp=list_X[i]\n",
    "        temp2=list_Y[i]\n",
    "        #print(list_X[i],list_Y[i])\n",
    "        #print(x.shape,y.shape)\n",
    "        clf=DT.fit(list_X[i],list_Y[i])\n",
    "        models.append(pickle.dumps(clf))  \n",
    "    return models\n",
    "\n",
    "models=model_train(X_oob,Y_oob,30)"
   ]
  },
  {
   "cell_type": "code",
   "execution_count": 206,
   "id": "fccc1eca",
   "metadata": {},
   "outputs": [],
   "source": [
    "def model_pred(X,models,n):\n",
    "    Y=[]\n",
    "    for i in range(n):\n",
    "        clf=pickle.loads(models[i])\n",
    "        Y.append(clf.predict(X[i]))\n",
    "    return Y\n",
    "        "
   ]
  },
  {
   "cell_type": "code",
   "execution_count": 201,
   "id": "e0fc0cd4",
   "metadata": {},
   "outputs": [],
   "source": [
    "def mse(y_true,y_pred,n):\n",
    "    mse=[]\n",
    "    for i in range(n):\n",
    "        mse.append(mean_squared_error(y_true[i],y_pred[i]))\n",
    "    MSE=np.median(mse)\n",
    "    return MSE"
   ]
  },
  {
   "cell_type": "code",
   "execution_count": 218,
   "id": "1bbb4734",
   "metadata": {},
   "outputs": [
    {
     "name": "stdout",
     "output_type": "stream",
     "text": [
      "12.007369812331596 28.2003547858471\n"
     ]
    },
    {
     "data": {
      "text/plain": [
       "(12.007369812331596, 28.2003547858471)"
      ]
     },
     "execution_count": 218,
     "metadata": {},
     "output_type": "execute_result"
    }
   ],
   "source": [
    "def MSE_OOB(x,y):\n",
    "    list_input_data,list_output_data,list_selected_row,list_selected_columns=sample_gen30(x,y) # Creating  lists of sample\n",
    "    X_oob,Y_oob,col_oob,X_mse,Y_mse=oob_30(list_selected_row,list_selected_columns)   # with index of sample list cearting data for test of oob\n",
    "    models=model_train(list_input_data,list_output_data,30)  # training the model on sampled data \n",
    "    \n",
    "    \n",
    "    Y_pred=model_pred(X_mse,models,30)  # predicted the model on all the data that is unseen and seen \n",
    "    Y_pred_oob=model_pred(X_oob,models,30)  # predicting the output on unseen data by same model\n",
    "    \n",
    "    \n",
    "    MSE=mse(Y_mse,Y_pred,30)  \n",
    "    OOB=mse(Y_oob,Y_pred_oob,30)\n",
    "    print(MSE,OOB)\n",
    "    return MSE,OOB\n",
    "MSE_OOB(x,y)"
   ]
  },
  {
   "cell_type": "markdown",
   "id": "c89983d4",
   "metadata": {},
   "source": [
    "## Observation Task 1\n",
    "#### Mean square error of prediction of seen data with unseen data is low as compare to the Mean square error of prediction of unseen data, thus it is difficult to predict on unseen data by the model.\n",
    "#### DecisionTreeRegressor or model is not immune to the outliers therefore we go with median of the answer."
   ]
  },
  {
   "cell_type": "markdown",
   "id": "13d3bebd",
   "metadata": {},
   "source": [
    "## Task 2"
   ]
  },
  {
   "cell_type": "code",
   "execution_count": 216,
   "id": "0455835d",
   "metadata": {},
   "outputs": [
    {
     "name": "stdout",
     "output_type": "stream",
     "text": [
      "12.739719412100001 31.425825660445838\n",
      "14.090846785329074 34.91124042768483\n",
      "14.59792002058915 34.5213899421709\n",
      "11.5759649984439 28.737044451160894\n",
      "13.257707502070495 32.748277684003924\n",
      "14.654715305011385 35.69394476826905\n",
      "13.786197161106902 33.94313558241744\n",
      "14.105890018105388 34.965013276628206\n",
      "13.37105776733657 32.93094929627104\n",
      "15.096465034924428 36.942334270496474\n",
      "13.754091353669487 34.046745357336576\n",
      "13.788029755563691 34.01504148537293\n",
      "12.970182953884487 31.923311040544508\n",
      "14.63143280705222 36.30782298185702\n",
      "12.644280646891893 31.281586408225188\n",
      "11.846350776312569 29.003259488316004\n",
      "14.336575231183506 34.814218737225666\n",
      "13.160456619872896 32.587795895253024\n",
      "11.576949740568143 28.503373333802962\n",
      "12.250439666588353 29.968066166595435\n",
      "12.11556429454205 30.085965516257815\n",
      "15.44912065455435 37.32921426970074\n",
      "13.85953277961395 34.23412605608219\n",
      "12.90742598203487 32.006069397335196\n",
      "12.914460281299338 31.59032789896284\n",
      "13.383779573154797 32.34960592682087\n",
      "14.103864613542129 34.68971912818105\n",
      "13.161248998432693 32.327566730295885\n",
      "14.701190037625642 36.292925179832096\n",
      "11.495858394325197 28.035143895880747\n",
      "14.737946691523575 36.56650099148419\n",
      "14.912910125044487 36.79867651286166\n",
      "14.001370232711176 34.0668641740023\n",
      "14.570569178619099 35.6666036288731\n",
      "13.530736750290998 33.23978352380446\n"
     ]
    }
   ],
   "source": [
    "list_MSE=[]\n",
    "list_OOB=[]\n",
    "lsc=[]\n",
    "for i in range(35):\n",
    "    m,o=MSE_OOB(x,y)\n",
    "    list_MSE.append(m)\n",
    "    list_OOB.append(o)"
   ]
  },
  {
   "cell_type": "code",
   "execution_count": 182,
   "id": "d961766e",
   "metadata": {},
   "outputs": [],
   "source": [
    "def ci(data):#calculating the confidence interval\n",
    "    data=np.array(data)\n",
    "    mean=data.mean()\n",
    "    std=data.std()\n",
    "    size=len(data)\n",
    "    left_limit = np.round(mean - 2*(std/np.sqrt(size)), 3) \n",
    "    right_limit = np.round(mean + 2*(std/np.sqrt(size)), 3)\n",
    "    return left_limit,right_limit"
   ]
  },
  {
   "cell_type": "code",
   "execution_count": 193,
   "id": "5a66fe21",
   "metadata": {},
   "outputs": [
    {
     "name": "stdout",
     "output_type": "stream",
     "text": [
      "Confidence Interval Of MSE :[13.587 ,14.468]\n"
     ]
    }
   ],
   "source": [
    "left,right=ci(list_MSE)\n",
    "print(\"Confidence Interval Of MSE :[{} ,{}]\" .format(left,right))"
   ]
  },
  {
   "cell_type": "code",
   "execution_count": 194,
   "id": "9babb58c",
   "metadata": {},
   "outputs": [
    {
     "name": "stdout",
     "output_type": "stream",
     "text": [
      "Confidence Interval Of MSE :[33.331 ,35.403]\n"
     ]
    }
   ],
   "source": [
    "left,right=ci(list_OOB)\n",
    "print(\"Confidence Interval Of MSE :[{} ,{}]\" .format(left,right))"
   ]
  },
  {
   "cell_type": "markdown",
   "id": "d1cf4e4d",
   "metadata": {},
   "source": [
    "## Observation task 2\n",
    "#### Confidence Interval of MSE is 13.587 to 14.468 means 95% of the time our will be between these interval.\n",
    "#### Confidence Interval of OOB is 33.331 to 35.403 means 95% of the time our will be  between these interval.\n"
   ]
  },
  {
   "cell_type": "markdown",
   "id": "83a93416",
   "metadata": {},
   "source": [
    "## Task 3"
   ]
  },
  {
   "cell_type": "code",
   "execution_count": 215,
   "id": "573b3657",
   "metadata": {},
   "outputs": [
    {
     "name": "stdout",
     "output_type": "stream",
     "text": [
      "18.7\n"
     ]
    }
   ],
   "source": [
    "Xq=np.array([0.18,20.0,5.00,0.0,0.421,5.60,72.2,7.95,7.0,30.0,19.1,372.13,18.60])\n",
    "\n",
    "list_input_data,list_output_data,list_selected_row,list_selected_columns=sample_gen30(x,y)\n",
    "DT=DecisionTreeRegressor(random_state=0,max_depth=12,min_samples_split=2)\n",
    "\n",
    "X_q=[]\n",
    "op=[]\n",
    "for i in range(30):\n",
    "    DT.fit(list_input_data[i],list_output_data[i])\n",
    "    op.append(DT.predict(Xq[list_selected_columns[i]].reshape(1,-1)))\n",
    "    \n",
    "print(np.median(op))\n",
    "\n"
   ]
  },
  {
   "cell_type": "markdown",
   "id": "763307ae",
   "metadata": {},
   "source": [
    "## Obervation Task 3\n",
    "#### According CI confident interval of OOB data mean prediction on unseen data our prediction ”18.7” on this query point is +or- 5.9=sqrt(35) points off to an actual value."
   ]
  },
  {
   "cell_type": "code",
   "execution_count": null,
   "id": "ca1514d2",
   "metadata": {},
   "outputs": [],
   "source": []
  }
 ],
 "metadata": {
  "kernelspec": {
   "display_name": "Python 3",
   "language": "python",
   "name": "python3"
  },
  "language_info": {
   "codemirror_mode": {
    "name": "ipython",
    "version": 3
   },
   "file_extension": ".py",
   "mimetype": "text/x-python",
   "name": "python",
   "nbconvert_exporter": "python",
   "pygments_lexer": "ipython3",
   "version": "3.8.8"
  }
 },
 "nbformat": 4,
 "nbformat_minor": 5
}
