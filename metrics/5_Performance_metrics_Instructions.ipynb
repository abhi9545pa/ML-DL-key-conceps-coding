{
 "cells": [
  {
   "cell_type": "markdown",
   "metadata": {
    "id": "s0Ej_bXyQvnV"
   },
   "source": [
    "# Compute performance metrics for the given Y and Y_score without sklearn"
   ]
  },
  {
   "cell_type": "code",
   "execution_count": 1,
   "metadata": {
    "id": "4CHb6NE7Qvnc"
   },
   "outputs": [],
   "source": [
    "import numpy as np\n",
    "import pandas as pd\n",
    "from tqdm import tqdm\n",
    "import matplotlib.pyplot as plt\n",
    "# other than these two you should not import any other packages"
   ]
  },
  {
   "cell_type": "markdown",
   "metadata": {
    "id": "KbsWXuDaQvnq"
   },
   "source": [
    "\n",
    "## A. Compute performance metrics for the given data '5_a.csv'\n",
    " <pre>  <b>Note 1:</b> in this data you can see number of positive points >> number of negatives points\n",
    "   <b>Note 2:</b> use pandas or numpy to read the data from <b>5_a.csv</b>\n",
    "   <b>Note 3:</b> you need to derive the class labels from given score</pre> $y^{pred}= \\text{[0 if y_score < 0.5 else 1]}$\n",
    "\n",
    "<pre>\n",
    "<ol>\n",
    "<li> Compute Confusion Matrix </li>\n",
    "<li> Compute F1 Score </li>\n",
    "<li> Compute AUC Score, you need to compute different thresholds and for each threshold compute tpr,fpr and then use               numpy.trapz(tpr_array, fpr_array) <a href='https://stackoverflow.com/q/53603376/4084039'>https://stackoverflow.com/q/53603376/4084039</a>, <a href='https://stackoverflow.com/a/39678975/4084039'>https://stackoverflow.com/a/39678975/4084039</a> Note: it should be numpy.trapz(tpr_array, fpr_array) not numpy.trapz(fpr_array, tpr_array)\n",
    "Note- Make sure that you arrange your probability scores in descending order while calculating AUC</li>\n",
    "<li> Compute Accuracy Score </li>\n",
    "</ol>\n",
    "</pre>"
   ]
  },
  {
   "cell_type": "code",
   "execution_count": 2,
   "metadata": {
    "id": "yg8uUJvGAfCM",
    "scrolled": true
   },
   "outputs": [
    {
     "name": "stdout",
     "output_type": "stream",
     "text": [
      "confusion matrix:-\n",
      " [[    0   100]\n",
      " [    0 10000]]\n",
      "f1_score:- 0.9950248756218906\n",
      "accuracy:- 0.9900990099009901\n"
     ]
    }
   ],
   "source": [
    "# write your code here for task A\n",
    "df_a=pd.read_csv('5_a.csv')\n",
    "new=df_a.copy()                            # Making new copy\n",
    "\n",
    "new['proba']=new['proba'].apply(lambda x: 1 if(x>=.5) else 0)  # 𝑦𝑝𝑟𝑒𝑑=[0 if y_score < 0.5 else 1] \n",
    "arr=np.array(new)\n",
    "def confusion(arr): \n",
    "    tn=fn=fp=tp=0\n",
    "    for i in arr:\n",
    "        if i[0]==0:\n",
    "            if i[1]==0:\n",
    "                tn+=1\n",
    "            else:\n",
    "                fn+=1\n",
    "        else:\n",
    "            if i[1]==0:\n",
    "                fp+=1\n",
    "            else:\n",
    "                tp+=1\n",
    "    return tn,fn,tp,fp\n",
    "\n",
    "tn,fn,tp,fp=confusion(arr)\n",
    "\n",
    "con_mat=np.array([[tn,fn],[fp,tp]])\n",
    "print(\"confusion matrix:-\\n\",con_mat)\n",
    "\n",
    "pr=tp/(tp+fp)\n",
    "re=tp/(fn+tp)\n",
    "f1_sco=((2*pr*re)/(pr+re))              # f1-score = 2*re*pr/re+pr\n",
    "print(\"f1_score:-\",f1_sco)\n",
    "\n",
    "acc=((tp+tn)/(tp+tn+fn+fp))             # accuracy = correctly classified pts/ total no. of pts\n",
    "print(\"accuracy:-\",acc)\n",
    "\n",
    "auc_ds=df_a.sort_values(\"proba\",axis=0,ascending = False)   # \"inplace=True\" for same dataset.\n",
    "arr=np.array(auc_ds)\n",
    "arr1=np.array(df_a)\n",
    "y_true=np.array(arr1[:,0])\n",
    "y_prob=np.array(arr1[:,1])\n",
    "thresholds=np.array(arr[:,1])\n",
    "\n",
    "\n",
    "def tpr_fpr(y_true, y_prob, thresholds):            \n",
    "    fpr = []\n",
    "    tpr = []\n",
    "    for threshold in thresholds:\n",
    "        y_pred = np.where(y_prob >= threshold, 1, 0)\n",
    "        fp = np.sum((y_pred == 1) & (y_true == 0))\n",
    "        tp = np.sum((y_pred == 1) & (y_true == 1))\n",
    "        fn = np.sum((y_pred == 0) & (y_true == 1))\n",
    "        tn = np.sum((y_pred == 0) & (y_true == 0))\n",
    "        fpr.append(fp / (fp + tn))\n",
    "        tpr.append(tp / (tp + fn))\n",
    "    return tpr, fpr\n",
    "\n",
    "tpr,fpr=tpr_fpr(y_true, y_prob, thresholds)\n",
    "\n",
    "\n"
   ]
  },
  {
   "cell_type": "markdown",
   "metadata": {},
   "source": [
    "#https://stackoverflow.com/questions/61321778/how-to-calculate-tpr-and-fpr-in-python-without-using-sklearn\n",
    "function tpr_fpr is taken from above link"
   ]
  },
  {
   "cell_type": "code",
   "execution_count": 10,
   "metadata": {},
   "outputs": [
    {
     "name": "stdout",
     "output_type": "stream",
     "text": [
      "AUC_a:- 0.48829900000000004\n"
     ]
    },
    {
     "data": {
      "image/png": "[encoded data removed]",
      "text/plain": [
       "<Figure size 432x288 with 1 Axes>"
      ]
     },
     "metadata": {
      "needs_background": "light"
     },
     "output_type": "display_data"
    }
   ],
   "source": [
    "#print(len(tpr),len(fpr))\n",
    "auc_a=np.trapz(tpr, fpr)\n",
    "print(\"AUC_a:-\",auc_a)\n",
    "plt.title('Receiver Operating Characteristic')\n",
    "plt.plot(fpr, tpr, 'b', label = 'AUC = %0.2f' % auc_a)\n",
    "plt.legend(loc = 'lower right')\n",
    "plt.plot([0, 1], [0, 1],'r--')\n",
    "plt.xlim([0, 1])\n",
    "plt.ylim([0, 1])\n",
    "plt.ylabel('True Positive Rate')\n",
    "plt.xlabel('False Positive Rate')\n",
    "plt.show()\n",
    "\n"
   ]
  },
  {
   "cell_type": "markdown",
   "metadata": {
    "id": "V5KZem1BQvn2"
   },
   "source": [
    "\n",
    "\n",
    "## B. Compute performance metrics for the given data '5_b.csv'\n",
    "<pre>\n",
    "   <b>Note 1:</b> in this data you can see number of positive points << number of negatives points\n",
    "   <b>Note 2:</b> use pandas or numpy to read the data from <b>5_b.csv</b>\n",
    "   <b>Note 3:</b> you need to derive the class labels from given score</pre> $y^{pred}= \\text{[0 if y_score < 0.5 else 1]}$\n",
    "\n",
    "<pre>\n",
    "<ol>\n",
    "<li> Compute Confusion Matrix </li>\n",
    "<li> Compute F1 Score </li>\n",
    "<li> Compute AUC Score, you need to compute different thresholds and for each threshold compute tpr,fpr and then use               numpy.trapz(tpr_array, fpr_array) <a href='https://stackoverflow.com/q/53603376/4084039'>https://stackoverflow.com/q/53603376/4084039</a>, <a href='https://stackoverflow.com/a/39678975/4084039'>https://stackoverflow.com/a/39678975/4084039</a>\n",
    "Note- Make sure that you arrange your probability scores in descending order while calculating AUC</li>\n",
    "<li> Compute Accuracy Score </li>\n",
    "</ol>\n",
    "</pre>"
   ]
  },
  {
   "cell_type": "code",
   "execution_count": 6,
   "metadata": {
    "id": "xlLVa-cVAfCS"
   },
   "outputs": [
    {
     "name": "stdout",
     "output_type": "stream",
     "text": [
      "confusion matrix:-\n",
      " [[9761  239]\n",
      " [  45   55]]\n",
      "pr and re:- 0.55 0.1870748299319728\n",
      "f1_score:- 0.2791878172588833\n",
      "accuracy:- 0.9718811881188119\n"
     ]
    }
   ],
   "source": [
    "# write your code here for task B\n",
    "df_b=pd.read_csv('5_b.csv')\n",
    "new1=df_b.copy()                                            # Making new copy\n",
    "\n",
    "new1['proba']=new1['proba'].apply(lambda x: 1 if(x>=.5) else 0)  # 𝑦𝑝𝑟𝑒𝑑=[0 if y_score < 0.5 else 1] \n",
    "arr=np.array(new1)\n",
    "\n",
    "tn,fn,tp,fp=confusion(arr)\n",
    "\n",
    "con_mat=np.array([[tn,fn],[fp,tp]])\n",
    "print(\"confusion matrix:-\\n\",con_mat)\n",
    "\n",
    "pr=tp/(tp+fp)\n",
    "re=tp/(fn+tp)\n",
    "print(\"pr and re:-\",pr,re)\n",
    "f1_sco=((2*pr*re)/(pr+re))              # f1-score = 2*re*pr/re+pr\n",
    "print(\"f1_score:-\",f1_sco)\n",
    "\n",
    "acc=((tp+tn)/(tp+tn+fn+fp))             # accuracy = correctly classified pts/ total no. of pts\n",
    "print(\"accuracy:-\",acc)\n",
    "\n",
    "auc_ds=df_b.sort_values(\"proba\",axis=0,ascending = False)   # \"inplace=True\" for same dataset.\n",
    "arr_0=np.array(auc_ds)\n",
    "arr_1=np.array(df_b)\n",
    "y_true1=np.array(arr_1[:,0])\n",
    "y_prob1=np.array(arr_1[:,1])\n",
    "thresholds1=np.array(arr_0[:,1])\n",
    "\n",
    "tpr1,fpr1=tpr_fpr(y_true1, y_prob1, thresholds1)\n"
   ]
  },
  {
   "cell_type": "code",
   "execution_count": 9,
   "metadata": {},
   "outputs": [
    {
     "name": "stdout",
     "output_type": "stream",
     "text": [
      "AUC_a:- 0.9377570000000001\n"
     ]
    },
    {
     "data": {
      "image/png": "[encoded data removed]",
      "text/plain": [
       "<Figure size 432x288 with 1 Axes>"
      ]
     },
     "metadata": {
      "needs_background": "light"
     },
     "output_type": "display_data"
    }
   ],
   "source": [
    "auc_b=np.trapz(tpr1, fpr1)\n",
    "print(\"AUC_a:-\",auc_b)\n",
    "plt.title('Receiver Operating Characteristic')\n",
    "plt.plot(fpr1, tpr1, 'b', label = 'AUC = %0.2f' % auc_b)\n",
    "plt.legend(loc = 'lower right')\n",
    "plt.plot([0, 1], [0, 1],'r--')\n",
    "plt.xlim([0, 1])\n",
    "plt.ylim([0, 1])\n",
    "plt.ylabel('True Positive Rate')\n",
    "plt.xlabel('False Positive Rate')\n",
    "plt.show()"
   ]
  },
  {
   "cell_type": "markdown",
   "metadata": {
    "id": "GiPGonTzQvoB"
   },
   "source": [
    "### C. Compute the best threshold (similarly to ROC curve computation) of probability which gives lowest values of metric <b>A</b> for the given data \n",
    "<br>\n",
    "\n",
    "you will be predicting label of a data points like this: $y^{pred}= \\text{[0 if y_score < threshold  else 1]}$\n",
    "\n",
    "$ A = 500 \\times \\text{number of false negative} + 100 \\times \\text{numebr of false positive}$\n",
    "\n",
    "<pre>\n",
    "   <b>Note 1:</b> in this data you can see number of negative points > number of positive points\n",
    "   <b>Note 2:</b> use pandas or numpy to read the data from <b>5_c.csv</b>\n",
    "</pre>"
   ]
  },
  {
   "cell_type": "code",
   "execution_count": 3,
   "metadata": {
    "id": "x5HIJzq1QvoE"
   },
   "outputs": [
    {
     "data": {
      "text/html": [
       "<div>\n",
       "<style scoped>\n",
       "    .dataframe tbody tr th:only-of-type {\n",
       "        vertical-align: middle;\n",
       "    }\n",
       "\n",
       "    .dataframe tbody tr th {\n",
       "        vertical-align: top;\n",
       "    }\n",
       "\n",
       "    .dataframe thead th {\n",
       "        text-align: right;\n",
       "    }\n",
       "</style>\n",
       "<table border=\"1\" class=\"dataframe\">\n",
       "  <thead>\n",
       "    <tr style=\"text-align: right;\">\n",
       "      <th></th>\n",
       "      <th>y</th>\n",
       "      <th>prob</th>\n",
       "    </tr>\n",
       "  </thead>\n",
       "  <tbody>\n",
       "    <tr>\n",
       "      <th>0</th>\n",
       "      <td>0</td>\n",
       "      <td>0.458521</td>\n",
       "    </tr>\n",
       "    <tr>\n",
       "      <th>1</th>\n",
       "      <td>0</td>\n",
       "      <td>0.505037</td>\n",
       "    </tr>\n",
       "    <tr>\n",
       "      <th>2</th>\n",
       "      <td>0</td>\n",
       "      <td>0.418652</td>\n",
       "    </tr>\n",
       "    <tr>\n",
       "      <th>3</th>\n",
       "      <td>0</td>\n",
       "      <td>0.412057</td>\n",
       "    </tr>\n",
       "    <tr>\n",
       "      <th>4</th>\n",
       "      <td>0</td>\n",
       "      <td>0.375579</td>\n",
       "    </tr>\n",
       "    <tr>\n",
       "      <th>5</th>\n",
       "      <td>0</td>\n",
       "      <td>0.595387</td>\n",
       "    </tr>\n",
       "    <tr>\n",
       "      <th>6</th>\n",
       "      <td>0</td>\n",
       "      <td>0.370288</td>\n",
       "    </tr>\n",
       "    <tr>\n",
       "      <th>7</th>\n",
       "      <td>0</td>\n",
       "      <td>0.299273</td>\n",
       "    </tr>\n",
       "    <tr>\n",
       "      <th>8</th>\n",
       "      <td>0</td>\n",
       "      <td>0.297000</td>\n",
       "    </tr>\n",
       "    <tr>\n",
       "      <th>9</th>\n",
       "      <td>0</td>\n",
       "      <td>0.266479</td>\n",
       "    </tr>\n",
       "  </tbody>\n",
       "</table>\n",
       "</div>"
      ],
      "text/plain": [
       "   y      prob\n",
       "0  0  0.458521\n",
       "1  0  0.505037\n",
       "2  0  0.418652\n",
       "3  0  0.412057\n",
       "4  0  0.375579\n",
       "5  0  0.595387\n",
       "6  0  0.370288\n",
       "7  0  0.299273\n",
       "8  0  0.297000\n",
       "9  0  0.266479"
      ]
     },
     "execution_count": 3,
     "metadata": {},
     "output_type": "execute_result"
    }
   ],
   "source": [
    "df_c=pd.read_csv('5_c.csv')\n",
    "df_c.head(10)"
   ]
  },
  {
   "cell_type": "code",
   "execution_count": 4,
   "metadata": {
    "id": "eAPjewjzAfCa"
   },
   "outputs": [],
   "source": [
    " # write your code for task C\n",
    "\n",
    "ds=df_c.sort_values(\"prob\",axis=0,ascending=True)                        #sorting by value of \"prob\" asecending order\n",
    "arr=np.array(df_c)\n",
    "arr1=np.array(ds)\n",
    "y_true=np.array(arr[:,0])\n",
    "y_prob=np.array(arr[:,1])\n",
    "thresholds=np.array(arr1[:,1])\n",
    "\n",
    "def fn_fp(y_true, y_prob, thresholds):            \n",
    "    fp_arr = []\n",
    "    fn_arr = []\n",
    "    for threshold in thresholds:\n",
    "        y_pred = np.where(y_prob >= threshold, 1, 0)\n",
    "        fp = np.sum((y_pred == 1) & (y_true == 0)) \n",
    "        fn = np.sum((y_pred == 0) & (y_true == 1))\n",
    "        fp_arr.append(fp)\n",
    "        fn_arr.append(fn)\n",
    "    return fn_arr, fp_arr\n",
    "\n",
    "fn,fp=fn_fp(y_true, y_prob, thresholds)\n",
    "\n",
    "A=[]\n",
    "for i in range(len(fn)):\n",
    "    A.append((500*fn[i])+(100*fp[i]))\n",
    "a=min(A)\n",
    "I=A.index(a)\n"
   ]
  },
  {
   "cell_type": "code",
   "execution_count": 6,
   "metadata": {},
   "outputs": [
    {
     "name": "stdout",
     "output_type": "stream",
     "text": [
      "Fn:- 78 Fp:- 1020 For which A is small\n",
      "The min value of metric A:- 141000\n",
      "threshold:- 0.2300390278970873\n"
     ]
    }
   ],
   "source": [
    "print(\"Fn:-\",fn[I],\"Fp:-\",fp[I],\"For which A is small\")\n",
    "print(\"The min value of metric A:-\",a)\n",
    "print(\"threshold:-\",arr1[I,1])\n"
   ]
  },
  {
   "cell_type": "markdown",
   "metadata": {
    "id": "sD4CcgjXQvoL"
   },
   "source": [
    "\n",
    "## D.</b></font> Compute performance metrics(for regression) for the given data 5_d.csv\n",
    "<pre>    <b>Note 2:</b> use pandas or numpy to read the data from <b>5_d.csv</b>\n",
    "    <b>Note 1:</b> <b>5_d.csv</b> will having two columns Y and predicted_Y both are real valued features\n",
    "<ol>\n",
    "<li> Compute Mean Square Error </li>\n",
    "<li> Compute MAPE: https://www.youtube.com/watch?v=ly6ztgIkUxk</li>\n",
    "<li> Compute R^2 error: https://en.wikipedia.org/wiki/Coefficient_of_determination#Definitions </li>\n",
    "</ol>\n",
    "</pre>"
   ]
  },
  {
   "cell_type": "code",
   "execution_count": 104,
   "metadata": {
    "id": "sVOj-bF9AfCd"
   },
   "outputs": [
    {
     "data": {
      "text/html": [
       "<div>\n",
       "<style scoped>\n",
       "    .dataframe tbody tr th:only-of-type {\n",
       "        vertical-align: middle;\n",
       "    }\n",
       "\n",
       "    .dataframe tbody tr th {\n",
       "        vertical-align: top;\n",
       "    }\n",
       "\n",
       "    .dataframe thead th {\n",
       "        text-align: right;\n",
       "    }\n",
       "</style>\n",
       "<table border=\"1\" class=\"dataframe\">\n",
       "  <thead>\n",
       "    <tr style=\"text-align: right;\">\n",
       "      <th></th>\n",
       "      <th>y</th>\n",
       "      <th>pred</th>\n",
       "    </tr>\n",
       "  </thead>\n",
       "  <tbody>\n",
       "    <tr>\n",
       "      <th>0</th>\n",
       "      <td>101.0</td>\n",
       "      <td>100.0</td>\n",
       "    </tr>\n",
       "    <tr>\n",
       "      <th>1</th>\n",
       "      <td>120.0</td>\n",
       "      <td>100.0</td>\n",
       "    </tr>\n",
       "    <tr>\n",
       "      <th>2</th>\n",
       "      <td>131.0</td>\n",
       "      <td>113.0</td>\n",
       "    </tr>\n",
       "    <tr>\n",
       "      <th>3</th>\n",
       "      <td>164.0</td>\n",
       "      <td>125.0</td>\n",
       "    </tr>\n",
       "    <tr>\n",
       "      <th>4</th>\n",
       "      <td>154.0</td>\n",
       "      <td>152.0</td>\n",
       "    </tr>\n",
       "    <tr>\n",
       "      <th>5</th>\n",
       "      <td>133.0</td>\n",
       "      <td>153.0</td>\n",
       "    </tr>\n",
       "    <tr>\n",
       "      <th>6</th>\n",
       "      <td>148.0</td>\n",
       "      <td>139.0</td>\n",
       "    </tr>\n",
       "    <tr>\n",
       "      <th>7</th>\n",
       "      <td>172.0</td>\n",
       "      <td>145.0</td>\n",
       "    </tr>\n",
       "    <tr>\n",
       "      <th>8</th>\n",
       "      <td>153.0</td>\n",
       "      <td>162.0</td>\n",
       "    </tr>\n",
       "    <tr>\n",
       "      <th>9</th>\n",
       "      <td>162.0</td>\n",
       "      <td>154.0</td>\n",
       "    </tr>\n",
       "  </tbody>\n",
       "</table>\n",
       "</div>"
      ],
      "text/plain": [
       "       y   pred\n",
       "0  101.0  100.0\n",
       "1  120.0  100.0\n",
       "2  131.0  113.0\n",
       "3  164.0  125.0\n",
       "4  154.0  152.0\n",
       "5  133.0  153.0\n",
       "6  148.0  139.0\n",
       "7  172.0  145.0\n",
       "8  153.0  162.0\n",
       "9  162.0  154.0"
      ]
     },
     "execution_count": 104,
     "metadata": {},
     "output_type": "execute_result"
    }
   ],
   "source": [
    "df_d=pd.read_csv('5_d.csv')\n",
    "df_d.head(10)"
   ]
  },
  {
   "cell_type": "code",
   "execution_count": 118,
   "metadata": {
    "id": "uRhL1pheAfCe",
    "scrolled": true
   },
   "outputs": [
    {
     "name": "stdout",
     "output_type": "stream",
     "text": [
      "MSE:- Manual cal= 177.16569974554707 Numpy cal= 177.16569974554707\n",
      "MAPE:- nan\n",
      "M-MAPE:- 0.1291202994009687\n",
      "R2:- 0.9563582786990937\n"
     ]
    },
    {
     "name": "stderr",
     "output_type": "stream",
     "text": [
      "<ipython-input-118-ca9488bc1004>:18: RuntimeWarning: divide by zero encountered in true_divide\n",
      "  MAPE=np.mean(np.absolute(np.divide(ei,y)))                                     # MAPE = avg of abs((y-pred)/y)\n",
      "<ipython-input-118-ca9488bc1004>:18: RuntimeWarning: invalid value encountered in true_divide\n",
      "  MAPE=np.mean(np.absolute(np.divide(ei,y)))                                     # MAPE = avg of abs((y-pred)/y)\n"
     ]
    }
   ],
   "source": [
    " # write your code for task 5d\n",
    "arr=np.array(df_d)\n",
    "y=np.array(arr[:,0])\n",
    "pred=np.array(arr[:,1])\n",
    "\n",
    "diff=[]\n",
    "for i in range(len(arr)):\n",
    "    diff.append(int(arr[i,0])-int(arr[i,1]))\n",
    "    \n",
    "ei=np.subtract(y,pred)\n",
    "d=np.array(diff)\n",
    "# MSE= avg of (y-pred)^2\n",
    "MSE=((np.sum(np.power(d,2)))/len(d))               # Manual cal\n",
    "MSE1=np.mean(np.power(ei,2))                       # Numpy  cal\n",
    "print(\"MSE:-\",\"Manual cal=\",MSE,  \"Numpy cal=\",MSE1)\n",
    "\n",
    "\n",
    "MAPE=np.mean(np.absolute(np.divide(ei,y)))                                     # MAPE = avg of abs((y-pred)/y)\n",
    "print(\"MAPE:-\", MAPE)\n",
    "M_MAPE=np.sum(np.absolute(ei))/np.sum(y)                                       # M-MAPE = avg of abs(y-pred)/avg of (y)\n",
    "print(\"M-MAPE:-\", M_MAPE)\n",
    "\n",
    "Y=np.mean(y)\n",
    "SSr=np.sum(np.power(ei,2))\n",
    "e=np.array(np.subtract(y,Y))\n",
    "SSt=np.sum(np.power(e,2))\n",
    "R2=1-(SSr/SSt)\n",
    "print(\"R2:-\",R2)"
   ]
  }
 ],
 "metadata": {
  "colab": {
   "collapsed_sections": [],
   "name": "5_Performance_metrics_Instructions.ipynb",
   "provenance": []
  },
  "kernelspec": {
   "display_name": "Python 3",
   "language": "python",
   "name": "python3"
  },
  "language_info": {
   "codemirror_mode": {
    "name": "ipython",
    "version": 3
   },
   "file_extension": ".py",
   "mimetype": "text/x-python",
   "name": "python",
   "nbconvert_exporter": "python",
   "pygments_lexer": "ipython3",
   "version": "3.8.8"
  }
 },
 "nbformat": 4,
 "nbformat_minor": 1
}
