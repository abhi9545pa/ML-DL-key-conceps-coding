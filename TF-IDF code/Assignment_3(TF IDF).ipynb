{
 "cells": [
  {
   "cell_type": "markdown",
   "metadata": {
    "id": "h9464I-uxLiw"
   },
   "source": [
    "# Assignment"
   ]
  },
  {
   "cell_type": "markdown",
   "metadata": {
    "id": "IvLvmewlxLix"
   },
   "source": [
    "<font face='georgia'>\n",
    "    \n",
    "   <h4><strong>What does tf-idf mean?</strong></h4>\n",
    "\n",
    "   <p>    \n",
    "Tf-idf stands for <em>term frequency-inverse document frequency</em>, and the tf-idf weight is a weight often used in information retrieval and text mining. This weight is a statistical measure used to evaluate how important a word is to a document in a collection or corpus. The importance increases proportionally to the number of times a word appears in the document but is offset by the frequency of the word in the corpus. Variations of the tf-idf weighting scheme are often used by search engines as a central tool in scoring and ranking a document's relevance given a user query.\n",
    "</p>\n",
    "    \n",
    "   <p>\n",
    "One of the simplest ranking functions is computed by summing the tf-idf for each query term; many more sophisticated ranking functions are variants of this simple model.\n",
    "</p>\n",
    "    \n",
    "   <p>\n",
    "Tf-idf can be successfully used for stop-words filtering in various subject fields including text summarization and classification.\n",
    "</p>\n",
    "    \n",
    "</font>"
   ]
  },
  {
   "cell_type": "markdown",
   "metadata": {
    "id": "4XLaGFUMxLiy"
   },
   "source": [
    "<font face='georgia'>\n",
    "    <h4><strong>How to Compute:</strong></h4>\n",
    "\n",
    "Typically, the tf-idf weight is composed by two terms: the first computes the normalized Term Frequency (TF), aka. the number of times a word appears in a document, divided by the total number of words in that document; the second term is the Inverse Document Frequency (IDF), computed as the logarithm of the number of the documents in the corpus divided by the number of documents where the specific term appears.\n",
    "\n",
    " <ul>\n",
    "    <li>\n",
    "<strong>TF:</strong> Term Frequency, which measures how frequently a term occurs in a document. Since every document is different in length, it is possible that a term would appear much more times in long documents than shorter ones. Thus, the term frequency is often divided by the document length (aka. the total number of terms in the document) as a way of normalization: <br>\n",
    "\n",
    "$TF(t) = \\frac{\\text{Number of times term t appears in a document}}{\\text{Total number of terms in the document}}.$\n",
    "</li>\n",
    "<li>\n",
    "<strong>IDF:</strong> Inverse Document Frequency, which measures how important a term is. While computing TF, all terms are considered equally important. However it is known that certain terms, such as \"is\", \"of\", and \"that\", may appear a lot of times but have little importance. Thus we need to weigh down the frequent terms while scale up the rare ones, by computing the following: <br>\n",
    "\n",
    "$IDF(t) = \\log_{e}\\frac{\\text{Total  number of documents}} {\\text{Number of documents with term t in it}}.$\n",
    "for numerical stabiltiy we will be changing this formula little bit\n",
    "$IDF(t) = \\log_{e}\\frac{\\text{Total  number of documents}} {\\text{Number of documents with term t in it}+1}.$\n",
    "</li>\n",
    "</ul>\n",
    "\n",
    "<br>\n",
    "<h4><strong>Example</strong></h4>\n",
    "<p>\n",
    "\n",
    "Consider a document containing 100 words wherein the word cat appears 3 times. The term frequency (i.e., tf) for cat is then (3 / 100) = 0.03. Now, assume we have 10 million documents and the word cat appears in one thousand of these. Then, the inverse document frequency (i.e., idf) is calculated as log(10,000,000 / 1,000) = 4. Thus, the Tf-idf weight is the product of these quantities: 0.03 * 4 = 0.12.\n",
    "</p>\n",
    "</font>"
   ]
  },
  {
   "cell_type": "markdown",
   "metadata": {
    "id": "dg2ooa4DxLiz"
   },
   "source": [
    "## Task-1"
   ]
  },
  {
   "cell_type": "markdown",
   "metadata": {
    "id": "TAcTjhO8xLiz"
   },
   "source": [
    "<font face='georgia'>\n",
    "    <h4><strong>1. Build a TFIDF Vectorizer & compare its results with Sklearn:</strong></h4>\n",
    "\n",
    "<ul>\n",
    "    <li> As a part of this task you will be implementing TFIDF vectorizer on a collection of text documents.</li>\n",
    "    <br>\n",
    "    <li> You should compare the results of your own implementation of TFIDF vectorizer with that of sklearns implemenation TFIDF vectorizer.</li>\n",
    "    <br>\n",
    "    <li> Sklearn does few more tweaks in the implementation of its version of TFIDF vectorizer, so to replicate the exact results you would need to add following things to your custom implementation of tfidf vectorizer:\n",
    "       <ol>\n",
    "        <li> Sklearn has its vocabulary generated from idf sroted in alphabetical order</li>\n",
    "        <li> Sklearn formula of idf is different from the standard textbook formula. Here the constant <strong>\"1\"</strong> is added to the numerator and denominator of the idf as if an extra document was seen containing every term in the collection exactly once, which prevents zero divisions.\n",
    "            \n",
    " $IDF(t) = 1+\\log_{e}\\frac{1\\text{ }+\\text{ Total  number of documents in collection}} {1+\\text{Number of documents with term t in it}}.$\n",
    "        </li>\n",
    "        <li> Sklearn applies L2-normalization on its output matrix.</li>\n",
    "        <li> The final output of sklearn tfidf vectorizer is a sparse matrix.</li>\n",
    "    </ol>\n",
    "    <br>\n",
    "    <li>Steps to approach this task:\n",
    "    <ol>\n",
    "        <li> You would have to write both fit and transform methods for your custom implementation of tfidf vectorizer.</li>\n",
    "        <li> Print out the alphabetically sorted voacb after you fit your data and check if its the same as that of the feature names from sklearn tfidf vectorizer. </li>\n",
    "        <li> Print out the idf values from your implementation and check if its the same as that of sklearns tfidf vectorizer idf values. </li>\n",
    "        <li> Once you get your voacb and idf values to be same as that of sklearns implementation of tfidf vectorizer, proceed to the below steps. </li>\n",
    "        <li> Make sure the output of your implementation is a sparse matrix. Before generating the final output, you need to normalize your sparse matrix using L2 normalization. You can refer to this link https://scikit-learn.org/stable/modules/generated/sklearn.preprocessing.normalize.html </li>\n",
    "        <li> After completing the above steps, print the output of your custom implementation and compare it with sklearns implementation of tfidf vectorizer.</li>\n",
    "        <li> To check the output of a single document in your collection of documents,  you can convert the sparse matrix related only to that document into dense matrix and print it.</li>\n",
    "        </ol>\n",
    "    </li>\n",
    "    <br>\n",
    "   </ul>\n",
    "\n",
    "  <p> <font color=\"#e60000\"><strong>Note-1: </strong></font> All the necessary outputs of sklearns tfidf vectorizer have been provided as reference in this notebook, you can compare your outputs as mentioned in the above steps, with these outputs.<br>\n",
    "   <font color=\"#e60000\"><strong>Note-2: </strong></font> The output of your custom implementation and that of sklearns implementation would match only with the collection of document strings provided to you as reference in this notebook. It would not match for strings that contain capital letters or punctuations, etc, because sklearn version of tfidf vectorizer deals with such strings in a different way. To know further details about how sklearn tfidf vectorizer works with such string, you can always refer to its official documentation.<br>\n",
    "   <font color=\"#e60000\"><strong>Note-3: </strong></font> During this task, it would be helpful for you to debug the code you write with print statements wherever necessary. But when you are finally submitting the assignment, make sure your code is readable and try not to print things which are not part of this task.\n",
    "    </p>"
   ]
  },
  {
   "cell_type": "markdown",
   "metadata": {
    "id": "OnV82tg1xLi0"
   },
   "source": [
    "### Corpus"
   ]
  },
  {
   "cell_type": "code",
   "execution_count": 2,
   "metadata": {
    "id": "bUsYm9wjxLi1"
   },
   "outputs": [],
   "source": [
    "## SkLearn# Collection of string documents\n",
    "\n",
    "corpus = [\n",
    "     'this is the first document',\n",
    "     'this document is the second document',\n",
    "     'and this is the third one',\n",
    "     'is this the first document',\n",
    "]"
   ]
  },
  {
   "cell_type": "markdown",
   "metadata": {
    "id": "eLwmFZfKxLi4"
   },
   "source": [
    "### SkLearn Implementation"
   ]
  },
  {
   "cell_type": "code",
   "execution_count": 3,
   "metadata": {
    "id": "Np4dfQOkxLi4"
   },
   "outputs": [],
   "source": [
    "from sklearn.feature_extraction.text import TfidfVectorizer\n",
    "vectorizer = TfidfVectorizer()\n",
    "vectorizer.fit(corpus)\n",
    "skl_output = vectorizer.transform(corpus)"
   ]
  },
  {
   "cell_type": "code",
   "execution_count": 4,
   "metadata": {
    "id": "-7Om8YpYxLi6",
    "outputId": "0a3bd0f5-4424-4400-944f-4482a80bd799"
   },
   "outputs": [
    {
     "name": "stdout",
     "output_type": "stream",
     "text": [
      "['and', 'document', 'first', 'is', 'one', 'second', 'the', 'third', 'this']\n"
     ]
    }
   ],
   "source": [
    "# sklearn feature names, they are sorted in alphabetic order by default.\n",
    "\n",
    "print(vectorizer.get_feature_names())"
   ]
  },
  {
   "cell_type": "code",
   "execution_count": 5,
   "metadata": {},
   "outputs": [
    {
     "name": "stdout",
     "output_type": "stream",
     "text": [
      "['and', 'document', 'first', 'is', 'one', 'second', 'the', 'third', 'this']\n"
     ]
    }
   ],
   "source": [
    "vocab_list=vectorizer.get_feature_names()\n",
    "print(vocab_list)"
   ]
  },
  {
   "cell_type": "code",
   "execution_count": 6,
   "metadata": {
    "id": "dTKplK96xLi-",
    "outputId": "53722fa2-6756-4aa0-f179-37b578bb6890"
   },
   "outputs": [
    {
     "name": "stdout",
     "output_type": "stream",
     "text": [
      "[1.91629073 1.22314355 1.51082562 1.         1.91629073 1.91629073\n",
      " 1.         1.91629073 1.        ]\n"
     ]
    }
   ],
   "source": [
    "# Here we will print the sklearn tfidf vectorizer idf values after applying the fit method\n",
    "# After using the fit function on the corpus the vocab has 9 words in it, and each has its idf value.\n",
    "\n",
    "print(vectorizer.idf_)"
   ]
  },
  {
   "cell_type": "code",
   "execution_count": 7,
   "metadata": {
    "id": "-CTiWHygxLjA",
    "outputId": "8d5a9cde-2c29-4afe-f7b4-1547e88dba4f"
   },
   "outputs": [
    {
     "data": {
      "text/plain": [
       "(4, 9)"
      ]
     },
     "execution_count": 7,
     "metadata": {},
     "output_type": "execute_result"
    }
   ],
   "source": [
    "# shape of sklearn tfidf vectorizer output after applying transform method.\n",
    "\n",
    "skl_output.shape"
   ]
  },
  {
   "cell_type": "code",
   "execution_count": 8,
   "metadata": {
    "id": "bDKEpbA-xLjD",
    "outputId": "87dafd65-5313-443f-8c6e-1b05cc8c2543"
   },
   "outputs": [
    {
     "name": "stdout",
     "output_type": "stream",
     "text": [
      "[[0.         0.46979139 0.58028582 0.38408524 0.         0.\n",
      "  0.38408524 0.         0.38408524]\n",
      " [0.         0.6876236  0.         0.28108867 0.         0.53864762\n",
      "  0.28108867 0.         0.28108867]\n",
      " [0.51184851 0.         0.         0.26710379 0.51184851 0.\n",
      "  0.26710379 0.51184851 0.26710379]\n",
      " [0.         0.46979139 0.58028582 0.38408524 0.         0.\n",
      "  0.38408524 0.         0.38408524]]\n"
     ]
    }
   ],
   "source": [
    "# sklearn tfidf values for first line of the above corpus.\n",
    "# Here the output is a sparse matrix\n",
    "\n",
    "print(skl_output.toarray())"
   ]
  },
  {
   "cell_type": "code",
   "execution_count": 9,
   "metadata": {
    "id": "3QWo34hexLjF",
    "outputId": "cdc04e08-989f-4bdc-dd7f-f1c82a9f90be"
   },
   "outputs": [
    {
     "name": "stdout",
     "output_type": "stream",
     "text": [
      "[[0.         0.46979139 0.58028582 0.38408524 0.         0.\n",
      "  0.38408524 0.         0.38408524]]\n"
     ]
    }
   ],
   "source": [
    "# sklearn tfidf values for first line of the above corpus.\n",
    "# To understand the output better, here we are converting the sparse output matrix to dense matrix and printing it.\n",
    "# Notice that this output is normalized using L2 normalization. sklearn does this by default.\n",
    "\n",
    "print(skl_output[0].toarray())"
   ]
  },
  {
   "cell_type": "markdown",
   "metadata": {
    "id": "qfIwx5LzxLjI"
   },
   "source": [
    "### Your custom implementation"
   ]
  },
  {
   "cell_type": "code",
   "execution_count": 10,
   "metadata": {
    "id": "HjuCcJwXxLjJ"
   },
   "outputs": [],
   "source": [
    "# Write your code here.\n",
    "# Make sure its well documented and readble with appropriate comments.\n",
    "# Compare your results with the above sklearn tfidf vectorizer\n",
    "# You are not supposed to use any other library apart from the ones given below\n",
    "\n",
    "from collections import Counter\n",
    "from tqdm import tqdm\n",
    "from scipy.sparse import csr_matrix\n",
    "import math\n",
    "import operator\n",
    "from sklearn.preprocessing import normalize\n",
    "import numpy"
   ]
  },
  {
   "cell_type": "code",
   "execution_count": 11,
   "metadata": {},
   "outputs": [
    {
     "name": "stdout",
     "output_type": "stream",
     "text": [
      "dict_keys(['and', 'document', 'first', 'is', 'one', 'second', 'the', 'third', 'this'])\n",
      "dict_values([0, 1, 2, 3, 4, 5, 6, 7, 8])\n"
     ]
    }
   ],
   "source": [
    "def fit(corpus):\n",
    "    unique_words= set()\n",
    "    if isinstance(corpus, (list,)):\n",
    "        for row in corpus:\n",
    "            for word in row.split(\" \"):\n",
    "                if len(word)< 2:\n",
    "                    continue\n",
    "                unique_words.add(word)\n",
    "        unique_words= sorted(list(unique_words))\n",
    "        vocab = {j:i for i,j in enumerate(unique_words)}\n",
    "        return vocab\n",
    "    else:\n",
    "        print(\"you need to pass list of sentance\")\n",
    "    \n",
    "vocab = fit(corpus)\n",
    "print(vocab.keys())\n",
    "print(vocab.values())\n",
    "\n"
   ]
  },
  {
   "cell_type": "code",
   "execution_count": 12,
   "metadata": {},
   "outputs": [
    {
     "name": "stderr",
     "output_type": "stream",
     "text": [
      "100%|██████████████████████████████████████████████████████████████████████████████████| 4/4 [00:00<00:00, 4008.89it/s]"
     ]
    },
    {
     "name": "stdout",
     "output_type": "stream",
     "text": [
      "{'and': 0, 'document': 1, 'first': 2, 'is': 3, 'one': 4, 'second': 5, 'the': 6, 'third': 7, 'this': 8}\n",
      "[[0 1 1 1 0 0 1 0 1]\n",
      " [0 2 0 1 0 1 1 0 1]\n",
      " [1 0 0 1 1 0 1 1 1]\n",
      " [0 1 1 1 0 0 1 0 1]]\n"
     ]
    },
    {
     "name": "stderr",
     "output_type": "stream",
     "text": [
      "\n"
     ]
    }
   ],
   "source": [
    "def transform(corpus,vocab):\n",
    "    rows = []\n",
    "    columns = []\n",
    "    values = []\n",
    "    if isinstance(corpus, (list,)):\n",
    "        for idx, row in enumerate(tqdm(corpus)): \n",
    "            word_freq = dict(Counter(row.split()))########## imp line\n",
    "            for word, freq in word_freq.items():                  \n",
    "                if len(word) < 2:\n",
    "                    continue\n",
    "                col_index = vocab.get(word, -1) \n",
    "                if col_index !=-1:\n",
    "                    rows.append(idx)\n",
    "                    columns.append(col_index)\n",
    "                    values.append(freq)\n",
    "        return csr_matrix((values, (rows,columns)), shape=(len(corpus),len(vocab)))\n",
    "    else:\n",
    "        print(\"you need to pass list of strings\")\n",
    "print(vocab)\n",
    "sp_max=transform(corpus, vocab)\n",
    "print(sp_max.toarray())"
   ]
  },
  {
   "cell_type": "code",
   "execution_count": 13,
   "metadata": {},
   "outputs": [
    {
     "name": "stdout",
     "output_type": "stream",
     "text": [
      "This is vacabs of sklearn ['and', 'document', 'first', 'is', 'one', 'second', 'the', 'third', 'this']\n",
      "this is vocab of user build fit function ['and', 'document', 'first', 'is', 'one', 'second', 'the', 'third', 'this']\n"
     ]
    }
   ],
   "source": [
    "# comparing the words\n",
    "print(\"This is vacabs of sklearn\",vocab_list)\n",
    "print(\"this is vocab of user build fit function\",list(vocab))    "
   ]
  },
  {
   "cell_type": "code",
   "execution_count": 111,
   "metadata": {},
   "outputs": [
    {
     "name": "stdout",
     "output_type": "stream",
     "text": [
      "  (0, 0)\t1.916290731874155\n",
      "  (0, 1)\t1.2231435513142097\n",
      "  (0, 2)\t1.5108256237659907\n",
      "  (0, 3)\t1.0\n",
      "  (0, 4)\t1.916290731874155\n",
      "  (0, 5)\t1.916290731874155\n",
      "  (0, 6)\t1.0\n",
      "  (0, 7)\t1.916290731874155\n",
      "  (0, 8)\t1.0\n"
     ]
    }
   ],
   "source": [
    "import math\n",
    "import numpy as np\n",
    "# n= total number of documents, t= number of document that word in it\n",
    "def formula_idf(n,t):\n",
    "    p=(1+n)\n",
    "    q=(1+t)\n",
    "    x=(1+(math.log(p/q)))\n",
    "    return x\n",
    "\n",
    "def idf(vocab,corpus,sp_max):\n",
    "    l1=[] \n",
    "    n=len(corpus)                # numbers of doc\n",
    "    count=0\n",
    "    for i in range(len(vocab)):\n",
    "        y=sp_max.getcol(i)\n",
    "        t=y.count_nonzero()      # number of words in that doc          \n",
    "        l1.append(formula_idf(n,t))\n",
    "    row = np.array([0, 0, 0, 0, 0, 0, 0, 0, 0])\n",
    "    col = np.array([0, 1, 2, 3, 4, 5, 6, 7, 8])\n",
    "    return csr_matrix((l1, (row, col)), shape=(len(corpus), len(vocab))),l1\n",
    "sp_max1,l1=idf(vocab,corpus,sp_max)\n",
    "print(sp_max1)\n"
   ]
  },
  {
   "cell_type": "code",
   "execution_count": 124,
   "metadata": {},
   "outputs": [
    {
     "name": "stdout",
     "output_type": "stream",
     "text": [
      "  (0, 0)\t0.4135920013909301\n",
      "  (0, 1)\t0.26399041698735076\n",
      "  (0, 2)\t0.32608068446636523\n",
      "  (0, 3)\t0.21582946392817556\n",
      "  (0, 4)\t0.4135920013909301\n",
      "  (0, 5)\t0.4135920013909301\n",
      "  (0, 6)\t0.21582946392817556\n",
      "  (0, 7)\t0.4135920013909301\n",
      "  (0, 8)\t0.21582946392817556\n"
     ]
    }
   ],
   "source": [
    "# just to test normalize function\n",
    "from sklearn.preprocessing import normalize\n",
    "max_nor=normalize(sp_max1, norm='l2')\n",
    "print(max_nor)\n",
    "#print(max_nor.toarray())"
   ]
  },
  {
   "cell_type": "code",
   "execution_count": 16,
   "metadata": {},
   "outputs": [
    {
     "name": "stdout",
     "output_type": "stream",
     "text": [
      "[[0.         0.46979139 0.58028582 0.38408524 0.         0.\n",
      "  0.38408524 0.         0.38408524]\n",
      " [0.         0.6876236  0.         0.28108867 0.         0.53864762\n",
      "  0.28108867 0.         0.28108867]\n",
      " [0.51184851 0.         0.         0.26710379 0.51184851 0.\n",
      "  0.26710379 0.51184851 0.26710379]\n",
      " [0.         0.46979139 0.58028582 0.38408524 0.         0.\n",
      "  0.38408524 0.         0.38408524]]\n"
     ]
    }
   ],
   "source": [
    "l2=[]\n",
    "for i in range(len(corpus)):# creating l2 as list of term that can mul by freq of word\n",
    "        y=sp_max.getrow(i)\n",
    "        q=y.count_nonzero() # Q is total number of words in that doc.\n",
    "        l2.append(1/q)      # creating list l2 by (1/q) of each doc.\n",
    "arr=np.array(l2)            # creating numpy array to change the shape of l2\n",
    "newarr=arr.reshape(4,1)\n",
    "mul3=sp_max.multiply(newarr)# mul l2(transpose) to freq.\n",
    "mul4=mul3.multiply(l1)      # mul it with the idf of each term(words)\n",
    "ma_nor2=normalize(mul4, norm='l2')# normalizing it\n",
    "print(ma_nor2.toarray())"
   ]
  },
  {
   "cell_type": "code",
   "execution_count": 17,
   "metadata": {},
   "outputs": [
    {
     "name": "stdout",
     "output_type": "stream",
     "text": [
      "[[0.         0.46979139 0.58028582 0.38408524 0.         0.\n",
      "  0.38408524 0.         0.38408524]\n",
      " [0.         0.6876236  0.         0.28108867 0.         0.53864762\n",
      "  0.28108867 0.         0.28108867]\n",
      " [0.51184851 0.         0.         0.26710379 0.51184851 0.\n",
      "  0.26710379 0.51184851 0.26710379]\n",
      " [0.         0.46979139 0.58028582 0.38408524 0.         0.\n",
      "  0.38408524 0.         0.38408524]]\n",
      "*****************************************************************************\n",
      "[[0.         0.46979139 0.58028582 0.38408524 0.         0.\n",
      "  0.38408524 0.         0.38408524]\n",
      " [0.         0.6876236  0.         0.28108867 0.         0.53864762\n",
      "  0.28108867 0.         0.28108867]\n",
      " [0.51184851 0.         0.         0.26710379 0.51184851 0.\n",
      "  0.26710379 0.51184851 0.26710379]\n",
      " [0.         0.46979139 0.58028582 0.38408524 0.         0.\n",
      "  0.38408524 0.         0.38408524]]\n"
     ]
    }
   ],
   "source": [
    "#comparing the outputs\n",
    "print(skl_output.toarray()) \n",
    "print(\"*****************************************************************************\")\n",
    "print(ma_nor2.toarray())"
   ]
  },
  {
   "cell_type": "markdown",
   "metadata": {
    "id": "MMxBmVZExLjK"
   },
   "source": [
    "## Task-2"
   ]
  },
  {
   "cell_type": "markdown",
   "metadata": {
    "id": "51j_OtqAxLjL"
   },
   "source": [
    "<font face='georgia'>\n",
    "    <h4><strong>2. Implement max features functionality:</strong></h4>\n",
    "\n",
    "<ul>\n",
    "    <li> As a part of this task you have to modify your fit and transform functions so that your vocab will contain only 50 terms with top idf scores.</li>\n",
    "    <br>\n",
    "    <li>This task is similar to your previous task, just that here your vocabulary is limited to only top 50 features names based on their idf values. Basically your output will have exactly 50 columns and the number of rows will depend on the number of documents you have in your corpus.</li>\n",
    "    <br>\n",
    "    <li>Here you will be give a pickle file, with file name <strong>cleaned_strings</strong>. You would have to load the corpus from this file and use it as input to your tfidf vectorizer.</li>\n",
    "    <br>\n",
    "    <li>Steps to approach this task:\n",
    "    <ol>\n",
    "        <li> You would have to write both fit and transform methods for your custom implementation of tfidf vectorizer, just like in the previous task. Additionally, here you have to limit the number of features generated to 50 as described above.</li>\n",
    "        <li> Now sort your vocab based in descending order of idf values and print out the words in the sorted voacb after you fit your data. Here you should be getting only 50 terms in your vocab. And make sure to print idf values for each term in your vocab. </li>\n",
    "        <li> Make sure the output of your implementation is a sparse matrix. Before generating the final output, you need to normalize your sparse matrix using L2 normalization. You can refer to this link https://scikit-learn.org/stable/modules/generated/sklearn.preprocessing.normalize.html </li>\n",
    "        <li> Now check the output of a single document in your collection of documents,  you can convert the sparse matrix related only to that document into dense matrix and print it. And this dense matrix should contain 1 row and 50 columns. </li>\n",
    "        </ol>\n",
    "    </li>\n",
    "    <br>\n",
    "   </ul>"
   ]
  },
  {
   "cell_type": "code",
   "execution_count": 18,
   "metadata": {
    "id": "NHxPLlwNxLjL",
    "outputId": "9abd8e08-0e24-4975-9a13-4d3636d60323"
   },
   "outputs": [
    {
     "name": "stdout",
     "output_type": "stream",
     "text": [
      "Number of documents in corpus =  746\n"
     ]
    }
   ],
   "source": [
    "# Below is the code to load the cleaned_strings pickle file provided\n",
    "# Here corpus is of list type\n",
    "\n",
    "import pickle\n",
    "with open('cleaned_strings', 'rb') as f:\n",
    "    corpus1 = pickle.load(f)\n",
    "    \n",
    "# printing the length of the corpus loaded\n",
    "print(\"Number of documents in corpus = \",len(corpus1))"
   ]
  },
  {
   "cell_type": "code",
   "execution_count": 210,
   "metadata": {
    "id": "ZULfoOIdxLjQ"
   },
   "outputs": [
    {
     "name": "stdout",
     "output_type": "stream",
     "text": [
      "2886\n"
     ]
    }
   ],
   "source": [
    "def fit(corpus1):\n",
    "    unique_words= set()\n",
    "    if isinstance(corpus1, (list,)):\n",
    "        for row in corpus1:\n",
    "            for word in row.split(\" \"):\n",
    "                if len(word)< 2:\n",
    "                    continue\n",
    "                unique_words.add(word)\n",
    "        unique_words= sorted(list(unique_words))\n",
    "        vocab1 = {j:i for i,j in enumerate(unique_words)}\n",
    "        return vocab1\n",
    "    else:\n",
    "        print(\"you need to pass list of sentance\") \n",
    "vocab1 = fit(corpus1)\n",
    "print(len(vocab1))"
   ]
  },
  {
   "cell_type": "code",
   "execution_count": 211,
   "metadata": {},
   "outputs": [
    {
     "name": "stderr",
     "output_type": "stream",
     "text": [
      "100%|████████████████████████████████████████████████████████████████████████████| 746/746 [00:00<00:00, 106619.10it/s]"
     ]
    },
    {
     "name": "stdout",
     "output_type": "stream",
     "text": [
      "(746, 2886)\n"
     ]
    },
    {
     "name": "stderr",
     "output_type": "stream",
     "text": [
      "\n"
     ]
    }
   ],
   "source": [
    "def transform(corpus1,vocab1):\n",
    "    rows = []\n",
    "    columns = []\n",
    "    values = []\n",
    "    if isinstance(corpus1, (list,)):\n",
    "        for idx, row in enumerate(tqdm(corpus1)): \n",
    "            word_freq = dict(Counter(row.split()))########## imp line\n",
    "            for word, freq in word_freq.items():                  \n",
    "                if len(word) < 2:\n",
    "                    continue\n",
    "                col_index = vocab1.get(word, -1) \n",
    "                if col_index !=-1:\n",
    "                    rows.append(idx)\n",
    "                    columns.append(col_index)\n",
    "                    values.append(freq)\n",
    "        return csr_matrix((values, (rows,columns)), shape=(len(corpus1),len(vocab1)))\n",
    "    else:\n",
    "        print(\"you need to pass list of strings\")\n",
    "sp_max00=transform(corpus1, vocab1)\n",
    "print(sp_max00.get_shape())"
   ]
  },
  {
   "cell_type": "code",
   "execution_count": 216,
   "metadata": {
    "id": "1_DJnnR3xLjR"
   },
   "outputs": [
    {
     "name": "stdout",
     "output_type": "stream",
     "text": [
      "2886\n"
     ]
    }
   ],
   "source": [
    "# idf calculation\n",
    "import math\n",
    "import numpy as np\n",
    "# n= total number of documents, t= number of document that word in it\n",
    "def formula_idf2(n,t):\n",
    "    p=(1+n)\n",
    "    q=(1+t)\n",
    "    x=(1+(math.log(p/q)))\n",
    "    return x\n",
    "\n",
    "def idf_(vocab1,corpus1,sp_max00):\n",
    "    l2=[] \n",
    "    n=len(corpus1)\n",
    "    count=0\n",
    "    for i in range(len(vocab1)):\n",
    "        y=sp_max00.getcol(i)\n",
    "        t=y.count_nonzero()            \n",
    "        l2.append(formula_idf2(n,t))\n",
    "    return l2\n",
    "l2=idf_(vocab1,corpus1,sp_max00)\n",
    "print(len(vocab1))\n"
   ]
  },
  {
   "cell_type": "code",
   "execution_count": 213,
   "metadata": {},
   "outputs": [],
   "source": [
    "l4=list(vocab1.keys())    # creating the dict where keys is the words and values are idf\n",
    "l5=list(vocab1.values())\n",
    "def convert(l1,l2):       # converting the list(words,idf) into the dict\n",
    "    res = {}\n",
    "    for key in l1:\n",
    "        for value in l2:\n",
    "            res[key] = value\n",
    "            l2.remove(value)\n",
    "            break \n",
    "    return res\n",
    "res=convert(l4,l2)"
   ]
  },
  {
   "cell_type": "code",
   "execution_count": 214,
   "metadata": {},
   "outputs": [
    {
     "name": "stdout",
     "output_type": "stream",
     "text": [
      "{'zombiez': 6.922918004572872, 'zillion': 6.922918004572872, 'yun': 6.922918004572872, 'youtube': 6.922918004572872, 'youthful': 6.922918004572872, 'younger': 6.922918004572872, 'yelps': 6.922918004572872, 'yawn': 6.922918004572872, 'yardley': 6.922918004572872, 'wrote': 6.922918004572872, 'writers': 6.922918004572872, 'wrap': 6.922918004572872, 'wow': 6.922918004572872, 'woven': 6.922918004572872, 'wouldnt': 6.922918004572872, 'worthy': 6.922918004572872, 'worthwhile': 6.922918004572872, 'worthless': 6.922918004572872, 'worry': 6.922918004572872, 'worked': 6.922918004572872, 'woo': 6.922918004572872, 'wont': 6.922918004572872, 'wong': 6.922918004572872, 'wondered': 6.922918004572872, 'woa': 6.922918004572872, 'witticisms': 6.922918004572872, 'within': 6.922918004572872, 'wise': 6.922918004572872, 'win': 6.922918004572872, 'wily': 6.922918004572872, 'willie': 6.922918004572872, 'william': 6.922918004572872, 'wild': 6.922918004572872, 'wih': 6.922918004572872, 'wife': 6.922918004572872, 'widmark': 6.922918004572872, 'wide': 6.922918004572872, 'whoever': 6.922918004572872, 'whites': 6.922918004572872, 'whine': 6.922918004572872, 'whenever': 6.922918004572872, 'went': 6.922918004572872, 'welsh': 6.922918004572872, 'weight': 6.922918004572872, 'wedding': 6.922918004572872, 'website': 6.922918004572872, 'weaving': 6.922918004572872, 'weariness': 6.922918004572872, 'weaker': 6.922918004572872, 'wb': 6.922918004572872}\n"
     ]
    }
   ],
   "source": [
    "# Sorting the top 50 words with highest idf values \n",
    "s=dict(sorted(res.items(), key = lambda kv:(kv[1], kv[0]),reverse=True))   # sortng the dict.\n",
    "out = dict(list(s.items())[0: 50])                                         # taking first 50 values.\n",
    "print(out)\n",
    "list_key=list(out.keys())\n",
    "list_values=list(out.values())"
   ]
  },
  {
   "cell_type": "code",
   "execution_count": 217,
   "metadata": {},
   "outputs": [],
   "source": [
    "# Creating the TF-IDF for all the words\n",
    "l56=[]\n",
    "for i in range(746):               # creating l2 as list of term that can mul by freq of word\n",
    "    y=sp_max00.getrow(i)\n",
    "    q=y.count_nonzero()        # Q is total number of words in that doc.\n",
    "    l56.append(1/q)            # creating list l2 by (1/q) of each doc.\n",
    "arr=np.array(l56)                  # creating numpy array to change the shape of l2\n",
    "newarr=arr.reshape(746,1)\n",
    "mul56=sp_max00.multiply(newarr)    # mul l2(transpose) to freq.\n",
    "mul65=mul56.multiply(l2)           # mul it with the idf of each term(words)\n",
    "ma_nor3=normalize(mul65, norm='l2')# normalizing it"
   ]
  },
  {
   "cell_type": "code",
   "execution_count": 218,
   "metadata": {},
   "outputs": [
    {
     "name": "stdout",
     "output_type": "stream",
     "text": [
      "[2885, 2883, 2882, 2881, 2880, 2879, 2875, 2871, 2870, 2869, 2865, 2862, 2861, 2860, 2859, 2857, 2856, 2855, 2851, 2847, 2842, 2841, 2840, 2837, 2834, 2832, 2830, 2828, 2826, 2825, 2824, 2823, 2821, 2820, 2819, 2818, 2817, 2814, 2813, 2810, 2808, 2805, 2804, 2801, 2800, 2799, 2798, 2797, 2796, 2794]\n"
     ]
    }
   ],
   "source": [
    "# Getting the serial number for top words with highest idf values\n",
    "l_values=[]\n",
    "for i in range(50):\n",
    "    l_values.append(vocab1[list_key[i]])\n",
    "print(l_values)"
   ]
  },
  {
   "cell_type": "code",
   "execution_count": 219,
   "metadata": {},
   "outputs": [
    {
     "name": "stdout",
     "output_type": "stream",
     "text": [
      "Following are the column for which TF-IDF is displayed\n",
      "TF-IDF of word zombiez\n",
      "  (109, 0)\t0.35871186305982206\n",
      "TF-IDF of word zillion\n",
      "  (321, 0)\t0.5503242092148531\n",
      "TF-IDF of word yun\n",
      "  (270, 0)\t0.193622961055794\n",
      "TF-IDF of word youtube\n",
      "  (518, 0)\t0.6370167557982229\n",
      "TF-IDF of word youthful\n",
      "  (19, 0)\t0.04261867201804031\n",
      "TF-IDF of word younger\n",
      "  (644, 0)\t0.04412960823052491\n",
      "TF-IDF of word yelps\n",
      "  (222, 0)\t0.14903214813167942\n",
      "TF-IDF of word yawn\n",
      "  (148, 0)\t0.09233761331034154\n",
      "TF-IDF of word yardley\n",
      "  (514, 0)\t0.3738873991354511\n",
      "TF-IDF of word wrote\n",
      "  (361, 0)\t0.3061098834405042\n",
      "TF-IDF of word writers\n",
      "  (155, 0)\t0.3943818289756429\n",
      "TF-IDF of word wrap\n",
      "  (135, 0)\t0.03275139091460778\n",
      "TF-IDF of word wow\n",
      "  (251, 0)\t0.8348392830256479\n",
      "TF-IDF of word woven\n",
      "  (452, 0)\t0.3320725300328123\n",
      "TF-IDF of word wouldnt\n",
      "  (340, 0)\t0.6589162068421782\n",
      "TF-IDF of word worthy\n",
      "  (555, 0)\t0.2809844851667855\n",
      "TF-IDF of word worthwhile\n",
      "  (680, 0)\t0.34240922314584815\n",
      "TF-IDF of word worthless\n",
      "  (720, 0)\t0.34502273169034875\n",
      "TF-IDF of word worry\n",
      "  (19, 0)\t0.04261867201804031\n",
      "TF-IDF of word worked\n",
      "  (366, 0)\t0.44826807161183685\n",
      "TF-IDF of word woo\n",
      "  (270, 0)\t0.193622961055794\n",
      "TF-IDF of word wont\n",
      "  (495, 0)\t0.728107321711129\n",
      "TF-IDF of word wong\n",
      "  (350, 0)\t0.24163411948497393\n",
      "TF-IDF of word wondered\n",
      "  (634, 0)\t0.5074090113066325\n",
      "TF-IDF of word woa\n",
      "  (135, 0)\t0.03275139091460778\n",
      "TF-IDF of word witticisms\n",
      "  (135, 0)\t0.03275139091460778\n",
      "TF-IDF of word within\n",
      "  (633, 0)\t0.28444175370231206\n",
      "TF-IDF of word wise\n",
      "  (135, 0)\t0.03275139091460778\n",
      "TF-IDF of word win\n",
      "  (663, 0)\t0.304074037408612\n",
      "TF-IDF of word wily\n",
      "  (191, 0)\t0.17726759305131032\n",
      "TF-IDF of word willie\n",
      "  (341, 0)\t0.4320535359273054\n",
      "TF-IDF of word william\n",
      "  (350, 0)\t0.24163411948497393\n",
      "TF-IDF of word wild\n",
      "  (562, 0)\t0.3931690059000687\n",
      "TF-IDF of word wih\n",
      "  (135, 0)\t0.03275139091460778\n",
      "TF-IDF of word wife\n",
      "  (68, 0)\t0.28287357449624423\n",
      "TF-IDF of word widmark\n",
      "  (326, 0)\t0.4809941842406506\n",
      "TF-IDF of word wide\n",
      "  (148, 0)\t0.09233761331034154\n",
      "TF-IDF of word whoever\n",
      "  (19, 0)\t0.04261867201804031\n",
      "TF-IDF of word whites\n",
      "  (337, 0)\t0.2904045915426575\n",
      "TF-IDF of word whine\n",
      "  (80, 0)\t0.33380638800039836\n",
      "TF-IDF of word whenever\n",
      "  (535, 0)\t0.35708584915200847\n",
      "TF-IDF of word went\n",
      "  (464, 0)\t0.21443722494716663\n",
      "TF-IDF of word welsh\n",
      "  (421, 0)\t0.15462797792738975\n",
      "TF-IDF of word weight\n",
      "  (378, 0)\t0.27151124528318255\n",
      "TF-IDF of word wedding\n",
      "  (70, 0)\t0.5127894795490751\n",
      "TF-IDF of word website\n",
      "  (135, 0)\t0.03275139091460778\n",
      "TF-IDF of word weaving\n",
      "  (734, 0)\t0.24283193341455697\n",
      "TF-IDF of word weariness\n",
      "  (135, 0)\t0.03275139091460778\n",
      "TF-IDF of word weaker\n",
      "  (55, 0)\t0.47628582325197116\n",
      "TF-IDF of word wb\n",
      "  (393, 0)\t0.3175394067556123\n"
     ]
    }
   ],
   "source": [
    "print(\"Following are the column for which TF-IDF is displayed\")\n",
    "for (i,j) in zip(l_values,list_key):    \n",
    "    print(\"TF-IDF of word\",j)\n",
    "    p=ma_nor3.getcol(i)\n",
    "    print(p)  "
   ]
  },
  {
   "cell_type": "code",
   "execution_count": null,
   "metadata": {},
   "outputs": [],
   "source": []
  }
 ],
 "metadata": {
  "colab": {
   "collapsed_sections": [],
   "name": "Assignment_3_Instructions.ipynb",
   "provenance": []
  },
  "kernelspec": {
   "display_name": "Python 3",
   "language": "python",
   "name": "python3"
  },
  "language_info": {
   "codemirror_mode": {
    "name": "ipython",
    "version": 3
   },
   "file_extension": ".py",
   "mimetype": "text/x-python",
   "name": "python",
   "nbconvert_exporter": "python",
   "pygments_lexer": "ipython3",
   "version": "3.8.8"
  }
 },
 "nbformat": 4,
 "nbformat_minor": 1
}
